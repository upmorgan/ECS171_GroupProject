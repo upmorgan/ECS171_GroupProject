{
  "nbformat": 4,
  "nbformat_minor": 0,
  "metadata": {
    "colab": {
      "provenance": []
    },
    "kernelspec": {
      "name": "python3",
      "display_name": "Python 3"
    },
    "language_info": {
      "name": "python"
    }
  },
  "cells": [
    {
      "cell_type": "code",
      "execution_count": null,
      "metadata": {
        "id": "Mu0k0HsY6eDQ"
      },
      "outputs": [],
      "source": [
        "import pandas as pd\n",
        "df_bb = pd.read_csv('/content/imdb_barbie_Uncleaned.csv')\n",
        "df_op = pd.read_csv('/content/imdb_oppenhimmer_Uncleaned.csv')\n",
        "test = df_op\n",
        "df_op\n"
      ]
    },
    {
      "cell_type": "code",
      "source": [
        "column_names = ['review']\n",
        "test.columns = column_names\n"
      ],
      "metadata": {
        "id": "_3LRIEaO9tP7"
      },
      "execution_count": null,
      "outputs": []
    },
    {
      "cell_type": "code",
      "source": [
        "split_columns = test['review'].str.split('\\n', n=3, expand=True)\n",
        "split_columns\n",
        "column_names = ['0','1','2','3']\n",
        "split_columns.columns = column_names\n",
        "\n",
        "Cleaned = split_columns['3'].str.rsplit('\\n', n=2, expand=True)\n",
        "Cleaned\n",
        "\n",
        "Final_df = split_columns.join(Cleaned)"
      ],
      "metadata": {
        "id": "c4u1zWZtBLnh"
      },
      "execution_count": null,
      "outputs": []
    },
    {
      "cell_type": "code",
      "source": [
        "\n",
        "column_names = ['index','title','username','delete','review','helpful_score','delete_2']\n",
        "Final_df.columns = column_names\n",
        "\n",
        "Final_df_op = Final_df.drop('delete', axis=1, inplace=False)\n",
        "Final_df_op = Final_df_op.drop('delete_2', axis=1, inplace=False)\n",
        "Final_df_op\n"
      ],
      "metadata": {
        "id": "3DojI4RGEqD4"
      },
      "execution_count": null,
      "outputs": []
    },
    {
      "cell_type": "code",
      "source": [
        "Final_df_bb\n",
        "Final_df_op\n",
        "\n"
      ],
      "metadata": {
        "id": "AjXXyhPwCUX3"
      },
      "execution_count": null,
      "outputs": []
    }
  ]
}