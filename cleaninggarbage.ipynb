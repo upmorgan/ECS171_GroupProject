{
 "nbformat": 4,
 "nbformat_minor": 0,
 "metadata": {
  "colab": {
   "provenance": []
  },
  "kernelspec": {
   "name": "python3",
   "language": "python",
   "display_name": "Python 3 (ipykernel)"
  },
  "language_info": {
   "name": "python"
  }
 },
 "cells": [
  {
   "cell_type": "code",
   "execution_count": 21,
   "metadata": {
    "id": "Mu0k0HsY6eDQ",
    "ExecuteTime": {
     "end_time": "2023-08-25T04:06:50.265977384Z",
     "start_time": "2023-08-25T04:06:49.542264941Z"
    }
   },
   "outputs": [],
   "source": [
    "import pandas as pd\n",
    "\n",
    "df_bb = pd.read_csv('./data/imdb_barbie_Uncleaned.csv', header=None)\n",
    "df_op = pd.read_csv('./data/imdb_oppenhimmer_Uncleaned.csv', header=None)\n",
    "df_bb.drop_duplicates(inplace=True)\n",
    "df_op.drop_duplicates(inplace=True)\n"
   ]
  },
  {
   "cell_type": "markdown",
   "source": [
    "# Regular Expression"
   ],
   "metadata": {
    "collapsed": false
   }
  },
  {
   "cell_type": "code",
   "execution_count": 22,
   "outputs": [],
   "source": [
    "import re\n",
    "\n",
    "score_Reg = '(\\d{1,2})\\/\\d{1,2}\\s.*\\s'\n",
    "title_Reg = '\\d{1,2}\\/\\d{1,2}\\s(.*)'\n",
    "people_found_helpful_Reg = '([\\d,]*) out of ([\\d,]*) found this helpful'\n",
    "username_Reg = '\\d{1,2}\\/\\d{1,2}\\s.*\\s([A-Za-z0-9_-]+)\\d{2}\\s[January|February|March|April|June|July|August|September|October|November|December]'\n",
    "date_Reg = '(\\d{1,2}\\s\\w+\\s\\d{4})'\n",
    "review_Reg = '\\d{1,2}\\s\\w+\\s\\d{4}\\s([\\s\\S]*)\\s[\\d,]* out of [\\d,]* found this helpful'"
   ],
   "metadata": {
    "collapsed": false,
    "ExecuteTime": {
     "end_time": "2023-08-25T04:06:50.276430980Z",
     "start_time": "2023-08-25T04:06:50.268976727Z"
    }
   }
  },
  {
   "cell_type": "code",
   "execution_count": 23,
   "outputs": [
    {
     "name": "stdout",
     "output_type": "stream",
     "text": [
      "['6']\n",
      "['Creative but preachy and confusing']\n",
      "['Imshortok06']\n",
      "['23 July 2023']\n",
      "[('1,007', '1,363')]\n",
      "1007\n",
      "1363\n",
      "['I\\'m just going to get straight to the point: I liked some aspects of this movie and disliked other parts. Cinematography: awesome. Choreographed musical numbers: hilarious. Comedy: good. Margot Robbie: great. Ryan Gosling: awesome, and arguably the best part of the movie. The scenery and props really did help create the world. The storyline started off very intriguing. However, when the movie got to the meat of the plot and the central conflict, its message became confusing. It\\'s like they wanted to make Ken the bad guy yet also sympathetic, which is not impossible or unheard of, but the way the writers did this was ineffective. Also, the resolution didn\\'t make sense based on the message and events that led up to it. Lastly, I really hate it when movies try to empower women by dumbing down the men. I get that in a Barbie world, Ken is an afterthought, but in the real world all men were also dumb. They also treated masculine qualities as \"evil.\" I hate stereotyping people, men included, and it\\'s like all men ride horses and have fragile egos and drink \"brewskies.\" And for goodness sake, if I had a dollar for every time the movie said \"patriarchy\", I\\'d be rich. So, overall, I give this movie a 6/10.']\n"
     ]
    }
   ],
   "source": [
    "# Regular Expression test code\n",
    "\n",
    "test_text = df_bb.iloc[0][0]\n",
    "\n",
    "# print(test_text)\n",
    "\n",
    "res = re.findall(score_Reg, test_text)\n",
    "print(res)\n",
    "\n",
    "res = re.findall(title_Reg, test_text)\n",
    "print(res)\n",
    "\n",
    "res = re.findall(username_Reg, test_text)\n",
    "print(res)\n",
    "\n",
    "res = re.findall(date_Reg, test_text)\n",
    "print(res)\n",
    "\n",
    "res = re.findall(people_found_helpful_Reg, test_text)\n",
    "print(res)\n",
    "print(int(res[0][0].replace(',', '')))\n",
    "print(int(res[0][1].replace(',', '')))\n",
    "\n",
    "res = re.findall(review_Reg, test_text)\n",
    "print(res)"
   ],
   "metadata": {
    "collapsed": false,
    "ExecuteTime": {
     "end_time": "2023-08-25T04:06:50.386479106Z",
     "start_time": "2023-08-25T04:06:50.276614593Z"
    }
   }
  },
  {
   "cell_type": "markdown",
   "source": [
    "# Cleaning Data"
   ],
   "metadata": {
    "collapsed": false
   }
  },
  {
   "cell_type": "code",
   "execution_count": 29,
   "outputs": [],
   "source": [
    "# Clean every row in data set\n",
    "\n",
    "def get_cleaned_df(dirty_df):\n",
    "\t# cleaned_df = pd.DataFrame(columns=['score', 'title', 'username', 'date', 'people_found_helpful', 'review'])\n",
    "\tcleaned_df = pd.DataFrame(columns=['score', 'title', 'username', 'date', 'people_found_helpful', 'people_not_found_helpful', 'review'])\n",
    "\t\n",
    "\tfor index in range(len(dirty_df)):\n",
    "\t\trow = dirty_df.iloc[index][0]\n",
    "\t\t\n",
    "\t\tscore = re.findall(score_Reg, row)\n",
    "\t\ttitle = re.findall(title_Reg, row)\n",
    "\t\tusername = re.findall(username_Reg, row)\n",
    "\t\tdate = re.findall(date_Reg, row)\n",
    "\t\tpeople_found_helpful = re.findall(people_found_helpful_Reg, row)\n",
    "\t\treview = re.findall(review_Reg, row)\n",
    "\t\t\n",
    "\t\tif not score:\n",
    "\t\t\tscore = ['NULL']\n",
    "\t\telse:\n",
    "\t\t\tscore = int(score[0])\n",
    "\t\tif not title:\n",
    "\t\t\ttitle = ['NULL']\n",
    "\t\tif not username:\n",
    "\t\t\tusername = ['NULL']\n",
    "\t\tif not date:\n",
    "\t\t\tdate = ['NULL']\n",
    "\t\tif not people_found_helpful:\n",
    "\t\t\tpeople_found_helpful = 'NULL'\n",
    "\t\t\tpeople_not_found_helpful = 'NULL'\n",
    "\t\telse:\n",
    "\t\t\tpeople_not_found_helpful = int(people_found_helpful[0][1].replace(',', ''))\n",
    "\t\t\tpeople_found_helpful = int(people_found_helpful[0][0].replace(',', ''))\n",
    "\t\tif not review:\n",
    "\t\t\treview = ['NULL']\n",
    "\t\t\t\n",
    "\t\tcleaned_df.loc[index] = [score, title[0], username[0], date[0], people_found_helpful, people_not_found_helpful, review[0]]\n",
    "\treturn cleaned_df\n"
   ],
   "metadata": {
    "collapsed": false,
    "ExecuteTime": {
     "end_time": "2023-08-25T04:07:41.398074579Z",
     "start_time": "2023-08-25T04:07:41.344656032Z"
    }
   }
  },
  {
   "cell_type": "code",
   "execution_count": 30,
   "outputs": [],
   "source": [
    "cleand_df_bb = get_cleaned_df(df_bb)\n",
    "cleand_df_bb.drop_duplicates(subset=['username'], inplace=True)"
   ],
   "metadata": {
    "collapsed": false,
    "ExecuteTime": {
     "end_time": "2023-08-25T04:07:44.570354737Z",
     "start_time": "2023-08-25T04:07:43.813077992Z"
    }
   }
  },
  {
   "cell_type": "code",
   "execution_count": 31,
   "outputs": [
    {
     "data": {
      "text/plain": "    score                                              title  \\\n0       6                 Creative but preachy and confusing   \n1       6                     Beautiful film, but so preachy   \n2       6  Clever and fun beginning turns into another le...   \n3       8                                  It was depressing   \n4       9                                A Technicolor Dream   \n..    ...                                                ...   \n792     2                                    Barbie-not good   \n793     5                             Feminism but the rest?   \n794     3  Great sets, great execution but horrible story...   \n795     2                                          Just meh.   \n796     1          Not for little kids and wastes your time.   \n\n             username          date  people_found_helpful  \\\n0         Imshortok06  23 July 2023                  1007   \n1        LoveofLegacy  21 July 2023                  1190   \n2            Binkconn  21 July 2023                   804   \n3           coxaneesa  24 July 2023                   152   \n4      heatherhilgers  24 July 2023                    20   \n..                ...           ...                   ...   \n792          thongman  22 July 2023                     5   \n793      iyaseminkose  23 July 2023                     1   \n794       DaHermitKid  28 July 2023                     1   \n795  apriljosey-29034  27 July 2023                     0   \n796         ben-39403  27 July 2023                     0   \n\n     people_not_found_helpful  \\\n0                        1363   \n1                        1646   \n2                        1173   \n3                         242   \n4                          26   \n..                        ...   \n792                        17   \n793                         6   \n794                         5   \n795                         1   \n796                         6   \n\n                                                review  \n0    I'm just going to get straight to the point: I...  \n1    Margot does the best with what she's given, bu...  \n2    Barbie begins in an irresistible way, as a fun...  \n3                                    Warning: Spoilers  \n4    Wow, this movie was a love letter to cinema. F...  \n..                                                 ...  \n792  The only reason this movie even gets a 2 from ...  \n793  I'm NOT a Barbie girl in NOT the Barbie World,...  \n794  Firstly, the technical execution is top notch....  \n795                                  Warning: Spoilers  \n796  Too many sexual references and doesn't grasp t...  \n\n[784 rows x 7 columns]",
      "text/html": "<div>\n<style scoped>\n    .dataframe tbody tr th:only-of-type {\n        vertical-align: middle;\n    }\n\n    .dataframe tbody tr th {\n        vertical-align: top;\n    }\n\n    .dataframe thead th {\n        text-align: right;\n    }\n</style>\n<table border=\"1\" class=\"dataframe\">\n  <thead>\n    <tr style=\"text-align: right;\">\n      <th></th>\n      <th>score</th>\n      <th>title</th>\n      <th>username</th>\n      <th>date</th>\n      <th>people_found_helpful</th>\n      <th>people_not_found_helpful</th>\n      <th>review</th>\n    </tr>\n  </thead>\n  <tbody>\n    <tr>\n      <th>0</th>\n      <td>6</td>\n      <td>Creative but preachy and confusing</td>\n      <td>Imshortok06</td>\n      <td>23 July 2023</td>\n      <td>1007</td>\n      <td>1363</td>\n      <td>I'm just going to get straight to the point: I...</td>\n    </tr>\n    <tr>\n      <th>1</th>\n      <td>6</td>\n      <td>Beautiful film, but so preachy</td>\n      <td>LoveofLegacy</td>\n      <td>21 July 2023</td>\n      <td>1190</td>\n      <td>1646</td>\n      <td>Margot does the best with what she's given, bu...</td>\n    </tr>\n    <tr>\n      <th>2</th>\n      <td>6</td>\n      <td>Clever and fun beginning turns into another le...</td>\n      <td>Binkconn</td>\n      <td>21 July 2023</td>\n      <td>804</td>\n      <td>1173</td>\n      <td>Barbie begins in an irresistible way, as a fun...</td>\n    </tr>\n    <tr>\n      <th>3</th>\n      <td>8</td>\n      <td>It was depressing</td>\n      <td>coxaneesa</td>\n      <td>24 July 2023</td>\n      <td>152</td>\n      <td>242</td>\n      <td>Warning: Spoilers</td>\n    </tr>\n    <tr>\n      <th>4</th>\n      <td>9</td>\n      <td>A Technicolor Dream</td>\n      <td>heatherhilgers</td>\n      <td>24 July 2023</td>\n      <td>20</td>\n      <td>26</td>\n      <td>Wow, this movie was a love letter to cinema. F...</td>\n    </tr>\n    <tr>\n      <th>...</th>\n      <td>...</td>\n      <td>...</td>\n      <td>...</td>\n      <td>...</td>\n      <td>...</td>\n      <td>...</td>\n      <td>...</td>\n    </tr>\n    <tr>\n      <th>792</th>\n      <td>2</td>\n      <td>Barbie-not good</td>\n      <td>thongman</td>\n      <td>22 July 2023</td>\n      <td>5</td>\n      <td>17</td>\n      <td>The only reason this movie even gets a 2 from ...</td>\n    </tr>\n    <tr>\n      <th>793</th>\n      <td>5</td>\n      <td>Feminism but the rest?</td>\n      <td>iyaseminkose</td>\n      <td>23 July 2023</td>\n      <td>1</td>\n      <td>6</td>\n      <td>I'm NOT a Barbie girl in NOT the Barbie World,...</td>\n    </tr>\n    <tr>\n      <th>794</th>\n      <td>3</td>\n      <td>Great sets, great execution but horrible story...</td>\n      <td>DaHermitKid</td>\n      <td>28 July 2023</td>\n      <td>1</td>\n      <td>5</td>\n      <td>Firstly, the technical execution is top notch....</td>\n    </tr>\n    <tr>\n      <th>795</th>\n      <td>2</td>\n      <td>Just meh.</td>\n      <td>apriljosey-29034</td>\n      <td>27 July 2023</td>\n      <td>0</td>\n      <td>1</td>\n      <td>Warning: Spoilers</td>\n    </tr>\n    <tr>\n      <th>796</th>\n      <td>1</td>\n      <td>Not for little kids and wastes your time.</td>\n      <td>ben-39403</td>\n      <td>27 July 2023</td>\n      <td>0</td>\n      <td>6</td>\n      <td>Too many sexual references and doesn't grasp t...</td>\n    </tr>\n  </tbody>\n</table>\n<p>784 rows × 7 columns</p>\n</div>"
     },
     "execution_count": 31,
     "metadata": {},
     "output_type": "execute_result"
    }
   ],
   "source": [
    "cleand_df_bb"
   ],
   "metadata": {
    "collapsed": false,
    "ExecuteTime": {
     "end_time": "2023-08-25T04:07:46.106231184Z",
     "start_time": "2023-08-25T04:07:46.098373946Z"
    }
   }
  },
  {
   "cell_type": "code",
   "execution_count": 32,
   "outputs": [],
   "source": [
    "cleand_df_op = get_cleaned_df(df_op)\n",
    "cleand_df_op.drop_duplicates(subset=['username'], inplace=True)"
   ],
   "metadata": {
    "collapsed": false,
    "ExecuteTime": {
     "end_time": "2023-08-25T04:07:50.630846649Z",
     "start_time": "2023-08-25T04:07:48.850359509Z"
    }
   }
  },
  {
   "cell_type": "code",
   "execution_count": 33,
   "outputs": [
    {
     "data": {
      "text/plain": "     score                                              title  \\\n0        9                              Murphy is exceptional   \n1        8  A challenging watch to be sure, but a worthwhi...   \n2       10  A brilliantly layered examination of a man thr...   \n3       10  Nolan delivers a powerfull biopic that shows t...   \n4       10                                      A Masterpiece   \n...    ...                                                ...   \n2031     7         Huge story, but production fails sometimes   \n2032     6                                            Tweaked   \n2033     6                  Just a 6 for a near perfect film.   \n2034     6                              No need to be 3 hours   \n2035     6                                      Disappointing   \n\n                  username          date  people_found_helpful  \\\n0          Orlando_Gardner  19 July 2023                  1413   \n1          Jeremy_Urquhart  20 July 2023                   685   \n2                 MrDHWong  20 July 2023                   556   \n3            and_mikkelsen  20 July 2023                   358   \n4      mohameddawoud-26019  19 July 2023                   670   \n...                    ...           ...                   ...   \n2031        andreverschoor  27 July 2023                     1   \n2032                 fmacr  25 July 2023                     1   \n2033  m-nicolaou-86-661254  24 July 2023                     0   \n2034          scottahaynie  24 July 2023                     0   \n2035             krisdevos  22 July 2023                     0   \n\n      people_not_found_helpful  \\\n0                         1597   \n1                          819   \n2                          691   \n3                          457   \n4                          833   \n...                        ...   \n2031                         3   \n2032                         7   \n2033                         1   \n2034                         0   \n2035                         0   \n\n                                                 review  \n0     You'll have to have your wits about you and yo...  \n1     One of the most anticipated films of the year ...  \n2     \"Oppenheimer\" is a biographical thriller film ...  \n3     This movie is just... wow! I don't think I hav...  \n4     I may consider myself lucky to be alive to wat...  \n...                                                 ...  \n2031  Loved the movie, loved the actors efforts. Aft...  \n2032  I suppose these reviews are tweaked, otherwise...  \n2033  Ok let me start by the obvious ratings which w...  \n2034  Acting was tremendous and the true story behin...  \n2035  Totally underwhelmed with Oppenheimer.\\n\\nEnri...  \n\n[2013 rows x 7 columns]",
      "text/html": "<div>\n<style scoped>\n    .dataframe tbody tr th:only-of-type {\n        vertical-align: middle;\n    }\n\n    .dataframe tbody tr th {\n        vertical-align: top;\n    }\n\n    .dataframe thead th {\n        text-align: right;\n    }\n</style>\n<table border=\"1\" class=\"dataframe\">\n  <thead>\n    <tr style=\"text-align: right;\">\n      <th></th>\n      <th>score</th>\n      <th>title</th>\n      <th>username</th>\n      <th>date</th>\n      <th>people_found_helpful</th>\n      <th>people_not_found_helpful</th>\n      <th>review</th>\n    </tr>\n  </thead>\n  <tbody>\n    <tr>\n      <th>0</th>\n      <td>9</td>\n      <td>Murphy is exceptional</td>\n      <td>Orlando_Gardner</td>\n      <td>19 July 2023</td>\n      <td>1413</td>\n      <td>1597</td>\n      <td>You'll have to have your wits about you and yo...</td>\n    </tr>\n    <tr>\n      <th>1</th>\n      <td>8</td>\n      <td>A challenging watch to be sure, but a worthwhi...</td>\n      <td>Jeremy_Urquhart</td>\n      <td>20 July 2023</td>\n      <td>685</td>\n      <td>819</td>\n      <td>One of the most anticipated films of the year ...</td>\n    </tr>\n    <tr>\n      <th>2</th>\n      <td>10</td>\n      <td>A brilliantly layered examination of a man thr...</td>\n      <td>MrDHWong</td>\n      <td>20 July 2023</td>\n      <td>556</td>\n      <td>691</td>\n      <td>\"Oppenheimer\" is a biographical thriller film ...</td>\n    </tr>\n    <tr>\n      <th>3</th>\n      <td>10</td>\n      <td>Nolan delivers a powerfull biopic that shows t...</td>\n      <td>and_mikkelsen</td>\n      <td>20 July 2023</td>\n      <td>358</td>\n      <td>457</td>\n      <td>This movie is just... wow! I don't think I hav...</td>\n    </tr>\n    <tr>\n      <th>4</th>\n      <td>10</td>\n      <td>A Masterpiece</td>\n      <td>mohameddawoud-26019</td>\n      <td>19 July 2023</td>\n      <td>670</td>\n      <td>833</td>\n      <td>I may consider myself lucky to be alive to wat...</td>\n    </tr>\n    <tr>\n      <th>...</th>\n      <td>...</td>\n      <td>...</td>\n      <td>...</td>\n      <td>...</td>\n      <td>...</td>\n      <td>...</td>\n      <td>...</td>\n    </tr>\n    <tr>\n      <th>2031</th>\n      <td>7</td>\n      <td>Huge story, but production fails sometimes</td>\n      <td>andreverschoor</td>\n      <td>27 July 2023</td>\n      <td>1</td>\n      <td>3</td>\n      <td>Loved the movie, loved the actors efforts. Aft...</td>\n    </tr>\n    <tr>\n      <th>2032</th>\n      <td>6</td>\n      <td>Tweaked</td>\n      <td>fmacr</td>\n      <td>25 July 2023</td>\n      <td>1</td>\n      <td>7</td>\n      <td>I suppose these reviews are tweaked, otherwise...</td>\n    </tr>\n    <tr>\n      <th>2033</th>\n      <td>6</td>\n      <td>Just a 6 for a near perfect film.</td>\n      <td>m-nicolaou-86-661254</td>\n      <td>24 July 2023</td>\n      <td>0</td>\n      <td>1</td>\n      <td>Ok let me start by the obvious ratings which w...</td>\n    </tr>\n    <tr>\n      <th>2034</th>\n      <td>6</td>\n      <td>No need to be 3 hours</td>\n      <td>scottahaynie</td>\n      <td>24 July 2023</td>\n      <td>0</td>\n      <td>0</td>\n      <td>Acting was tremendous and the true story behin...</td>\n    </tr>\n    <tr>\n      <th>2035</th>\n      <td>6</td>\n      <td>Disappointing</td>\n      <td>krisdevos</td>\n      <td>22 July 2023</td>\n      <td>0</td>\n      <td>0</td>\n      <td>Totally underwhelmed with Oppenheimer.\\n\\nEnri...</td>\n    </tr>\n  </tbody>\n</table>\n<p>2013 rows × 7 columns</p>\n</div>"
     },
     "execution_count": 33,
     "metadata": {},
     "output_type": "execute_result"
    }
   ],
   "source": [
    "cleand_df_op"
   ],
   "metadata": {
    "collapsed": false,
    "ExecuteTime": {
     "end_time": "2023-08-25T04:07:51.674855703Z",
     "start_time": "2023-08-25T04:07:51.660374487Z"
    }
   }
  },
  {
   "cell_type": "markdown",
   "source": [
    "# Graphing for Exploration"
   ],
   "metadata": {
    "collapsed": false
   }
  },
  {
   "cell_type": "code",
   "execution_count": 37,
   "outputs": [],
   "source": [
    "# combine the two data sets\n",
    "\n",
    "cleand_df_bb['isBarbie'] = 1\n",
    "cleand_df_op['isBarbie'] = 0\n",
    "\n",
    "df = pd.concat([cleand_df_bb, cleand_df_op], ignore_index=True)"
   ],
   "metadata": {
    "collapsed": false,
    "ExecuteTime": {
     "end_time": "2023-08-25T04:18:53.484909579Z",
     "start_time": "2023-08-25T04:18:53.433992827Z"
    }
   }
  },
  {
   "cell_type": "code",
   "execution_count": 38,
   "outputs": [
    {
     "data": {
      "text/plain": "     score                                              title  \\\n0        6                 Creative but preachy and confusing   \n1        6                     Beautiful film, but so preachy   \n2        6  Clever and fun beginning turns into another le...   \n3        8                                  It was depressing   \n4        9                                A Technicolor Dream   \n...    ...                                                ...   \n2792     7         Huge story, but production fails sometimes   \n2793     6                                            Tweaked   \n2794     6                  Just a 6 for a near perfect film.   \n2795     6                              No need to be 3 hours   \n2796     6                                      Disappointing   \n\n                  username          date  people_found_helpful  \\\n0              Imshortok06  23 July 2023                  1007   \n1             LoveofLegacy  21 July 2023                  1190   \n2                 Binkconn  21 July 2023                   804   \n3                coxaneesa  24 July 2023                   152   \n4           heatherhilgers  24 July 2023                    20   \n...                    ...           ...                   ...   \n2792        andreverschoor  27 July 2023                     1   \n2793                 fmacr  25 July 2023                     1   \n2794  m-nicolaou-86-661254  24 July 2023                     0   \n2795          scottahaynie  24 July 2023                     0   \n2796             krisdevos  22 July 2023                     0   \n\n      people_not_found_helpful  \\\n0                         1363   \n1                         1646   \n2                         1173   \n3                          242   \n4                           26   \n...                        ...   \n2792                         3   \n2793                         7   \n2794                         1   \n2795                         0   \n2796                         0   \n\n                                                 review  isBarbie  \n0     I'm just going to get straight to the point: I...         1  \n1     Margot does the best with what she's given, bu...         1  \n2     Barbie begins in an irresistible way, as a fun...         1  \n3                                     Warning: Spoilers         1  \n4     Wow, this movie was a love letter to cinema. F...         1  \n...                                                 ...       ...  \n2792  Loved the movie, loved the actors efforts. Aft...         0  \n2793  I suppose these reviews are tweaked, otherwise...         0  \n2794  Ok let me start by the obvious ratings which w...         0  \n2795  Acting was tremendous and the true story behin...         0  \n2796  Totally underwhelmed with Oppenheimer.\\n\\nEnri...         0  \n\n[2797 rows x 8 columns]",
      "text/html": "<div>\n<style scoped>\n    .dataframe tbody tr th:only-of-type {\n        vertical-align: middle;\n    }\n\n    .dataframe tbody tr th {\n        vertical-align: top;\n    }\n\n    .dataframe thead th {\n        text-align: right;\n    }\n</style>\n<table border=\"1\" class=\"dataframe\">\n  <thead>\n    <tr style=\"text-align: right;\">\n      <th></th>\n      <th>score</th>\n      <th>title</th>\n      <th>username</th>\n      <th>date</th>\n      <th>people_found_helpful</th>\n      <th>people_not_found_helpful</th>\n      <th>review</th>\n      <th>isBarbie</th>\n    </tr>\n  </thead>\n  <tbody>\n    <tr>\n      <th>0</th>\n      <td>6</td>\n      <td>Creative but preachy and confusing</td>\n      <td>Imshortok06</td>\n      <td>23 July 2023</td>\n      <td>1007</td>\n      <td>1363</td>\n      <td>I'm just going to get straight to the point: I...</td>\n      <td>1</td>\n    </tr>\n    <tr>\n      <th>1</th>\n      <td>6</td>\n      <td>Beautiful film, but so preachy</td>\n      <td>LoveofLegacy</td>\n      <td>21 July 2023</td>\n      <td>1190</td>\n      <td>1646</td>\n      <td>Margot does the best with what she's given, bu...</td>\n      <td>1</td>\n    </tr>\n    <tr>\n      <th>2</th>\n      <td>6</td>\n      <td>Clever and fun beginning turns into another le...</td>\n      <td>Binkconn</td>\n      <td>21 July 2023</td>\n      <td>804</td>\n      <td>1173</td>\n      <td>Barbie begins in an irresistible way, as a fun...</td>\n      <td>1</td>\n    </tr>\n    <tr>\n      <th>3</th>\n      <td>8</td>\n      <td>It was depressing</td>\n      <td>coxaneesa</td>\n      <td>24 July 2023</td>\n      <td>152</td>\n      <td>242</td>\n      <td>Warning: Spoilers</td>\n      <td>1</td>\n    </tr>\n    <tr>\n      <th>4</th>\n      <td>9</td>\n      <td>A Technicolor Dream</td>\n      <td>heatherhilgers</td>\n      <td>24 July 2023</td>\n      <td>20</td>\n      <td>26</td>\n      <td>Wow, this movie was a love letter to cinema. F...</td>\n      <td>1</td>\n    </tr>\n    <tr>\n      <th>...</th>\n      <td>...</td>\n      <td>...</td>\n      <td>...</td>\n      <td>...</td>\n      <td>...</td>\n      <td>...</td>\n      <td>...</td>\n      <td>...</td>\n    </tr>\n    <tr>\n      <th>2792</th>\n      <td>7</td>\n      <td>Huge story, but production fails sometimes</td>\n      <td>andreverschoor</td>\n      <td>27 July 2023</td>\n      <td>1</td>\n      <td>3</td>\n      <td>Loved the movie, loved the actors efforts. Aft...</td>\n      <td>0</td>\n    </tr>\n    <tr>\n      <th>2793</th>\n      <td>6</td>\n      <td>Tweaked</td>\n      <td>fmacr</td>\n      <td>25 July 2023</td>\n      <td>1</td>\n      <td>7</td>\n      <td>I suppose these reviews are tweaked, otherwise...</td>\n      <td>0</td>\n    </tr>\n    <tr>\n      <th>2794</th>\n      <td>6</td>\n      <td>Just a 6 for a near perfect film.</td>\n      <td>m-nicolaou-86-661254</td>\n      <td>24 July 2023</td>\n      <td>0</td>\n      <td>1</td>\n      <td>Ok let me start by the obvious ratings which w...</td>\n      <td>0</td>\n    </tr>\n    <tr>\n      <th>2795</th>\n      <td>6</td>\n      <td>No need to be 3 hours</td>\n      <td>scottahaynie</td>\n      <td>24 July 2023</td>\n      <td>0</td>\n      <td>0</td>\n      <td>Acting was tremendous and the true story behin...</td>\n      <td>0</td>\n    </tr>\n    <tr>\n      <th>2796</th>\n      <td>6</td>\n      <td>Disappointing</td>\n      <td>krisdevos</td>\n      <td>22 July 2023</td>\n      <td>0</td>\n      <td>0</td>\n      <td>Totally underwhelmed with Oppenheimer.\\n\\nEnri...</td>\n      <td>0</td>\n    </tr>\n  </tbody>\n</table>\n<p>2797 rows × 8 columns</p>\n</div>"
     },
     "execution_count": 38,
     "metadata": {},
     "output_type": "execute_result"
    }
   ],
   "source": [
    "df"
   ],
   "metadata": {
    "collapsed": false,
    "ExecuteTime": {
     "end_time": "2023-08-25T04:18:55.229995541Z",
     "start_time": "2023-08-25T04:18:55.217250936Z"
    }
   }
  },
  {
   "cell_type": "code",
   "execution_count": 34,
   "outputs": [],
   "source": [
    "import matplotlib.pyplot as plt\n",
    "import seaborn as sns\n",
    "import numpy as np"
   ],
   "metadata": {
    "collapsed": false,
    "ExecuteTime": {
     "end_time": "2023-08-25T04:15:24.820627349Z",
     "start_time": "2023-08-25T04:15:24.091497337Z"
    }
   }
  },
  {
   "cell_type": "code",
   "execution_count": null,
   "outputs": [],
   "source": [
    "# Graphing for Barbie\n",
    "\n",
    "\n"
   ],
   "metadata": {
    "collapsed": false
   }
  },
  {
   "cell_type": "code",
   "execution_count": null,
   "outputs": [],
   "source": [
    "# Graphing for Oppenhimmer\n"
   ],
   "metadata": {
    "collapsed": false
   }
  }
 ]
}
