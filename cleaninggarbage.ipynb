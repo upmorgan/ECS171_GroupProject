{
 "nbformat": 4,
 "nbformat_minor": 0,
 "metadata": {
  "colab": {
   "provenance": []
  },
  "kernelspec": {
   "name": "python3",
   "language": "python",
   "display_name": "Python 3 (ipykernel)"
  },
  "language_info": {
   "name": "python"
  }
 },
 "cells": [
  {
   "cell_type": "code",
   "execution_count": 111,
   "metadata": {
    "id": "Mu0k0HsY6eDQ",
    "ExecuteTime": {
     "end_time": "2023-08-25T02:40:11.006087218Z",
     "start_time": "2023-08-25T02:40:10.345174336Z"
    }
   },
   "outputs": [],
   "source": [
    "import pandas as pd\n",
    "\n",
    "df_bb = pd.read_csv('./data/imdb_barbie_Uncleaned.csv', header=None)\n",
    "df_op = pd.read_csv('./data/imdb_oppenhimmer_Uncleaned.csv', header=None)"
   ]
  },
  {
   "cell_type": "code",
   "execution_count": 129,
   "outputs": [
    {
     "name": "stdout",
     "output_type": "stream",
     "text": [
      "6/10\n",
      "Beautiful film, but so preachy\n",
      "LoveofLegacy21 July 2023\n",
      "Margot does the best with what she's given, but this film was very disappointing to me. It was marketed as a fun, quirky satire with homages to other movies. It started that way, but ended with over-dramatized speeches and an ending that clearly tried to make the audience feel something, but left everyone just feeling confused. And before you say I'm a crotchety old man, I'm a woman in my 20s, so I'm pretty sure I'm this movie's target audience. The saddest part is there were parents with their kids in the theater that were victims of the poor marketing, because this is not a kid's movie. Overall, the humor was fun on occasion and the film is beautiful to look at, but the whole concept falls apart in the second half of the film and becomes a pity party for the \"strong\" woman.\n",
      "1,190 out of 1,646 found this helpful. Was this review helpful? Sign in to vote.\n",
      "Permalink\n",
      "['6']\n",
      "['Beautiful film, but so preachy']\n",
      "['LoveofLegacy']\n",
      "['21 July 2023']\n",
      "[('1,190', '1,646')]\n",
      "['Margot does the best with what she\\'s given, but this film was very disappointing to me. It was marketed as a fun, quirky satire with homages to other movies. It started that way, but ended with over-dramatized speeches and an ending that clearly tried to make the audience feel something, but left everyone just feeling confused. And before you say I\\'m a crotchety old man, I\\'m a woman in my 20s, so I\\'m pretty sure I\\'m this movie\\'s target audience. The saddest part is there were parents with their kids in the theater that were victims of the poor marketing, because this is not a kid\\'s movie. Overall, the humor was fun on occasion and the film is beautiful to look at, but the whole concept falls apart in the second half of the film and becomes a pity party for the \"strong\" woman.']\n"
     ]
    }
   ],
   "source": [
    "import re\n",
    "\n",
    "# test_text = \"'6/10\\nCreative but preachy and confusing\\nImshortok0623 July 2023\\nI'm just going to get straight to the point: I liked some aspects of this movie and disliked other parts. Cinematography: awesome. Choreographed musical numbers: hilarious. Comedy: good. Margot Robbie: great. Ryan Gosling: awesome, and arguably the best part of the movie. The scenery and props really did help create the world. The storyline started off very intriguing. However, when the movie got to the meat of the plot and the central conflict, its message became confusing. It's like they wanted to make Ken the bad guy yet also sympathetic, which is not impossible or unheard of, but the way the writers did this was ineffective. Also, the resolution didn't make sense based on the message and events that led up to it. Lastly, I really hate it when movies try to empower women by dumbing down the men. I get that in a Barbie world, Ken is an afterthought, but in the real world all men were also dumb. They also treated masculine qualities as \\\"evil.\\\" I hate stereotyping people, men included, and it's like all men ride horses and have fragile egos and drink \\\"brewskies.\\\" And for goodness sake, if I had a dollar for every time the movie said \\\"patriarchy\\\", I'd be rich. So, overall, I give this movie a 6/10.\\n1,007 out of 1,363 found this helpful. Was this review helpful? Sign in to vote.\\nPermalink\\n'\"\n",
    "\n",
    "test_text = str(df_bb.iloc[0][0])\n",
    "\n",
    "print(test_text)\n",
    "\n",
    "score = '(\\d{1,2})\\/\\d{1,2}\\s.*\\s'\n",
    "title = '\\d{1,2}\\/\\d{1,2}\\s(.*)'\n",
    "people_found_helpful = '([\\d,]*) out of ([\\d,]*) found this helpful'\n",
    "username = '\\d{1,2}\\/\\d{1,2}\\s.*\\s([A-Za-z0-9]+)\\d{2}\\s[January|February|March|April|June|July|August|September|October|November|December]'\n",
    "date = '(\\d{1,2}\\s\\w+\\s\\d{4})'\n",
    "review = '\\d{1,2}\\s\\w+\\s\\d{4}\\s([\\s\\S]*)\\s[\\d,]* out of [\\d,]* found this helpful'\n",
    "\n",
    "res = re.findall(score, test_text)\n",
    "print(res)\n",
    "\n",
    "res = re.findall(title, test_text)\n",
    "print(res)\n",
    "\n",
    "res = re.findall(username, test_text)\n",
    "print(res)\n",
    "\n",
    "res = re.findall(date, test_text)\n",
    "print(res)\n",
    "\n",
    "res = re.findall(people_found_helpful, test_text)\n",
    "print(res)\n",
    "\n",
    "res = re.findall(review, test_text)\n",
    "print(res)\n"
   ],
   "metadata": {
    "collapsed": false,
    "ExecuteTime": {
     "end_time": "2023-08-25T02:51:05.046905289Z",
     "start_time": "2023-08-25T02:51:05.034272399Z"
    }
   }
  },
  {
   "cell_type": "markdown",
   "source": [],
   "metadata": {
    "collapsed": false
   }
  }
 ]
}
