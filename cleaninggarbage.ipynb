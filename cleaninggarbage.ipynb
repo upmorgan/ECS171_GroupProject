{
 "nbformat": 4,
 "nbformat_minor": 0,
 "metadata": {
  "colab": {
   "provenance": [],
   "gpuType": "T4"
  },
  "kernelspec": {
   "name": "python3",
   "language": "python",
   "display_name": "Python 3 (ipykernel)"
  },
  "language_info": {
   "name": "python"
  },
  "accelerator": "GPU"
 },
 "cells": [
  {
   "cell_type": "code",
   "execution_count": null,
   "metadata": {
    "id": "Mu0k0HsY6eDQ",
    "ExecuteTime": {
     "start_time": "2023-09-12T04:11:11.186459644Z"
    }
   },
   "outputs": [],
   "source": [
    "import pandas as pd\n",
    "\n",
    "df_bb = pd.read_csv('./data/imdb_barbie_Uncleaned.csv', header=None)\n",
    "df_op = pd.read_csv('./data/imdb_oppenhimmer_Uncleaned.csv', header=None)\n",
    "df_bb.drop_duplicates(inplace=True)\n",
    "df_op.drop_duplicates(inplace=True)\n"
   ]
  },
  {
   "cell_type": "markdown",
   "source": [
    "# Regular Expression"
   ],
   "metadata": {
    "collapsed": false,
    "id": "NpURbSUxVpNO"
   }
  },
  {
   "cell_type": "code",
   "execution_count": null,
   "outputs": [],
   "source": [
    "import re\n",
    "\n",
    "score_Reg = '(\\d{1,2})\\/\\d{1,2}\\s.*\\s'\n",
    "title_Reg = '\\d{1,2}\\/\\d{1,2}\\s(.*)'\n",
    "people_found_helpful_Reg = '([\\d,]*) out of ([\\d,]*) found this helpful'\n",
    "username_Reg = '\\d{1,2}\\/\\d{1,2}\\s.*\\s([A-Za-z0-9_-]+)\\d{2}\\s[January|February|March|April|June|July|August|September|October|November|December]'\n",
    "date_Reg = '(\\d{1,2}\\s\\w+\\s\\d{4})'\n",
    "review_Reg = '\\d{1,2}\\s\\w+\\s\\d{4}\\s([\\s\\S]*)\\s[\\d,]* out of [\\d,]* found this helpful'"
   ],
   "metadata": {
    "id": "l6WhW0q5VpNQ",
    "ExecuteTime": {
     "start_time": "2023-09-12T04:11:11.186587522Z"
    }
   }
  },
  {
   "cell_type": "markdown",
   "source": [
    "# Cleaning Data"
   ],
   "metadata": {
    "collapsed": false,
    "id": "MFbZm_4RVpNR"
   }
  },
  {
   "cell_type": "code",
   "execution_count": null,
   "outputs": [],
   "source": [
    "# Clean every row in data set\n",
    "\n",
    "def get_cleaned_df(dirty_df):\n",
    "\t# cleaned_df = pd.DataFrame(columns=['score', 'title', 'username', 'date', 'people_found_helpful', 'review'])\n",
    "\tcleaned_df = pd.DataFrame(columns=['score', 'title', 'username', 'date', 'people_found_helpful', 'total_people_viewed', 'review'])\n",
    "\n",
    "\tfor index in range(len(dirty_df)):\n",
    "\t\trow = dirty_df.iloc[index][0]\n",
    "\n",
    "\t\tscore = re.findall(score_Reg, row)\n",
    "\t\ttitle = re.findall(title_Reg, row)\n",
    "\t\tusername = re.findall(username_Reg, row)\n",
    "\t\tdate = re.findall(date_Reg, row)\n",
    "\t\tpeople_found_helpful = re.findall(people_found_helpful_Reg, row)\n",
    "\t\treview = re.findall(review_Reg, row)\n",
    "\n",
    "\t\tif not score:\n",
    "\t\t\tcontinue\n",
    "\t\telse:\n",
    "\t\t\tscore = int(score[0])\n",
    "\t\tif not title:\n",
    "\t\t\ttitle = ['NULL']\n",
    "\t\tif not username:\n",
    "\t\t\tusername = ['NULL']\n",
    "\t\tif not date:\n",
    "\t\t\tdate = ['NULL']\n",
    "\t\tif not people_found_helpful:\n",
    "\t\t\tpeople_found_helpful = 'NULL'\n",
    "\t\t\ttotal_people_viewed = 'NULL'\n",
    "\t\telse:\n",
    "\t\t\ttotal_people_viewed = int(people_found_helpful[0][1].replace(',', ''))\n",
    "\t\t\tpeople_found_helpful = int(people_found_helpful[0][0].replace(',', ''))\n",
    "\t\tif not review:\n",
    "\t\t\treview = ['NULL']\n",
    "\n",
    "\t\tcleaned_df.loc[index] = [score, title[0], username[0], date[0], people_found_helpful, total_people_viewed, review[0]]\n",
    "\treturn cleaned_df\n"
   ],
   "metadata": {
    "id": "huWWR7k-VpNR",
    "ExecuteTime": {
     "start_time": "2023-09-12T04:11:11.186733908Z"
    }
   }
  },
  {
   "cell_type": "code",
   "execution_count": null,
   "outputs": [],
   "source": [
    "cleand_df_bb = get_cleaned_df(df_bb)\n",
    "cleand_df_bb.drop_duplicates(subset=['username'], inplace=True)"
   ],
   "metadata": {
    "id": "bTXJ3IIRVpNS",
    "ExecuteTime": {
     "start_time": "2023-09-12T04:11:11.186913887Z"
    }
   }
  },
  {
   "cell_type": "code",
   "execution_count": null,
   "outputs": [],
   "source": [
    "cleand_df_bb"
   ],
   "metadata": {
    "id": "NE9tvox3VpNS",
    "colab": {
     "base_uri": "https://localhost:8080/",
     "height": 419
    },
    "outputId": "1b1c15af-3c07-4eed-970c-37b6341fd432",
    "ExecuteTime": {
     "end_time": "2023-09-12T04:11:11.189735096Z",
     "start_time": "2023-09-12T04:11:11.187449285Z"
    }
   }
  },
  {
   "cell_type": "code",
   "execution_count": null,
   "outputs": [],
   "source": [
    "cleand_df_op = get_cleaned_df(df_op)\n",
    "cleand_df_op.drop_duplicates(subset=['username'], inplace=True)"
   ],
   "metadata": {
    "id": "BcEfnsQPVpNS",
    "ExecuteTime": {
     "start_time": "2023-09-12T04:11:11.187651263Z"
    }
   }
  },
  {
   "cell_type": "code",
   "execution_count": null,
   "outputs": [],
   "source": [
    "cleand_df_op"
   ],
   "metadata": {
    "id": "13ifJW1sVpNT",
    "colab": {
     "base_uri": "https://localhost:8080/",
     "height": 589
    },
    "outputId": "67648934-eb1e-4ef0-e119-04da954214a3",
    "ExecuteTime": {
     "start_time": "2023-09-12T04:11:11.187885928Z"
    }
   }
  },
  {
   "cell_type": "markdown",
   "source": [
    "# Graphing for Exploration"
   ],
   "metadata": {
    "collapsed": false,
    "id": "qQevpZbQVpNT"
   }
  },
  {
   "cell_type": "code",
   "execution_count": null,
   "outputs": [],
   "source": [
    "# combine the two data sets\n",
    "\n",
    "cleand_df_bb['isBarbie'] = 1\n",
    "cleand_df_op['isBarbie'] = 0\n",
    "\n",
    "df = pd.concat([cleand_df_bb, cleand_df_op], ignore_index=True)"
   ],
   "metadata": {
    "id": "s3SGI9swVpNT",
    "ExecuteTime": {
     "start_time": "2023-09-12T04:11:11.188068211Z"
    }
   }
  },
  {
   "cell_type": "code",
   "execution_count": null,
   "outputs": [],
   "source": [
    "df.dtypes"
   ],
   "metadata": {
    "id": "b_PPagEiVpNT",
    "colab": {
     "base_uri": "https://localhost:8080/"
    },
    "outputId": "c681bbba-c95e-4df6-92d6-382fb4d8381a",
    "ExecuteTime": {
     "start_time": "2023-09-12T04:11:11.188309231Z"
    }
   }
  },
  {
   "cell_type": "code",
   "execution_count": null,
   "outputs": [],
   "source": [
    "import matplotlib.pyplot as plt\n",
    "import seaborn as sns\n",
    "import numpy as np"
   ],
   "metadata": {
    "id": "aD9kBPTZVpNU",
    "ExecuteTime": {
     "start_time": "2023-09-12T04:11:11.188421954Z"
    }
   }
  },
  {
   "cell_type": "code",
   "execution_count": null,
   "outputs": [],
   "source": [
    "# Creating graphable data\n",
    "df = df[~df['date'].str.contains('IMAX')]\n",
    "# numeric_df = pd.DataFrame(columns=['isBarbie', 'score', 'people_found_helpful', 'total_people_viewed', 'helpful_ratio', 'date', 'date_from_release','length_of_title', 'length_of_username', 'length_of_review'])\n",
    "numeric_df = pd.DataFrame(columns=['isBarbie', 'score', 'date', 'people_found_helpful', 'total_people_viewed', 'helpful_ratio','length_of_title', 'length_of_username', 'length_of_review'])\n",
    "\n",
    "numeric_df['isBarbie'] = df['isBarbie']\n",
    "numeric_df['score'] = df['score']\n",
    "numeric_df['date'] = df['date']\n",
    "numeric_df['total_people_viewed'] = df['total_people_viewed']\n",
    "numeric_df['people_found_helpful'] = df['people_found_helpful']\n",
    "numeric_df['helpful_ratio'] = df['people_found_helpful'] / df['total_people_viewed']\n",
    "numeric_df['length_of_title'] = df['title'].apply(lambda x: len(x))\n",
    "numeric_df['length_of_username'] = df['username'].apply(lambda x: len(x))\n",
    "numeric_df['length_of_review'] = df['review'].apply(lambda x: len(x))\n",
    "\n",
    "numeric_df['date'] = pd.to_datetime(df['date'], format='%d %B %Y')\n",
    "numeric_df['date_from_release'] = (numeric_df['date'] - pd.to_datetime('2023-07-23', format='%Y-%m-%d')).dt.days"
   ],
   "metadata": {
    "id": "U7CIuEXnVpNU",
    "ExecuteTime": {
     "start_time": "2023-09-12T04:11:11.188572111Z"
    }
   }
  },
  {
   "cell_type": "code",
   "execution_count": null,
   "outputs": [],
   "source": [
    "numeric_df"
   ],
   "metadata": {
    "id": "A7x7LKPmVpNU",
    "colab": {
     "base_uri": "https://localhost:8080/",
     "height": 609
    },
    "outputId": "531c382d-affb-4f20-efb3-d82b58cc65a5",
    "ExecuteTime": {
     "start_time": "2023-09-12T04:11:11.188686719Z"
    }
   }
  },
  {
   "cell_type": "code",
   "execution_count": null,
   "outputs": [],
   "source": [
    "# Coorelation Matrix\n",
    "\n",
    "drop_na_df = numeric_df[numeric_df['score'] != 'NULL']\n",
    "\n",
    "fig1 = plt.figure(figsize=(10, 10))\n",
    "ax1 = fig1.add_subplot(111)\n",
    "\n",
    "cmap = sns.diverging_palette(0, 255, n=256, as_cmap=True)\n",
    "\n",
    "sns.heatmap(data=drop_na_df.corr(), ax=ax1, cmap=cmap, annot=True)\n",
    "\n",
    "plt.show()"
   ],
   "metadata": {
    "id": "pqJuM4y_VpNU",
    "colab": {
     "base_uri": "https://localhost:8080/",
     "height": 1000
    },
    "outputId": "7165560b-eb05-4ae3-eff5-103828b98971",
    "ExecuteTime": {
     "start_time": "2023-09-12T04:11:11.230252736Z"
    }
   }
  },
  {
   "cell_type": "code",
   "execution_count": null,
   "outputs": [],
   "source": [
    "fig2 = plt.figure(figsize=(10, 10))\n",
    "ax2 = fig2.add_subplot(111)\n",
    "\n",
    "sns.boxplot(data=numeric_df, x='isBarbie', y='date_from_release', ax=ax2)\n",
    "\n",
    "plt.show()"
   ],
   "metadata": {
    "id": "h-WV-jGeVpNV",
    "colab": {
     "base_uri": "https://localhost:8080/",
     "height": 850
    },
    "outputId": "2bd4dff2-af0e-4892-f493-d35b5dd22d3e",
    "ExecuteTime": {
     "start_time": "2023-09-12T04:11:11.230497876Z"
    }
   }
  },
  {
   "cell_type": "code",
   "execution_count": null,
   "outputs": [],
   "source": [
    "group_by = df.groupby('isBarbie')\n",
    "for movie_id, group_data in group_by:\n",
    "    plt.figure(figsize=(8, 8))\n",
    "    plt.hist(group_data['score'], edgecolor='black')\n",
    "    plt.title(f'Score Distribution for isBarbie: {movie_id}')\n",
    "    plt.xlabel('Score')\n",
    "    plt.ylabel('Frequency')\n",
    "    plt.show()"
   ],
   "metadata": {
    "id": "FdPvynH0VpNV",
    "colab": {
     "base_uri": "https://localhost:8080/",
     "height": 1000
    },
    "outputId": "892d3894-4a85-49ad-d02a-e2183216e63e",
    "ExecuteTime": {
     "start_time": "2023-09-12T04:11:11.230637627Z"
    }
   }
  },
  {
   "cell_type": "code",
   "source": [
    "textdata = df[['review', 'title', 'isBarbie']]\n",
    "textdata.drop()\n",
    "textdata"
   ],
   "metadata": {
    "id": "7Fk9W7nCxxb9",
    "colab": {
     "base_uri": "https://localhost:8080/",
     "height": 419
    },
    "outputId": "8b4c1dc4-50d9-4835-fca6-0803f607ba7e",
    "ExecuteTime": {
     "start_time": "2023-09-12T04:11:11.230773467Z"
    }
   },
   "execution_count": null,
   "outputs": []
  },
  {
   "cell_type": "code",
   "source": [
    "from sklearn.model_selection import train_test_split\n",
    "\n",
    "X_train, X_test, y_train, y_test = train_test_split(textdata.drop(columns = ['isBarbie', 'title']), textdata['isBarbie'], stratify=textdata['isBarbie'], test_size = 0.2, random_state = 42)"
   ],
   "metadata": {
    "id": "NjCRYI-Edvsy",
    "ExecuteTime": {
     "start_time": "2023-09-12T04:11:11.230892964Z"
    }
   },
   "execution_count": null,
   "outputs": []
  },
  {
   "cell_type": "code",
   "source": [
    "import tensorflow as tf\n",
    "import tensorflow_hub as hub\n",
    "# !pip install tensorflow_text\n",
    "import tensorflow_text as text\n",
    "\n",
    "bert_encoder = hub.KerasLayer(\"https://tfhub.dev/tensorflow/bert_en_uncased_L-12_H-768_A-12/4\")\n",
    "bert_preprocess = hub.KerasLayer(\"https://tfhub.dev/tensorflow/bert_en_uncased_preprocess/3\")"
   ],
   "metadata": {
    "id": "AVr-8aGPkAfV",
    "colab": {
     "base_uri": "https://localhost:8080/"
    },
    "outputId": "71ceb537-32c1-4078-dee2-99fcb7fe0958",
    "ExecuteTime": {
     "start_time": "2023-09-12T04:11:11.231005826Z"
    }
   },
   "execution_count": null,
   "outputs": []
  },
  {
   "cell_type": "code",
   "source": [
    "from keras.layers import Dense, Input\n",
    "from keras.optimizers import SGD\n",
    "from keras.optimizers import Adam\n",
    "\n",
    "# BERT layers\n",
    "text_input = Input(shape=(), dtype=tf.string)\n",
    "preprocessed_text = bert_preprocess(text_input)\n",
    "outputs = bert_encoder(preprocessed_text)\n",
    "\n",
    "# Neural network layers\n",
    "l = tf.keras.layers.Dropout(0.1, name=\"dropout\")(outputs['pooled_output'])\n",
    "l = Dense(1, activation='sigmoid')(l)\n",
    "\n",
    "# Use inputs and outputs to construct a final model\n",
    "model = tf.keras.Model(inputs=[text_input], outputs = [l])\n",
    "\n",
    "model.compile(optimizer = Adam(learning_rate = 0.2), loss = 'binary_crossentropy', metrics = ['accuracy'])\n",
    "\n",
    "history = model.fit(X_train, y_train, batch_size = 64, epochs = 10)"
   ],
   "metadata": {
    "colab": {
     "base_uri": "https://localhost:8080/"
    },
    "id": "fAPZNgRjvjSV",
    "outputId": "866b3766-4722-499d-c29e-dee2f0102f7e",
    "ExecuteTime": {
     "start_time": "2023-09-12T04:11:11.231180497Z"
    }
   },
   "execution_count": null,
   "outputs": []
  },
  {
   "cell_type": "code",
   "source": [
    "yhat_test = model.predict(X_test)\n",
    "yhat_test = [1  if y >= 0.5 else 0 for y in yhat_test]\n",
    "series = pd.Series(yhat_test)\n",
    "series.value_counts()"
   ],
   "metadata": {
    "colab": {
     "base_uri": "https://localhost:8080/"
    },
    "id": "pKcmvpFhD7TV",
    "outputId": "a7a80c8c-206d-4fc4-f34c-a1903395b749",
    "ExecuteTime": {
     "start_time": "2023-09-12T04:11:11.231298877Z"
    }
   },
   "execution_count": null,
   "outputs": []
  },
  {
   "cell_type": "code",
   "source": [
    "print(y_train.value_counts())\n",
    "(textdata['isBarbie'].value_counts())"
   ],
   "metadata": {
    "colab": {
     "base_uri": "https://localhost:8080/"
    },
    "id": "PHcKK9H0HUfh",
    "outputId": "4de6c224-9eb5-4167-c002-aff6eef6bad1",
    "ExecuteTime": {
     "start_time": "2023-09-12T04:11:11.231432203Z"
    }
   },
   "execution_count": null,
   "outputs": []
  },
  {
   "cell_type": "code",
   "source": [
    "from sklearn.metrics import confusion_matrix\n",
    "\n",
    "cm = confusion_matrix(y_test, yhat_test)\n",
    "cm"
   ],
   "metadata": {
    "colab": {
     "base_uri": "https://localhost:8080/"
    },
    "id": "x40VPgPsG-z1",
    "outputId": "1f4e1c94-5a58-482e-d07e-35aa6fda8773",
    "ExecuteTime": {
     "start_time": "2023-09-12T04:11:11.231549465Z"
    }
   },
   "execution_count": null,
   "outputs": []
  },
  {
   "cell_type": "code",
   "source": [
    "from sklearn.metrics import classification_report\n",
    "\n",
    "print(classification_report(y_test, yhat_test))"
   ],
   "metadata": {
    "colab": {
     "base_uri": "https://localhost:8080/"
    },
    "id": "CTTHdMQ1H6NC",
    "outputId": "4e429e0d-de48-4d73-d2f2-7b7f0f722396",
    "ExecuteTime": {
     "start_time": "2023-09-12T04:11:11.231673991Z"
    }
   },
   "execution_count": null,
   "outputs": []
  },
  {
   "cell_type": "code",
   "execution_count": null,
   "outputs": [],
   "source": [
    "yhat_test"
   ],
   "metadata": {
    "collapsed": false,
    "ExecuteTime": {
     "start_time": "2023-09-12T04:11:11.231790345Z"
    }
   }
  }
 ]
}
