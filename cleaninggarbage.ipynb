{
 "nbformat": 4,
 "nbformat_minor": 0,
 "metadata": {
  "colab": {
   "provenance": [],
   "gpuType": "T4"
  },
  "cells": [
    {
      "cell_type": "code",
      "execution_count": 1,
      "metadata": {
        "id": "Mu0k0HsY6eDQ",
        "ExecuteTime": {
          "end_time": "2023-08-26T00:50:19.168630589Z",
          "start_time": "2023-08-26T00:50:18.479904305Z"
        },
        "colab": {
          "base_uri": "https://localhost:8080/"
        },
        "outputId": "0473922a-d135-473c-f222-21b279f911b4"
      },
      "outputs": [
        {
          "output_type": "stream",
          "name": "stdout",
          "text": [
            "Requirement already satisfied: tensorflow_text in /usr/local/lib/python3.10/dist-packages (2.13.0)\n",
            "Requirement already satisfied: tensorflow-hub>=0.8.0 in /usr/local/lib/python3.10/dist-packages (from tensorflow_text) (0.14.0)\n",
            "Requirement already satisfied: tensorflow<2.14,>=2.13.0 in /usr/local/lib/python3.10/dist-packages (from tensorflow_text) (2.13.0)\n",
            "Requirement already satisfied: absl-py>=1.0.0 in /usr/local/lib/python3.10/dist-packages (from tensorflow<2.14,>=2.13.0->tensorflow_text) (1.4.0)\n",
            "Requirement already satisfied: astunparse>=1.6.0 in /usr/local/lib/python3.10/dist-packages (from tensorflow<2.14,>=2.13.0->tensorflow_text) (1.6.3)\n",
            "Requirement already satisfied: flatbuffers>=23.1.21 in /usr/local/lib/python3.10/dist-packages (from tensorflow<2.14,>=2.13.0->tensorflow_text) (23.5.26)\n",
            "Requirement already satisfied: gast<=0.4.0,>=0.2.1 in /usr/local/lib/python3.10/dist-packages (from tensorflow<2.14,>=2.13.0->tensorflow_text) (0.4.0)\n",
            "Requirement already satisfied: google-pasta>=0.1.1 in /usr/local/lib/python3.10/dist-packages (from tensorflow<2.14,>=2.13.0->tensorflow_text) (0.2.0)\n",
            "Requirement already satisfied: grpcio<2.0,>=1.24.3 in /usr/local/lib/python3.10/dist-packages (from tensorflow<2.14,>=2.13.0->tensorflow_text) (1.57.0)\n",
            "Requirement already satisfied: h5py>=2.9.0 in /usr/local/lib/python3.10/dist-packages (from tensorflow<2.14,>=2.13.0->tensorflow_text) (3.9.0)\n",
            "Requirement already satisfied: keras<2.14,>=2.13.1 in /usr/local/lib/python3.10/dist-packages (from tensorflow<2.14,>=2.13.0->tensorflow_text) (2.13.1)\n",
            "Requirement already satisfied: libclang>=13.0.0 in /usr/local/lib/python3.10/dist-packages (from tensorflow<2.14,>=2.13.0->tensorflow_text) (16.0.6)\n",
            "Requirement already satisfied: numpy<=1.24.3,>=1.22 in /usr/local/lib/python3.10/dist-packages (from tensorflow<2.14,>=2.13.0->tensorflow_text) (1.23.5)\n",
            "Requirement already satisfied: opt-einsum>=2.3.2 in /usr/local/lib/python3.10/dist-packages (from tensorflow<2.14,>=2.13.0->tensorflow_text) (3.3.0)\n",
            "Requirement already satisfied: packaging in /usr/local/lib/python3.10/dist-packages (from tensorflow<2.14,>=2.13.0->tensorflow_text) (23.1)\n",
            "Requirement already satisfied: protobuf!=4.21.0,!=4.21.1,!=4.21.2,!=4.21.3,!=4.21.4,!=4.21.5,<5.0.0dev,>=3.20.3 in /usr/local/lib/python3.10/dist-packages (from tensorflow<2.14,>=2.13.0->tensorflow_text) (3.20.3)\n",
            "Requirement already satisfied: setuptools in /usr/local/lib/python3.10/dist-packages (from tensorflow<2.14,>=2.13.0->tensorflow_text) (67.7.2)\n",
            "Requirement already satisfied: six>=1.12.0 in /usr/local/lib/python3.10/dist-packages (from tensorflow<2.14,>=2.13.0->tensorflow_text) (1.16.0)\n",
            "Requirement already satisfied: tensorboard<2.14,>=2.13 in /usr/local/lib/python3.10/dist-packages (from tensorflow<2.14,>=2.13.0->tensorflow_text) (2.13.0)\n",
            "Requirement already satisfied: tensorflow-estimator<2.14,>=2.13.0 in /usr/local/lib/python3.10/dist-packages (from tensorflow<2.14,>=2.13.0->tensorflow_text) (2.13.0)\n",
            "Requirement already satisfied: termcolor>=1.1.0 in /usr/local/lib/python3.10/dist-packages (from tensorflow<2.14,>=2.13.0->tensorflow_text) (2.3.0)\n",
            "Requirement already satisfied: typing-extensions<4.6.0,>=3.6.6 in /usr/local/lib/python3.10/dist-packages (from tensorflow<2.14,>=2.13.0->tensorflow_text) (4.5.0)\n",
            "Requirement already satisfied: wrapt>=1.11.0 in /usr/local/lib/python3.10/dist-packages (from tensorflow<2.14,>=2.13.0->tensorflow_text) (1.14.1)\n",
            "Requirement already satisfied: tensorflow-io-gcs-filesystem>=0.23.1 in /usr/local/lib/python3.10/dist-packages (from tensorflow<2.14,>=2.13.0->tensorflow_text) (0.33.0)\n",
            "Requirement already satisfied: wheel<1.0,>=0.23.0 in /usr/local/lib/python3.10/dist-packages (from astunparse>=1.6.0->tensorflow<2.14,>=2.13.0->tensorflow_text) (0.41.2)\n",
            "Requirement already satisfied: google-auth<3,>=1.6.3 in /usr/local/lib/python3.10/dist-packages (from tensorboard<2.14,>=2.13->tensorflow<2.14,>=2.13.0->tensorflow_text) (2.17.3)\n",
            "Requirement already satisfied: google-auth-oauthlib<1.1,>=0.5 in /usr/local/lib/python3.10/dist-packages (from tensorboard<2.14,>=2.13->tensorflow<2.14,>=2.13.0->tensorflow_text) (1.0.0)\n",
            "Requirement already satisfied: markdown>=2.6.8 in /usr/local/lib/python3.10/dist-packages (from tensorboard<2.14,>=2.13->tensorflow<2.14,>=2.13.0->tensorflow_text) (3.4.4)\n",
            "Requirement already satisfied: requests<3,>=2.21.0 in /usr/local/lib/python3.10/dist-packages (from tensorboard<2.14,>=2.13->tensorflow<2.14,>=2.13.0->tensorflow_text) (2.31.0)\n",
            "Requirement already satisfied: tensorboard-data-server<0.8.0,>=0.7.0 in /usr/local/lib/python3.10/dist-packages (from tensorboard<2.14,>=2.13->tensorflow<2.14,>=2.13.0->tensorflow_text) (0.7.1)\n",
            "Requirement already satisfied: werkzeug>=1.0.1 in /usr/local/lib/python3.10/dist-packages (from tensorboard<2.14,>=2.13->tensorflow<2.14,>=2.13.0->tensorflow_text) (2.3.7)\n",
            "Requirement already satisfied: cachetools<6.0,>=2.0.0 in /usr/local/lib/python3.10/dist-packages (from google-auth<3,>=1.6.3->tensorboard<2.14,>=2.13->tensorflow<2.14,>=2.13.0->tensorflow_text) (5.3.1)\n",
            "Requirement already satisfied: pyasn1-modules>=0.2.1 in /usr/local/lib/python3.10/dist-packages (from google-auth<3,>=1.6.3->tensorboard<2.14,>=2.13->tensorflow<2.14,>=2.13.0->tensorflow_text) (0.3.0)\n",
            "Requirement already satisfied: rsa<5,>=3.1.4 in /usr/local/lib/python3.10/dist-packages (from google-auth<3,>=1.6.3->tensorboard<2.14,>=2.13->tensorflow<2.14,>=2.13.0->tensorflow_text) (4.9)\n",
            "Requirement already satisfied: requests-oauthlib>=0.7.0 in /usr/local/lib/python3.10/dist-packages (from google-auth-oauthlib<1.1,>=0.5->tensorboard<2.14,>=2.13->tensorflow<2.14,>=2.13.0->tensorflow_text) (1.3.1)\n",
            "Requirement already satisfied: charset-normalizer<4,>=2 in /usr/local/lib/python3.10/dist-packages (from requests<3,>=2.21.0->tensorboard<2.14,>=2.13->tensorflow<2.14,>=2.13.0->tensorflow_text) (3.2.0)\n",
            "Requirement already satisfied: idna<4,>=2.5 in /usr/local/lib/python3.10/dist-packages (from requests<3,>=2.21.0->tensorboard<2.14,>=2.13->tensorflow<2.14,>=2.13.0->tensorflow_text) (3.4)\n",
            "Requirement already satisfied: urllib3<3,>=1.21.1 in /usr/local/lib/python3.10/dist-packages (from requests<3,>=2.21.0->tensorboard<2.14,>=2.13->tensorflow<2.14,>=2.13.0->tensorflow_text) (2.0.4)\n",
            "Requirement already satisfied: certifi>=2017.4.17 in /usr/local/lib/python3.10/dist-packages (from requests<3,>=2.21.0->tensorboard<2.14,>=2.13->tensorflow<2.14,>=2.13.0->tensorflow_text) (2023.7.22)\n",
            "Requirement already satisfied: MarkupSafe>=2.1.1 in /usr/local/lib/python3.10/dist-packages (from werkzeug>=1.0.1->tensorboard<2.14,>=2.13->tensorflow<2.14,>=2.13.0->tensorflow_text) (2.1.3)\n",
            "Requirement already satisfied: pyasn1<0.6.0,>=0.4.6 in /usr/local/lib/python3.10/dist-packages (from pyasn1-modules>=0.2.1->google-auth<3,>=1.6.3->tensorboard<2.14,>=2.13->tensorflow<2.14,>=2.13.0->tensorflow_text) (0.5.0)\n",
            "Requirement already satisfied: oauthlib>=3.0.0 in /usr/local/lib/python3.10/dist-packages (from requests-oauthlib>=0.7.0->google-auth-oauthlib<1.1,>=0.5->tensorboard<2.14,>=2.13->tensorflow<2.14,>=2.13.0->tensorflow_text) (3.2.2)\n"
          ]
        }
      ],
      "source": [
        "!pip install tensorflow_text\n",
        "import pandas as pd\n",
        "\n",
        "df_bb = pd.read_csv('/content/imdb_barbie_Uncleaned.csv', header=None)\n",
        "df_op = pd.read_csv('/content/imdb_oppenhimmer_Uncleaned.csv', header=None)\n",
        "df_bb.drop_duplicates(inplace=True)\n",
        "df_op.drop_duplicates(inplace=True)\n"
      ]
    },
    {
      "cell_type": "markdown",
      "source": [
        "# Regular Expression"
      ],
      "metadata": {
        "collapsed": false,
        "id": "NpURbSUxVpNO"
      }
    },
    {
      "cell_type": "code",
      "execution_count": 2,
      "outputs": [],
      "source": [
        "import re\n",
        "\n",
        "score_Reg = '(\\d{1,2})\\/\\d{1,2}\\s.*\\s'\n",
        "title_Reg = '\\d{1,2}\\/\\d{1,2}\\s(.*)'\n",
        "people_found_helpful_Reg = '([\\d,]*) out of ([\\d,]*) found this helpful'\n",
        "username_Reg = '\\d{1,2}\\/\\d{1,2}\\s.*\\s([A-Za-z0-9_-]+)\\d{2}\\s[January|February|March|April|June|July|August|September|October|November|December]'\n",
        "date_Reg = '(\\d{1,2}\\s\\w+\\s\\d{4})'\n",
        "review_Reg = '\\d{1,2}\\s\\w+\\s\\d{4}\\s([\\s\\S]*)\\s[\\d,]* out of [\\d,]* found this helpful'"
      ],
      "metadata": {
        "ExecuteTime": {
          "end_time": "2023-08-26T00:50:19.209660866Z",
          "start_time": "2023-08-26T00:50:19.209032319Z"
        },
        "id": "l6WhW0q5VpNQ"
      }
    },
    {
      "cell_type": "markdown",
      "source": [
        "# Cleaning Data"
      ],
      "metadata": {
        "collapsed": false,
        "id": "MFbZm_4RVpNR"
      }
    },
    {
      "cell_type": "code",
      "execution_count": 3,
      "outputs": [],
      "source": [
        "# Clean every row in data set\n",
        "\n",
        "def get_cleaned_df(dirty_df):\n",
        "\t# cleaned_df = pd.DataFrame(columns=['score', 'title', 'username', 'date', 'people_found_helpful', 'review'])\n",
        "\tcleaned_df = pd.DataFrame(columns=['score', 'title', 'username', 'date', 'people_found_helpful', 'total_people_viewed', 'review'])\n",
        "\n",
        "\tfor index in range(len(dirty_df)):\n",
        "\t\trow = dirty_df.iloc[index][0]\n",
        "\n",
        "\t\tscore = re.findall(score_Reg, row)\n",
        "\t\ttitle = re.findall(title_Reg, row)\n",
        "\t\tusername = re.findall(username_Reg, row)\n",
        "\t\tdate = re.findall(date_Reg, row)\n",
        "\t\tpeople_found_helpful = re.findall(people_found_helpful_Reg, row)\n",
        "\t\treview = re.findall(review_Reg, row)\n",
        "\n",
        "\t\tif not score:\n",
        "\t\t\tcontinue\n",
        "\t\telse:\n",
        "\t\t\tscore = int(score[0])\n",
        "\t\tif not title:\n",
        "\t\t\ttitle = ['NULL']\n",
        "\t\tif not username:\n",
        "\t\t\tusername = ['NULL']\n",
        "\t\tif not date:\n",
        "\t\t\tdate = ['NULL']\n",
        "\t\tif not people_found_helpful:\n",
        "\t\t\tpeople_found_helpful = 'NULL'\n",
        "\t\t\ttotal_people_viewed = 'NULL'\n",
        "\t\telse:\n",
        "\t\t\ttotal_people_viewed = int(people_found_helpful[0][1].replace(',', ''))\n",
        "\t\t\tpeople_found_helpful = int(people_found_helpful[0][0].replace(',', ''))\n",
        "\t\tif not review:\n",
        "\t\t\treview = ['NULL']\n",
        "\n",
        "\t\tcleaned_df.loc[index] = [score, title[0], username[0], date[0], people_found_helpful, total_people_viewed, review[0]]\n",
        "\treturn cleaned_df\n"
      ],
      "metadata": {
        "ExecuteTime": {
          "end_time": "2023-08-26T00:50:19.210452715Z",
          "start_time": "2023-08-26T00:50:19.209502385Z"
        },
        "id": "huWWR7k-VpNR"
      }
    },
    {
      "cell_type": "code",
      "execution_count": 4,
      "outputs": [],
      "source": [
        "cleand_df_bb = get_cleaned_df(df_bb)\n",
        "cleand_df_bb.drop_duplicates(subset=['username'], inplace=True)"
      ],
      "metadata": {
        "ExecuteTime": {
          "end_time": "2023-08-26T00:50:19.961863125Z",
          "start_time": "2023-08-26T00:50:19.209613580Z"
        },
        "id": "bTXJ3IIRVpNS"
      }
    },
    {
      "cell_type": "code",
      "execution_count": 5,
      "outputs": [
        {
          "output_type": "execute_result",
          "data": {
            "text/plain": [
              "     score                                              title  \\\n",
              "0        6                 Creative but preachy and confusing   \n",
              "1        6                     Beautiful film, but so preachy   \n",
              "2        6  Clever and fun beginning turns into another le...   \n",
              "3        8                                  It was depressing   \n",
              "4        9                                A Technicolor Dream   \n",
              "..     ...                                                ...   \n",
              "792      2                                    Barbie-not good   \n",
              "793      5                             Feminism but the rest?   \n",
              "794      3  Great sets, great execution but horrible story...   \n",
              "795      2                                          Just meh.   \n",
              "796      1          Not for little kids and wastes your time.   \n",
              "\n",
              "             username          date  people_found_helpful  \\\n",
              "0         Imshortok06  23 July 2023                  1007   \n",
              "1        LoveofLegacy  21 July 2023                  1190   \n",
              "2            Binkconn  21 July 2023                   804   \n",
              "3           coxaneesa  24 July 2023                   152   \n",
              "4      heatherhilgers  24 July 2023                    20   \n",
              "..                ...           ...                   ...   \n",
              "792          thongman  22 July 2023                     5   \n",
              "793      iyaseminkose  23 July 2023                     1   \n",
              "794       DaHermitKid  28 July 2023                     1   \n",
              "795  apriljosey-29034  27 July 2023                     0   \n",
              "796         ben-39403  27 July 2023                     0   \n",
              "\n",
              "     total_people_viewed                                             review  \n",
              "0                   1363  I'm just going to get straight to the point: I...  \n",
              "1                   1646  Margot does the best with what she's given, bu...  \n",
              "2                   1173  Barbie begins in an irresistible way, as a fun...  \n",
              "3                    242                                  Warning: Spoilers  \n",
              "4                     26  Wow, this movie was a love letter to cinema. F...  \n",
              "..                   ...                                                ...  \n",
              "792                   17  The only reason this movie even gets a 2 from ...  \n",
              "793                    6  I'm NOT a Barbie girl in NOT the Barbie World,...  \n",
              "794                    5  Firstly, the technical execution is top notch....  \n",
              "795                    1                                  Warning: Spoilers  \n",
              "796                    6  Too many sexual references and doesn't grasp t...  \n",
              "\n",
              "[784 rows x 7 columns]"
            ],
            "text/html": [
              "\n",
              "  <div id=\"df-c6449242-c575-4df2-8627-ebc12f32407b\" class=\"colab-df-container\">\n",
              "    <div>\n",
              "<style scoped>\n",
              "    .dataframe tbody tr th:only-of-type {\n",
              "        vertical-align: middle;\n",
              "    }\n",
              "\n",
              "    .dataframe tbody tr th {\n",
              "        vertical-align: top;\n",
              "    }\n",
              "\n",
              "    .dataframe thead th {\n",
              "        text-align: right;\n",
              "    }\n",
              "</style>\n",
              "<table border=\"1\" class=\"dataframe\">\n",
              "  <thead>\n",
              "    <tr style=\"text-align: right;\">\n",
              "      <th></th>\n",
              "      <th>score</th>\n",
              "      <th>title</th>\n",
              "      <th>username</th>\n",
              "      <th>date</th>\n",
              "      <th>people_found_helpful</th>\n",
              "      <th>total_people_viewed</th>\n",
              "      <th>review</th>\n",
              "    </tr>\n",
              "  </thead>\n",
              "  <tbody>\n",
              "    <tr>\n",
              "      <th>0</th>\n",
              "      <td>6</td>\n",
              "      <td>Creative but preachy and confusing</td>\n",
              "      <td>Imshortok06</td>\n",
              "      <td>23 July 2023</td>\n",
              "      <td>1007</td>\n",
              "      <td>1363</td>\n",
              "      <td>I'm just going to get straight to the point: I...</td>\n",
              "    </tr>\n",
              "    <tr>\n",
              "      <th>1</th>\n",
              "      <td>6</td>\n",
              "      <td>Beautiful film, but so preachy</td>\n",
              "      <td>LoveofLegacy</td>\n",
              "      <td>21 July 2023</td>\n",
              "      <td>1190</td>\n",
              "      <td>1646</td>\n",
              "      <td>Margot does the best with what she's given, bu...</td>\n",
              "    </tr>\n",
              "    <tr>\n",
              "      <th>2</th>\n",
              "      <td>6</td>\n",
              "      <td>Clever and fun beginning turns into another le...</td>\n",
              "      <td>Binkconn</td>\n",
              "      <td>21 July 2023</td>\n",
              "      <td>804</td>\n",
              "      <td>1173</td>\n",
              "      <td>Barbie begins in an irresistible way, as a fun...</td>\n",
              "    </tr>\n",
              "    <tr>\n",
              "      <th>3</th>\n",
              "      <td>8</td>\n",
              "      <td>It was depressing</td>\n",
              "      <td>coxaneesa</td>\n",
              "      <td>24 July 2023</td>\n",
              "      <td>152</td>\n",
              "      <td>242</td>\n",
              "      <td>Warning: Spoilers</td>\n",
              "    </tr>\n",
              "    <tr>\n",
              "      <th>4</th>\n",
              "      <td>9</td>\n",
              "      <td>A Technicolor Dream</td>\n",
              "      <td>heatherhilgers</td>\n",
              "      <td>24 July 2023</td>\n",
              "      <td>20</td>\n",
              "      <td>26</td>\n",
              "      <td>Wow, this movie was a love letter to cinema. F...</td>\n",
              "    </tr>\n",
              "    <tr>\n",
              "      <th>...</th>\n",
              "      <td>...</td>\n",
              "      <td>...</td>\n",
              "      <td>...</td>\n",
              "      <td>...</td>\n",
              "      <td>...</td>\n",
              "      <td>...</td>\n",
              "      <td>...</td>\n",
              "    </tr>\n",
              "    <tr>\n",
              "      <th>792</th>\n",
              "      <td>2</td>\n",
              "      <td>Barbie-not good</td>\n",
              "      <td>thongman</td>\n",
              "      <td>22 July 2023</td>\n",
              "      <td>5</td>\n",
              "      <td>17</td>\n",
              "      <td>The only reason this movie even gets a 2 from ...</td>\n",
              "    </tr>\n",
              "    <tr>\n",
              "      <th>793</th>\n",
              "      <td>5</td>\n",
              "      <td>Feminism but the rest?</td>\n",
              "      <td>iyaseminkose</td>\n",
              "      <td>23 July 2023</td>\n",
              "      <td>1</td>\n",
              "      <td>6</td>\n",
              "      <td>I'm NOT a Barbie girl in NOT the Barbie World,...</td>\n",
              "    </tr>\n",
              "    <tr>\n",
              "      <th>794</th>\n",
              "      <td>3</td>\n",
              "      <td>Great sets, great execution but horrible story...</td>\n",
              "      <td>DaHermitKid</td>\n",
              "      <td>28 July 2023</td>\n",
              "      <td>1</td>\n",
              "      <td>5</td>\n",
              "      <td>Firstly, the technical execution is top notch....</td>\n",
              "    </tr>\n",
              "    <tr>\n",
              "      <th>795</th>\n",
              "      <td>2</td>\n",
              "      <td>Just meh.</td>\n",
              "      <td>apriljosey-29034</td>\n",
              "      <td>27 July 2023</td>\n",
              "      <td>0</td>\n",
              "      <td>1</td>\n",
              "      <td>Warning: Spoilers</td>\n",
              "    </tr>\n",
              "    <tr>\n",
              "      <th>796</th>\n",
              "      <td>1</td>\n",
              "      <td>Not for little kids and wastes your time.</td>\n",
              "      <td>ben-39403</td>\n",
              "      <td>27 July 2023</td>\n",
              "      <td>0</td>\n",
              "      <td>6</td>\n",
              "      <td>Too many sexual references and doesn't grasp t...</td>\n",
              "    </tr>\n",
              "  </tbody>\n",
              "</table>\n",
              "<p>784 rows × 7 columns</p>\n",
              "</div>\n",
              "    <div class=\"colab-df-buttons\">\n",
              "\n",
              "  <div class=\"colab-df-container\">\n",
              "    <button class=\"colab-df-convert\" onclick=\"convertToInteractive('df-c6449242-c575-4df2-8627-ebc12f32407b')\"\n",
              "            title=\"Convert this dataframe to an interactive table.\"\n",
              "            style=\"display:none;\">\n",
              "\n",
              "  <svg xmlns=\"http://www.w3.org/2000/svg\" height=\"24px\" viewBox=\"0 -960 960 960\">\n",
              "    <path d=\"M120-120v-720h720v720H120Zm60-500h600v-160H180v160Zm220 220h160v-160H400v160Zm0 220h160v-160H400v160ZM180-400h160v-160H180v160Zm440 0h160v-160H620v160ZM180-180h160v-160H180v160Zm440 0h160v-160H620v160Z\"/>\n",
              "  </svg>\n",
              "    </button>\n",
              "\n",
              "  <style>\n",
              "    .colab-df-container {\n",
              "      display:flex;\n",
              "      gap: 12px;\n",
              "    }\n",
              "\n",
              "    .colab-df-convert {\n",
              "      background-color: #E8F0FE;\n",
              "      border: none;\n",
              "      border-radius: 50%;\n",
              "      cursor: pointer;\n",
              "      display: none;\n",
              "      fill: #1967D2;\n",
              "      height: 32px;\n",
              "      padding: 0 0 0 0;\n",
              "      width: 32px;\n",
              "    }\n",
              "\n",
              "    .colab-df-convert:hover {\n",
              "      background-color: #E2EBFA;\n",
              "      box-shadow: 0px 1px 2px rgba(60, 64, 67, 0.3), 0px 1px 3px 1px rgba(60, 64, 67, 0.15);\n",
              "      fill: #174EA6;\n",
              "    }\n",
              "\n",
              "    .colab-df-buttons div {\n",
              "      margin-bottom: 4px;\n",
              "    }\n",
              "\n",
              "    [theme=dark] .colab-df-convert {\n",
              "      background-color: #3B4455;\n",
              "      fill: #D2E3FC;\n",
              "    }\n",
              "\n",
              "    [theme=dark] .colab-df-convert:hover {\n",
              "      background-color: #434B5C;\n",
              "      box-shadow: 0px 1px 3px 1px rgba(0, 0, 0, 0.15);\n",
              "      filter: drop-shadow(0px 1px 2px rgba(0, 0, 0, 0.3));\n",
              "      fill: #FFFFFF;\n",
              "    }\n",
              "  </style>\n",
              "\n",
              "    <script>\n",
              "      const buttonEl =\n",
              "        document.querySelector('#df-c6449242-c575-4df2-8627-ebc12f32407b button.colab-df-convert');\n",
              "      buttonEl.style.display =\n",
              "        google.colab.kernel.accessAllowed ? 'block' : 'none';\n",
              "\n",
              "      async function convertToInteractive(key) {\n",
              "        const element = document.querySelector('#df-c6449242-c575-4df2-8627-ebc12f32407b');\n",
              "        const dataTable =\n",
              "          await google.colab.kernel.invokeFunction('convertToInteractive',\n",
              "                                                    [key], {});\n",
              "        if (!dataTable) return;\n",
              "\n",
              "        const docLinkHtml = 'Like what you see? Visit the ' +\n",
              "          '<a target=\"_blank\" href=https://colab.research.google.com/notebooks/data_table.ipynb>data table notebook</a>'\n",
              "          + ' to learn more about interactive tables.';\n",
              "        element.innerHTML = '';\n",
              "        dataTable['output_type'] = 'display_data';\n",
              "        await google.colab.output.renderOutput(dataTable, element);\n",
              "        const docLink = document.createElement('div');\n",
              "        docLink.innerHTML = docLinkHtml;\n",
              "        element.appendChild(docLink);\n",
              "      }\n",
              "    </script>\n",
              "  </div>\n",
              "\n",
              "\n",
              "<div id=\"df-a4c08e60-d359-4779-808a-ff8df078b0ac\">\n",
              "  <button class=\"colab-df-quickchart\" onclick=\"quickchart('df-a4c08e60-d359-4779-808a-ff8df078b0ac')\"\n",
              "            title=\"Suggest charts.\"\n",
              "            style=\"display:none;\">\n",
              "\n",
              "<svg xmlns=\"http://www.w3.org/2000/svg\" height=\"24px\"viewBox=\"0 0 24 24\"\n",
              "     width=\"24px\">\n",
              "    <g>\n",
              "        <path d=\"M19 3H5c-1.1 0-2 .9-2 2v14c0 1.1.9 2 2 2h14c1.1 0 2-.9 2-2V5c0-1.1-.9-2-2-2zM9 17H7v-7h2v7zm4 0h-2V7h2v10zm4 0h-2v-4h2v4z\"/>\n",
              "    </g>\n",
              "</svg>\n",
              "  </button>\n",
              "\n",
              "<style>\n",
              "  .colab-df-quickchart {\n",
              "      --bg-color: #E8F0FE;\n",
              "      --fill-color: #1967D2;\n",
              "      --hover-bg-color: #E2EBFA;\n",
              "      --hover-fill-color: #174EA6;\n",
              "      --disabled-fill-color: #AAA;\n",
              "      --disabled-bg-color: #DDD;\n",
              "  }\n",
              "\n",
              "  [theme=dark] .colab-df-quickchart {\n",
              "      --bg-color: #3B4455;\n",
              "      --fill-color: #D2E3FC;\n",
              "      --hover-bg-color: #434B5C;\n",
              "      --hover-fill-color: #FFFFFF;\n",
              "      --disabled-bg-color: #3B4455;\n",
              "      --disabled-fill-color: #666;\n",
              "  }\n",
              "\n",
              "  .colab-df-quickchart {\n",
              "    background-color: var(--bg-color);\n",
              "    border: none;\n",
              "    border-radius: 50%;\n",
              "    cursor: pointer;\n",
              "    display: none;\n",
              "    fill: var(--fill-color);\n",
              "    height: 32px;\n",
              "    padding: 0;\n",
              "    width: 32px;\n",
              "  }\n",
              "\n",
              "  .colab-df-quickchart:hover {\n",
              "    background-color: var(--hover-bg-color);\n",
              "    box-shadow: 0 1px 2px rgba(60, 64, 67, 0.3), 0 1px 3px 1px rgba(60, 64, 67, 0.15);\n",
              "    fill: var(--button-hover-fill-color);\n",
              "  }\n",
              "\n",
              "  .colab-df-quickchart-complete:disabled,\n",
              "  .colab-df-quickchart-complete:disabled:hover {\n",
              "    background-color: var(--disabled-bg-color);\n",
              "    fill: var(--disabled-fill-color);\n",
              "    box-shadow: none;\n",
              "  }\n",
              "\n",
              "  .colab-df-spinner {\n",
              "    border: 2px solid var(--fill-color);\n",
              "    border-color: transparent;\n",
              "    border-bottom-color: var(--fill-color);\n",
              "    animation:\n",
              "      spin 1s steps(1) infinite;\n",
              "  }\n",
              "\n",
              "  @keyframes spin {\n",
              "    0% {\n",
              "      border-color: transparent;\n",
              "      border-bottom-color: var(--fill-color);\n",
              "      border-left-color: var(--fill-color);\n",
              "    }\n",
              "    20% {\n",
              "      border-color: transparent;\n",
              "      border-left-color: var(--fill-color);\n",
              "      border-top-color: var(--fill-color);\n",
              "    }\n",
              "    30% {\n",
              "      border-color: transparent;\n",
              "      border-left-color: var(--fill-color);\n",
              "      border-top-color: var(--fill-color);\n",
              "      border-right-color: var(--fill-color);\n",
              "    }\n",
              "    40% {\n",
              "      border-color: transparent;\n",
              "      border-right-color: var(--fill-color);\n",
              "      border-top-color: var(--fill-color);\n",
              "    }\n",
              "    60% {\n",
              "      border-color: transparent;\n",
              "      border-right-color: var(--fill-color);\n",
              "    }\n",
              "    80% {\n",
              "      border-color: transparent;\n",
              "      border-right-color: var(--fill-color);\n",
              "      border-bottom-color: var(--fill-color);\n",
              "    }\n",
              "    90% {\n",
              "      border-color: transparent;\n",
              "      border-bottom-color: var(--fill-color);\n",
              "    }\n",
              "  }\n",
              "</style>\n",
              "\n",
              "  <script>\n",
              "    async function quickchart(key) {\n",
              "      const quickchartButtonEl =\n",
              "        document.querySelector('#' + key + ' button');\n",
              "      quickchartButtonEl.disabled = true;  // To prevent multiple clicks.\n",
              "      quickchartButtonEl.classList.add('colab-df-spinner');\n",
              "      try {\n",
              "        const charts = await google.colab.kernel.invokeFunction(\n",
              "            'suggestCharts', [key], {});\n",
              "      } catch (error) {\n",
              "        console.error('Error during call to suggestCharts:', error);\n",
              "      }\n",
              "      quickchartButtonEl.classList.remove('colab-df-spinner');\n",
              "      quickchartButtonEl.classList.add('colab-df-quickchart-complete');\n",
              "    }\n",
              "    (() => {\n",
              "      let quickchartButtonEl =\n",
              "        document.querySelector('#df-a4c08e60-d359-4779-808a-ff8df078b0ac button');\n",
              "      quickchartButtonEl.style.display =\n",
              "        google.colab.kernel.accessAllowed ? 'block' : 'none';\n",
              "    })();\n",
              "  </script>\n",
              "</div>\n",
              "    </div>\n",
              "  </div>\n"
            ]
          },
          "metadata": {},
          "execution_count": 5
        }
      ],
      "source": [
        "cleand_df_bb"
      ],
      "metadata": {
        "ExecuteTime": {
          "end_time": "2023-08-26T00:50:20.014162765Z",
          "start_time": "2023-08-26T00:50:19.970805836Z"
        },
        "id": "NE9tvox3VpNS",
        "colab": {
          "base_uri": "https://localhost:8080/",
          "height": 419
        },
        "outputId": "a13622ec-6ec4-4cc6-b1e8-c7bee967a9eb"
      }
    },
    {
      "cell_type": "code",
      "execution_count": 6,
      "outputs": [],
      "source": [
        "cleand_df_op = get_cleaned_df(df_op)\n",
        "cleand_df_op.drop_duplicates(subset=['username'], inplace=True)"
      ],
      "metadata": {
        "ExecuteTime": {
          "end_time": "2023-08-26T00:50:22.014307308Z",
          "start_time": "2023-08-26T00:50:20.013227801Z"
        },
        "id": "BcEfnsQPVpNS"
      }
    },
    {
      "cell_type": "code",
      "execution_count": 7,
      "outputs": [
        {
          "output_type": "execute_result",
          "data": {
            "text/plain": [
              "      score                                              title  \\\n",
              "0         9                              Murphy is exceptional   \n",
              "1         8  A challenging watch to be sure, but a worthwhi...   \n",
              "2        10  A brilliantly layered examination of a man thr...   \n",
              "3        10  Nolan delivers a powerfull biopic that shows t...   \n",
              "4        10                                      A Masterpiece   \n",
              "...     ...                                                ...   \n",
              "2031      7         Huge story, but production fails sometimes   \n",
              "2032      6                                            Tweaked   \n",
              "2033      6                  Just a 6 for a near perfect film.   \n",
              "2034      6                              No need to be 3 hours   \n",
              "2035      6                                      Disappointing   \n",
              "\n",
              "                  username          date  people_found_helpful  \\\n",
              "0          Orlando_Gardner  19 July 2023                  1413   \n",
              "1          Jeremy_Urquhart  20 July 2023                   685   \n",
              "2                 MrDHWong  20 July 2023                   556   \n",
              "3            and_mikkelsen  20 July 2023                   358   \n",
              "4      mohameddawoud-26019  19 July 2023                   670   \n",
              "...                    ...           ...                   ...   \n",
              "2031        andreverschoor  27 July 2023                     1   \n",
              "2032                 fmacr  25 July 2023                     1   \n",
              "2033  m-nicolaou-86-661254  24 July 2023                     0   \n",
              "2034          scottahaynie  24 July 2023                     0   \n",
              "2035             krisdevos  22 July 2023                     0   \n",
              "\n",
              "      total_people_viewed                                             review  \n",
              "0                    1597  You'll have to have your wits about you and yo...  \n",
              "1                     819  One of the most anticipated films of the year ...  \n",
              "2                     691  \"Oppenheimer\" is a biographical thriller film ...  \n",
              "3                     457  This movie is just... wow! I don't think I hav...  \n",
              "4                     833  I may consider myself lucky to be alive to wat...  \n",
              "...                   ...                                                ...  \n",
              "2031                    3  Loved the movie, loved the actors efforts. Aft...  \n",
              "2032                    7  I suppose these reviews are tweaked, otherwise...  \n",
              "2033                    1  Ok let me start by the obvious ratings which w...  \n",
              "2034                    0  Acting was tremendous and the true story behin...  \n",
              "2035                    0  Totally underwhelmed with Oppenheimer.\\n\\nEnri...  \n",
              "\n",
              "[2013 rows x 7 columns]"
            ],
            "text/html": [
              "\n",
              "  <div id=\"df-cb584deb-9cd2-42d6-b636-8861cedb5c1f\" class=\"colab-df-container\">\n",
              "    <div>\n",
              "<style scoped>\n",
              "    .dataframe tbody tr th:only-of-type {\n",
              "        vertical-align: middle;\n",
              "    }\n",
              "\n",
              "    .dataframe tbody tr th {\n",
              "        vertical-align: top;\n",
              "    }\n",
              "\n",
              "    .dataframe thead th {\n",
              "        text-align: right;\n",
              "    }\n",
              "</style>\n",
              "<table border=\"1\" class=\"dataframe\">\n",
              "  <thead>\n",
              "    <tr style=\"text-align: right;\">\n",
              "      <th></th>\n",
              "      <th>score</th>\n",
              "      <th>title</th>\n",
              "      <th>username</th>\n",
              "      <th>date</th>\n",
              "      <th>people_found_helpful</th>\n",
              "      <th>total_people_viewed</th>\n",
              "      <th>review</th>\n",
              "    </tr>\n",
              "  </thead>\n",
              "  <tbody>\n",
              "    <tr>\n",
              "      <th>0</th>\n",
              "      <td>9</td>\n",
              "      <td>Murphy is exceptional</td>\n",
              "      <td>Orlando_Gardner</td>\n",
              "      <td>19 July 2023</td>\n",
              "      <td>1413</td>\n",
              "      <td>1597</td>\n",
              "      <td>You'll have to have your wits about you and yo...</td>\n",
              "    </tr>\n",
              "    <tr>\n",
              "      <th>1</th>\n",
              "      <td>8</td>\n",
              "      <td>A challenging watch to be sure, but a worthwhi...</td>\n",
              "      <td>Jeremy_Urquhart</td>\n",
              "      <td>20 July 2023</td>\n",
              "      <td>685</td>\n",
              "      <td>819</td>\n",
              "      <td>One of the most anticipated films of the year ...</td>\n",
              "    </tr>\n",
              "    <tr>\n",
              "      <th>2</th>\n",
              "      <td>10</td>\n",
              "      <td>A brilliantly layered examination of a man thr...</td>\n",
              "      <td>MrDHWong</td>\n",
              "      <td>20 July 2023</td>\n",
              "      <td>556</td>\n",
              "      <td>691</td>\n",
              "      <td>\"Oppenheimer\" is a biographical thriller film ...</td>\n",
              "    </tr>\n",
              "    <tr>\n",
              "      <th>3</th>\n",
              "      <td>10</td>\n",
              "      <td>Nolan delivers a powerfull biopic that shows t...</td>\n",
              "      <td>and_mikkelsen</td>\n",
              "      <td>20 July 2023</td>\n",
              "      <td>358</td>\n",
              "      <td>457</td>\n",
              "      <td>This movie is just... wow! I don't think I hav...</td>\n",
              "    </tr>\n",
              "    <tr>\n",
              "      <th>4</th>\n",
              "      <td>10</td>\n",
              "      <td>A Masterpiece</td>\n",
              "      <td>mohameddawoud-26019</td>\n",
              "      <td>19 July 2023</td>\n",
              "      <td>670</td>\n",
              "      <td>833</td>\n",
              "      <td>I may consider myself lucky to be alive to wat...</td>\n",
              "    </tr>\n",
              "    <tr>\n",
              "      <th>...</th>\n",
              "      <td>...</td>\n",
              "      <td>...</td>\n",
              "      <td>...</td>\n",
              "      <td>...</td>\n",
              "      <td>...</td>\n",
              "      <td>...</td>\n",
              "      <td>...</td>\n",
              "    </tr>\n",
              "    <tr>\n",
              "      <th>2031</th>\n",
              "      <td>7</td>\n",
              "      <td>Huge story, but production fails sometimes</td>\n",
              "      <td>andreverschoor</td>\n",
              "      <td>27 July 2023</td>\n",
              "      <td>1</td>\n",
              "      <td>3</td>\n",
              "      <td>Loved the movie, loved the actors efforts. Aft...</td>\n",
              "    </tr>\n",
              "    <tr>\n",
              "      <th>2032</th>\n",
              "      <td>6</td>\n",
              "      <td>Tweaked</td>\n",
              "      <td>fmacr</td>\n",
              "      <td>25 July 2023</td>\n",
              "      <td>1</td>\n",
              "      <td>7</td>\n",
              "      <td>I suppose these reviews are tweaked, otherwise...</td>\n",
              "    </tr>\n",
              "    <tr>\n",
              "      <th>2033</th>\n",
              "      <td>6</td>\n",
              "      <td>Just a 6 for a near perfect film.</td>\n",
              "      <td>m-nicolaou-86-661254</td>\n",
              "      <td>24 July 2023</td>\n",
              "      <td>0</td>\n",
              "      <td>1</td>\n",
              "      <td>Ok let me start by the obvious ratings which w...</td>\n",
              "    </tr>\n",
              "    <tr>\n",
              "      <th>2034</th>\n",
              "      <td>6</td>\n",
              "      <td>No need to be 3 hours</td>\n",
              "      <td>scottahaynie</td>\n",
              "      <td>24 July 2023</td>\n",
              "      <td>0</td>\n",
              "      <td>0</td>\n",
              "      <td>Acting was tremendous and the true story behin...</td>\n",
              "    </tr>\n",
              "    <tr>\n",
              "      <th>2035</th>\n",
              "      <td>6</td>\n",
              "      <td>Disappointing</td>\n",
              "      <td>krisdevos</td>\n",
              "      <td>22 July 2023</td>\n",
              "      <td>0</td>\n",
              "      <td>0</td>\n",
              "      <td>Totally underwhelmed with Oppenheimer.\\n\\nEnri...</td>\n",
              "    </tr>\n",
              "  </tbody>\n",
              "</table>\n",
              "<p>2013 rows × 7 columns</p>\n",
              "</div>\n",
              "    <div class=\"colab-df-buttons\">\n",
              "\n",
              "  <div class=\"colab-df-container\">\n",
              "    <button class=\"colab-df-convert\" onclick=\"convertToInteractive('df-cb584deb-9cd2-42d6-b636-8861cedb5c1f')\"\n",
              "            title=\"Convert this dataframe to an interactive table.\"\n",
              "            style=\"display:none;\">\n",
              "\n",
              "  <svg xmlns=\"http://www.w3.org/2000/svg\" height=\"24px\" viewBox=\"0 -960 960 960\">\n",
              "    <path d=\"M120-120v-720h720v720H120Zm60-500h600v-160H180v160Zm220 220h160v-160H400v160Zm0 220h160v-160H400v160ZM180-400h160v-160H180v160Zm440 0h160v-160H620v160ZM180-180h160v-160H180v160Zm440 0h160v-160H620v160Z\"/>\n",
              "  </svg>\n",
              "    </button>\n",
              "\n",
              "  <style>\n",
              "    .colab-df-container {\n",
              "      display:flex;\n",
              "      gap: 12px;\n",
              "    }\n",
              "\n",
              "    .colab-df-convert {\n",
              "      background-color: #E8F0FE;\n",
              "      border: none;\n",
              "      border-radius: 50%;\n",
              "      cursor: pointer;\n",
              "      display: none;\n",
              "      fill: #1967D2;\n",
              "      height: 32px;\n",
              "      padding: 0 0 0 0;\n",
              "      width: 32px;\n",
              "    }\n",
              "\n",
              "    .colab-df-convert:hover {\n",
              "      background-color: #E2EBFA;\n",
              "      box-shadow: 0px 1px 2px rgba(60, 64, 67, 0.3), 0px 1px 3px 1px rgba(60, 64, 67, 0.15);\n",
              "      fill: #174EA6;\n",
              "    }\n",
              "\n",
              "    .colab-df-buttons div {\n",
              "      margin-bottom: 4px;\n",
              "    }\n",
              "\n",
              "    [theme=dark] .colab-df-convert {\n",
              "      background-color: #3B4455;\n",
              "      fill: #D2E3FC;\n",
              "    }\n",
              "\n",
              "    [theme=dark] .colab-df-convert:hover {\n",
              "      background-color: #434B5C;\n",
              "      box-shadow: 0px 1px 3px 1px rgba(0, 0, 0, 0.15);\n",
              "      filter: drop-shadow(0px 1px 2px rgba(0, 0, 0, 0.3));\n",
              "      fill: #FFFFFF;\n",
              "    }\n",
              "  </style>\n",
              "\n",
              "    <script>\n",
              "      const buttonEl =\n",
              "        document.querySelector('#df-cb584deb-9cd2-42d6-b636-8861cedb5c1f button.colab-df-convert');\n",
              "      buttonEl.style.display =\n",
              "        google.colab.kernel.accessAllowed ? 'block' : 'none';\n",
              "\n",
              "      async function convertToInteractive(key) {\n",
              "        const element = document.querySelector('#df-cb584deb-9cd2-42d6-b636-8861cedb5c1f');\n",
              "        const dataTable =\n",
              "          await google.colab.kernel.invokeFunction('convertToInteractive',\n",
              "                                                    [key], {});\n",
              "        if (!dataTable) return;\n",
              "\n",
              "        const docLinkHtml = 'Like what you see? Visit the ' +\n",
              "          '<a target=\"_blank\" href=https://colab.research.google.com/notebooks/data_table.ipynb>data table notebook</a>'\n",
              "          + ' to learn more about interactive tables.';\n",
              "        element.innerHTML = '';\n",
              "        dataTable['output_type'] = 'display_data';\n",
              "        await google.colab.output.renderOutput(dataTable, element);\n",
              "        const docLink = document.createElement('div');\n",
              "        docLink.innerHTML = docLinkHtml;\n",
              "        element.appendChild(docLink);\n",
              "      }\n",
              "    </script>\n",
              "  </div>\n",
              "\n",
              "\n",
              "<div id=\"df-bb463a4f-78cb-4963-af1f-e4074f79795e\">\n",
              "  <button class=\"colab-df-quickchart\" onclick=\"quickchart('df-bb463a4f-78cb-4963-af1f-e4074f79795e')\"\n",
              "            title=\"Suggest charts.\"\n",
              "            style=\"display:none;\">\n",
              "\n",
              "<svg xmlns=\"http://www.w3.org/2000/svg\" height=\"24px\"viewBox=\"0 0 24 24\"\n",
              "     width=\"24px\">\n",
              "    <g>\n",
              "        <path d=\"M19 3H5c-1.1 0-2 .9-2 2v14c0 1.1.9 2 2 2h14c1.1 0 2-.9 2-2V5c0-1.1-.9-2-2-2zM9 17H7v-7h2v7zm4 0h-2V7h2v10zm4 0h-2v-4h2v4z\"/>\n",
              "    </g>\n",
              "</svg>\n",
              "  </button>\n",
              "\n",
              "<style>\n",
              "  .colab-df-quickchart {\n",
              "      --bg-color: #E8F0FE;\n",
              "      --fill-color: #1967D2;\n",
              "      --hover-bg-color: #E2EBFA;\n",
              "      --hover-fill-color: #174EA6;\n",
              "      --disabled-fill-color: #AAA;\n",
              "      --disabled-bg-color: #DDD;\n",
              "  }\n",
              "\n",
              "  [theme=dark] .colab-df-quickchart {\n",
              "      --bg-color: #3B4455;\n",
              "      --fill-color: #D2E3FC;\n",
              "      --hover-bg-color: #434B5C;\n",
              "      --hover-fill-color: #FFFFFF;\n",
              "      --disabled-bg-color: #3B4455;\n",
              "      --disabled-fill-color: #666;\n",
              "  }\n",
              "\n",
              "  .colab-df-quickchart {\n",
              "    background-color: var(--bg-color);\n",
              "    border: none;\n",
              "    border-radius: 50%;\n",
              "    cursor: pointer;\n",
              "    display: none;\n",
              "    fill: var(--fill-color);\n",
              "    height: 32px;\n",
              "    padding: 0;\n",
              "    width: 32px;\n",
              "  }\n",
              "\n",
              "  .colab-df-quickchart:hover {\n",
              "    background-color: var(--hover-bg-color);\n",
              "    box-shadow: 0 1px 2px rgba(60, 64, 67, 0.3), 0 1px 3px 1px rgba(60, 64, 67, 0.15);\n",
              "    fill: var(--button-hover-fill-color);\n",
              "  }\n",
              "\n",
              "  .colab-df-quickchart-complete:disabled,\n",
              "  .colab-df-quickchart-complete:disabled:hover {\n",
              "    background-color: var(--disabled-bg-color);\n",
              "    fill: var(--disabled-fill-color);\n",
              "    box-shadow: none;\n",
              "  }\n",
              "\n",
              "  .colab-df-spinner {\n",
              "    border: 2px solid var(--fill-color);\n",
              "    border-color: transparent;\n",
              "    border-bottom-color: var(--fill-color);\n",
              "    animation:\n",
              "      spin 1s steps(1) infinite;\n",
              "  }\n",
              "\n",
              "  @keyframes spin {\n",
              "    0% {\n",
              "      border-color: transparent;\n",
              "      border-bottom-color: var(--fill-color);\n",
              "      border-left-color: var(--fill-color);\n",
              "    }\n",
              "    20% {\n",
              "      border-color: transparent;\n",
              "      border-left-color: var(--fill-color);\n",
              "      border-top-color: var(--fill-color);\n",
              "    }\n",
              "    30% {\n",
              "      border-color: transparent;\n",
              "      border-left-color: var(--fill-color);\n",
              "      border-top-color: var(--fill-color);\n",
              "      border-right-color: var(--fill-color);\n",
              "    }\n",
              "    40% {\n",
              "      border-color: transparent;\n",
              "      border-right-color: var(--fill-color);\n",
              "      border-top-color: var(--fill-color);\n",
              "    }\n",
              "    60% {\n",
              "      border-color: transparent;\n",
              "      border-right-color: var(--fill-color);\n",
              "    }\n",
              "    80% {\n",
              "      border-color: transparent;\n",
              "      border-right-color: var(--fill-color);\n",
              "      border-bottom-color: var(--fill-color);\n",
              "    }\n",
              "    90% {\n",
              "      border-color: transparent;\n",
              "      border-bottom-color: var(--fill-color);\n",
              "    }\n",
              "  }\n",
              "</style>\n",
              "\n",
              "  <script>\n",
              "    async function quickchart(key) {\n",
              "      const quickchartButtonEl =\n",
              "        document.querySelector('#' + key + ' button');\n",
              "      quickchartButtonEl.disabled = true;  // To prevent multiple clicks.\n",
              "      quickchartButtonEl.classList.add('colab-df-spinner');\n",
              "      try {\n",
              "        const charts = await google.colab.kernel.invokeFunction(\n",
              "            'suggestCharts', [key], {});\n",
              "      } catch (error) {\n",
              "        console.error('Error during call to suggestCharts:', error);\n",
              "      }\n",
              "      quickchartButtonEl.classList.remove('colab-df-spinner');\n",
              "      quickchartButtonEl.classList.add('colab-df-quickchart-complete');\n",
              "    }\n",
              "    (() => {\n",
              "      let quickchartButtonEl =\n",
              "        document.querySelector('#df-bb463a4f-78cb-4963-af1f-e4074f79795e button');\n",
              "      quickchartButtonEl.style.display =\n",
              "        google.colab.kernel.accessAllowed ? 'block' : 'none';\n",
              "    })();\n",
              "  </script>\n",
              "</div>\n",
              "    </div>\n",
              "  </div>\n"
            ]
          },
          "metadata": {},
          "execution_count": 7
        }
      ],
      "source": [
        "cleand_df_op"
      ],
      "metadata": {
        "ExecuteTime": {
          "end_time": "2023-08-26T00:50:22.066129390Z",
          "start_time": "2023-08-26T00:50:22.020135427Z"
        },
        "id": "13ifJW1sVpNT",
        "colab": {
          "base_uri": "https://localhost:8080/",
          "height": 589
        },
        "outputId": "86d14ea5-cf10-4042-be7b-6304b51d0c2a"
      }
    },
    {
      "cell_type": "markdown",
      "source": [
        "# Graphing for Exploration"
      ],
      "metadata": {
        "collapsed": false,
        "id": "qQevpZbQVpNT"
      }
    },
    {
      "cell_type": "code",
      "execution_count": 8,
      "outputs": [],
      "source": [
        "# combine the two data sets\n",
        "\n",
        "cleand_df_bb['isBarbie'] = 1\n",
        "cleand_df_op['isBarbie'] = 0\n",
        "\n",
        "df = pd.concat([cleand_df_bb, cleand_df_op], ignore_index=True)"
      ],
      "metadata": {
        "ExecuteTime": {
          "end_time": "2023-08-26T00:50:22.066411919Z",
          "start_time": "2023-08-26T00:50:22.065107119Z"
        },
        "id": "s3SGI9swVpNT"
      }
    },
    {
      "cell_type": "code",
      "execution_count": 9,
      "outputs": [
        {
          "output_type": "execute_result",
          "data": {
            "text/plain": [
              "score                    int64\n",
              "title                   object\n",
              "username                object\n",
              "date                    object\n",
              "people_found_helpful     int64\n",
              "total_people_viewed      int64\n",
              "review                  object\n",
              "isBarbie                 int64\n",
              "dtype: object"
            ]
          },
          "metadata": {},
          "execution_count": 9
        }
      ],
      "source": [
        "df.dtypes"
      ],
      "metadata": {
        "ExecuteTime": {
          "end_time": "2023-08-26T00:50:22.067390676Z",
          "start_time": "2023-08-26T00:50:22.065300454Z"
        },
        "id": "b_PPagEiVpNT",
        "colab": {
          "base_uri": "https://localhost:8080/"
        },
        "outputId": "216a4459-0d07-481f-fb74-90faae2cf440"
      }
    },
    {
      "cell_type": "code",
      "execution_count": 10,
      "outputs": [],
      "source": [
        "import matplotlib.pyplot as plt\n",
        "import seaborn as sns\n",
        "import numpy as np"
      ],
      "metadata": {
        "ExecuteTime": {
          "end_time": "2023-08-26T00:50:22.067556072Z",
          "start_time": "2023-08-26T00:50:22.065596253Z"
        },
        "id": "aD9kBPTZVpNU"
      }
    },
    {
      "cell_type": "code",
      "execution_count": 11,
      "outputs": [],
      "source": [
        "# Creating graphable data\n",
        "df = df[~df['date'].str.contains('IMAX')]\n",
        "# numeric_df = pd.DataFrame(columns=['isBarbie', 'score', 'people_found_helpful', 'total_people_viewed', 'helpful_ratio', 'date', 'date_from_release','length_of_title', 'length_of_username', 'length_of_review'])\n",
        "numeric_df = pd.DataFrame(columns=['isBarbie', 'score', 'date', 'people_found_helpful', 'total_people_viewed', 'helpful_ratio','length_of_title', 'length_of_username', 'length_of_review'])\n",
        "\n",
        "numeric_df['isBarbie'] = df['isBarbie']\n",
        "numeric_df['score'] = df['score']\n",
        "numeric_df['date'] = df['date']\n",
        "numeric_df['total_people_viewed'] = df['total_people_viewed']\n",
        "numeric_df['people_found_helpful'] = df['people_found_helpful']\n",
        "numeric_df['helpful_ratio'] = df['people_found_helpful'] / df['total_people_viewed']\n",
        "numeric_df['length_of_title'] = df['title'].apply(lambda x: len(x))\n",
        "numeric_df['length_of_username'] = df['username'].apply(lambda x: len(x))\n",
        "numeric_df['length_of_review'] = df['review'].apply(lambda x: len(x))\n",
        "\n",
        "numeric_df['date'] = pd.to_datetime(df['date'], format='%d %B %Y')\n",
        "numeric_df['date_from_release'] = (numeric_df['date'] - pd.to_datetime('2023-07-23', format='%Y-%m-%d')).dt.days"
      ],
      "metadata": {
        "ExecuteTime": {
          "end_time": "2023-08-26T00:52:10.702633883Z",
          "start_time": "2023-08-26T00:52:10.570733626Z"
        },
        "id": "U7CIuEXnVpNU"
      }
    },
    {
      "cell_type": "code",
      "execution_count": 12,
      "outputs": [
        {
          "output_type": "execute_result",
          "data": {
            "text/plain": [
              "      isBarbie  score       date  people_found_helpful  total_people_viewed  \\\n",
              "0            1      6 2023-07-23                  1007                 1363   \n",
              "1            1      6 2023-07-21                  1190                 1646   \n",
              "2            1      6 2023-07-21                   804                 1173   \n",
              "3            1      8 2023-07-24                   152                  242   \n",
              "4            1      9 2023-07-24                    20                   26   \n",
              "...        ...    ...        ...                   ...                  ...   \n",
              "2792         0      7 2023-07-27                     1                    3   \n",
              "2793         0      6 2023-07-25                     1                    7   \n",
              "2794         0      6 2023-07-24                     0                    1   \n",
              "2795         0      6 2023-07-24                     0                    0   \n",
              "2796         0      6 2023-07-22                     0                    0   \n",
              "\n",
              "      helpful_ratio  length_of_title  length_of_username  length_of_review  \\\n",
              "0          0.738811               34                  11              1216   \n",
              "1          0.722965               30                  12               786   \n",
              "2          0.685422               69                   8               601   \n",
              "3          0.628099               17                   9                17   \n",
              "4          0.769231               19                  14              1239   \n",
              "...             ...              ...                 ...               ...   \n",
              "2792       0.333333               42                  14               624   \n",
              "2793       0.142857                7                   5              1152   \n",
              "2794       0.000000               33                  20              1369   \n",
              "2795            NaN               21                  12               609   \n",
              "2796            NaN               13                   9              1070   \n",
              "\n",
              "      date_from_release  \n",
              "0                     0  \n",
              "1                    -2  \n",
              "2                    -2  \n",
              "3                     1  \n",
              "4                     1  \n",
              "...                 ...  \n",
              "2792                  4  \n",
              "2793                  2  \n",
              "2794                  1  \n",
              "2795                  1  \n",
              "2796                 -1  \n",
              "\n",
              "[2796 rows x 10 columns]"
            ],
            "text/html": [
              "\n",
              "  <div id=\"df-9547bff8-0e3f-4ffc-942e-652eef16d549\" class=\"colab-df-container\">\n",
              "    <div>\n",
              "<style scoped>\n",
              "    .dataframe tbody tr th:only-of-type {\n",
              "        vertical-align: middle;\n",
              "    }\n",
              "\n",
              "    .dataframe tbody tr th {\n",
              "        vertical-align: top;\n",
              "    }\n",
              "\n",
              "    .dataframe thead th {\n",
              "        text-align: right;\n",
              "    }\n",
              "</style>\n",
              "<table border=\"1\" class=\"dataframe\">\n",
              "  <thead>\n",
              "    <tr style=\"text-align: right;\">\n",
              "      <th></th>\n",
              "      <th>isBarbie</th>\n",
              "      <th>score</th>\n",
              "      <th>date</th>\n",
              "      <th>people_found_helpful</th>\n",
              "      <th>total_people_viewed</th>\n",
              "      <th>helpful_ratio</th>\n",
              "      <th>length_of_title</th>\n",
              "      <th>length_of_username</th>\n",
              "      <th>length_of_review</th>\n",
              "      <th>date_from_release</th>\n",
              "    </tr>\n",
              "  </thead>\n",
              "  <tbody>\n",
              "    <tr>\n",
              "      <th>0</th>\n",
              "      <td>1</td>\n",
              "      <td>6</td>\n",
              "      <td>2023-07-23</td>\n",
              "      <td>1007</td>\n",
              "      <td>1363</td>\n",
              "      <td>0.738811</td>\n",
              "      <td>34</td>\n",
              "      <td>11</td>\n",
              "      <td>1216</td>\n",
              "      <td>0</td>\n",
              "    </tr>\n",
              "    <tr>\n",
              "      <th>1</th>\n",
              "      <td>1</td>\n",
              "      <td>6</td>\n",
              "      <td>2023-07-21</td>\n",
              "      <td>1190</td>\n",
              "      <td>1646</td>\n",
              "      <td>0.722965</td>\n",
              "      <td>30</td>\n",
              "      <td>12</td>\n",
              "      <td>786</td>\n",
              "      <td>-2</td>\n",
              "    </tr>\n",
              "    <tr>\n",
              "      <th>2</th>\n",
              "      <td>1</td>\n",
              "      <td>6</td>\n",
              "      <td>2023-07-21</td>\n",
              "      <td>804</td>\n",
              "      <td>1173</td>\n",
              "      <td>0.685422</td>\n",
              "      <td>69</td>\n",
              "      <td>8</td>\n",
              "      <td>601</td>\n",
              "      <td>-2</td>\n",
              "    </tr>\n",
              "    <tr>\n",
              "      <th>3</th>\n",
              "      <td>1</td>\n",
              "      <td>8</td>\n",
              "      <td>2023-07-24</td>\n",
              "      <td>152</td>\n",
              "      <td>242</td>\n",
              "      <td>0.628099</td>\n",
              "      <td>17</td>\n",
              "      <td>9</td>\n",
              "      <td>17</td>\n",
              "      <td>1</td>\n",
              "    </tr>\n",
              "    <tr>\n",
              "      <th>4</th>\n",
              "      <td>1</td>\n",
              "      <td>9</td>\n",
              "      <td>2023-07-24</td>\n",
              "      <td>20</td>\n",
              "      <td>26</td>\n",
              "      <td>0.769231</td>\n",
              "      <td>19</td>\n",
              "      <td>14</td>\n",
              "      <td>1239</td>\n",
              "      <td>1</td>\n",
              "    </tr>\n",
              "    <tr>\n",
              "      <th>...</th>\n",
              "      <td>...</td>\n",
              "      <td>...</td>\n",
              "      <td>...</td>\n",
              "      <td>...</td>\n",
              "      <td>...</td>\n",
              "      <td>...</td>\n",
              "      <td>...</td>\n",
              "      <td>...</td>\n",
              "      <td>...</td>\n",
              "      <td>...</td>\n",
              "    </tr>\n",
              "    <tr>\n",
              "      <th>2792</th>\n",
              "      <td>0</td>\n",
              "      <td>7</td>\n",
              "      <td>2023-07-27</td>\n",
              "      <td>1</td>\n",
              "      <td>3</td>\n",
              "      <td>0.333333</td>\n",
              "      <td>42</td>\n",
              "      <td>14</td>\n",
              "      <td>624</td>\n",
              "      <td>4</td>\n",
              "    </tr>\n",
              "    <tr>\n",
              "      <th>2793</th>\n",
              "      <td>0</td>\n",
              "      <td>6</td>\n",
              "      <td>2023-07-25</td>\n",
              "      <td>1</td>\n",
              "      <td>7</td>\n",
              "      <td>0.142857</td>\n",
              "      <td>7</td>\n",
              "      <td>5</td>\n",
              "      <td>1152</td>\n",
              "      <td>2</td>\n",
              "    </tr>\n",
              "    <tr>\n",
              "      <th>2794</th>\n",
              "      <td>0</td>\n",
              "      <td>6</td>\n",
              "      <td>2023-07-24</td>\n",
              "      <td>0</td>\n",
              "      <td>1</td>\n",
              "      <td>0.000000</td>\n",
              "      <td>33</td>\n",
              "      <td>20</td>\n",
              "      <td>1369</td>\n",
              "      <td>1</td>\n",
              "    </tr>\n",
              "    <tr>\n",
              "      <th>2795</th>\n",
              "      <td>0</td>\n",
              "      <td>6</td>\n",
              "      <td>2023-07-24</td>\n",
              "      <td>0</td>\n",
              "      <td>0</td>\n",
              "      <td>NaN</td>\n",
              "      <td>21</td>\n",
              "      <td>12</td>\n",
              "      <td>609</td>\n",
              "      <td>1</td>\n",
              "    </tr>\n",
              "    <tr>\n",
              "      <th>2796</th>\n",
              "      <td>0</td>\n",
              "      <td>6</td>\n",
              "      <td>2023-07-22</td>\n",
              "      <td>0</td>\n",
              "      <td>0</td>\n",
              "      <td>NaN</td>\n",
              "      <td>13</td>\n",
              "      <td>9</td>\n",
              "      <td>1070</td>\n",
              "      <td>-1</td>\n",
              "    </tr>\n",
              "  </tbody>\n",
              "</table>\n",
              "<p>2796 rows × 10 columns</p>\n",
              "</div>\n",
              "    <div class=\"colab-df-buttons\">\n",
              "\n",
              "  <div class=\"colab-df-container\">\n",
              "    <button class=\"colab-df-convert\" onclick=\"convertToInteractive('df-9547bff8-0e3f-4ffc-942e-652eef16d549')\"\n",
              "            title=\"Convert this dataframe to an interactive table.\"\n",
              "            style=\"display:none;\">\n",
              "\n",
              "  <svg xmlns=\"http://www.w3.org/2000/svg\" height=\"24px\" viewBox=\"0 -960 960 960\">\n",
              "    <path d=\"M120-120v-720h720v720H120Zm60-500h600v-160H180v160Zm220 220h160v-160H400v160Zm0 220h160v-160H400v160ZM180-400h160v-160H180v160Zm440 0h160v-160H620v160ZM180-180h160v-160H180v160Zm440 0h160v-160H620v160Z\"/>\n",
              "  </svg>\n",
              "    </button>\n",
              "\n",
              "  <style>\n",
              "    .colab-df-container {\n",
              "      display:flex;\n",
              "      gap: 12px;\n",
              "    }\n",
              "\n",
              "    .colab-df-convert {\n",
              "      background-color: #E8F0FE;\n",
              "      border: none;\n",
              "      border-radius: 50%;\n",
              "      cursor: pointer;\n",
              "      display: none;\n",
              "      fill: #1967D2;\n",
              "      height: 32px;\n",
              "      padding: 0 0 0 0;\n",
              "      width: 32px;\n",
              "    }\n",
              "\n",
              "    .colab-df-convert:hover {\n",
              "      background-color: #E2EBFA;\n",
              "      box-shadow: 0px 1px 2px rgba(60, 64, 67, 0.3), 0px 1px 3px 1px rgba(60, 64, 67, 0.15);\n",
              "      fill: #174EA6;\n",
              "    }\n",
              "\n",
              "    .colab-df-buttons div {\n",
              "      margin-bottom: 4px;\n",
              "    }\n",
              "\n",
              "    [theme=dark] .colab-df-convert {\n",
              "      background-color: #3B4455;\n",
              "      fill: #D2E3FC;\n",
              "    }\n",
              "\n",
              "    [theme=dark] .colab-df-convert:hover {\n",
              "      background-color: #434B5C;\n",
              "      box-shadow: 0px 1px 3px 1px rgba(0, 0, 0, 0.15);\n",
              "      filter: drop-shadow(0px 1px 2px rgba(0, 0, 0, 0.3));\n",
              "      fill: #FFFFFF;\n",
              "    }\n",
              "  </style>\n",
              "\n",
              "    <script>\n",
              "      const buttonEl =\n",
              "        document.querySelector('#df-9547bff8-0e3f-4ffc-942e-652eef16d549 button.colab-df-convert');\n",
              "      buttonEl.style.display =\n",
              "        google.colab.kernel.accessAllowed ? 'block' : 'none';\n",
              "\n",
              "      async function convertToInteractive(key) {\n",
              "        const element = document.querySelector('#df-9547bff8-0e3f-4ffc-942e-652eef16d549');\n",
              "        const dataTable =\n",
              "          await google.colab.kernel.invokeFunction('convertToInteractive',\n",
              "                                                    [key], {});\n",
              "        if (!dataTable) return;\n",
              "\n",
              "        const docLinkHtml = 'Like what you see? Visit the ' +\n",
              "          '<a target=\"_blank\" href=https://colab.research.google.com/notebooks/data_table.ipynb>data table notebook</a>'\n",
              "          + ' to learn more about interactive tables.';\n",
              "        element.innerHTML = '';\n",
              "        dataTable['output_type'] = 'display_data';\n",
              "        await google.colab.output.renderOutput(dataTable, element);\n",
              "        const docLink = document.createElement('div');\n",
              "        docLink.innerHTML = docLinkHtml;\n",
              "        element.appendChild(docLink);\n",
              "      }\n",
              "    </script>\n",
              "  </div>\n",
              "\n",
              "\n",
              "<div id=\"df-669f5f57-c118-4dd6-99fc-9aab95f7934c\">\n",
              "  <button class=\"colab-df-quickchart\" onclick=\"quickchart('df-669f5f57-c118-4dd6-99fc-9aab95f7934c')\"\n",
              "            title=\"Suggest charts.\"\n",
              "            style=\"display:none;\">\n",
              "\n",
              "<svg xmlns=\"http://www.w3.org/2000/svg\" height=\"24px\"viewBox=\"0 0 24 24\"\n",
              "     width=\"24px\">\n",
              "    <g>\n",
              "        <path d=\"M19 3H5c-1.1 0-2 .9-2 2v14c0 1.1.9 2 2 2h14c1.1 0 2-.9 2-2V5c0-1.1-.9-2-2-2zM9 17H7v-7h2v7zm4 0h-2V7h2v10zm4 0h-2v-4h2v4z\"/>\n",
              "    </g>\n",
              "</svg>\n",
              "  </button>\n",
              "\n",
              "<style>\n",
              "  .colab-df-quickchart {\n",
              "      --bg-color: #E8F0FE;\n",
              "      --fill-color: #1967D2;\n",
              "      --hover-bg-color: #E2EBFA;\n",
              "      --hover-fill-color: #174EA6;\n",
              "      --disabled-fill-color: #AAA;\n",
              "      --disabled-bg-color: #DDD;\n",
              "  }\n",
              "\n",
              "  [theme=dark] .colab-df-quickchart {\n",
              "      --bg-color: #3B4455;\n",
              "      --fill-color: #D2E3FC;\n",
              "      --hover-bg-color: #434B5C;\n",
              "      --hover-fill-color: #FFFFFF;\n",
              "      --disabled-bg-color: #3B4455;\n",
              "      --disabled-fill-color: #666;\n",
              "  }\n",
              "\n",
              "  .colab-df-quickchart {\n",
              "    background-color: var(--bg-color);\n",
              "    border: none;\n",
              "    border-radius: 50%;\n",
              "    cursor: pointer;\n",
              "    display: none;\n",
              "    fill: var(--fill-color);\n",
              "    height: 32px;\n",
              "    padding: 0;\n",
              "    width: 32px;\n",
              "  }\n",
              "\n",
              "  .colab-df-quickchart:hover {\n",
              "    background-color: var(--hover-bg-color);\n",
              "    box-shadow: 0 1px 2px rgba(60, 64, 67, 0.3), 0 1px 3px 1px rgba(60, 64, 67, 0.15);\n",
              "    fill: var(--button-hover-fill-color);\n",
              "  }\n",
              "\n",
              "  .colab-df-quickchart-complete:disabled,\n",
              "  .colab-df-quickchart-complete:disabled:hover {\n",
              "    background-color: var(--disabled-bg-color);\n",
              "    fill: var(--disabled-fill-color);\n",
              "    box-shadow: none;\n",
              "  }\n",
              "\n",
              "  .colab-df-spinner {\n",
              "    border: 2px solid var(--fill-color);\n",
              "    border-color: transparent;\n",
              "    border-bottom-color: var(--fill-color);\n",
              "    animation:\n",
              "      spin 1s steps(1) infinite;\n",
              "  }\n",
              "\n",
              "  @keyframes spin {\n",
              "    0% {\n",
              "      border-color: transparent;\n",
              "      border-bottom-color: var(--fill-color);\n",
              "      border-left-color: var(--fill-color);\n",
              "    }\n",
              "    20% {\n",
              "      border-color: transparent;\n",
              "      border-left-color: var(--fill-color);\n",
              "      border-top-color: var(--fill-color);\n",
              "    }\n",
              "    30% {\n",
              "      border-color: transparent;\n",
              "      border-left-color: var(--fill-color);\n",
              "      border-top-color: var(--fill-color);\n",
              "      border-right-color: var(--fill-color);\n",
              "    }\n",
              "    40% {\n",
              "      border-color: transparent;\n",
              "      border-right-color: var(--fill-color);\n",
              "      border-top-color: var(--fill-color);\n",
              "    }\n",
              "    60% {\n",
              "      border-color: transparent;\n",
              "      border-right-color: var(--fill-color);\n",
              "    }\n",
              "    80% {\n",
              "      border-color: transparent;\n",
              "      border-right-color: var(--fill-color);\n",
              "      border-bottom-color: var(--fill-color);\n",
              "    }\n",
              "    90% {\n",
              "      border-color: transparent;\n",
              "      border-bottom-color: var(--fill-color);\n",
              "    }\n",
              "  }\n",
              "</style>\n",
              "\n",
              "  <script>\n",
              "    async function quickchart(key) {\n",
              "      const quickchartButtonEl =\n",
              "        document.querySelector('#' + key + ' button');\n",
              "      quickchartButtonEl.disabled = true;  // To prevent multiple clicks.\n",
              "      quickchartButtonEl.classList.add('colab-df-spinner');\n",
              "      try {\n",
              "        const charts = await google.colab.kernel.invokeFunction(\n",
              "            'suggestCharts', [key], {});\n",
              "      } catch (error) {\n",
              "        console.error('Error during call to suggestCharts:', error);\n",
              "      }\n",
              "      quickchartButtonEl.classList.remove('colab-df-spinner');\n",
              "      quickchartButtonEl.classList.add('colab-df-quickchart-complete');\n",
              "    }\n",
              "    (() => {\n",
              "      let quickchartButtonEl =\n",
              "        document.querySelector('#df-669f5f57-c118-4dd6-99fc-9aab95f7934c button');\n",
              "      quickchartButtonEl.style.display =\n",
              "        google.colab.kernel.accessAllowed ? 'block' : 'none';\n",
              "    })();\n",
              "  </script>\n",
              "</div>\n",
              "    </div>\n",
              "  </div>\n"
            ]
          },
          "metadata": {},
          "execution_count": 12
        }
      ],
      "source": [
        "numeric_df"
      ],
      "metadata": {
        "ExecuteTime": {
          "start_time": "2023-08-26T00:50:22.109362746Z"
        },
        "id": "A7x7LKPmVpNU",
        "colab": {
          "base_uri": "https://localhost:8080/",
          "height": 609
        },
        "outputId": "bc9cb5f7-12fd-405b-8706-1e0143149353"
      }
    },
    {
      "cell_type": "code",
      "execution_count": 13,
      "outputs": [
        {
          "output_type": "stream",
          "name": "stderr",
          "text": [
            "<ipython-input-13-ab22f046f215>:10: FutureWarning: The default value of numeric_only in DataFrame.corr is deprecated. In a future version, it will default to False. Select only valid columns or specify the value of numeric_only to silence this warning.\n",
            "  sns.heatmap(data=drop_na_df.corr(), ax=ax1, cmap=cmap, annot=True)\n"
          ]
        },
        {
          "output_type": "display_data",
          "data": {
            "text/plain": [
              "<Figure size 1000x1000 with 2 Axes>"
            ],
            "image/png": "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\n"
          },
          "metadata": {}
        }
      ],
      "source": [
        "# Coorelation Matrix\n",
        "\n",
        "drop_na_df = numeric_df[numeric_df['score'] != 'NULL']\n",
        "\n",
        "fig1 = plt.figure(figsize=(10, 10))\n",
        "ax1 = fig1.add_subplot(111)\n",
        "\n",
        "cmap = sns.diverging_palette(0, 255, n=256, as_cmap=True)\n",
        "\n",
        "sns.heatmap(data=drop_na_df.corr(), ax=ax1, cmap=cmap, annot=True)\n",
        "\n",
        "plt.show()"
      ],
      "metadata": {
        "ExecuteTime": {
          "start_time": "2023-08-26T00:50:22.109511449Z"
        },
        "id": "pqJuM4y_VpNU",
        "colab": {
          "base_uri": "https://localhost:8080/",
          "height": 1000
        },
        "outputId": "81888f55-9b50-468c-c0a1-7db9aeecc43f"
      }
    },
    {
      "cell_type": "code",
      "execution_count": 14,
      "outputs": [
        {
          "output_type": "display_data",
          "data": {
            "text/plain": [
              "<Figure size 1000x1000 with 1 Axes>"
            ],
            "image/png": "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\n"
          },
          "metadata": {}
        }
      ],
      "source": [
        "fig2 = plt.figure(figsize=(10, 10))\n",
        "ax2 = fig2.add_subplot(111)\n",
        "\n",
        "sns.boxplot(data=numeric_df, x='isBarbie', y='date_from_release', ax=ax2)\n",
        "\n",
        "plt.show()"
      ],
      "metadata": {
        "ExecuteTime": {
          "start_time": "2023-08-26T00:50:22.152947219Z"
        },
        "id": "h-WV-jGeVpNV",
        "colab": {
          "base_uri": "https://localhost:8080/",
          "height": 850
        },
        "outputId": "ec22d615-0ac0-474a-b1b7-b98768515bdd"
      }
    },
    {
      "cell_type": "code",
      "execution_count": 15,
      "outputs": [
        {
          "output_type": "display_data",
          "data": {
            "text/plain": [
              "<Figure size 800x800 with 1 Axes>"
            ],
            "image/png": "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\n"
          },
          "metadata": {}
        },
        {
          "output_type": "display_data",
          "data": {
            "text/plain": [
              "<Figure size 800x800 with 1 Axes>"
            ],
            "image/png": "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\n"
          },
          "metadata": {}
        }
      ],
      "source": [
        "group_by = df.groupby('isBarbie')\n",
        "for movie_id, group_data in group_by:\n",
        "    plt.figure(figsize=(8, 8))\n",
        "    plt.hist(group_data['score'], edgecolor='black')\n",
        "    plt.title(f'Score Distribution for isBarbie: {movie_id}')\n",
        "    plt.xlabel('Score')\n",
        "    plt.ylabel('Frequency')\n",
        "    plt.show()"
      ],
      "metadata": {
        "id": "FdPvynH0VpNV",
        "colab": {
          "base_uri": "https://localhost:8080/",
          "height": 1000
        },
        "outputId": "5d90dbe2-f5e2-4e42-98ca-6170fa27b7ea"
      }
    },
    {
      "cell_type": "code",
      "source": [
        "textdata = df[['review', 'isBarbie']]\n",
        "bb = textdata[textdata['isBarbie'] == 1]\n",
        "op = textdata[textdata['isBarbie'] == 0]\n",
        "downsample_op = op.sample(bb.shape[0])\n",
        "textdata = pd.concat([bb, downsample_op])\n",
        "textdata['isBarbie'].value_counts()"
      ],
      "metadata": {
        "id": "7Fk9W7nCxxb9",
        "colab": {
          "base_uri": "https://localhost:8080/"
        },
        "outputId": "394b00ab-7fe4-41a2-a560-7fabeac5735d"
      },
      "execution_count": 35,
      "outputs": [
        {
          "output_type": "execute_result",
          "data": {
            "text/plain": [
              "1    784\n",
              "0    784\n",
              "Name: isBarbie, dtype: int64"
            ]
          },
          "metadata": {},
          "execution_count": 35
        }
      ]
    },
    {
      "cell_type": "code",
      "source": [
        "from sklearn.model_selection import train_test_split\n",
        "\n",
        "X_train, X_test, y_train, y_test = train_test_split(textdata.drop(columns = ['isBarbie']), textdata['isBarbie'], stratify=textdata['isBarbie'])"
      ],
      "metadata": {
        "id": "NjCRYI-Edvsy"
      },
      "execution_count": 37,
      "outputs": []
    },
    {
      "cell_type": "code",
      "source": [
        "import tensorflow as tf\n",
        "import tensorflow_hub as hub\n",
        "import tensorflow_text as text\n",
        "\n",
        "bert_encoder = hub.KerasLayer(\"https://tfhub.dev/tensorflow/bert_en_uncased_L-12_H-768_A-12/4\")\n",
        "bert_preprocess = hub.KerasLayer(\"https://tfhub.dev/tensorflow/bert_en_uncased_preprocess/3\")"
      ],
      "metadata": {
        "id": "AVr-8aGPkAfV"
      },
      "execution_count": 38,
      "outputs": []
    },
    {
      "cell_type": "code",
      "source": [
        "from keras.layers import Dense, Input\n",
        "from keras.optimizers import Adam\n",
        "\n",
        "# BERT layers\n",
        "text_input = Input(shape=(), dtype=tf.string)\n",
        "preprocessed_text = bert_preprocess(text_input)\n",
        "outputs = bert_encoder(preprocessed_text)\n",
        "\n",
        "# Neural network layers\n",
        "l = tf.keras.layers.Dropout(0.1, name=\"dropout\")(outputs['pooled_output'])\n",
        "l = Dense(1, activation='sigmoid')(l)\n",
        "\n",
        "# Use inputs and outputs to construct a final model\n",
        "model = tf.keras.Model(inputs=[text_input], outputs = [l])\n",
        "\n",
        "model.compile(optimizer = Adam(learning_rate = 0.01), loss = 'binary_crossentropy', metrics = ['accuracy'])\n",
        "\n",
        "history = model.fit(X_train, y_train, batch_size = 32, epochs = 5)"
      ],
      "metadata": {
        "colab": {
          "base_uri": "https://localhost:8080/"
        },
        "id": "fAPZNgRjvjSV",
        "outputId": "5836cbad-e063-4505-ed2f-0023fb6102aa"
      },
      "execution_count": 39,
      "outputs": [
        {
          "output_type": "stream",
          "name": "stdout",
          "text": [
            "Epoch 1/5\n",
            "37/37 [==============================] - 24s 390ms/step - loss: 0.7655 - accuracy: 0.6131\n",
            "Epoch 2/5\n",
            "37/37 [==============================] - 15s 417ms/step - loss: 0.5900 - accuracy: 0.6692\n",
            "Epoch 3/5\n",
            "37/37 [==============================] - 14s 374ms/step - loss: 0.4932 - accuracy: 0.7347\n",
            "Epoch 4/5\n",
            "37/37 [==============================] - 14s 368ms/step - loss: 0.4335 - accuracy: 0.8036\n",
            "Epoch 5/5\n",
            "37/37 [==============================] - 15s 409ms/step - loss: 0.4427 - accuracy: 0.7806\n"
          ]
        }
      ]
    },
    {
      "cell_type": "code",
      "source": [
        "yhat_test = model.predict(X_test)\n",
        "yhat_test = [1 if y >= 0.5 else 0 for y in yhat_test]\n",
        "series = pd.Series(yhat_test)\n",
        "series.value_counts()"
      ],
      "metadata": {
        "colab": {
          "base_uri": "https://localhost:8080/"
        },
        "id": "pKcmvpFhD7TV",
        "outputId": "b20bafa7-969d-4061-cf0e-60329608f14d"
      },
      "execution_count": 40,
      "outputs": [
        {
          "output_type": "stream",
          "name": "stdout",
          "text": [
            "13/13 [==============================] - 5s 358ms/step\n"
          ]
        },
        {
          "output_type": "execute_result",
          "data": {
            "text/plain": [
              "1    279\n",
              "0    113\n",
              "dtype: int64"
            ]
          },
          "metadata": {},
          "execution_count": 40
        }
      ]
    },
    {
      "cell_type": "code",
      "source": [
        "print(y_test.value_counts())"
      ],
      "metadata": {
        "colab": {
          "base_uri": "https://localhost:8080/"
        },
        "id": "PHcKK9H0HUfh",
        "outputId": "286dc7ba-dc8a-4c10-bac0-81b80aa6d5d6"
      },
      "execution_count": 44,
      "outputs": [
        {
          "output_type": "stream",
          "name": "stdout",
          "text": [
            "0    196\n",
            "1    196\n",
            "Name: isBarbie, dtype: int64\n"
          ]
        }
      ]
    },
    {
      "cell_type": "code",
      "source": [
        "from sklearn.metrics import confusion_matrix\n",
        "\n",
        "cm = confusion_matrix(y_test, yhat_test)\n",
        "cm"
      ],
      "metadata": {
        "colab": {
          "base_uri": "https://localhost:8080/"
        },
        "id": "x40VPgPsG-z1",
        "outputId": "87f24a30-e46b-4d1f-e901-94b95517ef70"
      },
      "execution_count": 42,
      "outputs": [
        {
          "output_type": "execute_result",
          "data": {
            "text/plain": [
              "array([[112,  84],\n",
              "       [  1, 195]])"
            ]
          },
          "metadata": {},
          "execution_count": 42
        }
      ]
    },
    {
      "cell_type": "code",
      "source": [
        "from sklearn.metrics import classification_report\n",
        "\n",
        "print(classification_report(y_test, yhat_test))"
      ],
      "metadata": {
        "colab": {
          "base_uri": "https://localhost:8080/"
        },
        "id": "CTTHdMQ1H6NC",
        "outputId": "4eceab2c-7df4-4c66-c040-e86adad0ec29"
      },
      "execution_count": 43,
      "outputs": [
        {
          "output_type": "stream",
          "name": "stdout",
          "text": [
            "              precision    recall  f1-score   support\n",
            "\n",
            "           0       0.99      0.57      0.72       196\n",
            "           1       0.70      0.99      0.82       196\n",
            "\n",
            "    accuracy                           0.78       392\n",
            "   macro avg       0.85      0.78      0.77       392\n",
            "weighted avg       0.85      0.78      0.77       392\n",
            "\n"
          ]
        }
      ]
    }
   },
   "outputs": [],
   "source": [
    "import pandas as pd\n",
    "\n",
    "df_bb = pd.read_csv('./data/imdb_barbie_Uncleaned.csv', header=None)\n",
    "df_op = pd.read_csv('./data/imdb_oppenhimmer_Uncleaned.csv', header=None)\n",
    "df_bb.drop_duplicates(inplace=True)\n",
    "df_op.drop_duplicates(inplace=True)\n"
   ]
  },
  {
   "cell_type": "markdown",
   "source": [
    "# Regular Expression"
   ],
   "metadata": {
    "collapsed": false,
    "id": "NpURbSUxVpNO"
   }
  },
  {
   "cell_type": "code",
   "execution_count": 3,
   "outputs": [],
   "source": [
    "import re\n",
    "\n",
    "score_Reg = '(\\d{1,2})\\/\\d{1,2}\\s.*\\s'\n",
    "title_Reg = '\\d{1,2}\\/\\d{1,2}\\s(.*)'\n",
    "people_found_helpful_Reg = '([\\d,]*) out of ([\\d,]*) found this helpful'\n",
    "username_Reg = '\\d{1,2}\\/\\d{1,2}\\s.*\\s([A-Za-z0-9_-]+)\\d{2}\\s[January|February|March|April|June|July|August|September|October|November|December]'\n",
    "date_Reg = '(\\d{1,2}\\s\\w+\\s\\d{4})'\n",
    "review_Reg = '\\d{1,2}\\s\\w+\\s\\d{4}\\s([\\s\\S]*)\\s[\\d,]* out of [\\d,]* found this helpful'"
   ],
   "metadata": {
    "id": "l6WhW0q5VpNQ",
    "ExecuteTime": {
     "end_time": "2023-09-01T01:20:01.296916593Z",
     "start_time": "2023-09-01T01:20:01.295998375Z"
    }
   }
  },
  {
   "cell_type": "markdown",
   "source": [
    "# Cleaning Data"
   ],
   "metadata": {
    "collapsed": false,
    "id": "MFbZm_4RVpNR"
   }
  },
  {
   "cell_type": "code",
   "execution_count": 4,
   "outputs": [],
   "source": [
    "# Clean every row in data set\n",
    "\n",
    "def get_cleaned_df(dirty_df):\n",
    "\t# cleaned_df = pd.DataFrame(columns=['score', 'title', 'username', 'date', 'people_found_helpful', 'review'])\n",
    "\tcleaned_df = pd.DataFrame(columns=['score', 'title', 'username', 'date', 'people_found_helpful', 'total_people_viewed', 'review'])\n",
    "\n",
    "\tfor index in range(len(dirty_df)):\n",
    "\t\trow = dirty_df.iloc[index][0]\n",
    "\n",
    "\t\tscore = re.findall(score_Reg, row)\n",
    "\t\ttitle = re.findall(title_Reg, row)\n",
    "\t\tusername = re.findall(username_Reg, row)\n",
    "\t\tdate = re.findall(date_Reg, row)\n",
    "\t\tpeople_found_helpful = re.findall(people_found_helpful_Reg, row)\n",
    "\t\treview = re.findall(review_Reg, row)\n",
    "\n",
    "\t\tif not score:\n",
    "\t\t\tcontinue\n",
    "\t\telse:\n",
    "\t\t\tscore = int(score[0])\n",
    "\t\tif not title:\n",
    "\t\t\ttitle = ['NULL']\n",
    "\t\tif not username:\n",
    "\t\t\tusername = ['NULL']\n",
    "\t\tif not date:\n",
    "\t\t\tdate = ['NULL']\n",
    "\t\tif not people_found_helpful:\n",
    "\t\t\tpeople_found_helpful = 'NULL'\n",
    "\t\t\ttotal_people_viewed = 'NULL'\n",
    "\t\telse:\n",
    "\t\t\ttotal_people_viewed = int(people_found_helpful[0][1].replace(',', ''))\n",
    "\t\t\tpeople_found_helpful = int(people_found_helpful[0][0].replace(',', ''))\n",
    "\t\tif not review:\n",
    "\t\t\treview = ['NULL']\n",
    "\n",
    "\t\tcleaned_df.loc[index] = [score, title[0], username[0], date[0], people_found_helpful, total_people_viewed, review[0]]\n",
    "\treturn cleaned_df\n"
   ],
   "metadata": {
    "id": "huWWR7k-VpNR",
    "ExecuteTime": {
     "end_time": "2023-09-01T01:20:01.300221212Z",
     "start_time": "2023-09-01T01:20:01.297205439Z"
    }
   }
  },
  {
   "cell_type": "code",
   "execution_count": 5,
   "outputs": [],
   "source": [
    "cleand_df_bb = get_cleaned_df(df_bb)\n",
    "cleand_df_bb.drop_duplicates(subset=['username'], inplace=True)"
   ],
   "metadata": {
    "id": "bTXJ3IIRVpNS",
    "ExecuteTime": {
     "end_time": "2023-09-01T01:20:02.014191740Z",
     "start_time": "2023-09-01T01:20:01.298065482Z"
    }
   }
  },
  {
   "cell_type": "code",
   "execution_count": 6,
   "outputs": [
    {
     "data": {
      "text/plain": "     score                                              title  \\\n0        6                 Creative but preachy and confusing   \n1        6                     Beautiful film, but so preachy   \n2        6  Clever and fun beginning turns into another le...   \n3        8                                  It was depressing   \n4        9                                A Technicolor Dream   \n..     ...                                                ...   \n792      2                                    Barbie-not good   \n793      5                             Feminism but the rest?   \n794      3  Great sets, great execution but horrible story...   \n795      2                                          Just meh.   \n796      1          Not for little kids and wastes your time.   \n\n             username          date  people_found_helpful  \\\n0         Imshortok06  23 July 2023                  1007   \n1        LoveofLegacy  21 July 2023                  1190   \n2            Binkconn  21 July 2023                   804   \n3           coxaneesa  24 July 2023                   152   \n4      heatherhilgers  24 July 2023                    20   \n..                ...           ...                   ...   \n792          thongman  22 July 2023                     5   \n793      iyaseminkose  23 July 2023                     1   \n794       DaHermitKid  28 July 2023                     1   \n795  apriljosey-29034  27 July 2023                     0   \n796         ben-39403  27 July 2023                     0   \n\n     total_people_viewed                                             review  \n0                   1363  I'm just going to get straight to the point: I...  \n1                   1646  Margot does the best with what she's given, bu...  \n2                   1173  Barbie begins in an irresistible way, as a fun...  \n3                    242                                  Warning: Spoilers  \n4                     26  Wow, this movie was a love letter to cinema. F...  \n..                   ...                                                ...  \n792                   17  The only reason this movie even gets a 2 from ...  \n793                    6  I'm NOT a Barbie girl in NOT the Barbie World,...  \n794                    5  Firstly, the technical execution is top notch....  \n795                    1                                  Warning: Spoilers  \n796                    6  Too many sexual references and doesn't grasp t...  \n\n[784 rows x 7 columns]",
      "text/html": "<div>\n<style scoped>\n    .dataframe tbody tr th:only-of-type {\n        vertical-align: middle;\n    }\n\n    .dataframe tbody tr th {\n        vertical-align: top;\n    }\n\n    .dataframe thead th {\n        text-align: right;\n    }\n</style>\n<table border=\"1\" class=\"dataframe\">\n  <thead>\n    <tr style=\"text-align: right;\">\n      <th></th>\n      <th>score</th>\n      <th>title</th>\n      <th>username</th>\n      <th>date</th>\n      <th>people_found_helpful</th>\n      <th>total_people_viewed</th>\n      <th>review</th>\n    </tr>\n  </thead>\n  <tbody>\n    <tr>\n      <th>0</th>\n      <td>6</td>\n      <td>Creative but preachy and confusing</td>\n      <td>Imshortok06</td>\n      <td>23 July 2023</td>\n      <td>1007</td>\n      <td>1363</td>\n      <td>I'm just going to get straight to the point: I...</td>\n    </tr>\n    <tr>\n      <th>1</th>\n      <td>6</td>\n      <td>Beautiful film, but so preachy</td>\n      <td>LoveofLegacy</td>\n      <td>21 July 2023</td>\n      <td>1190</td>\n      <td>1646</td>\n      <td>Margot does the best with what she's given, bu...</td>\n    </tr>\n    <tr>\n      <th>2</th>\n      <td>6</td>\n      <td>Clever and fun beginning turns into another le...</td>\n      <td>Binkconn</td>\n      <td>21 July 2023</td>\n      <td>804</td>\n      <td>1173</td>\n      <td>Barbie begins in an irresistible way, as a fun...</td>\n    </tr>\n    <tr>\n      <th>3</th>\n      <td>8</td>\n      <td>It was depressing</td>\n      <td>coxaneesa</td>\n      <td>24 July 2023</td>\n      <td>152</td>\n      <td>242</td>\n      <td>Warning: Spoilers</td>\n    </tr>\n    <tr>\n      <th>4</th>\n      <td>9</td>\n      <td>A Technicolor Dream</td>\n      <td>heatherhilgers</td>\n      <td>24 July 2023</td>\n      <td>20</td>\n      <td>26</td>\n      <td>Wow, this movie was a love letter to cinema. F...</td>\n    </tr>\n    <tr>\n      <th>...</th>\n      <td>...</td>\n      <td>...</td>\n      <td>...</td>\n      <td>...</td>\n      <td>...</td>\n      <td>...</td>\n      <td>...</td>\n    </tr>\n    <tr>\n      <th>792</th>\n      <td>2</td>\n      <td>Barbie-not good</td>\n      <td>thongman</td>\n      <td>22 July 2023</td>\n      <td>5</td>\n      <td>17</td>\n      <td>The only reason this movie even gets a 2 from ...</td>\n    </tr>\n    <tr>\n      <th>793</th>\n      <td>5</td>\n      <td>Feminism but the rest?</td>\n      <td>iyaseminkose</td>\n      <td>23 July 2023</td>\n      <td>1</td>\n      <td>6</td>\n      <td>I'm NOT a Barbie girl in NOT the Barbie World,...</td>\n    </tr>\n    <tr>\n      <th>794</th>\n      <td>3</td>\n      <td>Great sets, great execution but horrible story...</td>\n      <td>DaHermitKid</td>\n      <td>28 July 2023</td>\n      <td>1</td>\n      <td>5</td>\n      <td>Firstly, the technical execution is top notch....</td>\n    </tr>\n    <tr>\n      <th>795</th>\n      <td>2</td>\n      <td>Just meh.</td>\n      <td>apriljosey-29034</td>\n      <td>27 July 2023</td>\n      <td>0</td>\n      <td>1</td>\n      <td>Warning: Spoilers</td>\n    </tr>\n    <tr>\n      <th>796</th>\n      <td>1</td>\n      <td>Not for little kids and wastes your time.</td>\n      <td>ben-39403</td>\n      <td>27 July 2023</td>\n      <td>0</td>\n      <td>6</td>\n      <td>Too many sexual references and doesn't grasp t...</td>\n    </tr>\n  </tbody>\n</table>\n<p>784 rows × 7 columns</p>\n</div>"
     },
     "execution_count": 6,
     "metadata": {},
     "output_type": "execute_result"
    }
   ],
   "source": [
    "cleand_df_bb"
   ],
   "metadata": {
    "id": "NE9tvox3VpNS",
    "colab": {
     "base_uri": "https://localhost:8080/",
     "height": 419
    },
    "outputId": "1b1c15af-3c07-4eed-970c-37b6341fd432",
    "ExecuteTime": {
     "end_time": "2023-09-01T01:20:02.075624541Z",
     "start_time": "2023-09-01T01:20:02.056062062Z"
    }
   }
  },
  {
   "cell_type": "code",
   "execution_count": 7,
   "outputs": [],
   "source": [
    "cleand_df_op = get_cleaned_df(df_op)\n",
    "cleand_df_op.drop_duplicates(subset=['username'], inplace=True)"
   ],
   "metadata": {
    "id": "BcEfnsQPVpNS",
    "ExecuteTime": {
     "end_time": "2023-09-01T01:20:04.178573748Z",
     "start_time": "2023-09-01T01:20:02.186067664Z"
    }
   }
  },
  {
   "cell_type": "code",
   "execution_count": 8,
   "outputs": [
    {
     "data": {
      "text/plain": "      score                                              title  \\\n0         9                              Murphy is exceptional   \n1         8  A challenging watch to be sure, but a worthwhi...   \n2        10  A brilliantly layered examination of a man thr...   \n3        10  Nolan delivers a powerfull biopic that shows t...   \n4        10                                      A Masterpiece   \n...     ...                                                ...   \n2031      7         Huge story, but production fails sometimes   \n2032      6                                            Tweaked   \n2033      6                  Just a 6 for a near perfect film.   \n2034      6                              No need to be 3 hours   \n2035      6                                      Disappointing   \n\n                  username          date  people_found_helpful  \\\n0          Orlando_Gardner  19 July 2023                  1413   \n1          Jeremy_Urquhart  20 July 2023                   685   \n2                 MrDHWong  20 July 2023                   556   \n3            and_mikkelsen  20 July 2023                   358   \n4      mohameddawoud-26019  19 July 2023                   670   \n...                    ...           ...                   ...   \n2031        andreverschoor  27 July 2023                     1   \n2032                 fmacr  25 July 2023                     1   \n2033  m-nicolaou-86-661254  24 July 2023                     0   \n2034          scottahaynie  24 July 2023                     0   \n2035             krisdevos  22 July 2023                     0   \n\n      total_people_viewed                                             review  \n0                    1597  You'll have to have your wits about you and yo...  \n1                     819  One of the most anticipated films of the year ...  \n2                     691  \"Oppenheimer\" is a biographical thriller film ...  \n3                     457  This movie is just... wow! I don't think I hav...  \n4                     833  I may consider myself lucky to be alive to wat...  \n...                   ...                                                ...  \n2031                    3  Loved the movie, loved the actors efforts. Aft...  \n2032                    7  I suppose these reviews are tweaked, otherwise...  \n2033                    1  Ok let me start by the obvious ratings which w...  \n2034                    0  Acting was tremendous and the true story behin...  \n2035                    0  Totally underwhelmed with Oppenheimer.\\n\\nEnri...  \n\n[2013 rows x 7 columns]",
      "text/html": "<div>\n<style scoped>\n    .dataframe tbody tr th:only-of-type {\n        vertical-align: middle;\n    }\n\n    .dataframe tbody tr th {\n        vertical-align: top;\n    }\n\n    .dataframe thead th {\n        text-align: right;\n    }\n</style>\n<table border=\"1\" class=\"dataframe\">\n  <thead>\n    <tr style=\"text-align: right;\">\n      <th></th>\n      <th>score</th>\n      <th>title</th>\n      <th>username</th>\n      <th>date</th>\n      <th>people_found_helpful</th>\n      <th>total_people_viewed</th>\n      <th>review</th>\n    </tr>\n  </thead>\n  <tbody>\n    <tr>\n      <th>0</th>\n      <td>9</td>\n      <td>Murphy is exceptional</td>\n      <td>Orlando_Gardner</td>\n      <td>19 July 2023</td>\n      <td>1413</td>\n      <td>1597</td>\n      <td>You'll have to have your wits about you and yo...</td>\n    </tr>\n    <tr>\n      <th>1</th>\n      <td>8</td>\n      <td>A challenging watch to be sure, but a worthwhi...</td>\n      <td>Jeremy_Urquhart</td>\n      <td>20 July 2023</td>\n      <td>685</td>\n      <td>819</td>\n      <td>One of the most anticipated films of the year ...</td>\n    </tr>\n    <tr>\n      <th>2</th>\n      <td>10</td>\n      <td>A brilliantly layered examination of a man thr...</td>\n      <td>MrDHWong</td>\n      <td>20 July 2023</td>\n      <td>556</td>\n      <td>691</td>\n      <td>\"Oppenheimer\" is a biographical thriller film ...</td>\n    </tr>\n    <tr>\n      <th>3</th>\n      <td>10</td>\n      <td>Nolan delivers a powerfull biopic that shows t...</td>\n      <td>and_mikkelsen</td>\n      <td>20 July 2023</td>\n      <td>358</td>\n      <td>457</td>\n      <td>This movie is just... wow! I don't think I hav...</td>\n    </tr>\n    <tr>\n      <th>4</th>\n      <td>10</td>\n      <td>A Masterpiece</td>\n      <td>mohameddawoud-26019</td>\n      <td>19 July 2023</td>\n      <td>670</td>\n      <td>833</td>\n      <td>I may consider myself lucky to be alive to wat...</td>\n    </tr>\n    <tr>\n      <th>...</th>\n      <td>...</td>\n      <td>...</td>\n      <td>...</td>\n      <td>...</td>\n      <td>...</td>\n      <td>...</td>\n      <td>...</td>\n    </tr>\n    <tr>\n      <th>2031</th>\n      <td>7</td>\n      <td>Huge story, but production fails sometimes</td>\n      <td>andreverschoor</td>\n      <td>27 July 2023</td>\n      <td>1</td>\n      <td>3</td>\n      <td>Loved the movie, loved the actors efforts. Aft...</td>\n    </tr>\n    <tr>\n      <th>2032</th>\n      <td>6</td>\n      <td>Tweaked</td>\n      <td>fmacr</td>\n      <td>25 July 2023</td>\n      <td>1</td>\n      <td>7</td>\n      <td>I suppose these reviews are tweaked, otherwise...</td>\n    </tr>\n    <tr>\n      <th>2033</th>\n      <td>6</td>\n      <td>Just a 6 for a near perfect film.</td>\n      <td>m-nicolaou-86-661254</td>\n      <td>24 July 2023</td>\n      <td>0</td>\n      <td>1</td>\n      <td>Ok let me start by the obvious ratings which w...</td>\n    </tr>\n    <tr>\n      <th>2034</th>\n      <td>6</td>\n      <td>No need to be 3 hours</td>\n      <td>scottahaynie</td>\n      <td>24 July 2023</td>\n      <td>0</td>\n      <td>0</td>\n      <td>Acting was tremendous and the true story behin...</td>\n    </tr>\n    <tr>\n      <th>2035</th>\n      <td>6</td>\n      <td>Disappointing</td>\n      <td>krisdevos</td>\n      <td>22 July 2023</td>\n      <td>0</td>\n      <td>0</td>\n      <td>Totally underwhelmed with Oppenheimer.\\n\\nEnri...</td>\n    </tr>\n  </tbody>\n</table>\n<p>2013 rows × 7 columns</p>\n</div>"
     },
     "execution_count": 8,
     "metadata": {},
     "output_type": "execute_result"
    }
   ],
   "source": [
    "cleand_df_op"
   ],
   "metadata": {
    "id": "13ifJW1sVpNT",
    "colab": {
     "base_uri": "https://localhost:8080/",
     "height": 589
    },
    "outputId": "67648934-eb1e-4ef0-e119-04da954214a3",
    "ExecuteTime": {
     "end_time": "2023-09-01T01:20:04.221178635Z",
     "start_time": "2023-09-01T01:20:04.172525996Z"
    }
   }
  },
  {
   "cell_type": "markdown",
   "source": [
    "# Graphing for Exploration"
   ],
   "metadata": {
    "collapsed": false,
    "id": "qQevpZbQVpNT"
   }
  },
  {
   "cell_type": "code",
   "execution_count": 9,
   "outputs": [],
   "source": [
    "# combine the two data sets\n",
    "\n",
    "cleand_df_bb['isBarbie'] = 1\n",
    "cleand_df_op['isBarbie'] = 0\n",
    "\n",
    "df = pd.concat([cleand_df_bb, cleand_df_op], ignore_index=True)"
   ],
   "metadata": {
    "id": "s3SGI9swVpNT",
    "ExecuteTime": {
     "end_time": "2023-09-01T01:20:04.221723783Z",
     "start_time": "2023-09-01T01:20:04.216289759Z"
    }
   }
  },
  {
   "cell_type": "code",
   "execution_count": 10,
   "outputs": [
    {
     "data": {
      "text/plain": "score                    int64\ntitle                   object\nusername                object\ndate                    object\npeople_found_helpful     int64\ntotal_people_viewed      int64\nreview                  object\nisBarbie                 int64\ndtype: object"
     },
     "execution_count": 10,
     "metadata": {},
     "output_type": "execute_result"
    }
   ],
   "source": [
    "df.dtypes"
   ],
   "metadata": {
    "id": "b_PPagEiVpNT",
    "colab": {
     "base_uri": "https://localhost:8080/"
    },
    "outputId": "c681bbba-c95e-4df6-92d6-382fb4d8381a",
    "ExecuteTime": {
     "end_time": "2023-09-01T01:20:04.222327176Z",
     "start_time": "2023-09-01T01:20:04.217459111Z"
    }
   }
  },
  {
   "cell_type": "code",
   "execution_count": 11,
   "outputs": [],
   "source": [
    "import matplotlib.pyplot as plt\n",
    "import seaborn as sns\n",
    "import numpy as np"
   ],
   "metadata": {
    "id": "aD9kBPTZVpNU",
    "ExecuteTime": {
     "end_time": "2023-09-01T01:20:04.223370402Z",
     "start_time": "2023-09-01T01:20:04.218646831Z"
    }
   }
  },
  {
   "cell_type": "code",
   "execution_count": 12,
   "outputs": [],
   "source": [
    "# Creating graphable data\n",
    "df = df[~df['date'].str.contains('IMAX')]\n",
    "# numeric_df = pd.DataFrame(columns=['isBarbie', 'score', 'people_found_helpful', 'total_people_viewed', 'helpful_ratio', 'date', 'date_from_release','length_of_title', 'length_of_username', 'length_of_review'])\n",
    "numeric_df = pd.DataFrame(columns=['isBarbie', 'score', 'date', 'people_found_helpful', 'total_people_viewed', 'helpful_ratio','length_of_title', 'length_of_username', 'length_of_review'])\n",
    "\n",
    "numeric_df['isBarbie'] = df['isBarbie']\n",
    "numeric_df['score'] = df['score']\n",
    "numeric_df['date'] = df['date']\n",
    "numeric_df['total_people_viewed'] = df['total_people_viewed']\n",
    "numeric_df['people_found_helpful'] = df['people_found_helpful']\n",
    "numeric_df['helpful_ratio'] = df['people_found_helpful'] / df['total_people_viewed']\n",
    "numeric_df['length_of_title'] = df['title'].apply(lambda x: len(x))\n",
    "numeric_df['length_of_username'] = df['username'].apply(lambda x: len(x))\n",
    "numeric_df['length_of_review'] = df['review'].apply(lambda x: len(x))\n",
    "\n",
    "numeric_df['date'] = pd.to_datetime(df['date'], format='%d %B %Y')\n",
    "numeric_df['date_from_release'] = (numeric_df['date'] - pd.to_datetime('2023-07-23', format='%Y-%m-%d')).dt.days"
   ],
   "metadata": {
    "id": "U7CIuEXnVpNU",
    "ExecuteTime": {
     "end_time": "2023-09-01T01:20:04.223759465Z",
     "start_time": "2023-09-01T01:20:04.220022133Z"
    }
   }
  },
  {
   "cell_type": "code",
   "execution_count": 13,
   "outputs": [
    {
     "data": {
      "text/plain": "      isBarbie  score       date  people_found_helpful  total_people_viewed  \\\n0            1      6 2023-07-23                  1007                 1363   \n1            1      6 2023-07-21                  1190                 1646   \n2            1      6 2023-07-21                   804                 1173   \n3            1      8 2023-07-24                   152                  242   \n4            1      9 2023-07-24                    20                   26   \n...        ...    ...        ...                   ...                  ...   \n2792         0      7 2023-07-27                     1                    3   \n2793         0      6 2023-07-25                     1                    7   \n2794         0      6 2023-07-24                     0                    1   \n2795         0      6 2023-07-24                     0                    0   \n2796         0      6 2023-07-22                     0                    0   \n\n      helpful_ratio  length_of_title  length_of_username  length_of_review  \\\n0          0.738811               34                  11              1216   \n1          0.722965               30                  12               786   \n2          0.685422               69                   8               601   \n3          0.628099               17                   9                17   \n4          0.769231               19                  14              1239   \n...             ...              ...                 ...               ...   \n2792       0.333333               42                  14               624   \n2793       0.142857                7                   5              1152   \n2794       0.000000               33                  20              1369   \n2795            NaN               21                  12               609   \n2796            NaN               13                   9              1070   \n\n      date_from_release  \n0                     0  \n1                    -2  \n2                    -2  \n3                     1  \n4                     1  \n...                 ...  \n2792                  4  \n2793                  2  \n2794                  1  \n2795                  1  \n2796                 -1  \n\n[2796 rows x 10 columns]",
      "text/html": "<div>\n<style scoped>\n    .dataframe tbody tr th:only-of-type {\n        vertical-align: middle;\n    }\n\n    .dataframe tbody tr th {\n        vertical-align: top;\n    }\n\n    .dataframe thead th {\n        text-align: right;\n    }\n</style>\n<table border=\"1\" class=\"dataframe\">\n  <thead>\n    <tr style=\"text-align: right;\">\n      <th></th>\n      <th>isBarbie</th>\n      <th>score</th>\n      <th>date</th>\n      <th>people_found_helpful</th>\n      <th>total_people_viewed</th>\n      <th>helpful_ratio</th>\n      <th>length_of_title</th>\n      <th>length_of_username</th>\n      <th>length_of_review</th>\n      <th>date_from_release</th>\n    </tr>\n  </thead>\n  <tbody>\n    <tr>\n      <th>0</th>\n      <td>1</td>\n      <td>6</td>\n      <td>2023-07-23</td>\n      <td>1007</td>\n      <td>1363</td>\n      <td>0.738811</td>\n      <td>34</td>\n      <td>11</td>\n      <td>1216</td>\n      <td>0</td>\n    </tr>\n    <tr>\n      <th>1</th>\n      <td>1</td>\n      <td>6</td>\n      <td>2023-07-21</td>\n      <td>1190</td>\n      <td>1646</td>\n      <td>0.722965</td>\n      <td>30</td>\n      <td>12</td>\n      <td>786</td>\n      <td>-2</td>\n    </tr>\n    <tr>\n      <th>2</th>\n      <td>1</td>\n      <td>6</td>\n      <td>2023-07-21</td>\n      <td>804</td>\n      <td>1173</td>\n      <td>0.685422</td>\n      <td>69</td>\n      <td>8</td>\n      <td>601</td>\n      <td>-2</td>\n    </tr>\n    <tr>\n      <th>3</th>\n      <td>1</td>\n      <td>8</td>\n      <td>2023-07-24</td>\n      <td>152</td>\n      <td>242</td>\n      <td>0.628099</td>\n      <td>17</td>\n      <td>9</td>\n      <td>17</td>\n      <td>1</td>\n    </tr>\n    <tr>\n      <th>4</th>\n      <td>1</td>\n      <td>9</td>\n      <td>2023-07-24</td>\n      <td>20</td>\n      <td>26</td>\n      <td>0.769231</td>\n      <td>19</td>\n      <td>14</td>\n      <td>1239</td>\n      <td>1</td>\n    </tr>\n    <tr>\n      <th>...</th>\n      <td>...</td>\n      <td>...</td>\n      <td>...</td>\n      <td>...</td>\n      <td>...</td>\n      <td>...</td>\n      <td>...</td>\n      <td>...</td>\n      <td>...</td>\n      <td>...</td>\n    </tr>\n    <tr>\n      <th>2792</th>\n      <td>0</td>\n      <td>7</td>\n      <td>2023-07-27</td>\n      <td>1</td>\n      <td>3</td>\n      <td>0.333333</td>\n      <td>42</td>\n      <td>14</td>\n      <td>624</td>\n      <td>4</td>\n    </tr>\n    <tr>\n      <th>2793</th>\n      <td>0</td>\n      <td>6</td>\n      <td>2023-07-25</td>\n      <td>1</td>\n      <td>7</td>\n      <td>0.142857</td>\n      <td>7</td>\n      <td>5</td>\n      <td>1152</td>\n      <td>2</td>\n    </tr>\n    <tr>\n      <th>2794</th>\n      <td>0</td>\n      <td>6</td>\n      <td>2023-07-24</td>\n      <td>0</td>\n      <td>1</td>\n      <td>0.000000</td>\n      <td>33</td>\n      <td>20</td>\n      <td>1369</td>\n      <td>1</td>\n    </tr>\n    <tr>\n      <th>2795</th>\n      <td>0</td>\n      <td>6</td>\n      <td>2023-07-24</td>\n      <td>0</td>\n      <td>0</td>\n      <td>NaN</td>\n      <td>21</td>\n      <td>12</td>\n      <td>609</td>\n      <td>1</td>\n    </tr>\n    <tr>\n      <th>2796</th>\n      <td>0</td>\n      <td>6</td>\n      <td>2023-07-22</td>\n      <td>0</td>\n      <td>0</td>\n      <td>NaN</td>\n      <td>13</td>\n      <td>9</td>\n      <td>1070</td>\n      <td>-1</td>\n    </tr>\n  </tbody>\n</table>\n<p>2796 rows × 10 columns</p>\n</div>"
     },
     "execution_count": 13,
     "metadata": {},
     "output_type": "execute_result"
    }
   ],
   "source": [
    "numeric_df"
   ],
   "metadata": {
    "id": "A7x7LKPmVpNU",
    "colab": {
     "base_uri": "https://localhost:8080/",
     "height": 609
    },
    "outputId": "531c382d-affb-4f20-efb3-d82b58cc65a5",
    "ExecuteTime": {
     "end_time": "2023-09-01T01:20:04.333758333Z",
     "start_time": "2023-09-01T01:20:04.259716768Z"
    }
   }
  },
  {
   "cell_type": "code",
   "execution_count": 14,
   "outputs": [
    {
     "data": {
      "text/plain": "<Figure size 1000x1000 with 2 Axes>",
      "image/png": "iVBORw0KGgoAAAANSUhEUgAAA5YAAAO5CAYAAABi8bqdAAAAOXRFWHRTb2Z0d2FyZQBNYXRwbG90bGliIHZlcnNpb24zLjcuMiwgaHR0cHM6Ly9tYXRwbG90bGliLm9yZy8pXeV/AAAACXBIWXMAAA9hAAAPYQGoP6dpAAEAAElEQVR4nOzdd3gU1foH8O/WlN1N7wkkIUCABEgIvfcmCIpYEUVsKJZr93LvT8WC12sX9SLSBCx0QTrSIdTQewvpfbPZbG+/PxY2LNmlbZrx+3mePLCzZ2bOSWZ35p3znjMCm81mAxEREREREdEdEtZ3BYiIiIiIiOivjYElEREREREReYSBJREREREREXmEgSURERERERF5hIElEREREREReYSBJREREREREXmEgSURERERERF5hIElEREREREReYSBJREREREREXmEgSURERERERF5hIElERERERFRA7Z//348++yz6NmzJxITE7Fp06abrrN3717cc889SE5OxqBBg7Bs2bJarSMDSyIiIiIiogZMq9UiMTER77zzzi2Vz87OxjPPPIMuXbrg999/x2OPPYZ//etf2LFjR63VUVxrWyYiIiIiIiKP9enTB3369Lnl8r/++itiYmLw1ltvAQASEhJw8OBBzJ07F7169aqVOrLHkoiIiIiIqI4ZjUZUVlY6/RiNxhrZ9uHDh9GtWzenZT179sThw4drZPuusMeSGrQhb+6v7yrUi+91O+u7CvVCFOxX31WoFz5d29R3FeqFKEBe31WoF5rNh+q7ClSHhAqf+q5CvbDqaubi+K/GptXXdxXqRew7E+u7Cm415GvJETF7MH36dKdlkydPxgsvvODxtktKShASEuK0LCQkBJWVldDr9fD29vZ4H9djYElERERERFTHnnnmGUyYMMFpmVQqrafaeI6BJRERERERUR2TSqW1FkiGhISgpKTEaVlJSQnkcnmt9FYCDCyJiIiIiKiREtR3BepJSkoKtm/f7rRs9+7dSElJqbV9cvIeIiIiIiKiBkyj0eDUqVM4deoUACAnJwenTp1CXl4eAOCzzz7DG2+84Sj/4IMPIjs7G5988gkuXLiAhQsXYu3atXj88cdrrY7ssSQiIiIiImrAjh8/jvHjxzteT5s2DQBwzz334OOPP0ZxcTHy8/Md7zdp0gQzZszAtGnT8NNPPyEiIgIffPBBrT1qBGBgSUREREREjZRQ0DiSYbt06YIzZ864ff/jjz92uc6KFStqsVbOmApLREREREREHmFgSURERERERB5hKiwRERERETVKjSQT9i+BPZZERERERETkEQaWRERERERE5BGmwhIRERERUaPEVNi6wx5LIiIiIiIi8ggDSyIiIiIiIvIIU2GJiIiIiKhREjIXts6wx5KIiIiIiIg8wsCSiIiIiIiIPMJUWCIiIiIiapSYCVt32GNJREREREREHmFgSURERERERB5hKiwRERERETVKTIWtO+yxJCIiIiIiIo8wsCQiIiIiIiKPMBWWiIiIiIgaJSFzYesMeyyJiIiIiIjIIwwsiYiIiIiIyCNMhSUiIiIiokaJmbB1hz2WRERERERE5BEGlkREREREROQRpsISEREREVGjxFTYusMeSyIiIiIiIvIIA8sG7tFHH8WHH35Y39W4pXr0798fc+fOrZsKERERERFRg8FU2Abum2++gVh88z/TW2+9heXLlzteBwQEIDk5Ga+//jpatWpVm1V0WLJkCXx8fOpkX7UlOV6Osb0j0SLGF8F+Urw77xzST5bXd7U8Fji8GxTd2kLo4wX9pTyULPoT5uJyt+W9E6LhP6AjvJqEQewvR8HMldAeu+BUJvSRwVB0SXJapj2ViYLvl6O++PftAHmHRAi9pTBkF6Js9W6YyypuuI68U2v4d28LkdwHxoIylK1NhzGvBAAg8pcj5uUHXK5XvPhPaE9mAgCkUSEIGNAJXlHBsNkAY24xlJv2w1RYVqPtuxXLtm/CL5vXoqxChYTopnj5vnFoE9vMZdlL+bmYtWYZzmRnoqCsFC/c8xDu7zfEqczyHZuxYtdmFJTafyfxkdF4fOgodG3TrtbbcjuWblqLhWtWokxVjuZNYvHKoxPRJqGFy7IXc7Lx47JfcTrzIgpKivHSw4/jgaEjnMpYrBbMWrYI63fvQKmqHCGBgbirZ188Puo+COo5r8q/V3vIU1pA4CWFMacYZev3wKxU33AdeYdE+HVJsh/nRWVQbtgHY36p4/2whwfDOzbCaR11xhko1++tti2hjxcinhgBsZ8M2Z//ApvBVDMNu4n6ardXbAQCeqdAEhoIm8kMzbELKN92CLDZaraBbvh1ToIsKR5CLykM+SUo35oBs6ryhuvI2iZAkZoIka83TCXlUG4/BFORsur9pHj4tmwKSWgghFIJcn9YAZux6u8oUvjCr1MbeMWEQeTrDYtGB+2Zy6g4cAqw1k27/Xu0g7xdcwi8JDDmFaNsw36Yy2/y905tCb9OrSGS+cBYpITyzwMwFpS6LBs6ph98mkWhePk26M7nAAAkoQHw65IEr+hQCH28YKnQoPLwOagzztR4+9zheazmCZkLW2cYWDZwAQEBt1y2V69emDZtGgCgpKQEX375JZ599lls3br1jvdvNBohlUpvqWxQUNAd76eh8JaKcDFfi/UHivHOeNcXpX81/gM7wq93CooXroe5tAKBd3VH5KR7kfPRPNjMFpfrCKQSGHOLod5zHBFP3u1229qTl1C8cIPjtbvt1QW/Hu3g16UNSlZsh1mpRkC/NISNG4K8b5cBFtf18k2KR9DgLihdvQvGnGIouiYhbNxQ5E1fAqtWD0uFBtmf/uy0jiItEX7d20J3zn4hIpCIEfbIEOjOZCF/zW4IhAL49+2A8HFDkPPFr3V2EQYAf2bsxfTlv+LVBx5Dm9hmWLxtA1797lP8/K+PEajwq1ZebzQgMjgUfVM64Zvlv7jcZlhAIJ4dORYxoeGwAVi3byfenvkVZr8xFfGR0bXcoluzac8ufP3zPLz++NNISmiB39avxj/++wF++eRrBPn5VyuvNxoQFRqOfp274euFc11uc8EfK7B88wb86+nJaBbdBKcuXcBHP34Lma8v7h98Vy23yD1F1yQoOrZG6R+7YC5Xw793KsIeGIi8mb8DFqvLdXxbxyFwQEeUrdsDQ14J/Dq1tq/zw++wavWOcpWHzqJ8x2HHa5vJ9ecmaHg3mIqVEPvJarRtN1Jf7ZaEBSLs/gFQ7T6G0j92QST3RdDQLoBQgPLNB2utvVcpOiRC3r45yjbth6VCA78uSQi5uxcKfl7vtt0+zWMQ0LM9lFszYCwohTylJULv7o2Chetg1RkAAAKxGPrLBdBfLoB/9+o3icSBCkAAKLcchFlVCUmQHwL7d4RAIoZq19FabTMAKDq3gaJDIkrXpsOsqoR/j3YIG9sPebP/cP/3ToxFYN8OKNu4D4b8EviltbKvM2sVrFqD8/bTWgGo/t0sDQ+CVatH6erdMKu18IoOQdDgLrDZbKg8dLY2muqE5zH6q2MqbAN3bQrqwoULMXjwYLRt2xbdu3fHiy++6FRWKpUiNDQUoaGhaN26NZ566ink5+ejrKzqbtN///tfDBkyBO3bt8eAAQPw5ZdfwmSqukv5zTffYNSoUVi8eDH69++Pdu2qTjgWiwVTp05FWloaunTpgi+//BK2a+7YXp8KW1FRgSlTpqBr167o0KEDxo8fj9OnT9f0r6hGHTijwrwNudh9ory+q1Jj/Pt0QPmGfdAeuwhjXgmK5q+DyF8G33YJbtfRncqEcvVuaI9ecFsGsAeSFrXW8XP1oqU+KLokQbX9MHRnsmAqUqJkxTaIFb7wbRXrdh2/rslQZ5yB5vA5mErKUfbHLthMZshTW9oL2GywanROP76t4qA9eQk2kxkAIAkJgMjX296LUKqCqbgcqm2HIJL7Quwvr4umO/y2ZT1Gdu+Du7r2QnxkNF67/zF4S6VYvWe7y/KtY5vh+dEPYmBaV0jdZEb0aJuKbknt0SQsAk3DIvD0iPvg4+WNE5nna7Mpt+XXdatwd9+BGNG7P+Kjm+CNx5+Gl5cX/ti22WX5Ns2aY/JD4zGoa09IJBKXZY6dO4NeHTqhR0oaIkPD0L9zN3RObo+TF+u33X6dWkO16yh057JhKi5H6R87IVL4wrdlU7frKDq3RuWRc9AcuwBzqQpl6/bAarZA3q65Uzmr2QyrRu/4ubYH6yp5aksIvaSo2Huyxtt2I/XVbt/WcTAWK1Gx6yjMSjUM2YUo35IBeYdECKS1f29e3r4FKg6cgv5SHkylKpRt2geRzAc+zdzf1FGktITmxCVoT2XCrFSjfMtB2MwWyFrHOcpUHrH3whnd9EYZsgqh/PMADNmFsFRooM/Mh/rQmRvutyb5pbWCas9x6M7n2P/ea9IhkvvCt0UTt+soOrZC5dHz0By/CHNpBco27IPVZIE82flcJwkLhKJTa5Su21NtG5rjF6HcfBCGnCJYVJXQnsyE5vjFG+63JvE8Rn91DCz/Io4dO4YPP/wQL774ItatW4cff/wRHTt2dFteo9Fg5cqViI2Nder1lMlkmDZtGlavXo0pU6Zg8eLF1cZFZmVlYf369Zg+fTpWrFjhWL58+XKIRCIsXrwYU6ZMwdy5c7F48WK3dXjppZdQWlqKmTNnYtmyZUhKSsJjjz2G8vLyO/wt0O0SB/tD7C+D7kyWY5lNb4ThcgG846I83r538xjEfvgMYqY8hpD7+0Po6+3xNu+EOEABscIXuot5jmU2gwmGnGJ4NQlzvZJQCGlUCPTXrAMA+ot58IpxvY40MhjSyGBUZlTduTaVqmDR6u0ncaEQArEI8tSWMBYrYS6/cbpaTTKZzTibnYm0xDaOZUKhEB0Tk3Di0o1vENwqi9WKTQf3QG8wICmu+c1XqAMmswlnMi+iY1LVTTChUIhObdri+Pk7T19r2yIRB04eQ1a+/fg4l5WJI2dPo1u7VI/rfKdEAXKI5L7QZ+Y7ltkMJhjyiuEVHep6JaEQ0ohg6C/lOy3WZ+ZDet06sqRmiH7pfkQ8ORL+fVIhEIuc3hcH+8O/ZzuU/rGrztJAgfptt0AkrJaJYTVbIJSIIY0I9rBlNybyk0Ek84Ehu9CxzGY0w1hY5n7fQgEkYYHQX7MOAOhzCj2ur1AqgdVg9Ggbt0LkL4dI7gP95QLHMpvRBEN+CbyiQtxUTghpRJDTOgCgv1wA6TXrCMQihNzVA8pN+2HV6K/fiutNe0lg1dd+u3keqz0CQcP9aWyYCvsXkZ+fDx8fH/Tt2xdyuRzR0dFo06aNU5mtW7ciNdV+0aPVahEaGooZM2ZAKKy6f/Dcc885/h8TE4NLly5h9erVeOqppxzLTSYTPvnkk2qprZGRkfjnP/8JgUCAZs2a4ezZs5g7dy7uv//+avU9cOAAjh49ivT0dEcq7ZtvvolNmzZh/fr1eOAB1/n+VLNEfr4AAIta67TcotY63rtT2lOZ0Bw5D1OpCpKQAASN7IGISfcg7/Nf6/SiEwBEcvvYXqtG57TcotFBJHM97lfk6w2BUAiLi3UkIdXTJwFAnpoIY7EShpwixzKb0YTCuWsQ+uBA+PdOAQCYyypQuGB9nf4eVBo1LFYrghTOdQ9U+OFyYb6btW7NhbxsTPr8AxjNJvh4eeHDJ19oMGmw5eor7b4u5TXIPwCX83PveLuPjrgHGp0OD731EoRCIaxWK5657yEM6d7b0yrfsavHsuW6C2KLRg+h2+Pcy36ca52Pc6tGB0lwVXq05uQlWFQaWCq1kIQFIqBvB0iC/VCybNuVDQkRMqoXlJsPwlKhgTig7nox6rPd+kt5UHRqDd82cdCeugyRzBv+Pew3Ma5+79QW0ZUbdZbr0jgtWr3jvesJfezttuqcf1dWrR6SAMWd18VfBnm7FlDtOnLH27jlfcmutLvad/MN/t4+V//eLtodVPX3DuifBkNesWNM5c1Io0LgmxiL4mVbbqcJd4TnMWoMGFj+RXTv3h1RUVEYOHAgevXqhV69emHQoEFOk+V06dIF7777LgBApVLhl19+wVNPPYXFixcjOtp+EbhmzRr89NNPyM7OhlarhdlshlzufIEQFRXlcrxk+/btnSatSElJwZw5c2CxWCASOd/ZPnPmDLRaLbp06eK0XK/XIysrC1Q75B1bIeSBAY7XBTNW1Nq+NNfe7cwvhTGvBE3feQLeLWKgP5tda/sF7BNTBI3o4Xhd9POGG5SuGQKxCLK2zVC+/XC15cF394QhqxAlS7cAAgH8urdF2MODUTDz93odd1pTmoZFYvabU6HR6bDl8H58uOBHfPPiWw0muKwNf+7bjQ3pO/DupJfQLLoJzmZl4qsFcxASEIThvfrWSR18k+IRNLSr43XxItepvTVBc/ic4/+m4nJYKnUIf3gwxAFymMsrEdC3A0ylKmhPXKq1OlzVkNqtv5SP8s0HETSkK4JH9oTNbEHFrmPwbhruaoieR3xaNkVg3zTH65I/dtTsDu6QUOaN0JG9oTufDc3Jmv/7+7aOQ9Dgzo7XxUu31vg+AMAnIRreTcNRMG/tLZWXhPgj9J4+UO0+Bn1mwc1XuE08j1FjxMDyL0Iul2P58uXYt28fdu7cia+//hrTp0/HkiVL4Odnvxvn4+OD2NiqPPykpCR07NgRixYtwj/+8Q8cOnQIr732Gl544QX07NkTCoUCq1evxpw5c5z2VRMzu2o0GoSGhmL+/PnV3lMo7vyuKd2Y5tgFp3QxwZVxcyKFLywVGsdykcIXxpziGt23uVRlv+sfElDrgaX2TJbT3darqWtCmQ8slVV3bkUyH7djiCxaPWxWa7U7waLrtnGVb5t4CCRiaI44j7GTtU2AOECBglmrHMtKlm5FkzfHwScxFtoTF2+/gXfAX6aASChEmVrltFyprkCwwvWd61slEYsRExoOAEhsGofTWZewZNtGvP7g4x5ttyYEKK60u8K53WWqcgT5B9zxdr/9dT4eHTEag7r2BAAkNIlFQUkxfvpjWZ0Flrpz2Si4MrMjYE/LBOw9Otf2aohk3jAVKqutD9h7u2xWK0S+zse5/bPiPhXw6oyS4kA/mMsr4R0bAUloQLWxXjEvP4CK3ceg2lFzPVkNqd0AoN5/Cur9pyCS+8CqN0LkL0dAvw43naH0dukv5aGwsGoGU8GVG7YiXy+nyYZEvt4wlpS73IZVZ2+30Me5R1Po612tN+9WCGXeCL2nLwwFJVBuqZ3JinTnc1CQf+3f+0q7ZT5O6aoimbfTzLbXsuiu/r1dtPvKMePVNALiAAViXhzrVCZkVC8YcopR9NsmxzJxsB/C7h+AyiPnUbHnuGcNdIPnsbrTGFNOGyoGln8hYrEY3bt3R/fu3TF58mR06tQJe/bsweDBg12WFwgEEAgEMBjsaTSHDh1CVFQUJk2a5CiTl5fncl1Xjh51ngnuyJEjiI2NrdZbCdiD2pKSEohEIsTExNzyPsgzNoMJZoPzBbZZpYFPyyYw5toDSYG3FF6xEajYWbMpTaIAOYS+Pk4BbG2xGU0wXzexiFmthXezKMfU6AKpBF4xoVAfcDNhlNUKY14JvJtFQnfmsmOxd7MoqPdVn5hEntoS2jNZThd4gH02Pdv1qUJXX9fhyUwiFqNlkzgcPHsSvdvZez2sVisOnjmJe3sPuMnat8dms8ForptHTNyMRCxBYlwzHDxxDH3S7L0eVqsVB04ew5iBw+54u3qDAQKB8zQEIqEQtjqcHdFmNMNsdA5eLJVaeMdFOi6wBVIJvKJCncZLObFaYSwohXdcJHTnqm74eMdGoPKg+zGokrBAx/4AoGTZVseNKsA+Tit4RA8ULlgHs7Jmx2A1pHY718F+oS5rEwezSgNjQc0+hsFmMsOiMjvvU6ODV0w4TCX273WBRAxpeBAqj7sZN221wVSkhHeTMOgvVZ3fvWLCoDl6exNPXQ0qTUVKKP/cf1vr3g6byVxtHJ+lUgfvpuHX/L3F8IoMQeU1PcxOrFYYC8rgHRvhlObqHRuByiuPCqnYdwKaY86/g8gJI6DckgHdhap1JMH+CHtgADQnLkFVw+fJa/E8Ro0RA8u/iC1btiA7OxudOnWCn58ftm3bBqvVivj4eEcZo9GI4mJ78FBRUYEFCxZAq9WiX79+AIDY2Fjk5+dj9erVaNu2LbZu3YpNmza53J8reXl5mDZtGh544AGcPHkSCxYswJtvvumybPfu3ZGSkoLnn38er7/+OuLi4lBUVIRt27Zh4MCBaNu2rQe/jdrjLRUiKtjL8ToiyAvNIn2g1llQXF77g/drg2pbBgKGdIGpuBymUhWC7uoOi0rjNONr5PNjoDl6HhVXeh0EUgkkoQGO9yXBfpBGh8Ki1cOiVEMglSBwWFdojpyDpUILcYg/gkf1gqmkHNrTl6+vQp1Q7z0B/14pMJdWwFxun6bdrNY61Sfs0WHQnc6Eev8pAEDFnuMIGd0bxrwSGHKL4dc1GQKJGJWHnS9WxYEKeMVGoGjh+mr71V3IReCgTgga3h0V+05AIBDAr0d7wGqFIdOzsY2364F+Q/DRgplo1SQerWObYfHWDdAZDRjepRcA4IP5PyDEPxDP3m2/Y28ym5FZkHvl/xYUq5Q4l3MZPl7ejh7K/61cjK5t2iE8MAhagx4bD+zBofOn8dmkV+u0bTfy4NCR+GDmdLSKT0CbZs3x24bV0BsMGNHb/t03dcbXCA0MxqT7HwFgn/DnUq79QtJsNqNYWYazly/B19sbMeGRAICeqR0xb+VShAeH2FNhL1/Cr+v+wF1XtllfKvafgn/3tjCXVdgfw9A7BRa1FtqzVUMMwh4aBO3ZLEcApd53CsEjesBYUAJDXikUnVpDKBGj8kqgIQ6QwzcpHroLubDqDJCGBiJgYCfoswpguvK82+sv/IW+9u9JU4mqTp5jWV/tBuwzdeov5gI2G3wSm8KvWzJKlm+vk7FnlUfOwa9ja5jL1TCrNfDvkgyLRgfdxarxwyGjekN3MReaK88aVh8+i6CBnWEsUsJYWAZ5+xYQisXQnMp0rCP09YLI1xuiKzN+SoL9YTOZYFZrYTOYHEGlRa1F+a4jEPpUnRevf3RHbag4eBr+3ZJhVqphVmng37MdLJVaaK+5SRB2/wBoz2U7HgOiPnAawcO7wVhQCkN+KRQdW0EoEaHyuL237eqsv9ezVGhgUdlviEpC/BF2/0DoM/NRceAUhFfGe8Jqq5NZz3keo786BpZ/EQqFAhs3bsT06dNhMBgQGxuLzz77DC1aVD1rcceOHejZ0562JZPJ0KxZM3z11VeOcY4DBgzAY489hqlTp8JoNKJv376YNGkSpk+ffkt1GD16NPR6PcaOHQuRSITx48e7nYRHIBDghx9+wJdffom3334bSqUSISEh6NixI0JC3Mzq1gC0jJHhv8+0crx+dqR9KvsNB0rw2eLaH1tUG1SbDkAolSDkwYEQ+nhBfzEPBd8vcxozIQ7xd5qIwqtpOKKuSRcKvrcvAPtJr3jhBsBmhTQqBIrObSD08YJZVQnd6Swo1+wG6mksRsWuoxBIxAge2QNCbyn0WYUoWrDe6dlfkiAFDNekSmlPXILS1xsBfdOuPFi6FEUL11e7+JCntrRPuX+h+mQw5lIVin7ZCP8+qYicONL+YOn8UhQuWO8yFak2DejQBeWVasxasxxlFSo0j2mKTye96pjYplBZ6jROukSlxBOfvON4/evmdfh18zqkNE/ENy++DQAor6zAhwt+QKlKBZmPDxKimuCzSa+iU6vkOm3bjQzs2gPl6grMXPYrylTlaNE0Dp+/PsWRCltYWgLhNb2PJUolHv/3647XP69diZ/XrkRqqzb49p9TAQD/eHQiZi79FZ/OmwllRQVCAgMxqt8gPDH6vjpt2/XUe05AKBEjaFi3Kw9QL0LRok1Oz/YTBygguiYVUnsqE0JfL/j3Srny4PgyFC3609FrYbNY4R0XCUWnNhBKxDBXaKA7cxmqXcfqvH3u1Ge7fZpFwb97W0AkhKlIieIlW6rNwllr7c44A4FYjMB+HSH0ksCQX4KSVTuc2+0vh+iawE93PgflPl7w65xkTx8tLkfJqh1OgZE8OQF+nZMcr8PG2G+YlG3aB+3py/BuEg5JgAKSAAWiJox0qlPOdPezwdcU9b6T9r/3kC4QeklhyC1C0ZIt1/29ndutPXPZ/vfu0R4imTeMRUoULdlSrXfuRnxbNoVI5g1ZUjxkSVU37s2qSuT98HvNNO4GeB6rHULmwtYZga1a3zdRwzHkzdpLv2nIvtftrO8q1AvRNbM1/p34dG1z80KNkKgOZxZtSDSbD9V3FagOCRW1O3tsQ2XV/TWzfDxlu4OxrI1B7DsT67sKbj38weH6roJbP/8rpb6rUKP4HEsiIiIiIiLyCFNhiYiIiIioUWImbN1hjyURERERERF5hIElEREREREReYSpsERERERE1CgxFbbusMeSiIiIiIiIPMLAkoiIiIiIiDzCVFgiIiIiImqUhMyFrTPssSQiIiIiIiKPMLAkIiIiIiIijzAVloiIiIiIGiVmwtYd9lgSERERERGRRxhYEhERERERkUeYCktERERERI0SU2HrDnssiYiIiIiIyCMMLImIiIiIiMgjTIUlIiIiIqJGSchU2DrDHksiIiIiIiLyCANLIiIiIiIi8ghTYYmIiIiIqFEScFrYOsMeSyIiIiIiIvIIA0siIiIiIiLyCFNhiYiIiIioUeKssHWHPZZERERERETkEQaWRERERERE5BGmwhIRERERUaPESWHrDnssiYiIiIiIyCMMLImIiIiIiMgjTIUlIiIiIqJGScBc2DrDHksiIiIiIiLyCANLIiIiIiIi8ghTYYmIiIiIqFESMhO2zrDHkoiIiIiIiDzCHktq0L7X7azvKtSLST4967sK9WKm79n6rkK9qFyzt76rUC+sam19V6FeGM/n1HcV6oViTJ/6rkK9EEgl9V2FeiEND6rvKtQLY2ZBfVeBqN4wsCQiIiIiokaJk8LWHabCEhERERERkUcYWBIREREREZFHmApLRERERESNkoC5sHWGPZZERERERETkEQaWRERERERE5BGmwhIRERERUaMkZCZsnWGPJREREREREXmEgSURERERERF5hKmwRERERETUKHFS2LrDHksiIiIiIiLyCANLIiIiIiIi8ghTYYmIiIiIqFESMBe2zrDHkoiIiIiIiDzCwJKIiIiIiIg8wlRYIiIiIiJqlITMhK0z7LEkIiIiIiIijzCwJCIiIiIiIo8wFZaIiIiIiBolTgpbd9hjSURERERERB5hYElEREREREQeYSosERERERE1SgIwF7ausMeSiIiIiIiIPMLAkoiIiIiIiDzCVFgiIiIiImqUhMyErTPssSQiIiIiIiKPMLAkIiIiIiIijzAVloiIiIiIGiUBU2HrDHssiYiIiIiIyCMMLImIiIiIiMgjTIUlIiIiIqJGScBc2DrDHksiIiIiIiLyCHss6W8lcHg3KLq1hdDHC/pLeShZ9CfMxeVuy3snRMN/QEd4NQmD2F+OgpkroT12walM6CODoeiS5LRMeyoTBd8vr40m1IrkeDnG9o5EixhfBPtJ8e68c0g/WV7f1bpt/j3aQd6uOQReEhjzilG2YT/M5eobriNPbQm/Tq0hkvnAWKSE8s8DMBaUuiwbOqYffJpFoXj5NujO5wAAhN5SBI/oAUloAETeXrBo9dCdz0H5jsOwGc013sZbETisq/NxvnjzzY/z/mlVx/mPq6of5w8PhqJLG6dl2lOZKPjfilpowZ0JGt0bfr1TIPT1gv58Dop/WgdTkdJtee+WTRA4tCu84iIgDlAg/5sl0Bw661RG5CdD8H394JscD6GPN3Rns1CycMMNt1vXQp8YgYCRPSCS+0B77CIKPv8Fxpxit+UDR/VC4OjekEQEAQAMl/JRMm8NKveedJSJfO0hyNJaQRziD6vOAN3xiyj83woYswprvT3u+HVNhjy52ZXPdwmUWw7CXF55w3Xk7ZpDkdYKIl9vGEvKUb41A8bCMgCA0EsKv67J8I4Nh0jha2/nhVyo0o/DZjTZy3hLETSkK6QhARB6S2HRGaC7mAvV7qM1/vlecWg3fjuwHWUaNRJCI/FC/1FoHdnEbfmtZ45izq4NKKhQIiYwBE/1GoauzVo53rfZbJi7eyNWH9uHSoMOyVFxeHngPYgJDHGUOVuYi5nb1+B0YQ5EAiF6tUjGc31HwEfqBQBYd/wAPlm/2OX+l076NwJ95TXUemfL92zDrzs3oqyyAgkRMXhpxP1oHRPntvyW4xmYvWkVCspLER0chmcHj0bXxGTH+33+9ZzL9Z4dcg8e6jUI+cpS/LRlDTIunkVZZQVCFP4YlNIZj/YZCom4bi+VeR6jvzIGllTjjEYjpFJpfVejGv+BHeHXOwXFC9fDXFqBwLu6I3LSvcj5aB5sZovLdQRSCYy5xVDvOY6IJ+92u23tyUsoXrjB8drd9hoqb6kIF/O1WH+gGO+Mb1Hf1bkjis5toOiQiNK16TCrKuHfox3CxvZD3uw/AIvV5Tq+ibEI7NsBZRv3wZBfAr+0VvZ1Zq2CVWtw3n5aKwC2atuw2QDd+RyodhyBRWeAOECOoIGdEOTdBaWrd9VGU2/If0BH+PVOtR/nZRUIHN4Nkc/eg5xpP938ON97AhETR7rdtvZkJop/bpjHecCwrvAf2BFFP66CqaQcQff0QdSrDyJryg9u6yn0ksCQXYSKnUcQOfk+l2UiJ4+BzWJF/tdLYNUbEDC4C6JeexhZ//rBEXzUp+CHByFoTF/kTvsJprxShD05Ak0/fQEXxk91e0FoKi5H0YwVMOYUARDAf2hXNPnoWVycOA2GzHwAgO5MFlQb98NUWAaRnwyhE+5C7Gcv4NwD/was1T8HtU2R1gqKlBYo3bAXlgoN/Lu2RejoPsifv9bt59unRRME9EqBcstBGApKoUhpaV/npzWw6gwQyX0gknujfMcRmMpUECtkCOzfESKZD0rX7AZgD850F3OhSj8G65XPd2DfNAj7d0TZuj011r4tp4/g+21/4OWB96B1ZFMsPbgTby6dhXlPvOYyeDuem4kPVv+CJ3sNRbdmrfDn6cP4v99/woxHX0R8SAQA4Nf927Ds0C68NfR+RPgHYc6uDXhz6SzMefwVSMUSlFRW4PUlM9E3sT1eGDAaWqMe325Zhf+sW4R3734UANAvsT06xyc67fs/6xbBaDbXWlC5+dgBfLt2KV65+yG0aRKHxbs347W532DBy+8iUK6o/rvIuoD3F83GU4NGoVtiMv48egBTfp6Bmc+9jWbhUQCAZW9Oc1pn79mT+GTFAvRJSgUAZBUXwGqz4bVRDyE6OAyXCvPw3xULoTca8NywMbXSTld4HqsdQmbC1hmmwv6NrFu3DiNHjkS7du3QpUsXPP7449BqtQCAJUuW4K677kJycjJ69uyJqVOnOtbLy8vDpEmTkJqaig4dOuCll15CSUmJ4/1vvvkGo0aNwuLFi9G/f3+0a9cOAFBRUYEpU6aga9eu6NChA8aPH4/Tp0/XbaOv4d+nA8o37IP22EUY80pQNH8dRP4y+LZLcLuO7lQmlKt3Q3v0gtsygP0C26LWOn6sOsMNyzc0B86oMG9DLnafKK/vqtwxv7RWUO05Dt35HJiKy1G6Jh0iuS98W7i/46/o2AqVR89Dc/wizKUVKNuwD1aTBfJk52NCEhYIRafWKHVxIWkzGFF5+ByMhWWwVGhgyCqE+vA5eMWE1ngbb4V/n1SUb9gL7fErx/mC9fbjvO1NjvM16X/p4zxgUGcoV+2C5vA5GHOKUfTjKogCFJB1SHS7jvbYRZQt3wZNxlmX70vCg+DdPAbF89fBkJkPU0EZiuevhUAqrtZ7W1+CxvZHyfx1qNx5FIaLucj9cB7Ewf5Q9Gzvdp3K3cdQuecEjDnFMOYUofjHlbDqDPBJineUKV+1C9oj52EqKIP+bDaKZq6CJDwIkojgumhWNYrUlqjYdxL6i3kwlahQumEvRDIf+CREu1+nQyIqT1yE5uQlmMsqoNx8AFazGbIr7TSVqlC6ejf0l/JgUWlgyCmCavdR+MRHOZ5PYDOYoDl2AaYiJSxqLQzZRag8eh5eUTX7+V58cAeGt+2MYcmdEBccjn8MugdeEgnWHtvvsvyyjF3oHN8SD3bqg9jgcDzRYwhahEdhxaGqgHhpxk6M69IfPZonISE0Em8Nux8llRXYef4EAGDPxVMQC0V4acAoNA0KRauIJvjHwHuw/dxx5Crt53gviQRBMoXjRygQ4FDWBQxr26lG23+tRbs2Y0THHhie1g1xYZF49e6H4C2RYs3B3S7LL9m9BZ1btMFDvQYhLiwSEweORMvIJli+Z6ujTLDC3+ln1+kjSI1viagge+9tl5ZJeHvMeHRq0QZRQSHo0bodHug5ENtPHq61drrC8xjdzMKFC9G/f3+0bdsWY8eOxdGjR29Yfu7cuRgyZAjatWuHPn364KOPPoLBUHvnbgaWfxNFRUV49dVXMWbMGKxZswY//fQTBg0aBJvNhp9//hlTp07F/fffj1WrVuG7775D06ZNAQBWqxXPPfccVCoV5s+fjzlz5iA7Oxv/+Mc/nLaflZWF9evXY/r06VixYgUA4KWXXkJpaSlmzpyJZcuWISkpCY899hjKy8vruPWAONgfYn8ZdGeyHMtseiMMlwvgHRfl8fa9m8cg9sNnEDPlMYTc3x9CX2+Pt0m3TuQvh0juA/3lAscym9EEQ34JvKJCXK8kFEIaEeS0DgDoLxdAes06ArEIIXf1gHLTflg1+pvXReYD3xZNYMgpurPGeEAc7Gc/zs9mO5Y5jvP4SI+37908BrEfPI2Yf45HyNiGc5yLQwMgDpBDe/KSY5lVZ4DhYh68bxB43IxALLJvy3RNz5/NHmB73+BCr65IIoMhCfZH5YGqG3ZWjR66U5nwSW52axsRCuDXPw0Cbym0xy+6LCLwliJgeFcY80rqJQVY5CeDSOYD/TVpuDajCYaCUnhF3ODzHRYIw3Wpu4asQvfrwJ4eazWa7F04rt6XecOneQwMuTX3+TZZzDhbmIu0plXZIkKBEGlNm+NkfpbLdU7mX0aHps2dlnWKbYkTV8rnq8pQplEjLbZqm3IvH7SObIKTefYyRrMZYqEIQkHVpaCXWAIAOJab6XK/G05mwEsiQZ8WbW+/obfAZDbjbF4W0hKqbggJhUKkJbTCiexLLtc5kX0JaQmtnJZ1atHGbfmyygqknzmO4Wndb1gXjV4HPx/ZbbbgzvE8RjezZs0aTJs2Dc8//zyWL1+OVq1aYeLEiSgtdZ32vGrVKnz22WeYPHky1qxZgw8//BBr1qzB559/Xmt1ZCrs30RxcTHMZjMGDRqE6Gj7hVZiov2L+/vvv8eECRPw2GOPOcpf7XVMT0/H2bNn8eeffyIy0n5h+sknn+Cuu+7C0aNHHeVMJhM++eQTBAXZx+wcOHAAR48eRXp6uiMt9s0338SmTZuwfv16PPDAA3XT8CtEfr4AAIta67TcotY63rtT2lOZ0Bw5D1OpCpKQAASN7IGISfcg7/Nf3V6cUM0SyewBjkWjc1pu0eghlPm4XsfHCwKhEBat80nWqtVDEuTneB3QPw2GvGLHWBR3gkf0gE/zGAglYmjP57i8K1zbRAr7RZBFrXFablFrHe/dKe2pTGiOXnOcj+iOiGdHI++L3+r9OBf7XWl3hXO7zRUaiPzvvN3GglKYSlQIvq8fiuethdVgRMDgzpAE+cEUUDtpgLdDHOwPALAoK5yWm8sqIL7mGHbFq1kU4r97DQKpBFadATn/+gHG6y5OA0f3RvizoyH09YbhcgEuv/I1UA/pz47Pt4vP6tX3rif0kbr8fFu0ere/G6G3FH6d20DjIsAOGtoVPs2iIZSIobuYi7JNrnsS74RKp4XVZkWgzPmYCvRVIKvM9VjZMk0lAn2d00IDZQooNeor76uvbOP6bcod76U2TcD32/7Ar/u3YUyHHtCbjJi5Y63T+tdbe2w/BrRKgZdEcputvDUqbSUsVisC5c5/o0C5Alklrsf3llVWIFCmqFa+TF3hsvy6Q3vg6+WN3m1S3NYjp7QIy/ZsxaSh995eAzzA81jtaSyTws6ZMwf3338/xoyxp2e/99572Lp1K5YuXYqnn366WvlDhw6hQ4cOGDnSPsQlJiYGI0aMwJEjR2qtjgws/yZatWqFbt26YeTIkejZsyd69uyJIUOGwGw2o6ioCN26dXO53oULFxAREeEIKgGgefPm8PPzw8WLFx2BZVRUlCOoBIAzZ85Aq9WiS5cuTtvT6/XIynJ9B7YmyTu2QsgDAxyvC2asqLV9XZtGZ8ovhTGvBE3feQLeLWKgv6bniGqOb+s4BA3u7HhdvHRrrezHJyEa3k3DUTBv7U3LKrcchGr3MUgCFfDvnYLAfmlQ1uDFpyvytMTrjvPfa21f105qYz/Oi9H0/+rnOJd3TULY+GGO13lfLqqdHVmsKPh2KcIm3IVm01+BzWKF9uQlaI6er5crFb9BnRD16kOO11lvfn/H2zJkFeLCxGkQybzh17cDov45HpkvfOEUXKo27oPmwCmIg/0R/OBAxLz3JDKf/7TWJ/PwTYxFYP80x+uSlTtqdX8AIJCKETKqN0xlFVDtPV7t/fLth1Gx9wTEAQoE9GiHwN6pUG45WOv1qk3xIRF4a+j9+G7rH/hxxzqIhALck9oDgb5yl49nOJF3GZfLivD28Lq9MVzT1h5Mx8D2ndwGx8UV5Xhj3rfom9wBIzv1rLV68DxGgH1eEqPR6LRMKpVWm6vEaDTixIkTeOaZZxzLhEIhunfvjkOHDrncdmpqKlauXOnoCMrOzsa2bdswatSomm/IFQws/yZEIhHmzJmDjIwM7Nq1C/Pnz8cXX3yBuXPn1sj2fXyc76ZpNBqEhoZi/vz51coqFNUH39c0zbEL0F+ZhAIABFdmdRMpfJ16NUQK3xvOnngnzKUqWCq1kIQEMLCsJbrzOSjIrxrnKxDZUxZFMh+nNB+RzNtt6p5FZ4DNaoXounROoa+3446xV1P7bKExL451KhMyqhcMOcUo+m2TY5lVo4dVo4e5rAJWvRHhDw+2T/hxC2lHd0pz/KJTCtTV1E2RQgZLRVXvvEjhC2NuTR/nFfV2nGsOn0P2xTzHa0e7/WSwqKo+32I/WbVUyNtluFyA7HdnQejjBYhFsKq1iPnXY9BnFtx85RpWufMoLpzMdLwWSq58rwX6wVxa1TsjDvKD/iY9EzBbYMothgmA/mw2vFvFInhsP+R/+oujiFWjh1GjhzGnGNoTl9Bq9adQ9EpBxZ8HarJZ1egu5jrPaCmyp2qKfL1hvaZnRujrDZOb2Y6tOqPLz7fI17vaZ1IgESN0VB/YjCaU/LHT5eREVq0eVq0eZqUaZQYjwscOgGrvCaf63Cl/H18IBUIoNc4z3Cq1agTJXJ8vg2RyKLXOvYpKjdrRc3d1PaW2EsHX9P4ptZVoHlo1/GNA61QMaJ2KMo0aPhIpIBBgycEdiPQPwvXWHNuH5qFRaBkec2cNvQX+vnKIhEIoK517G5WVagTJXfc0B8n9HD21TuUV1csfyTyPrJJCvPPARJfbKqkox8uzvkRS03i8NurhO2zFreF5jABgxowZmD59utOyyZMn44UXXnBaplQqYbFYEBzsPM49ODgYFy+6HsYwcuRIKJVKPPzww7DZbDCbzXjwwQfx7LPP1mwjrsHA8m9EIBAgLS0NaWlpeP7559GvXz/s3r0b0dHRSE9PR9euXautk5CQgIKCAuTn5zt6Lc+fP4+KigokJLifDCQpKQklJSUQiUSIiam9k5A7NoMJZoPKaZlZpYFPyyaOC2yBtxResRGo2FmzKQGiADmEvj7V0vKo5thM5mqPGbBU6uDdNNxxAhZIxfCKDEHl4XOuN2K1wlhQBu/YCKf0IO/YCFRmnAEAVOw7Ac2x806rRU4YAeWWDOgu3ODC/crd/qsXCrXllo5zr6vH+Y0H+N8ukX/9Hec2vREmvfMdXnN5JXzbxMGYbR8TJPCWwqtZFFRbMmpkn1cnKpKEBcIrLhKly7fXyHZvtw7W624QmEpVkKUlwnD1sQG+3vBpHQfliturn0AogEDi/pJAIBAAghuXqSk2kxlm1XWfb40O3k3CYSopt9dHKoZXRDAqr/t8OlitMBYp4dUkHLqLuY7FXk3CUXm06jtBIBUjdHQf2CxWlKza6XbmzWsJcPXzXTPTVEhEYrQMj0ZG1nn0bGF/dJXVZkVG1nmMTnE9DrBNZCwysi7gvrRejmUHLp9DUqR9foRI/yAEyRTIyDqP5mH2QFJj0ONUfjbubl/9XH81EF17bD+kIjE6xjrPDq4zGrD1zFE82WtYtXVrkkQsRsuopjh48Qx6XUlVtVqtyLh4Bvd06eNynaQm8Th44TTGdu/vWHbg/CkkNYmvVnbNwd1IjGqK5pHVr0uKrwSVLaOa4q17x0MorN1pSHgeqzsNORX2mWeewYQJE5yW1dSTFfbu3YsZM2bgnXfeQbt27ZCVlYUPP/wQ3377LZ5//vka2cf1GFj+TRw5cgTp6eno0aMHgoODceTIEZSVlaFZs2Z44YUX8M477yA4OBi9e/eGRqNBRkYGHn30UXTv3h0tW7bEa6+9hn/+85+wWCx499130blzZ7Rt637wfvfu3ZGSkoLnn38er7/+OuLi4lBUVIRt27Zh4MCBN1y3tqi2ZSBgSBeYisthKlUh6K7usKg0TjNhRj4/Bpqj51Gxwx5sCqQSSEIDHO9Lgv0gjQ6FRauHRamGQCpB4LCu0Bw5B0uFFuIQfwSP6gVTSTm0py/XdRPvmLdUiKhgL8friCAvNIv0gVpnQXG58QZrNhwVB0/Dv1syzEo1zCoN/Hu2g6VSC+25qt60sPsHQHsuG5VX0jrVB04jeHg3GAtKYcgvhaJjKwglIlReGWN19e7t9SwVGkfPmHd8FEQybxgLSmE1miEJ8Udgnw7Q5xTVS9Cl2nYIAYM7Vx3nw68c58euPc7vhebohds7zod2gebIeVjUV47zu3vaj/NTDeM4L9+4D4EjesBYqIS5uBxB9/SGpVwNzZWLKwCIeu1haDLOQLXZnsIo8JJAEhboeF8c4g9pkzDHHXsAkHVsBataC1NZBbyiQxHy8CBoMs5Cd8L1xCB1rWzxZoSOHwZjThFM+aUInTgS5lIV1NfcMIv94kVU7DgC5bJtAICwp0ehcu8JmArLIPT1hv/ATvBNaYGs1+x3zSWRwfDr3xGa/SdhLq+EJCwQIY8MhtVgROWe6mmidUF96Cz8OreBqVwNS4UGft2SYdHooLtQFTSG3tsXuvM5qDxqv4hWZ5xB8OAuMBaVwVhQCkVqIoQSMTRXJnmyB5V9IZCIULp+JwRSCQRSe3qkVWcAbDZ4x0Xan4FZWAar0QRJsD8CeraHIa+42ph9T4xN64WP1y1CYkQMWkXEYGnGTuhNJgxN7ggAmLb2N4TI/fDUlcDu3g498I9FM7DowHZ0jW+FzWeO4GxhLl4dbB97JRAIMKZDTyzYsxnRASGI9A/EnF0bECL3Q8/mVc9dXn5oN5KiYuEjkeLg5XOYsX0Nnuo1DHJv5yykLWeOwGKzYlDr1Bprszv39+iPaUt/QquoWLSKicWS3VugMxowLM0+ZOfDJXMR6heApwePBgDc170fXvzxC/y2cxO6JiZj89EDOJOXhddGP+K0XY1eh63HM/DcsOrjJosryvHSrC8Q4R+E54bdi/JrekCDFf6119jr8Dz29+Mq7dWVwMBAiESiahP1lJaWIiTE9eROX331Fe6++26MHWvvrU5MTIRWq8X//d//YdKkSbVy84SB5d+EXC7H/v37MW/ePFRWViIqKgpvvfUW+vSx3wE0GAyYO3cuPvnkEwQEBGDo0KEA7Cen7777Du+//z7GjRsHgUCAXr164d///vcN9ycQCPDDDz/gyy+/xNtvvw2lUomQkBB07NjR7Qegtqk2HYBQKkHIgwPtD46/mIeC75c5PeNOHOIPkbzqhOrVNBxR16SPBN/bFwCg3nvC/txKmxXSqBAoOreB0McLZlUldKezoFyzu14mubhTLWNk+O8zVbPqPTvSftd7w4ESfLa4YVxA34x630kIJWIEDekCoZcUhtwiFC3Z4tQDIQ6QQ+RTFUBrz1yG0NcL/j3a20+qRUoULdlyW+ltNrMF8nbNIemXBoiEsKjtFwEVe0/UaPtulerPAxBKxQh5YEDVcf6/5c7HeXAARLLrjvMXqp7jGHyP/XtBvfek/bmVNiukUaHXHOca6M5chnJNOmBpGMd5+do9EHpJEfbYMAh9vaE/l428z39zarckLAAiRdVkXd5xkYh+c5zjdehDgwAAFTuPomj2HwDsx0zAgwMh9pPBXF4JdfoxlK3cWUeturnSnzdC6O2FqNcehlDuC+2xC8h6bbrTOEhJVCjE/lWTuIgCFYj652MQB/vBqtFDfyEXWa9Nh+bK7LI2oxm+7RMQPLYfRApfmJVqaI+cQ+Zzn8JyXQ9LXVEfPA2BRIygAR3tn++8YhSv2Ob8+faX21OWr9Cdy0a5jxf8uybbg8OSchSv2OZ4tp80NBBekfa0sqjHRzjtL2/2KljUWtjMFsiSmiGgd8qVz7cOugs5qNh/qkbb169Ve5TrNJizawOUWjUSQqPwnzFPOHoSiyrKIbym2yU5Og5Thj+E2bvWY9bOdYgOCMHUUeMdz7AEgAc79YHeZMTnG5ei0qBH2+g4fHzvE5CKq8YWni7IxrzdG6EzGdAkKAz/GHQvBrfpUK1+a47tR6/mydUCztrQv21HlGsqMfvPP1BWWYHmkTH472OTHamwReVKp5lsk5sm4N/3P4FZm1Zi5saViAkOxYcPP+N4huVVfx47CBtsGNCu+qNSDpw/hdzSYuSWFuO+T/7p9N62D76rhVa6xvMYuSOVSpGUlIT09HQMHDgQgL03Pz09HePGjXO5jl6vrxY8iq70QNtqadI9ga22tkxUAy6++EV9V6FeTPKpvQkDGrKZIa6fJ9jYmWt4nO9fhbUGe3z+Sow3G//YSCnGuE5lbOyuDXb/TkSBtT+fQkNkrIfx1w1B09cfuXmhevLvWfX3DPWbeX9iq5sXumLNmjV48803MXXqVLRr1w7z5s3D2rVrsXbtWoSEhOCNN95AeHg4Xn31VQD258zPmTMH77//viMV9t1330VSUhK+/PLLWmkPeyyJiIiIiIgasOHDh6OsrAxff/01iouL0bp1a/z444+OTMD8/HynHspJkyZBIBDgyy+/RGFhIYKCgtCvX79qz6KvSQwsiYiIiIiIGrhx48a5TX29/kkMYrEYkydPxuTJk+uiavZ91tmeiIiIiIiI6lBDnhW2sanduZSJiIiIiIio0WNgSURERERERB5hKiwRERERETVKTIWtO+yxJCIiIiIiIo8wsCQiIiIiIiKPMBWWiIiIiIgaJSFzYesMeyyJiIiIiIjIIwwsiYiIiIiIyCNMhSUiIiIiokaJmbB1hz2WRERERERE5BEGlkREREREROQRpsISEREREVGjxFTYusMeSyIiIiIiIvIIA0siIiIiIiLyCFNhiYiIiIioURIyF7bOsMeSiIiIiIiIPMLAkoiIiIiIiDzCVFgiIiIiImqUmAlbd9hjSURERERERB5hYElEREREREQeYSosERERERE1SkyFrTvssSQiIiIiIiKPMLAkIiIiIiIijzAVloiIiIiIGiUhc2HrDHssiYiIiIiIyCMMLImIiIiIiMgjTIUlIiIiIqJGiZmwdYc9lkREREREROQRBpZERERERETkEabCEhERERFRo8RU2LrDwJIaNFGwX31XoV7M9D1b31WoF0+VtKzvKtSL6apL9V2FemFRquu7CvUiYOJd9V2FemGt1NV3FeqHzVbfNagXVr2hvqtQL/6u57H19V0BahCYCktEREREREQeYY8lERERERE1SkLmwtYZ9lgSERERERGRRxhYEhERERERkUeYCktERERERI0SM2HrDnssiYiIiIiIyCMMLImIiIiIiMgjTIUlIiIiIqJGiamwdYc9lkREREREROQRBpZERERERETkEabCEhERERFRoyRkLmydYY8lEREREREReYSBJREREREREXmEqbBERERERNQoMRO27rDHkoiIiIiIiDzCwJKIiIiIiIg8wlRYIiIiIiJqlJgKW3fYY0lEREREREQeYWBJREREREREHmEqLBERERERNUpCpsLWGfZYEhERERERkUcYWBIREREREZFHmApLRERERESNkoDTwtYZ9lgSERERERGRRxhYEhERERERkUeYCktERERERI0SM2HrDnssiYiIiIiIyCMMLImIiIiIiMgjTIUlIiIiIqJGSchU2DrDHksiIiIiIiLyCANLIiIiIiIi8ggDS3Lp0UcfxYcffljf1SAiIiIiumMCgaDB/jQ2HGNJHtu7dy/Gjx+P/fv3w8/Pr76r48S/bwfIOyRC6C2FIbsQZat3w1xWccN15J1aw797W4jkPjAWlKFsbTqMeSUAAJG/HDEvP+ByveLFf0J7MhMAII0KQcCATvCKCobNBhhzi6HctB+mwrIabZ87/j3aQd6uOQReEhjzilG2YT/M5eobriNPbQm/Tq0hkvnAWKSE8s8DMBaUuiwbOqYffJpFoXj5NujO5wAAhN5SBI/oAUloAETeXrBo9dCdz0H5jsOwGc013saakBwvx9jekWgR44tgPynenXcO6SfL67tatSLonj7w75MCoa839OdyUPTTGpgKlW7LB97VHfK0VpBGBsNqMkN/Pgcli/6EqaBujuE7EfLwIAQM6gyhzAe605ko+H45TPmuj2EACBrTF4puyZDGhMFmMEF3+jKKf1oDY6798y4JC0TCzLdcrpv7nwVQ7z5WK+1wZ/mBnfht7xaUVaqREB6FFwffg9ZRsW7Lbz11GLO3rUOBqgwxQSF4ut8IdG3exvH+3O3rsPnkYRSryyEWidAyIgYT+wxHm+iqbZ4tyMEPm//A6fwsiIRC9Epsh+cHjoKP1KtW2+rXuQ1kbeIh9JLCkF+C8m2HYFZV3nAdWXICFKktIfL1hqlUBeX2QzAVXXOMi4QI6NEOPi2aQCASQZ9VgPJth2DVGaptS+glRdiDAyGW+yJ35u+wGU0AAK+oUITe06da+bw5q2DVVt/O7VhxOB2/HdiGMk0lEkIj8UK/u9E6sonb8lvPHsWcXRtRUKFETEAwnuo1DF2btXK8b7PZMHf3Rqw+vh+Veh2So+Pw8oDRiAkMqbYto9mM53/5FheK8/HDuBfRPCyqWplcZQmeXvA1hEIhVj3/rkdtvV3LD+zEb+mbq479IfeidfQNjv2ThzF721oUlJchJigUTw9wPvav9fmaRViVkY7nB43GfV2q/20bur/TeYwaPvZYUqPl16Md/Lq0QdnqXSj4cSVsRjPCxg0BRCK36/gmxSNocBeUbzuE/Bm/w1hYhrBxQyH09QYAWCo0yP70Z6ef8i0HYTUYoTtnD7AEEjHCHhkCi6oS+T+uQuGcP2A1mhA+bkidjCBXdG4DRYdElG3ch8KF62E1mhE2th8gcv9x902MRWDfDlDtPob8n9bAVKxE2Nh+EPpWv3hUpLUCYKu23GYDdOdzULJsG/JmrULp2nR4x0YgaFCXmmxejfKWinAxX4vpKy7Xd1VqVeDwbggY1AlF89Yie+ocWA1GRL/6MAQS958Fn1axKN98ANnvz0HufxdCIBIi+rVHIJBK6rDmty7o3j4IvKsHCr5fjsuvT4dVb0STdydCIHF//9Q3uRnK16Tj8uvfIvudHyEQC9Hk3Sch8LK30VRSjnOPve/0U/zzBlh0BlRmnKmrpgEANp88hO///B2P9RyCH554BQlhUXjj1x+g1Li+YXQ85xLeX7EAw1M6Y+bEV9GzZVv8e8kcXCrKd5SJCQ7FS0PuxawnX8fXj76ACP8gvPHrDJRr7AFciVqF137+HtGBIfju8ZfxnweeRmZJAT5e9UuttlWRmgh5u+ZQbstA0ZLNsJktCBnZ84bfYT7NYxDQsx0q9p9E4aJNMJaUI3RkLwh9qr7DAnq2h3dcFMrW7UHx8q0QyXwQPKyby+0F9k+DqVTldn8FC9Yhb84qx4+nQeWWM0fw/bY/ML7rQMwY9wISQiPx5rJZUGpdB9PH8y7jg9W/YlhyR/ww7kX0aJ6E/1s5H5dKChxlft2/DcsO78Y/BozGtw8/D2+JBG8umw2j2VRtez/sWINgmfsbw2aLBR+s+RVto+M9aued2HziEL7fuAKP9RqCH558FQnhUXjjlxnuj/3sS3h/+XwMT+mCmU+9hp6Jyfj3otlOx/5VO04fxcncywhR+Nd2M2rN3+U8Rn8NDCwJWq0Wb7zxBlJTU9GzZ0/Mnj3b6f0VK1bg3nvvRWpqKnr06IFXX30VpaX2XoCcnByMHz8eANCpUyckJibirbfsd/itVitmzJiB/v37o127drj77ruxbt26OmuXoksSVNsPQ3cmC6YiJUpWbINY4QvfVu7vcvp1TYY64ww0h8/BVFKOsj92wWYyQ57a0l7AZoNVo3P68W0VB+3JS7CZ7L1ykpAAiHy9Ub41A+ZSFUzF5VBtOwSR3Bdif3mtt9svrRVUe45Ddz4HpuJylK5Jh0juC98W7u98Kzq2QuXR89AcvwhzaQXKNuyD1WSBPDnBqZwkLBCKTq1Rum5PtW3YDEZUHj4HY2EZLBUaGLIKoT58Dl4xoTXexppy4IwK8zbkYveJ8vquSq0KGNwZZSt3QnPoLIw5RSicuRKiQAVkHRLdrpP32S9Q7zwKY14JjNlFKPxxFSQh/vCKi6zDmt+6oJE9Ubp4Myr3nYThcgHyv1wEcZAf5F2T3K6T895sqDYfhDG7EIbMfOR/tRiSsEB4J8TYC1htsJRXOv0ouiZBvfMobHpjHbXMbvG+bbgrpSuGte+MuNAIvDLsPniLJVh7ZJ/L8kv370DnhFZ4sGt/xIaE44k+w9AiIhrLD+50lBmYlIa0+JaICgxGfGgEnhs4ChqDHheK8gAA6edPQiwU4aWh96JpcBhaRTXFK0Pvw/YzR5FbVlxrbZW3b46KA6ehv5QPU6kKZZv2QSTzgU989V60qxQpLaE5cQna05dhVqpRvjUDNrMFstZxAACBVAxZ63iodh2BIbcYpuJyKP88AK/IEEjDg5y2JUtqBqGXFJWHzrrdn0VngFVb9eOpxQd3YnhyZwxL7oi44HD8Y+BoeImlWHv8gMvyyzJ2oXNcSzzYqQ9ig8PwRI/BaBEWhRWH0wHYeyuXHtqFcV36o0fzJCSERuKtoQ+gpLICO8+fdNrW3ktncODyOTzbZ7jb+s3etQFNgkLRN7Gtx229XYv3bsVdqd0wLKWL/dgfPhbeEinWHt7rsvzS/dvtx363K8d+3+FoERmD5Qd2OJUrrijH1+uXYcrocRAJ/7qXw3+X85gnhIKG+9PY/HU/SVRjPvnkE+zfvx/fffcdZs2ahX379uHEiROO981mM1566SWsXLkS3377LXJzcx3BY2RkJL755hsAwLp167Bz505MmTIFADBjxgysWLEC7733HlavXo3HH38cr7/+Ovbtc30hVJPEAQqIFb7QXcxzLLMZTDDkFMOrSZjrlYRCSKNCoL9mHQDQX8yDV4zrdaSRwZBGBqMyo+oCxFSqgkWrtwejQiEEYhHkqS1hLFbCXH7jVC5PifzlEMl9oL9cddfaZjTBkF8Cr6jq6U8A7O2OCHJaBwD0lwsgvWYdgViEkLt6QLlpP6wa/c3rIvOBb4smMOQU3VljqEaIQwMgDlBAe/KSY5lVZ4D+Qm5VAHULrvb8WDW6Gq+jpyThQRAH+UFz5JxjmVWrh/5sNnwSm97ydhyZCZVal+97JUTDu1k0VJv2e1bh22SymHE2PwdpcS0dy4QCITrEt8SJ3EyX65zMzURaXAunZZ2atXJb3mQx449D6ZB5eaN5uD2AM5nNEIvEEAqqLhW8xPbe3GM5l1xux1MiPxlEMh8Ycgody2xGM4yFZZBGBLteSSiAJDQA+uu+a/Q5hY51pKGBEIiE0GdXlTGXq2FWa5y2Kw5UwK9Ta5Rt2ucqMcMh/IGBiHz8LoTc3ct9vW6RyWLG2cJcpMU2v6ZJQqTFNsfJfNe9UCfzL6PDNeUBoFNcS5zIs5fPV5WhTKNGWtOqMnIvb7SOaOK0zTKNGp9tXIq3hz4Ab7HrbISMrPPYdu4YXuo/6o7beKccx378dcd+XAucyHXzu8nJdCoPAJ2aJeJETlV5q82Kab8vxAPd+iE+tGHeLCP6K+IYy785jUaDJUuW4L///S+6dbOnBH388cfo06dqnMF9993n+H+TJk0wZcoU3HfffdBoNJDJZPD3t6eQBAcHO8ZYGo1GzJgxA3PmzEFqaqpj3YMHD+K3335D586da7VdIrkPgOoXwRaNDiKZj+t1fL0hEAphcbGOJMR1mow8NRHGYqVT8GQzmlA4dw1CHxwI/94pAABzWQUKF6y354vWIpHM21Hna1k0egjdtdvHy95urXOwaNXqIQmqSo0K6J8GQ16xY0ylO8EjesCneQyEEjG053Nc9m5S3bnaS25RaZyWWyo0EPvLbm0jAiD04cHQnc2GMbf2eqrulDhQAQDVbtyYyysd792UQIDwJ0dCe/ISjFmFLosEDOwEQ3YhdKfrNuVMpdXAarMiUObclkCZAlmlrm/clFWqXZZXVjqnD6afO4GpK+bDYDIhWK7Apw89C39f+zGTGtcC3/35O37dsxljOvWG3mjED1tWAwBKK288Vv1Oia4G99f1Alp0esd71xN627/DrNW+wwyQBNq/w4S+3rBZLI6xkteWcWxXKETQ4C5Q7T4GS6UOYr/qGSYWrQ7KrQdhLFJCIBJB1iYOoaP7oGjJZphKyu+kyVDptPa/r6/z/gJ95chy0zNcpql0Wf5q6mzZlX+rlZHJUXYl1dlms+GT9Ysxsl0XJEbEoEBVffy0SqfBJ+sX4+1hD0Dm5fr3X5vcHvvyOzj2NVXH7C+7N0MkFGJMp941X2mivzEGln9z2dnZMJlMaN++vWNZQEAA4uOrxlEcP34c06dPx+nTp6FSqWC7Ehzl5+ejefPm1bYJAJcvX4ZOp8MTTzzhtNxkMqF169Y13g5Z2wQEjejheF3084Ya38f1BGIRZG2boXz74WrLg+/uCUNWIUqWbgEEAvh1b4uwhwejYObvsJktNVYH39ZxCBpcFaQXL91aY9u+lk9CNLybhqNg3tqbllVuOQjV7mOQBCrg3zsFgf3SoKzjHp6/M0W3ZIQ9VpXSlvfFrx5vM/TRYZDGhCLnw3keb6sm+PVJQcSkex2vs9+f4/E2w58ZBa+m4bj89v9cvi+QiuHXOwWli/70eF8NSUpsc/w48VWodBr8cXgP3lv+E757/CUEyhSID43AWyMfwnebVmLmljUQCQW4t2MvBMoUENbQbIY+LZsgsG+a43XJHztvULp2+XdLhlmphvZsltsy5vJKpxsYxoJSiP3kkKe0+Mt9zy0/tBtaowEPd+7ntsxnG5ehf6sUtI9pVoc1q11n8rOxdN92/PDkq41yVk6qjn/nusPAkm5Iq9Vi4sSJ6NmzJz799FMEBgYiPz8fEydOhMlUfQKAa9cD7Omw4eHhTu9JpdKar+eZLKdeQ4HYPimJUOYDS2VV751I5gOjm5lZLVo9bFZrtR5N0XXbuMq3TTwEEjE0R847LZe1TYA4QIGCWascy0qWbkWTN8fBJzEW2hMXb7+BbujO56Agv8TxWnBlYiKRzMcpXVUk83aeHfEaFp3B3u7regOEvt6Onk+vphEQBygQ8+JYpzIho3rBkFOMot82OZZZNXpYNXqYyypg1RsR/vBgqNKP3VL6LHmu8tBZ6C/kOl5f/SyI/GWwXDOrpshPBoObnrlrhY4bAln7FsiZ9hPMyhvPLFxXKvedxKUz2Y7XVyfoEQfIYbmmjuIAOfSX8qqtf73wp0dB3qk1st7+H8xuJmxRdG8LoZcEqi0ZHtb+9vn7yiAUCKtNVqLUqBEkc90jGyRXuCwfKHcu7yP1QnRQKKIRijbRcRj3/UdYc2QvHuk+EIB9HObApDSUVarhc+W7e/G+bYgM8Cz98yr9pXwUFm50vHZ8h/l6OfVAiny8YXTTI2jV27/DhNW+w7wcmRhWrR4CkQgCqcSp1/LaMl4xYZAE+SN6UvTV2gAAoiaOhPrgaVTscx6beJWxqAzSSDdDDW6Bv4+v/e973UQ9Sm0lgmSux+UHyeQuy1/toQy68q9SW4lgeVXmiVJTieZh9tTPQ9kXcDI/C0O++pfTdp5dOB0DW6fgraH341D2Bey+cAqLHOMTbbDabBj4xT/x6qB7MCy50x23+1a4PfYr1QiSu55syO2xf2VyomNZF1GuqcQDX091vG+1WfH9pt+xZN82/PrC/9VwK4j+PhhY/s01adIEEokER44cQVSUfVyNSqVCZmYmOnXqhIsXL6K8vByvvfYaIiPtJ6Pjx487bUMisY/LsFiqeuISEhIglUqRl5dX62mvgD391HxdipNZrYV3syjHIz4EUgm8YkKhPnDa9UasVhjzSuDdLBK6M1Wpbt7NoqB2cUEhT20J7ZmsaulXAonY0atbVcErr2v4ppnNZK6W/mep1MG7abgjkBRIxfCKDEHl4XOuNmFvd0EZvGMjnNJcvWMjHDNfVuw7Ac0x5wA6csIIKLdkQHfhBqmxV+4SCm4wEy/VLJveCNN1E8uYy9XwbRPnSPEUekvhnRAN1ZaDN9xW6LghkKclIufj+TDfYZpfbbDqjLDqnB8jYi6rgKxdcxgu2Wd+FPp4wbtlEyhvkood/vQoyLsmIWvKDLc3XwB7Gqx6/ylYKjRuy9QWiUiMlpExyMg8h55XJk+x2qzIyDyHe9J6ulynTXQcMjLP4b7OVcMaDl46i6TouBvuy2azwWSu/nigoCsB6ZojeyEVS9Ax3v3ET7fDZjLDonLen0Wjg1dMGEwl9iBfIBFDGh6EyuMXXG/EaoOpuBzeMWFONxK8YsKgOWZfx1ishM1ihXdMGHQX7TdexAFyiBUyx2OVStemO27EAIA0LBBBAzqheNlWmG/wd5eEBHh040wiEqNleDQyss6jZ/OkK02yIiPrPEandHe5TpvIWGRkncd9Har+/gcun0PSlcfPRPoHIUimQEbWecejQzQGPU4VZOPu9l0BAJP73Y0negx2rF9SWYE3l83G/931EFpH2scmT3/wOVhtVkeZXRdO4tf92/DNg5MQ4iawq0mOY//S2erHfkc3x35MHDIyzzo9OuTgpbNIirH/bga17VhtDOYbv8zAoLZpGNq+4c5iTvRXwMDyb04mk2HMmDH473//i4CAAAQHB+OLL75wpA1ERUVBIpFg/vz5eOihh3D27Fl89913TtuIjo6GQCDA1q1b0adPH3h5eUEul+OJJ57AtGnTYLPZkJaWBrVajYyMDMjlctxzzz213jb13hPw75UCc2kFzOVqBPRLg1mthfaa8VFhjw6D7nQm1PtPAQAq9hxHyOjeMOaVwJBbDL+uyRBIxKg87Dw7oDhQAa/YCBQtXF9tv7oLuQgc1AlBw7ujYt8JCAQC+PVoD1itMGRWn+68plUcPO1I6TKrNPDv2Q6WSi2056p6eMLuHwDtuWzHrIfqA6cRPLwbjAWlMOSXQtGxFYQSESqP23tXr/ZCXs9SoXGM3fOOj4JI5g1jQSmsRjMkIf4I7NMB+pyierkYvxXeUiGigqseRxAR5IVmkT5Q6ywoLq/bWT9rU/mGfQga2ROmgjKYSsoRfG9fWJRqaK55ZEb0G4+g8uAZqP60z0IZ+uhQKLolI/+rRbDqjRBdGY9p1RocMyA3JGWrdiL4/v4w5pfAVKhEyMODYS6rQOWeqonImkx9Cuo9x1G+xj5zZvgzo+HXOwU5H82DVWeAKMDey2PV6p2evSqJCIZPUjxypnqecnunxnbug49X/YKWkU3QOqopluzbBr3JiKHt7DfuPlr5M0IVfniq3wgAwJhOvfDygm+xaO9WdE1ojc0nD+FMfjZeHWbPOtAZDViwexN6tEhCkNwPKq0GKw7uQrFahT6tUxz7XX5gB5Ji4uEjkeLApbOYsXkVnup3F+Tersds14TKI+fhl9bannZaoYF/lyRYNDrorgkaQ0b1hu5iriNwVB8+i6ABnWAsUsJYVAZ5+xYQisXQnMoEYJ8ASHPqEvx7toPVYITVaEJAr1QY8ksdWSzXf0+JvO3fDSal2tHLKW/XHGa1BqayiitjLOPhFR2GklXOM47errFpPfHxusVIDI9Bq4gmWJqx0/73TbKnCU9b+xtC5P54qtdQAMC9HXrgH4tmYNGB7ejarBU2nz6Cs4W5eHWQPUVcIBBgTGoPLNi7GdGBIYj0C8Kc3RsQIvdDzyvPcwz3C3Cqg4/E3iMdFRCM0CuP34gNdp647kxhDgQCAeJDIjxq7+0Y26UvPl75s/3Yj47Fkr1Xjv0rQeBHvy9EqMIfT/W/euz3xsvzp2PRni3o2rwNNp84hDN52Xh1+P0A7L2g/r7O48tFQiGCZH5oGuxmcr8G7O9yHvNEY5x9taFiYEl44403oNVqMWnSJMhkMkyYMAGVlfZesKCgIHz88cf4/PPPMX/+fCQlJeHNN9/EpEmTHOuHh4fjhRdewGeffYa3334bo0ePxscff4yXX34ZQUFBmDFjBnJycqBQKNCmTRs8++yzddKuil1HIZCIETyyB4TeUuizClG0YD1wTc+qJEgBwzXpU9oTl6D09UZA3zSI5D4wFpSiaOH6akGVPLUlLBUap5TDq8ylKhT9shH+fVIROXEkbDbAmF+KwgXrXabU1jT1vpMQSsQIGtLF/nDx3CIULdkCWKruOosD5BBd83w37ZnLEPp6wb9He3twWKRE0ZIt1Xpjb8RmtkDerjkk/dIAkRAWtT2Yrdh74uYr15OWMTL895mqB4o/O9J+l37DgRJ8trh2Zr2sD8o16RB4SRE24S4Ifb2hP5uN3M9+gc10zWchLBAiha/jdcCAjgCAmLfHO22r4MeVUO88WjcVvw1ly7ZB6C1FxHNjIJR5Q3cqE9nvzXYKgqURQRD7VV1QBg63T1gW+5Hzd1L+V4ug2lzVm+s/sCPMpRXQuOv1rwP926RCpa3E3O3rUKapQEJ4NP7zwNOOnsSiCqXTuMfkmHj8a9Q4zN62Fj9uXY3owFC8f98ExF9JgxQJhcguKcI7R/dDpdPAz0eGxMgm+PrRyYgPrQoaTuVlY+6O9dAZDWgSHIZXho3F4LYda7Wt6kNnIJCIENgvDUKpBIb8EpSs2un8HeYncwR+gH1YQLmPF/y6tIHI1xumEhVK/tgJq65qEqDynUcQYLMheGg3QCSEIasQyu23mdosEiKgR3v7cAOz2b6fldth8HBSq36J7VGu1WDO7o1QatVICI3Cf+59wpHqXKQud/77RsViyvAHMXvXBszatR7RASGYevejTgHfg536QG8y4vONy1Bp0KNtdBw+vncCpG5mf22o+iddOfa3XXPsP/RM1bGvuu7YbxKPf41+FLO3rsGPW1YjOigU79//hOPYb2z+Lucx+msQ2Krl7BE1HJffm1XfVagXAjezHzZ2T5W0vHmhRmh6YfWe778DSwMZs1nX/O79e85Eaa2DG2sN0bXptX8nAl+vmxdqhCYcb7jPbq5N6/9Tu+NtPTFnTWZ9V8GtCcPj6rsKNYo9lkRERERE1ChxUti6I7x5ESIiIiIiIiL3GFgSERERERGRR5gKS0REREREjRJTYesOeyyJiIiIiIjIIwwsiYiIiIiIyCNMhSUiIiIiokZJyFzYOsMeSyIiIiIiIvIIA0siIiIiIiLyCFNhiYiIiIioUWImbN1hjyURERERERF5hIElEREREREReYSpsERERERE1CgxFbbusMeSiIiIiIiIPMLAkoiIiIiIiDzCVFgiIiIiImqUhMyFrTPssSQiIiIiIiKPMLAkIiIiIiIijzAVloiIiIiIGiVmwtYd9lgSERERERGRRxhYEhERERERkUeYCktERERERI0SU2HrDnssiYiIiIiIyCMMLImIiIiIiMgjTIUlIiIiIqJGSchc2DrDHksiIiIiIiLyCANLIiIiIiIi8ghTYYmIiIiIqFFiJmzdYY8lEREREREReYSBJREREREREXmEgSURERERETVKAkHD/bldCxcuRP/+/dG2bVuMHTsWR48evWH5iooKvPfee+jZsyeSk5MxZMgQbNu27Q5/kzfHMZZEREREREQN2Jo1azBt2jS89957aN++PebNm4eJEydi3bp1CA4OrlbeaDRiwoQJCA4OxldffYXw8HDk5eXBz8+v1urIwJKIiIiIiKiOGY1GGI1Gp2VSqRRSqbRa2Tlz5uD+++/HmDFjAADvvfcetm7diqVLl+Lpp5+uVn7p0qVQqVT49ddfIZFIAAAxMTG10IoqDCypQfPp2qa+q1AvKtfsre8q1Ivpqkv1XYV6MTl8SH1XoV74x/89T0H/a+9T31WoF/rD5+u7CvXCqjPevFBjpDXUdw3qxfTC9fVdhXrSqb4r4JawAU8LO2PGDEyfPt1p2eTJk/HCCy84LTMajThx4gSeeeYZxzKhUIju3bvj0KFDLre9efNmpKSkYOrUqfjzzz8RFBSEESNG4KmnnoJIJKr5xoCBJRERERERUZ175plnMGHCBKdlrnorlUolLBZLtZTX4OBgXLx40eW2s7OzsWfPHowcORI//PADsrKy8N5778FsNmPy5Mk114hrMLAkIiIiIiKqY+7SXmuCzWZDcHAw3n//fYhEIiQnJ6OwsBCzZs1iYElERERERHQ7GnAm7C0LDAyESCRCaWmp0/LS0lKEhIS4XCc0NBRisdgp7bVZs2YoLi6G0WislYCWjxshIiIiIiJqoKRSKZKSkpCenu5YZrVakZ6ejtTUVJfrdOjQAVlZWbBarY5lmZmZCA0NrbVeUgaWREREREREDdiECROwaNEiLF++HBcuXMC7774LnU6He++9FwDwxhtv4LPPPnOUf+ihh1BeXo4PP/wQly5dwtatWzFjxgw88sgjtVZHpsISEREREVGj1BhSYQFg+PDhKCsrw9dff43i4mK0bt0aP/74oyMVNj8/H0JhVZ9hZGQkZs2ahWnTpuHuu+9GeHg4xo8fj6eeeqrW6sjAkoiIiIiIqIEbN24cxo0b5/K9+fPnV1uWmpqKRYsW1Xa1HJgKS0RERERERB5hjyURERERETVKwsaSC/sXwB5LIiIiIiIi8ggDSyIiIiIiIvIIU2GJiIiIiKhRYiJs3WGPJREREREREXmEgSURERERERF5hKmwRERERETUKAmZC1tn2GNJREREREREHmFgSURERERERB5hKiwRERERETVKAqbC1hn2WBIREREREZFHGFgSERERERGRR5gKS0REREREjZKAubB1hj2WRERERERE5BEGlkREREREROQRpsISEREREVGjJGQmbJ1hjyURERERERF5hIElEREREREReYSpsERERERE1ChxUti6wx5LIiIiIiIi8ggDSyIiIiIiIvIIU2GJiIiIiKhREjAXts6wx5KIiIiIiIg88pcMLBMTE7Fp06Ya294333yD7t271/h278Rbb72F55577pbKPvroo/jwww892t8333yDUaNG3dY6NpsN//73v9G5c2ckJibi1KlTt7ReQ/j9EhERERFRzfvbp8JeuHAB06dPx7fffov27dvD39+/vqvU4G3fvh3Lly/HTz/9hCZNmiAwMLC+q3RLlm3fhF82r0VZhQoJ0U3x8n3j0Ca2mcuyl/JzMWvNMpzJzkRBWSleuOch3N9viFOZ5Ts2Y8WuzSgoLQEAxEdG4/Gho9C1Tbtab8vtChzWFYpubSH08YL+Uh5KFm+GubjcbXnvhGj490+DV5MwiP3lKPhxFbTHLjiVCX14MBRd2jgt057KRMH/VtRCC2pO0D194N8nBUJfb+jP5aDopzUwFSrdlg+8qzvkaa0gjQyG1WSG/nwOShb9CVNBWR3WumYlx8sxtnckWsT4IthPinfnnUP6yfL6rpZHhnQKwcjuYQiQS3C5QIfZa3NwIU/rsqxICIzuGYE+7YMQ5CdBXokBCzfl4sgFtcvyo3qE45GBUVi9pwjz1ufWZjNu25L1q7Fw1QqUlSvRPDYOr0x4GknNW7os+/ufG7B2+xZczL4MAEiMT8CzDz3qVH7r3nQs37QOpy9eQEWlGvP+8wVaxrn+nqxLyw/uxG97t6KsUo2EsCi8OPgetI5q6rb81lNHMHv7WhSolIgJCsHTfUega/PWjvfn7liPzScPoVitglgkQsuIGEzsPQxtomMBAAXlZfhp10YcunweZZoKhMj9MTCpA8b1GAiJqHYunVYcSceiA9tRpq1EQkgEXuh3N1pFNHFbftvZY5iTvhEFFUrEBATjqZ5D0SW+leN9m82GuXs2Yc2x/ag06JAcFYuX+o9GTGCIo8zCfVuw59JpXCjOh1gowsrn3qm2n+lbV+J43mVklhaiaWAYfhj3Ys22+3A6fjuwDWWaSiSERuKFfnejdaT7dm89exRzdl3T7l7D0LXZde3evRGrj+9HpV6H5Og4vDzAud0P/fgxCivKnbb7ZM+heLhzXwCA0WzCF5uW42xhLi6XFaNbs1Z4f9T4Gm23J3geuz1CZsLWmb9kj2VNysrKAgAMGDAAoaGhkEql9Vyjhi87OxuhoaHo0KEDQkNDIRY3/PsTf2bsxfTlv+LxoaPx4+vvoXl0E7z63adQqitcltcbDYgMDsUzI8ciyM/1zYawgEA8O3Isfnz9Xcx8/V10aNkab8/8CpfyG9aFp/+AjvDrnYqSRX8i74tfYTOaEPnsPRCIRW7XEUglMOYWo2TJlhtuW3syE5f/9YPjp2je2pqufo0KHN4NAYM6oWjeWmRPnQOrwYjoVx+GQOL+d+HTKhblmw8g+/05yP3vQghEQkS/9ggEUkkd1rxmeUtFuJivxfQVl+u7KjWiW1IAxg+OxpJtBXhzxhlcLtRhyrgE+Pm6/m56sH8UBqUFY87aHLzy7SlsPFiC1x9ohrgIn2plE6J8MSgtGJkFutpuxm3btHsHvv5pNiaOeQBzP/4cLWLj8Y+P3kWZqtxl+YwTxzCoey9M/78P8MP7nyA8OAQvf/guispKHWV0Bj3aJbbG8w83nIvozScP4fs/V+KxnoPxwxP/QEJ4FN747QcoNa5vBBzPuYT3f1+A4e27YOYTr6Bni2T8e+kcXCrOd5SJCQrFS4PvxayJr+HrcZMR4R+IN377AeXaSgBAVmkRbDYbXhl6H+Y8+QaeG3g3Vh1Kx49b19RKG7ecOYr/bV+N8V0H4H8PT0ZCaCTeXD4byiv1ud6JvMv4YO2vGJbUETMeeQE9Etrg/1YtwKWSAkeZXw9sx/JDu/HygNGY/uBz8JZI8dby2TCaTY4yJosZfVq0xch2XW5Yv6FJHdG3Zc3fNN1y5gi+3/YHxncdiBnjXrC3e9kst+0+nncZH6z+FcOSO+KHcS+iR/Mk/N/K+c7t3r8Nyw7vxj8GjMa3Dz8Pb4kEby5zbjcATOg+CEuemeL4uSe1u+M9i80GqViCe1J7IK1p8xpvtyd4HqOG7LYCy0cffRRTp07F1KlTkZaWhi5duuDLL7+EzWYDABiNRvznP/9Br169kJKSgrFjx2Lv3r1O21i/fj3uuusuJCcno3///pg9e7bT+/3798e3336LV155BSkpKejVqxcWLlx4w3rl5+fjpZdeQseOHdG5c2dMmjQJOTk5N23PN998g2effRYA0KpVKyQmJgIArFYrpk+fjt69eyM5ORmjRo3C9u3bHevt3bsXiYmJqKioCkpOnTqFxMREx36XLVuGjh07YseOHRg2bBhSU1MxceJEFBUVOdaxWCyYNm0aOnbsiC5duuCTTz5x/C5vlc1mwyeffILOnTujR48e+Oabb5zer6iowJQpU9C1a1d06NAB48ePx+nTp91u72oq7vTp0x3r/N///R+MRqPj/ffffx95eXlITExE//79Adj/bnPnznXa1qhRo6rVp778tmU9Rnbvg7u69kJ8ZDReu/8xeEulWL1nu8vyrWOb4fnRD2JgWldI3QTOPdqmoltSezQJi0DTsAg8PeI++Hh540Tm+dpsym3z75OK8g17oT1+Eca8EhQtWA+Rvwy+bRPcrqM7lQnlmnRoj15wWwYAbGYLLGqt48eqM9R09WtUwODOKFu5E5pDZ2HMKULhzJUQBSog65Dodp28z36BeudRGPNKYMwuQuGPqyAJ8YdXXGQd1rxmHTijwrwNudh9ory+q1IjRnQNw58Zpdh6uAy5JXrM/CMbRpMV/VKDXZbv1S4Iy3cW4tD5ChSVG7HxQAkOnavAyG5hTuW8JEK8cG8sZqzKhkZvroum3JZfVv+OuwcMxoh+AxEf0xRvPDkJXlIv/LHF9ZCD9158FWOGDEfLuGaIi47B289OhtVmxYFjRxxlhvXuh4n3PYhObdvXVTNuavG+7birfVcMa9cZcSEReGXoGHiLJVh7dJ/L8ksP7EDnZol4sGs/xIaE44k+w9AiIhrLD+5ylBmY1AFp8S0RFRiM+NAIPDdgFDQGPS4U5QEAOie0wpsjHkSnZomICgxGjxbJuL9LX+w4e6xW2rgkYweGJ3fC0KSOiAsOx8sDRsNLLMW6Ewdcll92aBc6xbXAAx17IzYoDBO6D0aLsCisOJIOwH5tsOzQLozr0g89EtrYA7Yh96NEo8bOCycd23m82yDc16En4oMj3NZtct+7Mbp9N0T6BdVsowEsPrgTw5M7Y1iyvd3/GGhv99rjbtqdsQud41riwU59EBschid6XGn34ap2Lz20C+O69EeP5klICI3EW0MfQEllBXaeP+m0LR+pF4JkCsePj6SqY8FHIsU/Bt6DEe06I0gmr/F2e4LnMWrIbrvHcvny5RCJRFi8eDGmTJmCuXPnYvHixQCAqVOn4tChQ/jiiy+wcuVKDB06FE8++SQyMzMBAMePH8fLL7+M4cOHY9WqVZg8eTK++uorLFu2zGkfs2bNQqtWrbB8+XI8/fTT+PDDD7Fr167rqwIAMJlMmDhxImQyGRYuXIhffvkFvr6+ePLJJx3BkDtPPPEEpk2bBgDYuXMndu7cCQD46aefMGfOHLz55ptYuXIlevbsieeee87Rjlul1+sxe/ZsfPLJJ1iwYAHy8/Pxn//8x/H+7NmzsXz5cnz00Uf4+eefoVKpsHHjxtvax/Lly+Hr64tFixbh9ddfx7fffuv0u3rppZdQWlqKmTNnYtmyZUhKSsJjjz2G8vJyt9tMT0/HhQsXMH/+fHz++efYuHEjvv32WwDAlClT8OKLLyIiIgI7d+7EkiVLbqu+9cFkNuNsdibSEqvSNoVCITomJuHEpRsHTrfKYrVi08E90BsMSIprOHc3xcF+EPvLoDub7Vhm0xthuFwA73jPTyjezWMQ+8HTiPnneISM7Q+hr7fH26wt4tAAiAMU0J685Fhm1Rmgv5AL74SYW96O0MfLvq6m4fVg/R2JhAI0i/LFsYtVvVc2AMcuqtEyxtflOhKRAEaz1WmZ0WxFYlOZ07Inh8fg0LkKHLvkumesPpnMJpy5eMEpABQKhejUtj2OnztzS9vQGwwwmy3wkytqq5oeM1nMOFuQg7T4Fo5lQoEQHeJa4kSu6x73k7mXkRbnnA7cKT4RJ3Iz3e7jj8PpkHl5o3lYlNu6aAx6KLxdH1OeMFnMOFuUhw5Nqs4dQoEQHZom4GR+lst1ThZkIa2J87mmY2wLR/n8CiXKtGqnbcq9vNE6oonbbdY1k8WMs4W5SIt1bndabHOczHfzt82/jA6xzu3uFNcSJ/Ls5fNVZSjTqJ16Gava7bzNX/ZtxejvpuLp+V/h1/3bYLFaaqpptYbnsTsjEDTcn8bmtnMYIyMj8c9//hMCgQDNmjXD2bNnMXfuXPTs2RPLli3Dli1bEB4eDgCYOHEiduzYgWXLluGVV17BnDlz0K1bNzz//PMAgPj4eJw/fx6zZs3Cvffe69hHhw4d8PTTTzvKZGRkYO7cuejRo0e1+qxZswZWqxUffvihYzrhadOmoVOnTti3bx969uzpti0ymQx+fn4AgNDQUMfyWbNm4amnnsJdd90FAHj99dexd+9ezJs3D++8U338gTsmkwnvvfcemja1jwN55JFH8N133znenzdvHp5++mkMHjwYAPDee+85gttblZiYiMmTJwMA4uLisGDBAqSnp6NHjx44cOAAjh49ivT0dEeK75tvvolNmzZh/fr1eOCBB1xuUyqV4qOPPoKPjw9atGiBF198EZ988gleeuklKBQKyGQyiEQip99ZQ6bSqGGxWhGkcE5pDVT44XJhvpu1bs2FvGxM+vwDGM0m+Hh54cMnX0B8ZLRH26xJIoX9Qtmi1jgtt6i1jvfulPZUJjRHz8NUqoIkJABBI7oj4tnRyPviN+A2e97rgtjfftfZorrud1Ghgdj/Fn8XAvvYUt3ZbBhzi2u6inQH/HxFEAkFKNc4p7mVa8yICnF9o+PIhQqM6BqGU5c1KCwzILmZAp1bBziNw+meFID4SF+8PfPWgrS6Vl5RYf9e8w9wWh7kH4DLeTfP2AGA7xb+hNCgoAbVO3k9lVYDq82KQF/n4DdQJkdWaZHLdcoq1Qi8rpcpUKaAstL5BkH6uZOY+vt8GEwmBMsV+PTBZ+Dv67p3KresBMsP7sSz/Ud60BrXVDrtlTZeV2dfBbLLXH/PlGkqXZSXo+xKCunVNOFqvwdfudsU4rrmvt1yZN1mu6+mzl5tf7UyMjnKNFXptfem9kCLsCgovH1xIu8yfty5DmUaNZ7rO8LjdtUmnseoobvtwLJ9+/ZOz4NJSUnBnDlzcPbsWVgsFgwdOtSpvNFoREBAAADg4sWLGDBggNP7HTp0wE8//QSLxQKRSOTY5rVSUlIwb948l/U5ffo0srKy0KFDB6flBoPBMX7ydlRWVqKoqKja9jp06HDDFFJXfHx8HEElAISFhaG01D6WRa1Wo7i4GO3bV53QxWIxkpOTbysd9mr67lWhoaGOfZw5cwZarRZdujiPndDr9Tf83SQmJsLHp2qsUWpqKrRaLfLz8xEd3XCCpoagaVgkZr85FRqdDlsO78eHC37ENy++VW/BpTwtESEPVH3GCmb8Xmv70hw66/i/Kb8UxrxiNP2/J+DdIgb6a3pI64uiWzLCHhvueJ33xa8ebzP00WGQxoQi50PX30f01zBnXS6eHdkEXz7fGjYAhWUGbD1cin4p9tTZYD8JHh8agw/mn4fJ0vBuktSEn1YswcbdO/DdOx/C6286t0BKbAJ+fOJVqHQa/HF4D95bMR/fPfYiAmXOQWyxWoU3fvsBfVq1w4iUrvVUW6pJY9N6Of6fEBoJiUiEzzctx5M9h7od/lIfeB6jv5oa+/RotVqIRCIsXbrUESBe5etb86kj1+43KSkJn376abX3goJqfjwAYE83AuAUAJpMpmrlrp/URiAQ3PYYypu50T40Gg1CQ0Mxf/78auspFDWb+uTq4bNmc8MYk+QvU0AkFKJMrXJarlRXIFjh2SzAErEYMaH2HvrEpnE4nXUJS7ZtxOsPPu7Rdu+U5vhF6C9XTWJwdYIekUIGS0XVDJkihW+N36k0l1bAUqmFJCSgQQSWlYfOQn+haiIlx+/CXwaLqurOtchPBkNW4U23FzpuCGTtWyBn2k8wKxvGHX8CKrQWWKw2BMicJ6EIkIlRXln9exkA1Foz/vvbJUhEAsh9xVCqTXhkYBQKlfYxws0ifREgl+A/z1TNNCkSCtA6Vo6hnUPx8AeH671TPsDPz/69dt1EPWWqcgQH3Him7oWrlmP+78vw9b/eQ/PYuNqrZA3w95VBKBBCqXX+zCk1lQhyk8IbJFdAqam8rrwagdeV95F6ITrIC9EIQZvoWIz73zSsObIPj3SvujlXolbhlYXfISkmDq8OG1tDrXLm7+N7pY3X1VmrRpDMTRtlchflKxF0pafuanCs1FQiWObnVCYhtGGMq3Pf7kq34xrdtftqD+XV9iu1lQiWX9NuTSWah7lvd6uIprBYrSioUKJpUMPJxuJ5rGa4ukal2nHbYyyPHj3q9PrIkSOIjY1F69atYbFYUFZWhtjYWKefqymTzZo1Q0ZGhtP6GRkZiIuLcwpGjxw5Um0fCQmuJxpJSkrC5cuXERwcXG2/dxI8yeVyhIWFuaxn8+b2nP2rAWtxcdWF+e32ZioUCoSGhjq11Ww248SJE7ddZ3eSkpJQUlICkUhU7Xdzo6D7zJkz0Ov1jteHDx+Gr68vIiPdfykHBQU5TUxUWVl5SxMo1QWJWIyWTeJw8GzVwH2r1YqDZ04iKd79BDZ3wmazVZt5ri7ZDCaYS1SOH1NBGcwqDXxaVk3dLvCSwis2AvpLnqUBX0/kL4fQ1weWCs3NC9cBm94IU5HS8WPMK4G5XA3fNnGOMkJvKbwToqG/cONjNXTcEMjTEpH7yXyYS8prt+J0WyxWGy7maZHcrOr7XgAguZkCZ3NcP27kKpPFBqXaBJEQ6NI6AAfO2G8+HbukxqvfncIb/zvt+Dmfq8HOo0q88b/T9R5UAoBELEFiswQcOFZ1TrZarThw/CiSW7ifxGPB78swZ+kifPH2O2id0MJtuYZCIhKjZUQMMjLPOZZZbVZkXD6HpCuPBrlem+hYZFw+57TsYOZZJEXH3XBfNpsNJkvVDdFitQr/WPgdWkbE4M27HoRQUDsT6UtEYrQMi8Kh7Kox/1abFYeyL6BNpOtHqrSJaIqMbOc5Ag5mnXeUj/QLRJCvwqmMxqDHqYJst9usaxKRGC3Do5GRVTXhndVmRUbWebSJdPO3jYx1Kg8ABy6fQ1KUvXykfxCCZAqnMlXtdr1NALhQnAehQIBAX8+GiNQ0nsfor+a2vyXz8vIwbdo0XLx4EX/88QcWLFiA8ePHIz4+HiNHjsQbb7yBDRs2IDs7G0ePHsWMGTOwdetWAPbJctLT0/Htt9/i0qVLWL58ORYuXIgnnnjCaR8ZGRmYOXMmLl26hIULF2LdunUYP9711OcjR45EYGAgJk2ahAMHDiA7Oxt79+7FBx98gIKCApfr3MzEiRMxc+ZMrFmzBhcvXsSnn36K06dPO+rQtGlTREZG4ptvvkFmZia2bt1abXbbWzF+/HjMnDkTmzZtwoULF/Dee+85zTTrqe7duyMlJQXPP/88du7ciZycHGRkZOCLL77AsWPuZ7YzGo2YMmUKzp8/j23btuGbb77BuHHjHD21rnTt2hUrV67EgQMHcObMGbz55ps3LF/XHug3BH/s3oa1e3cisyAPny36CTqjAcO72NNhPpj/A/63crGjvMlsxrmcyziXcxkmswXFKiXO5VxGTnHVHcH/rVyMw+fPIL+0GBfysvG/lYtx6PxpDO7Yrc7bdyOqbYcQMLgzfJObQRIZjLBxQ2BRaZyeSxn5/L3w61WVli2QSiCNDoU02n5TSBLsB2l0KESBCsf7QXf3hFdsBMRBfvBu2QQRT42EqaQc2lMN9xEW5Rv2IWhkT8hSWkAaE4rwp0fBolRDk1E1ji76jUfgP6Cj43Xoo0Oh6N4WBf9bAaveCJG/DCJ/GQSShpMudbu8pUI0i/RBs0h7yntEkBeaRfogNOCvmRL5x54iDOgQjD7tgxAd4oUnRzSBl0SIrYftwwKeHx2LhwZU3RhrHu2Lzq38ERYgRaumMvzzkeYQCIDfd9lvjumNVmQX651+DCYr1Dozsov1LutQHx66axRWbt6A1ds2IzMnG5/8+D/oDXqM6DsQAPDe9C/w3c8/OcrP/30pfli0EFMmvYDIsDCUlitRWq6EVl81gYeqUo2zmRdxKdeedZCVl4uzmRdRWu7+GXm1bWzn3vjj8F6sO7ofl0sK8cW6pdCbjBjarjMA4KNVP2Pm1tWO8mM69sK+i6exaO9WZJUWYu6O9TiTn4N70uzzNOiMBszcugYncy+jQFWGM/nZ+M/qX1GsVqFPK/v34NWgMsw/EM8OuBsqbSXKKitQVllz5+hr3dehF1Yf34/1Jw/iclkRvvzzd+hNRgxpkwYA+Hj9Ivy4c52j/L2pPbD/8lksOrgDWWVFmJe+CWcLczG6vf38IxAIcG9qDyzctxm7L5zExZICfLx+MUJkCvRMqJrIrrCiHOeL8lCkLofVZsX5ojycL8qDzlg1w3dueQnOF+WhTKuGwWJylLk2CL9TY9N6YvWx/Vh/4iAulxbhy00r7H/bJHu7p639DTN3XNPuDj2wP/MsFh3YjqyyIszdvdHe7pSqdo9J7YEFezdj14WTuFhcgI/XLUKI3A89m9vbfSLvMpZk7MSF4jzklZdi06lD+G7rHxjYOtVpcqbM0kKcL8pDhV4HjUHvaHd943mMGrLbPqJGjx4NvV6PsWPHQiQSYfz48Y5JYKZNm4bvv/8eH3/8MYqKihAQEICUlBT07dsXgL0H7csvv8TXX3+N77//HqGhoXjxxRedJu4BgAkTJuD48eP49ttvIZfL8dZbb6FXr17XVwWAfRzjggUL8Omnn2Ly5MnQaDQIDw9Ht27dIJff2RTR48ePR2VlJT7++GOUlZUhISEB3333HeLi4gAAEokEn332Gd59913cfffdaNu2LV5++WW89NJLt7WfJ554AsXFxY4gbMyYMRg0aBDU6ppJTxAIBPjhhx/w5Zdf4u2334ZSqURISAg6duyIkJAQt+t169YNsbGxeOSRR2A0GjFixAi88MILN9zXM888g5ycHDzzzDNQKBR46aWXGkyPJQAM6NAF5ZVqzFqzHGUVKjSPaYpPJ73qeEZlobLUKVWiRKXEE59UTdT06+Z1+HXzOqQ0T8Q3L74NACivrMCHC35AqUoFmY8PEqKa4LNJr6JTq+S6bdxNqP48AKFUjJAHBkDo4wX9xTwU/G85bOaqGfDEwQEQyarG1Xo1DUfUC/c5Xgff0wcAoN57EsU/bwBsVkijQqHo3AZCHy+YVRrozlyGck06YGm4M+sp16RD4CVF2IS77A+WPpuN3M9+gc1UVWdJWCBEiqqLi4ArJ+eYt51vbhX8uBLqnc4ZHH8VLWNk+O81aZ7PjrT3YGw4UILPFl9yt1qDlX6iHH6+YtzfNxIBcjEyC3T4aOEFqDT2C98Qf4nTMASJWIgH+0ciLNALeqMVh85VYPryTGgNDffYdWVg915QVlTgx0U/o7RciRZx8fji7XcQdGVeg8LSEqcbfMs2roPJbMY/P/+P03Ym3vcgnhz7EABg54F9+OD7rx3v/furT6uVqWv926RCpdVg7o71KNNUICEsGv+5/ylHmmhRRTmE13x/J8fE4193j8Ps7Wvx47Y1iA4MxftjJiD+SgqoSChEdmkR3jm2HyqdBn4+MiRGNsHX455HfKj9sRsHL51BrrIEucoS3D99qlN9trz9WY23sV9iO6h0lZibvglKrRoJIZH4ePQEpzYKUNXGpKhYTBn6IGanb8Ds3esRHRCCqSPHIT6k6rEhD3bsDb3ZiM//XI5Kgx5to2Ix7Z4JkIqr0sbnpm/EhlNVGVrP/Gx/RNhnY55CSpNm9v9vXIYjuZeqlVk44Q1E+N847frm7W6Pcq0Gc3ZvtLc7NAr/ufeJqnarr/vbRsViyvAHMXvXBszadaXddz/q3O5OfaA3GfH5xmX2dkfH4eN7q9otEYmx5fQRzEvfBJPZjEj/INyX1hP3dXC+znx7+RwUVpQ7Xj+9wP652PzKxx612VM8j90+ITNh64zAdhuD/h599FG0atUKU6ZMqbUK9e/fH+PHj8fjjz9ea/sg99566y1UVFQ4zV5bn4rWp9d3FepF5Zq9Ny/UCF07ZuTvZHL4kPquQr3w9/173i3/3yifmxdqhPSHG9YzfuuKVXfjR581VoK/6dW8Nr3mhjT9lbSY+6/6roJb2w/dWQZjXeid6v4Zsn9FDSdXkYiIiIiIiP6SGv3t4tTUVLfvzZw5Ex07dnT7fn3Ky8tzPEfTldWrVyMqyv2DnImIiIiI/u44KWzdua3A0tVjK2ra5s2ba3R7K1ascPteeHh4je6rJoWFhd2w7mFhYbWy348/rt+xA0RERERE9NfT6HssY2PdTy/dkInF4r9s3YmIiIiI6O+l0QeWRERERET09yRgLmyd4eQ9RERERERE5BEGlkREREREROQRpsISEREREVGj9Dd9pGq9YI8lEREREREReYSBJREREREREXmEqbBERERERNQocVLYusMeSyIiIiIiIvIIA0siIiIiIiLyCFNhiYiIiIioURIwF7bOsMeSiIiIiIiIPMLAkoiIiIiIiDzCVFgiIiIiImqUhMyErTPssSQiIiIiIiKPMLAkIiIiIiIijzAVloiIiIiIGiVOClt32GNJREREREREHmFgSURERERERB5hKiwRERERETVKAubC1hn2WBIREREREZFHGFgSERERERGRR5gKS0REREREjZKQmbB1hj2WRERERERE5BEGlkREREREROQRpsISEREREVGjxElh6w57LImIiIiIiMgjDCyJiIiIiIjII0yFJSIiIiKiRompsHWHPZZERERERETkEfZYUoMmCpDXdxXqhVWtre8q1AuLUl3fVagX/vF/z69ildZc31WoF5ayv+dxDqutvmtAdchmttR3FerF3/U8RgQwsCT6f/buO76pcv8D+CdJk6ZN9x5AWwp0sQote5YNIqCCKEMZFwcKilfgyr1eJ4o/vS4cgAxRHGzZe5ZVoOwNbemeadOZnd8fgZS0aSmkA8vn/XrlBTnnOc95vmmSk+c83/McIiIiImqkhMyFrTdMhSUiIiIiIiKrsGNJREREREREVmEqLBERERERNUrMhK0/HLEkIiIiIiIiq7BjSURERERERFZhKiwRERERETVKTIWtPxyxJCIiIiIiIquwY0lERERERERWYSosERERERE1SkLmwtYbjlgSERERERGRVdixJCIiIiIiIqswFZaIiIiIiBolZsLWH45YEhERERERkVXYsSQiIiIiIiKrMBWWiIiIiIgaJabC1h+OWBIREREREZFV2LEkIiIiIiIiq7BjSURERERERFbhNZZERERERNQoCXmRZb3hiCURERERERFZhR1LIiIiIiIisgpTYYmIiIiIqFFiJmz94YglERERERERWYUdSyIiIiIiIrIKU2GJiIiIiKhRYips/eGIJREREREREVmFHUsiIiIiIiKyClNhiYiIiIioURIyF7becMSSiIiIiIiIrMKOJREREREREVnlb9exnDt3Ll599dWGbsYDCwkJwZ49e+plX+vXr0dUVFS97KumUlNTERISgitXrjR0U4iIiIjoMSF4hB+NTa1cYzlhwgSEhoZi3rx5dboN1czQoUPRu3fvhm7GI2fdnu1YtW0T5IoCtGgagFkTpiA8uKXFsgmpKfhp/R+4mpSAzNwczHz+RTw7+AmzMjq9DkvXr8bOo4eRpyiAh6srhvXogxdHPAPBI5bP7zayF5x6tYfQ3hbKm6nIWbkDmuz8KstLWzWF6+AusA30gY2LIzK+XYuSM9fNyoicZHB/pi/sWwdBaCdF2fVk5K7aVW299c3j+QFwGdAJQpkdyq4mIfOHDdBk5FVZ3u3pPnDs2hqSJl4wqDQou3obOSu3QZ2WCwAQe7kieMlci9umLfgVRUcv1EkcD2JQtAeGd/OCi4MYtzPLsGx7Km6ll1osKxICI3v4oHc7N7g5iZGeq8KqPWk4d6vIYvkR3b0xrr8fth7Pxs870+oyjDrROsgBo3v5omUTe7g7SfDezzdw7HJBQzfLKusO7Mbvu7dCXqhAcJNmePPZiQgPDLZYNiE9FUs3r8O15ERkynMx45nxGNNvcJV1/7JzExZtXI3RfQdh5pgJdRVCjWyIP4I/TxyAvKQIwV6+mNF/FML8mlVZ/sDVc1h2eAcyFflo4uqBaX2GoUtwGABAq9Nh6eHtOHHrKjIUeZDZ2qFDQEtM6z0UHo7OAICzyTfx5u8/Wqz7h4kzEOpb9b4flsFgwIrje7DtwkkUq8rQ2i8AM2NGoomrR7XbbTx3DKtPHYK8tBjBHj54ve+TCPVpalqv1mrww6Ft2H/9HDQ6HaIDWmJG3xFwkzmayiw8sAkX028jKS8LzVy9sHj8DIvtWxN/GFsuxCG7qABOUhlGtOuCcZ36Wh27U6dwyMKDILSVQJWRi4KDZ6BVFFe7jax1MBwjW0FkL4UmT4H8Q2fMjz8iIVy6t4Vdy6YQiERQJmei4OAZ6MtUZvXYhwbAoV1LiF0coVdrUHYrFQWHzprW2zb1hlOncIjdnGDQ6aFKz4HiyHnoiix/r9a2x/E4Rn9ff7sRS7o/qVQKd3f3hm7GI2XP8SP45refMXnkaCz/4DO0aBaIN//vI8gLFRbLK9Uq+Hl645Ux4+Du7GKxzK9bNmLDvl2YNXEKfv/0K7w6ZjxWbfsLa3Zvq8NIHpzLkC5w7h+FnJXbkfrRCuhVGvi9NRYCG1GV2whtxVClZCPn151VlvF97WmIPV2Q8c1apLy/FNq8Qvj983kIJOK6COOBuT3VG67DuiPzhw24/fZC6JVqNH1vCgTiqs+n2bdujoJtx3D77e+Q8t+fILARoul7UyGwNcakyS3AjRc+NHvk/LYLujIViuOv1VdoVeoa4YKJA/2x9mAm5iy6httZZZg3PhhO9pZjHhvjhwEd3bF8eypmfXcFu0/n4u1nmyPQx65S2WA/ewzo6I6kzLK6DqPOSCUiJGSUYuHG2w3dlFqx99RxLFy3CpOGjcLSdz5CiybNMOubBciv4ntNpVbBz8MTL498Fu5OztXWfSXpFjYd3o9g/9rvQD2ofVfO4od9m/BC9wFY/OIbCPbyw+zVS5BfYvkEyMXUJHy4aRWGtu2EJS++iR4tW+M/61cgMScDAKDUqnEjMw0TuvXHohfexAcjX0CKPBvz1i831RHhH4h10981ewxr2xm+zm4IuafTVpv+OHUIG84cxRv9RmLh2FchFUswd8MyqLWaKrfZf+08fjy0FRO79MOPz7+GYE9fzNmwDPml5Z2y7w9uxfHEK/jvsHH48plpyC0uxHtbVlWqa3BEFPq0alvlvr47uBnbLp7Cyz2HYvnEWfjoyYkI8W5iXdAAHCND4NC2BfIPxiN77T4YtDp4DO9hPPNVBbsWTeDSoy0KT15G1uo9UOcWwHN4TwjtbE1lXHq0gzTQD/Idx5Gz4QBEMju4D+lqVo9Du5Zw7twaRfHXkPn7LuRuOgxlcpZpvcjRHh5Du0GVloOsP/cgd9NhiKS2leqpK4/jcYz+3qzuWM6dOxdxcXFYuXIlQkJCEBISgtTUVMTFxeGZZ55B69at0aNHD3z++efQarXVbqPT6fDOO+8gJiYGbdu2xaBBg/Dzzz8/dNsmTJiADz74AB988AE6duyIzp0746uvvoLBYDCVUavVWLBgAXr27In27dtj9OjROHHihFk9O3fuxLBhw9C6dWvExMRg2bJlZutjYmLw3XffYdasWWjfvj169uyJVasqf2nfKyMjAzNnzkRUVBQ6deqEV155BampqfeNKTY2Fm3atEFhYaHZ8o8++ggTJ04EYDkVds+ePRg1ahTatGmDfv36YeHChaa/x4IFC/DSSy+Zyq5YsQIhISE4dOiQadmAAQOwZs0a0/M1a9ZgyJAhaNOmDQYPHlwp3vPnz2PkyJFo06YNnnrqqQZPgf1jx2Y82ac/nugVgyD/ppj94jTY2tpiy8F9FsuHN2+B156biAFdekAsttxRunDjGnp2iEb39h3h6+mFmE5d0al1O1xOuFmXoTwwlwGdkL/5CErO3oA6NQfZP22GyMURsg4hVW5TeiEB8g0HURJ/3eJ6sbcbpC2aIOeXHVAlZUCTKUfOL9shkNjAsXN4XYXyQNyG90Demn0ojrsM1e1MZHy1GjZuTnDoElHlNqnvL4Ni32moU7KgSspAxtdrIPZyhTT4zo8nvQG6gmKzh2OXCBTFnodBqa6nyKr2RBcv7I3Pw4GzcqTlKrFkSwrUGj36Rlo+0dSzrRs2xGbhzM1CZBeosftULs7cKMTwrl5m5WzFQrz+VAAWbU5BiVJbH6HUiVPXFPh5VxqOXipo6KbUij/2bsfw7n0xrFtvBPn64+3nJkEqscWWYwctlg8LDMb0p59H/+iuENtUfQKoVKnE+8t/wOxxU+Bob19Xza+xNScPYli7zhjSthMCPXwwa9DTkIrF2H7hpMXy604fRqfmIRjbuS8CPLwxuddgtPT2x4b4IwAAB1s7fD72JfQNa49m7l4I9w/AzAGjcD0zFVmFxhEvscgGbg5OpoeTnQxHbl7E4DbRdZKRYjAYsP7MEYzv3Bfdg8ONHcRBY5BbUoTYW5er3G5t/GEMbR2NwRFRCHT3xhv9RsLWRoIdl04BAIpVSmy/dAov9xqGyKbBaOXtj9kDn8GljNu4nJFsque1Pk9iZLuu8HVys7if2/JsbDp/Ah8On4BuweHwdXZDK29/RAVYzvp5EA7tWqDw1FUoEzOgyVNAvicOIpkd7IL8qtzGsX0rlFxKROnV29DmF6HgQDwMWh1kYYEAAIHEBrKwICiOnIMqLQeanALk7z0FW18PSLyNMQpsxXDqHAH53pMou5ECXWEJNHkKKJMyTPuReLkCAgEKj180rs8tQNHZ6xB7uADCus9MehyPY3VBIHh0H42N1R3LefPmITIyEmPGjEFsbCxiY2MhFosxbdo0tGnTBn/99Rfee+89rF27Fj/88EOV2/j6+kKv18PHxwdff/01tm7diunTp+PLL7/Etm0PPwK0YcMGiEQirFmzBvPmzcOKFSvMOkgffPABzpw5gy+//BKbNm3C4MGDMXXqVCQlJQEALl68iDfeeANDhw7F5s2b8dprr+Hrr7/G+vXrzfazdOlShIaGYsOGDZg2bRo+/vhjHDlyxGKbNBoNpkyZAplMhlWrVuH333+Hvb09pk6dCrW6+g91165d4eTkhJ07y0eSdDodtm/fjuHDh1vc5tSpU5gzZw4mTpyIbdu24YMPPsD69evx44/GNJ/o6GicPn0aOp0OAHDy5Em4uroiLi4OAJCVlYXk5GR06tQJALBp0yZ8/fXXePPNN7Ft2zbMmjUL33zzDTZs2AAAKCkpwUsvvYTg4GCsX78er7/+OhYsWFBtXHVJo9XgWlICoiLKz8QKhUJEh7fBxZsPf3auTcsQnLp8AckZ6QCAG8lJOHf9Krq2jbS6zbXFxtMFNi4OKL2caFqmL1NBlZAOabD/Q9d7d7RTr7mnk2EADFodpC3r5mz+gxB7u8HGzQkl526YlulLlVBeT4FdSM1HYIT2UgCArthyypNtsD+kzf2h2GP5B259EgkFaO5njwsJ5aM4BgAXEorQqonlzoFYJIBaqzdbptbqEdJMZrZs6tAmOHOjEBcSLY8QUf3TaLW4npyIqNDyH5hCoRBRoRG4ZOXJrf/9sQLdWrdHdFhra5tpNY1Oi+uZaegY0Mq0TCgQokNgS1xKszzyfDntNjpW6PBEB4VUWR4ASlRKCCCAg23l0XoAOHLzEgrLSjGkTfRDRHF/GYX5kJcWoUPTFqZlDrZShPk0NesA3kuj0+J6drrZNkKBEB2aBZu2uZGdBq1eh473lGnm5gUvR5cq67XkWMIV+Dq74VjiVYxb9hmeX7oAn+9eh0KldemgIicZRDI7qFLLRwkNai3UWXJIfKrIvBIKIPZ0gTI122yxMjXLtI3E0xUCkRDKlPIy2oIiaItKTGWkTb0hEAggkknh/dxA+LwwFG6DOkPkUP4eUGfnAzDAPiwQEBg7rPYhzaBKyQb0BtSlx/E4Rve3atUqxMTEoE2bNhg9ejTOnz9fo+22bt2KkJCQOp+nxuqOpaOjI8RiMaRSKTw9PeHp6YnffvsNPj4+ePfddxEcHIz+/fvj9ddfx7Jly6DX6y1uIxKJIBaLMWPGDLRp0wZNmzbFk08+iaeeego7dux46Pb5+vrinXfeQfPmzfHkk09i/PjxWLFiBQAgPT0d69evx9dff42oqCg0a9YMU6ZMQceOHU0dx+XLl6Nr166YPn06goKC8NRTT2HcuHFYunSp2X46dOiAadOmISgoCBMmTMCgQYNM+6lo27Zt0Ov1+PjjjxESEoLg4GB88sknyMjIMHXmqiISiTB06FBs2bLFtOzYsWMoLCzEoEGDLG6zcOFCTJs2DaNGjULTpk3RvXt3zJw5E3/88QcAICoqCiUlJbh8+TIMBgNOnTqFyZMnm9py4sQJeHt7IyAgAADw7bffYu7cuRg4cCCaNm2KgQMH4oUXXsCff/4JANiyZQv0ej3mz5+Pli1bom/fvpgyZUq1cdWlgqIi6PR6uFVI/XJzdoFcUfDQ9U54YhT6d+6O5+bORM9Jz+LF/7yNZwcNw6Buvaxsce2xcTJ2EHSFJWbLtYUlEDnLLG1SI+rMPGhyFXB/pq/xoCUSwmVIF4jdnGDj4mBVm2uDjavx2iFtgfk1OtqCYtO6+xII4D11OEovJ0J9T2rUvVz6R0OVkoWyqw2fWulkL4JIKEBBiXnaXEGJFi4Olkenzt0qxBNdvODjZgsBgDbNHdEpzAWu95TvFuGCIF97/LYnvS6bTw9IUVzF95qTM/KqSIWtiT0nj+F6ShJeGjnG2ibWCkVpCfQGPVxl5t8rrvaOkJcUWtxGXlIEV5n559xV5lBl6qxaq8GiA1sRE94eMlupxTLbz8chOigEnk4uDx5EDdxtW+U4q263oqzU+NrYW3ptjNvIS4ogFongILWrUMbBVKYmMhRyZBUW4NCNC5gzaDRmDxyNG9lpeN9CSu2DEN3t9JSaX/eoK1Oa1lUklNpCIBRCX6o0W64vVZm2EdpLYdDpYFBrqixj4yQDBAI4dgxFQew5yHcch9BWAo8ne5pGI3VFpcjZdBjOXVrD/+Wn4P+PkRDJ7JG387hVcdfE43gco+pt27YNn3zyCaZPn44NGzYgNDQUU6ZMQV5e1dfcAsYJNBcsWFAvE3vWyuQ9Fd26dQuRkZFm6SIdO3ZEaWkpMjMz4edXdXrDqlWrsG7dOqSnp0OlUkGj0SA0NPSh29KuXTuzdrRv3x7Lly+HTqfD9evXodPpMHiw+eQFarUaLi4uAICEhAT069fPbH2HDh2wcuVK6HQ6iEQiU733at++fZVpvFevXkVycjI6dOhgtlylUiE5+f5nEIcPH45nn30WWVlZ8Pb2xubNm9GnTx84OTlVub/4+HjTCCVgHOVUqVQoKyuDk5MTQkNDERcXB7FYDLFYjDFjxuCbb75BSUkJTp48ieho41na0tJSJCcnY968efjPf/5jqk+r1cLR0fhFd+vWLYSEhMDWtvxah8jIR2cUr7bsjTuKXccO471XZqK5f1NcT07C178uh4eLG4b27NMgbXLoEgGviUNMz9O/Wl03O9LpkfndOnhNGobmC2fBoNOj9HIiSs7fbJDcDqfe7eHzylOm5ykfLq+mdM14vzQCts28cftflifwEEhs4NSrPfJW77V6Xw1l+Y40vDy8Kb6aHgYDgCy5CgfO5qFve+MZfXcnMV4c3AQf/XITGl3dnp2nhpclz8PXa37BlzPmwlYsaejm1AutTof3//oFAPDmwKctlskpLMDJxGt4d0TtTWC05+oZfLl3o+n5/BEv1FrddcFgMECj02LOoNFo6uoJAHhrwNN45beFSJHnoKmbZ43qsWvVFK59Opqe526JrZP21ohAAIFIiILD56BKMXa65LtOwHfScNj6e0GVkgWhvS1c+3ZE6dXbKL2RAoHYBs6dI+A+uAtyNx2u1ebwOFZ3hI9wzqlara6UrSiRSCCRVP4OXr58OcaMGYOnnzZ+V73//vs4cOAA1q1bh2nTplmsX6fT4Z///Cdef/11nD59utKldLWtTjqWD2vr1q1YsGAB5syZg8jISMhkMixduhTnzp2rk/2VlpZCJBJh3bp1pg7iXfZ1eF1JaWkpIiIi8Pnnn1da5+Zm+fqGe7Vt2xbNmjXDtm3b8Nxzz2H37t349NNPq93f66+/joEDB1Zad7fz16lTJ8TFxUEikSA6OhouLi4IDg7G6dOnERcXh8mTJ5vqAoAPP/wQ7dq1M6tLKHw054JycXSESCisNFGPXFEAtyom5qmJ7/74BROeGIkBXXoAAIKbBiAzNwcrt6xvsI5lydkbSEkoH1m6m7IqcpJBpygftbRxkkFVxdnLmlLdzkTKe0uNkyXYiKAvKkWTf78AZVKmVfU+jOK4y0i8lmJ6fndiAxsXB+jyy8/K27g4QJl4/5E372kj4BAdhuR//QhtnuXRH8dubSC0FUOxP97K1teOwlIddHoDXGTmo5MuMhsUFFue/KOoVIv/+zMRYpEADvY2yC/SYFx/P2TlG0cPmvvaw8VBjAUvlZ/cEwkFCAtwwOBOnnj+o7MwsL/ZIJwdqvheK1Tcd2KeqlxLTkR+USGmfPJv0zKdXo9zN69h/cHd2PftCojq+Xve2V4GoUCI/BLzUZv80iK4ySyfTHWTOVYa5csvKa40inm3U5mpyMf/nnu56tHKCyfhZGeP7i2qvq7tQXVrHo6weyYB0ty5FCW/pBju98SVX1qMYE9fi3U429kbX5tSS6+NMVY3mSM0Oh2KlWVmo5b5pcVms8Lej5vM+H6726kEgAA347XYWUUFNe5YKhMzkJW12/RccOe3l8je1mwEUmQnhTq3wGIdeqUKBr3elOJ5l9DeFro7dehLlRCIRBBIxGajlveW0ZUYJyLTyst/aOuVauiVKtg42kMFwKF1CxhUGiiOlc+UKt8dB98Xh0Hi7QZ1lrxGcdcEj2OPp0WLFmHhwoVmy1577TW8/vrrZsvUajUuXbpkNieKUChEt27dcObMmSrr/+677+Du7o7Ro0fj9OnTtdt4C2qlYykWi6HXl1+nExwcjJ07d8JgMJhGC0+fPg2ZTAYfHx+L2wBAfHw8IiMjMW7cONOymozgVadi7vG5c+cQEBAAkUiEsLAw6HQ6yOXyKoeHmzdvjvh48w9cfHw8AgMDzTqjFTu/586dQ3Cw5SnfIyIisH37dri7u8PB4eHSBocPH47NmzfD29sbQqEQffr0qbJseHg4EhMTTamslkRHR5s62D179gRg7Gxu3boVSUlJpusrPTw84OXlhZSUFDz55JMW6woODsZff/0FlUpl6riePXv2oeKsDWIbMUICm+P0pQvo3dEYh16vx6nLF/B0/yH32bpqSpUKAoH5jyyRUAhDHV93UR2DUg1NhYvvtQXFsA8PhPrOtSYCqQS2zf1q7UByd+p2sZcrbAN9kbfh0H22qH36MjX0ZeapIFp5IWRtW0CVaJyIQWhnC2mrpsjfUX0Kk/e0EXDoEoHkeYuqvXWKS/9oFJ28UinNuKHo9AYkpJeidXNHnLxm/BEhANC6uSN2xOVWu61GZ0B+kQYiIdA5zAXHLhnjvpBYhLe+N59465URzZCeq8JfR7LYqWxAYhsbtGoWhNPXLqFXe+PxS6/X4/S1S3iqz4CHqjMqNAIr//2J2bL5vyxGgLcfxg18ot47lYBxEp1WPv6Iv30DPVoZr/nUG/SIT7qJUR27W9wm3D8A8bdv4Jno8ssSTiddR4R/+THwbqcyNT8HXz73CpztLF8aYDAYsOPCSQyMiIJNhRPQ1rCX2MJeUp7VYzAY4GbviPiUW2jhZczqKlEpcSUzBcPbdrZYh1hkg1ZefjiTcgs97nR69QY9zqTcwsh2xllLW3r5w0YoQnzKLfRqaXz9UuQ5yC4qQPgD3DKltV8AdHo90gvy4OdizGhIzTd+r3g/QHqwQaOFTmE+AZiupAy2Tbygyb3zvSW2gcTbDcUXb1muRG+AJqcA0iZeZh0s2yZeKLlg3Eadkw+DTg9pEy+UJRhvjWTj4gAbRxnUmcZjhfrOLTtsXB1NnUyBrRhCqS20d24lIhBX/pubJoCs5VEwHsceTy+99BImTZpktszSaGV+fj50Ol2luz64u7sjISHBYt2nTp3C2rVrsXHjxlpr7/3UylHC398f586dQ2pqKuRyOZ5//nlkZmbiww8/xK1bt7Bnzx58++23mDRpkmlUq+I2er0eAQEBuHjxIg4fPozExER89dVXuHDBuvvppKen45NPPkFCQgK2bNmCX3/91TR7alBQEIYPH47Zs2dj165dSElJwfnz57Fo0SIcOHAAADB58mQcO3YM3333HRITE7FhwwasWrXKNIJ3V3x8PJYsWYLExESsWrUKO3bsMO2nouHDh8PV1RWvvPIKTp06hZSUFJw4cQIfffQRMjNrNtozfPhwXLp0CT/++CMGDRpk8U141/Tp0/HXX39h4cKFuHHjBm7duoWtW7fiyy+/NJWJjo5GSUkJDhw4YOpEdu7cGZs3b4anpyeCgoJMZWfMmIHFixdj5cqVSExMxLVr17Bu3TosX25M23jiiScgEAjw73//Gzdv3sTBgwcrzaRb38YOHo5NB/dg2+EDSEpLxf/9vARKlQpP9DLef+uDRd/gh9Xl14potBpcv52I67cTodVqkZMvx/XbiUjNKp8trkdkFH7etA5Hzp5GRk42Dp46gT92bEGvqE71HV61CnbHwfWJ7rBv3xISf094Tx0OXUERSu6ZVtzvn8/DOaY8PUlgK4akqRckTY1npG08nCFp6gUbt/Iz6bKoUNiFNIONpwtk7VvC75/PoST+OsoulU8U1JDkm2PhPiYGDp3CYBvgA983noVWXoji45dMZZp+8A+4DC2fNt77pZFw6h2J9C9+h75MBZGLA0QuDhBIzM/BiX3cYRcRBMWu6q+Jrm9bjmejXwd39G7nBn8PW0x9oilsxUIcOGv8sTJ9ZACe61c++tHC3x6dQp3h5SJBaDMZ3hnXAgIB8NcR40kIpVqPlByl2UOl0aOoTIuUHKXFNjzKpBIhmvvaobmvceTGx80WzX3t4Ony90z7HNtvCDbHHsD2Y4eQlJGGz39fjjKVCsO6Gu9j/OGKH/Hjxj9N5TVaLW6k3MaNlNvQ6LTIKZDjRsptpGYbjzv2Ujs0929q9pBKbOEkc0Bz/4ablGt0dG9sOXcCOy6cxO3cLHy5cz2UGjUG35lIZ/6W37HkYPkkf0937Im4xGtYHXcAyXnZWBG7E9cyUzGqg7EjqtXp8N+NK3EtMwXzho+DXq+HvLgQ8uJCaHTmnZ742zeRoZBjWDvLnbvaIhAI8FRkd6yK24ejty4jITcTn+5cAw+ZI3oEl8+0/c91P2Hj2aOm58906ImtF09i5+XTuC3Pxld7/4JSo8agcOP3uYOtFEMiovDDoa04k3IL17PS8NnutQj3bWbWsUwryMXN7HTIS4ug0mlwMzsdN7PTTa9Hh2Yt0NLLD/+3ex1uZKfjelYavty7AR2btTAbxXwYxeduwqljGKSBvrBxc4Jb/2joSspQdk+n0WNEL8jalJ+sLzp7HbLwINiHBMDG1REufTpAaGODkitJAIwTAJVcSYRzj7aw9feE2NMFrjHRUGXkmUYZtYpilCWkwaVHO0h83I377hcNbUEhVGl3vgOTMiD2coVjVBhsnB0g9nCBW0wUtIUlUOfU/T2bH8fjWF1o6Jlfq3tIJBI4ODiYPar7TV9TxcXFmD17Nj788MMaZUPWlloZsZw8eTLmzp2LYcOGQalUYu/evVi8eDE+++wzrF69Gi4uLnjmmWfwyiuvVLvN2LFjceXKFbz55psQCAQYNmwYnn/+ebPbXjyokSNHQqlUYvTo0RCJRJg4cSKeffZZ0/pPPvkEP/zwAz799FNkZ2fDxcUF7du3N40ARkRE4KuvvsI333yDH374AZ6enpgxYwaeeuops/1MmjQJFy9exHfffQcHBwfMnTvXNPJXkZ2dHX799Vd8/vnneO2111BSUgJvb2907dq1xiOYAQEBaNu2Lc6fP4933nmn2rI9e/bEjz/+iO+++w5LliyBjY0NmjdvjtGjR5vKODs7o1WrVsjLyzONtEZFRUGv15s6mneNHj0aUqkUS5cuxWeffQZ7e3u0atUKL7xgvEZEJpPhxx9/xH//+1+MHDkSLVq0MOV3N5T+XbqjoKgQS9b/AbmiAC2bBeJ/b88zpcJm5eVCeM/oY25+Pl78z9um579t34Tftm9CZGg4vnvnAwDAmxOmYMm6P/D5z0uQX1gID1dXjOg7AJNHPlOvsd1PwXbjhAReLwyB0F4K5Y0UpP/vTxi0OlMZsZcLRI7l6d/SQF/4zxlveu75nHEEpDD2PLKXGSeOsnFxgMvY/rBxkkFbUIyiYxcg39SA18tUIF9/EEKpBD6vPg2hTIqyK0lIeX8ZDPfMZCvxcTNNcAQArncOzgHzXzarK+Pr1VDsK08hce4fBW1eIUrO3sCj5NilAjjZ22BMH1+4ONggKbMM81fdgqLEGLOHs9jsdktiGyHGxvjCy9UWSrUeZ24UYuGGJJSqdFXt4m+tVRMZ/u+etN6Xhxt/WO86lYsv1jwaJ0QeRL+oLigoLsRPW9ZBXqhAiyYB+OL12aYJfbLkuWbXFuUq8jFp/jzT89/3bMPve7ahfctQLJz170r1PypiwtpDUVqMFbE7IS8pQrCXHxaMmWpK5cwuzDeLs3WTQPx7+DgsO7wDPx3aDn9XD3z41IsIupNSmluswNGbxh/m/1j+P7N9ffncy2jfrHwG1W3n4xDhH4hm7ua34KkLY6N6QalV4397N6BYpUQbvwB8MmoSJPfcGia9IA+KsvLZPfuGtIWirBgrju1BfmkRgj188enISWZprq/2HgaBQID3t6yCRqdFVEArzIwZYbbvL3avx7m08s/AS799CwBYNWk2fJxdIRQI8dGTL2DhgU14c80iSMUSdAoMwcu9hlodd9GZaxCIRXDt2xFCiRiqjFzkbo4FdOVZbTZOMoik5SO8ZTdTUWBnC6fO4RDZS6HJVSB3S6wpgwYACmLPwcVggPvgroBICFVyFvIPmWfqyPechEuPdvAY1h0GGKBOu7PvO5lHqrQcyHedgGOHEDh2CIFBY5yxtmL76srjeBwjy1xdXSESiSpN1JOXlwcPD49K5VNSUpCWlmbW97qbKRoeHo4dO3agWbPav0+xwGBovMlMEyZMQGhoKObNm3f/wlaIiYnBxIkT8eKLL9bpfh5HeSesG7H+u8pftLmhm9AgqroOpLF7t8PYhm5Cg1CU/n3viWmNXy1P4N3oaRrg+utHgV5l+RrnRk9f9x2vR1Hxrsfzth2hfzXcbeXuJyWjoKGbUKWmvi41Ljt69Gi0bdvWNHmmXq9Hnz59MH78+EqT96hUKty+bT7T71dffYWSkhLMmzcPgYGBtTIyWtEjNXkPERERERFRbXmEJ4V9IJMmTcKcOXPQunVrtG3bFj///DPKyspMWZSzZ8+Gt7c33nrrLdja2qJVq1Zm29+9e0TF5bXpb9uxTE9Px7Bhw6pcv3Xr1npsTe2q7tYcS5YsqZf70BARERER0aNh6NChkMvl+Oabb5CTk4OwsDD89NNPplTYjIyMBr9Dw982FVar1SItLa3K9f7+/rCx+Xv2mysOXd/L29sbUqnlKdEbI6bCPl6YCvt4YSrs44WpsI8ZpsI+Vh7lVNjUzIKGbkKVmvi4NHQTatXfs+cFwMbGptrbZ/ydNda4iIiIiIjqk7Cx5ML+DTyad7QnIiIiIiKivw12LImIiIiIiMgqf9tUWCIiIiIiouowE7b+cMSSiIiIiIiIrMKOJREREREREVmFqbBERERERNQoMRW2/nDEkoiIiIiIiKzCjiURERERERFZhamwRERERETUKAmZCltvOGJJREREREREVmHHkoiIiIiIiKzCVFgiIiIiImqUBJwWtt5wxJKIiIiIiIiswo4lERERERERWYWpsERERERE1CgxE7b+cMSSiIiIiIiIrMKOJREREREREVmFqbBERERERNQoCZkKW284YklERERERERWYceSiIiIiIiIrMJUWCIiIiIiapQEnBa23nDEkoiIiIiIiKzCjiURERERERFZhamwRERERETUKDETtv5wxJKIiIiIiIiswo4lERERERERWYWpsERERERE1CgJmQpbbzhiSURERERERFZhx5KIiIiIiIiswlRYeqSV7DvT0E1oEOqbqQ3dhAbhMmVYQzehQfzYzq6hm9AgdPKihm5Cgxi/s6Fb0DBWREobugkNwlBY0tBNaBAGja6hm9AgnJ7q1dBNoAoEMDR0Ex4bHLEkIiIiIiIiq7BjSURERERERFZhKiwRERERETVOeqbC1heOWBIREREREZFV2LEkIiIiIiIiqzAVloiIiIiIGicDU2HrC0csiYiIiIiIyCrsWBIREREREZFVmApLRERERESNE1Nh6w1HLImIiIiIiMgq7FgSERERERGRVZgKS0REREREjZJBz1TY+sIRSyIiIiIiIrIKO5ZERERERERkFabCEhERERFR48RZYesNRyyJiIiIiIjIKuxYEhERERERkVWYCktERERERI0TZ4WtNxyxJCIiIiIiIquwY0lERERERERWYSosERERERE1TpwVtt5wxJKIiIiIiIiswo4lERERERERWYWpsERERERE1Djp9Q3dgscGRyyJiIiIiIjIKuxYEhERERERkVWYCktERERERI2SgbPC1huOWBIREREREZFV2LEkIiIiIiIiqzAVloiIiIiIGiemwtYbjlgSERERERGRVdixrIEJEybg448/fujtv/32W4wYMeKBtjEYDPjPf/6DTp06ISQkBFeuXKnRdiEhIdizZ8/DNNMqJ06cQEhICAoLC+t930RERERE1LCYCvuIOnToEDZs2ICVK1eiadOmcHV1begmmUyYMAGhoaGYN2+eaVlkZCRiY2Ph6OjYgC2rzLlnOzi0bwmBrQTq1BzIdx6HNr+o2m0cOoTAqXMERA52UGfLkb8rDuqMPNN6r+cHQhrgY7ZNUfw15O88UakuoZ0tfCY/ARsnGVL+9zsMKk3tBPaAPCc/AZfh3SFysEPphQRk/u93qFNzqizvOqInXEf2gtjHDQCgSsxA7s/bUHzisqmM7z+fg6xjKGw8nKEvU6HsYgKyftwIdXJWncdT0YZTsfjzxH7Ii4sQ7O2HGQNHIcwvoMryB66cxbKDO5CpkKOJmwem9X0CXVqEm9avOLQD+y6fRU5RAWxEIrTyaYIpvYci3L+8zuuZqVi8bwuuZiRDJBSiZ0hbTO8/AnYS2zqN9X7W7tyKVZs3Ql6QjxYBgZg1aRoiWrSyWPavvbuw/dB+JKTcBgCEBAXj5ecmmJU/cOIYNuzZgasJt1BYXISfF3yJVoHN6yWWB7HuwG78vnsr5IUKBDdphjefnYjwwGCLZRPSU7F08zpcS05EpjwXM54ZjzH9BldZ9y87N2HRxtUY3XcQZo6ZUFch1JnWQQ4Y3csXLZvYw91Jgvd+voFjlwsaulk1tuHEQfxxdC/kxYVo4e2PGUNHI6xJYJXlD1yKx9J9W5FZkIcmbp54acBIdGkVYVbmdk4mFu3eiHNJN6HT6xHg6YMPnp0Kbxfjd97mU7HYc+EUbmSkolSlxOa5n8HRzr4uw6ySU5fWcGgTDIGtGOr0XOTvOwVtQXG12zi0bQHHqDCI7KVQ5xagYP9pqLPkAAChrQROXVtD2swHIid76EtVKLuVBsWxCzCoy49RTd8YW6ne3G1HUXY9uXYDrIJz97ZwaNviTtw5kO86CW3BfY7fka3gFB0GkcwO6ux85O89BXVmnsWynk/3hV1zP+RsOIiym6kAALGnC5w6R8DW3xNCO1voCktQfPYGiuKv1Xp8FfE4Vof0TIWtLxyxfESlpKTA09MTHTp0gKenJ2xs6v4cgEbz8J0eiUQCT09PCASCWmyRdRy7RMAxKgzyHSeQ9fM26DVaeD3bHxBV/ba3DwuEa78oKGLPIWPZFmiy8uH1bH8I7aVm5YrPXEfqN6tNj4L98RbrcxvaFZqc/FqN60G5Pz8Abk/3QcYXvyPxpf+DQalCs89fh0BS9XtKk1OA7EUbkfiPT5H4jwUoib+OpvNfhm2gr6lM2bVkpH/6C25N+ADJ/1wICAQI+OJ1QFi/74F9l8/gh71/4YUeg7B48iwEe/lh9h+LkV9i+QfIxdREfLjxVwxt3wlLpryFHq3a4D9rlyMxO8NUpom7J2YOegpLp76Nbya8Dh9nN8z+YxEKSow/5nKLFPjnbz/A39UD37/4BhY8Ow1JuZn4dPPv9RJzVfYcPYxvVi7DlKefxYpP/4eWAUF4c/57kCsKLJaPv3QBA7r1xMJ3P8LiDz+Dt7sH3vj4PWTLy3+IlamUaBsShunPT6ynKB7c3lPHsXDdKkwaNgpL3/kILZo0w6xvFiC/UGGxvEqtgp+HJ14e+SzcnZyrrftK0i1sOrwfwf7N6qLp9UIqESEhoxQLN95u6KY8sH0XT+P7nRvwYp8hWPLSHAT7+OPtX75DfnEVn+/kBHywdgWGRXbFTy/PRY/Qdvj3H4uRkJVuKpMmz8HrS/+HZh4++GrSTCx99V+Y2HswJDZiUxmlRoNOLcIxrufAOo+xOo5RoXCMbAX53lPI/mM3DBotPEf1qfY4ZteqKVx6RaLw+EVk/rYTmpwCeI7qA6GdsbMgcrCDSGaHgsNnkfnLDsh3nYA00AduAzpVqitv1wmkLd5oepTdSq2bQCtw7BQOxw4hkO+OQ9aqndCrtfAa3bf643dIAFz7dIDi6AVkrNwGTU4+vEb3hdC+cifJsWMogMqdDYm3G/SlSuRtPYqM5VuhOH4Rzr3awyHS8sm52sLjGDUW7FjWkMFgwGeffYZOnTqhe/fu+Pbbb03rCgsLMW/ePHTp0gUdOnTAxIkTcfXq1Srrmjt3Ll599VUsXLjQtM27774LtVptWv/hhx8iPT0dISEhiImJAQDExMRgxYoVZnWNGDHCrC01lZqaipCQEGzbtg3jx49HmzZtsHnzZuTn52PWrFno2bMn2rVrh+HDh2PLli1mbY+Li8PKlSsREhKCkJAQpKamWkyF3blzJ4YNG4bWrVsjJiYGy5Yte+B2WsMpOgyKI+dRdiMFmpwC5G2JhcjRHvatqv6B6NgpDMXnbqDkwi1o8xSQ7zgOvVYHh7YtzMrptVroS5Smx71nee9yiGwFoa0EhfeM8jUEt9ExyP1lB4pjz0OVkIa0j3+GjbszHHu0q3Kb4qMXUHz8EtSpOVCnZiPnp03Ql6lgFxFkKlOw+QhKz92EJlMO5fUUZC/ZDLG3G8Q+7vURlsmauIMY1r4LhrTrhEBPH8wa8gykNmJsPxdnsfy6k4fRKTgUY7vEIMDDG5N7D0FLH39sOB1rKtM/oiM6BrWCn6s7gjx98Gr/EShRKXEr2/jj9NjNy7ARijBz8FNo5u6FUL9mmDX4GRy6dh5p8qpHguva71v/wpP9BuKJvv0R1KQZZk99BbYSW2zZbzk9/v0Zb+HpQUPRKrA5Av2b4F8vvwa9QY9TF86Zygzp1RdTnhmL6DZVv18a2h97t2N4974Y1q03gnz98fZzkyCV2GLLsYMWy4cFBmP608+jf3RXiO/pTFRUqlTi/eU/YPa4KXC0b5jRqtpw6poCP+9Kw9FLBQ3dlAe25ug+DOvYDUMiuyLQyxeznhgLqViCbWeOWSy/7vgBdGoRhrE9+iPA0wdT+j2Blr5NsSGu/L3w097N6NwyAi8PHImWvk3h7+aJ7qFt4epQnnEzumtfjOs5EOHVjIzWB8fIEBSeuARlQho0uQrk7TwBkcwOdsFNqt6mQyiKL95CyeVEaOWFyN97EnqtFrIIY6aBJk+BvK1HoExMh05RDFVqNhRHL8AuyA+ocHLYoFJDX6o0PaDT12m8dzl1DIXi+EWU3Uw1Hr+3HYPIwR72LZtWuY1jVCiKz99EycUEaPMKId8VB71GB4fW5pkLYi9XOEaHIW/H8Up1lFxMQP6+01ClZkOnKEbp5SSUXEyodr+1gccxaizYsayhDRs2wN7eHqtXr8bbb7+N7777DkeOHAEAzJw5E3l5eViyZAnWr1+PiIgIvPDCCygoKKiyvmPHjuHWrVv45Zdf8L///Q+7d+/Gd999BwCYN28eZsyYAR8fH8TGxmLt2rV1Ftfnn3+OiRMnYtu2bejRowfUajUiIiKwePFibNmyBWPGjMHs2bNx/vx5U9siIyMxZswYxMbGIjY2Fr6+vpXqvXjxIt544w0MHToUmzdvxmuvvYavv/4a69evr7NY7iVycYDIwR7KpPKzdwaVBqr0HNj6e1reSCiExMcdysQMs8XKpAxIKmwji2gO/5lj4DN1OJx7R0JgIzJbb+PuDOcebZG35UiDzkYm9nWH2N0ZxafKT3ToS5Qou5IEu9Y1TGcUCuAU0xECqQSlFxMsFhFIJXAZ2gXq9FxosutvhFaj0+J6Rio6BpafTRYKhOgQ1AqX0pIsbnM5LQkdA1uaLYtuHlpleY1Oiy1njkFmK0ULbz/jMq0WNiIbCAXlX6G2dzooF1ITrYjo4Wm0GlxLuGXWARQKhYhu0w4Xb9QsjUupUkGr1cHJ4dFKaa+ORqvF9eRERIWWpzoKhUJEhUbgUsJNq+r+3x8r0K11e0SHtba2mfQQNFotrmWkoGPzENMyoVCIjs1DcDnF8ufsUmoiOjYPNVvWKTgMl1OSAAB6vR7Hr19CU3cvvL1yIUZ+NhevLP4/HL5yzkJtDUvkJINIZgdlSvnlBQa1BqrMPNj6VnECTyiExMsVqhTzSxJUyVlVbwNAKBFDr9ZUOl659O0Iv5dGwWvsAMjCg6rYunaJnB0gcrCD8namaZlBrYEqIxe2fh6WNxIKIfFxM9sGAJS3MyG5ZxuBjQgew7ojf89J6EuUNWqP0FYMvVL94IHUEI9j9cBgeHQfjQyvsayhkJAQvPbaawCAwMBA/Prrrzh27BhsbW1x/vx5HDt2DBKJBAAwZ84c7NmzBzt37sSzzz5rsT6JRIL58+fDzs4OLVu2xIwZM/DZZ59h5syZcHR0hEwmg0gkgqdnFZ2gWvLCCy9g4EDzVJ8pU6aY/j9hwgTExsZi+/btaNu2LRwdHSEWiyGVSqtt2/Lly9G1a1dMnz4dABAUFISbN29i6dKleOqpp+ommHuIZHYAAF2FA4euRAnhnXWVtrG3hUAohK60zGy5vqQMYncn0/OSy4nQKUqgKy6F2MsVLn06QOzuhNz1d86Ii4TwGNET+ftOQ1dYAhsXh1qM7MHYuBvT/HT55pMqaeWFsHFzsrSJiW1zPwR9/08IJGLoy1RI/fdiqCsctF1H9oL3yyMhtJdCdTsTt2d9A2h1tRtENRSlJdAb9HCVmXeEXGWOSM7LtriNvLjIYvmKqXXHblzCBxt/gUqjgbuDIz5/7mU42xv/lpGBLfH93r/wx/F9eDq6F5RqNRbv3woAyCtumAmsCgoLodPr4ebsYrbczdkFt9Nrlr72/aqV8HRze6RHJytSFBcZ466Q0urm5IzbWRlVbHV/e04ew/WUJCyZ+4G1TaSHpCgthl6vh1uFEx2uDk5IzrV8Lbe8uNBCeUfI73wu80uKUaZW4bfY3ZgS8wSmDRiJuJuX8e6fP+HLF2egfYUf6w1JJDNeglHxOKYvVZqOcRUJ7SR3jmMVjn2lyiq/84VSCZw6R6Dk4i2z5YqjF6BMyYJBq4U0wAeuMVEQSGxQfPbGw4ZUI+Vxmx+Lqz1+29lajFtfqoT4nrhdYjpClZ5juqbyfiR+HrAPCUDO+v0PEsID4XGMGhN2LGsoJCTE7Lmnpyfy8vJw7do1lJaWonPnzmbrlUolkpOrvsA9JCQEdnblX5CRkZEoLS1FRkYG/P39a7fx1Wjd2vxMvE6nw48//ogdO3YgKysLGo0GarUaUqm0ihosS0hIQL9+/cyWdejQAStXroROp4NIJKpiy4djHxEEt8FdTM9zVu+r1frvVXLPQVWTUwBdcRm8nx8IGxcHaAuK4dKnAzR5CpReqv8zfk4DouH31nOm58lzfnjoulTJWbg15ROIZFI49ekAv3cmIun1L806l4rdcSg5dQU27s5wH9sfTd6fiqTpn8Og1loVx6OgfUAL/DTlLSjKSrDl7HG8v2Elvn9xJlxljgjy9MHc4c/h+z2bsGT/NoiEAjwV1ROuMkcIH6HrjB/Eyo1rsfvoYXz/349he+ck2eMqS56Hr9f8gi9nzIWt+PF+LRobg8GYytk9tA1GdzNeZtLStwkupSRg08nYBu1Y2ocEwLVflOl57l+H6nyfAokNPEb2hkaugOL4RbN1hXGXTP/X5BRAYGMDx45htd6xtA8LhNvA8us7c9YdqNX677IL9oe0mTcyf95eo/JiD2d4jupt7GAnZd5/g0fQ43Yco4bHjmUNVZw8RyAQwGAwoKSkBJ6envjll18qbVPbM6RamhhHq7XuB7x9heuGli5dipUrV+Kdd94xdX7nz59v1cQ+9aHsRgoy03NNzwV3LvAXyaTQ33PWUySTQpNlOVVTV6qCQa+HyN78jKhQZgddcdUpM+o7+7VxdYK2oBjSAB+IPV1gH2o+m1uTN55F4dELUByuu5Sr4tjzuHU5yfRcKDa+b0WuTtDmlZ+BtHFzgvJ+Z2y1OmjScqABoLyeAmloANxH90XG5+UX9utLlFCXKKFOzUHppUSEbv0cjj3bo3DvqdoMq0rO9jIIBcJKExzklxTBTWb58+fm4GixvGuFUQ47iS383TzhD0+E+wdi/A/zse3cCYzr1h+A8fqV/hEdIS8ugt2djtiauIPwdanfa0zvcnFygkgorDRRj1xRAHeX6meVXrV5A375az2++ff7aBEQWHeNrAPODo7GuCtM1CMvVNx3Yp6qXEtORH5RIaZ88m/TMp1ej3M3r2H9wd3Y9+0KiIS8kqSuOds7QCgUQl5hFCa/uBBuDpZH39wcnCyULzKVd7Z3gEgoRICn+SUcAR4+uJBsOdW/vpQlpJnPYHrvceyekTihvbTKSeH0Zeo7xzHzk8Eie/NjIQAIxDbwHNkHBrUGuZtj7ztzpjozD85dWhvbVYvXWpbdTEVmxr3Hb+OJZ5HMzixdVSSTVnmpha5MZTFuob3UNPJp28wHNi6OaDJjtFkZjxE9oUrNQfaf5dei27g7wWtMPxSfu4nCCh3u2sbjWN0zcFbYesOOpZUiIiKQm5sLkUiEJk2qvpi+omvXrkGpVJpGAs+ePQt7e3uL1yve5ebmhuzs8rSI4uJipKbW7gxt8fHx6Nevn+m+m3q9HklJSQgOLr/4XSwWQ6+v/qDSvHlzxMebz5QaHx+PwMDAWh+tBACDWgut2vxLVldcCmmgr+lAJJCIYevnieL465Yr0euhzsyDNNAXZTdSTIulAT4oPl31NWpiL1fT/gAgd/0BCO45ESHxdYf7E92R9esOaPOrnyLeWvoyFfRp5hfda/IUkHUMgepOR1JoL4VdWCDyNz7Y2XCBUACBuOqvDIFAAAiqL1PbxCIbtPJtgvikG+gR0gYAoDfoEZ90A6M69rC4Tbh/IOKTbuCZTr1Ny04nXkeEf2C1+zIYDNBYOJFzN+1u27kTkNiIERUUUqlMfRDbiBHSPBinLpxH72jj6L1er8epi+fxzKChVW7361/rsWLDGnz1znsIC3500gBrSmxjg1bNgnD62iX0am8c7dHr9Th97RKe6jPgoeqMCo3Ayn9/YrZs/i+LEeDth3EDn2Cnsp6IbWwQ4tsU8QnX0DPMmJ6t1+txOvE6RnXqZXGbiCZBiE+4htFd+5qWnUq4ivCmgaY6Q/0DkFIhlTYlLxve9zkBU9cMGi20CvNjhK6kDNKm3tDkFAAwjjDa+rij+HwV1w/r9VBn58O2qTfKbqWZFts29UbxufKRRoHEBp6j+sCg0yN30+EadRTFnq7QKVW1PoGPQaOtdPsUXXEZpM287zl+28DW16Pq0VK9HupMOaQBPmZprtIAHxTfuVVIYdwllFwwf918Jz2B/P3xZrPdit2d4fVsP5RcSoQitu6vveVxjBoTdiyt1K1bN7Rv3x7Tp0/H22+/jcDAQGRnZ+PgwYPo378/2rRpY3E7tVqNefPm4ZVXXkFaWhq+/fZbjB8/HsJqfrB06dIFGzZsQExMDBwdHfHNN99UW/5hBAQEYOfOnYiPj4ezszOWL1+O3Nxcs46lv78/zp07h9TUVNjb28PFxaVSPZMnT8YzzzyD7777DkOHDsXZs2exatUq/Pe//63V9lan8OQVOHdrA628EFpFMZx7tYeuqBSl99yDy+u5ASi9nmzqOBbFXYH7E92hzsyFKj0PjtFhEIptTAdxGxcH2EcEoexWGvRlKkg8XeHSPxrK5EzTgb/iAfLuVOeaXEWD3MdSvmYfPCcOgTo1G5qMPHhOGQ5tngJF9xwwA76cgcLD55B/5zpRr2kjUHziEjRZcgjtpXDuHw379i2NtxWBcVIgp5golJy8DG1BMcRervAYNxB6lRrFdXx2t6LRnXrj082/o5VvU4T5NcPauINQatQY3NaYWjV/02/wdHTCP/o+AQB4Oron3vj1O6w+cQBdgsOw7/IZXMtIwVtDjGexy9Qq/Hp0D7q3jICbgxMUpSXYePoIcooU6B3W3rTfDacOI6JJEOzEEpxKvI5F+zbjH32HwUFq+Rqg+vDcsBH48PuvERrcAhHBLfHHts1QqpR4oo/x7PT7C7+Ep5s7Xr1z65Bf/lqHJat/w/sz3oKvlxfyCow/4uykUtjfiUNRXISs3Bzk5hvvgZecbvyx6u7iet+R0Poytt8QfPzzIoQ2C0JYYDBW79uBMpUKw7oaf3R9uOJHeLq44uWRxmveNVotkjKMcWh0WuQUyHEj5TbsbG3RxMsH9lI7NPc3nwVSKrGFk8yh0vK/A6lECD/38lsu+LjZormvHYrKdMgpqLtJSWrD6G4x+GTDLwjxb4Yw/0CsPbYfSrUKQyKNJ0/mr18JD0dnTBtgPBn6dJc+mLn8K/x5ZC+6tIrAvouncS09GW8NL79EYGz3/nh/zTK0C2iB9kGtEHfzMo5ev4ivXpxpKpNXVAh5cSHS5MaRtMTsdNhJpPB2doWTvaze4i86cw1OnSKgKSiCTlECp25toCspM+sIeT7VF2W3Uk0dx6L4q3Af2AXqLDnUmXI4dmgFodgGJZeNI7J3O5UCGxvk7YiFQCKGQGKctEVfpgIMBkiD/Iz3wMzMg0Grg22AD5w6haPodNUz3temwtNX4dy1NbT5RdAqSuDcoy10xaUoveekr9eYfii9kYLiM8aTxUWnrsJ9aFeoM/OgysiDY1QohGIRiu9MOnd3FveKdIUl0ClKABjTX73G9IcyKQOFp65AeOd6T+gNxtemjvA4Ro0FO5ZWEggEWLx4Mb766iv861//Qn5+Pjw8PBAVFQUPjypmLwPQtWtXBAQEYNy4cVCr1XjiiSfw+uuvV7uvl156CampqXjppZfg6OiImTNn1vqI5SuvvIKUlBRMmTIFdnZ2GDNmDPr374+iovLRwMmTJ2Pu3LkYNmwYlEol9u7dW6meiIgIfPXVV/jmm2/www8/wNPTEzNmzKiXiXvuKjp+CUKxDdyGdIVQKoEqJRvZq/eYnW21cXGEyK48dab0ShKE9rZw7tn+zg2W5chevdeUhmTQ6SEN9IVjdDiEYhtoC0tQdu02FEcu1FtcDyrvt90QSm3h98/nIXSwR+mFW0j+50Kz6yDFfp6wcS6fZEjk6gi/d16AjbsT9CVKKG+lIfmfC1FyZ3ZZg1oL+3bBcB/dFyJHe2jzi1B67gaSXv0cuvvcuLu2xYRHQlFajBWHdkBeUohgb38seHaa6QxsdmG+2fUirZsE4d8jxmPZwe346cBW+Lt64sNnJiHIy5gtIBIKkZKbjf+ePwlFWQmc7GQI8W2Kbya8hiBPH1M9V9JTsOLwTpSpVWjq7oVZQ0ZjYJsoNKT+3Xoiv7AQP63+DXkF+WgZGIQv//VfuN05+ZOVl2t2Mmr97h3QaLV4538LzOqZ8sxYTB1t/CEeeyoOH/3wjWndf77+vFKZhtYvqgsKigvx05Z1kBcq0KJJAL54fbZpQp8sea7ZeyBXkY9J8+eZnv++Zxt+37MN7VuGYuGsf1eq/++uVRMZ/u+l8plSXx5uvOXSrlO5+GLNoz37Y0zrjigoKcbyfVshLy5CCx9/fDZhuim1NUshN7tMpHWz5vjPMy9i6d4t+GnvZvi7e+KjsdPQ/M5MmADQM6wdZj0xFqsO78I329eiqYcXPnh2KtoGlJ9A3XTqMH4+UH4t3oxlXwEA5owcb+rU1oeiU1chsLGBW79oCG0lUKXnIGfDwQrHMQfTPSoBoOx6CgrspHDu2sbYOcwtQM7GA9CXGjtGEi832Poaf5/4TXrCbH/pyzZDV1gC6PVwaNcSNr0jAQBaRTEKDp1ByQXzCX7qSlHcZePxe1BnY9xp2cheu79S3KJ74i69dtt4/O7eDiKZFOrsfGSv3W+WRnw/9q2aQSSTQhYRBNk9t9fSKoqRvviv2gnOAh7H6lgjnH31USUwGPhq17e5c+eisLAQ33//fUM35ZGX/MnKhm5CgyjeXvn+Wo8DlynDGroJDULaLvj+hRohndzyzb8bu/E7G7oFDWNFZEFDN6FBaO+9bvIxYtDU3wzhjxIbL5eGbkKD8Hvh0T1+FySk3L9QA3Fp/vfLgqkOLxQhIiIiIiIiqzAVtpH68ccfsWjRIovrOnbsiJ9++qmeW0REREREVM+YnFlv2LFsAJ9++mmd72Ps2LEYMmSIxXUPek9KIiIiIiKi6rBj2Ui5uLhYnK2ViIiIiIiotrFjSUREREREjZOeqbD1hZP3EBERERERkVXYsSQiIiIiIiKrMBWWiIiIiIgaJQNnha03HLEkIiIiIiIiq7BjSURERERERFZhKiwRERERETVOnBW23nDEkoiIiIiIiKzCjiURERERERFZhamwRERERETUOHFW2HrDEUsiIiIiIiKyCjuWREREREREZBWmwhIRERERUePEVNh6wxFLIiIiIiIisgo7lkRERERERGQVpsISEREREVGjZNAzFba+cMSSiIiIiIiIrMKOJREREREREVmFqbBERERERNQ4cVbYesMRSyIiIiIiIrIKO5ZERERERERkFabCEhERERFR46TXN3QLHhscsSQiIiIiIiKrsGNJREREREREVmEqLBERERERNU6cFbbecMSSiIiIiIiIrMKOJRERERER0SNu1apViImJQZs2bTB69GicP3++yrKrV6/G888/j+joaERHR+PFF1+stnxtYMeSiIiIiIgaJ73h0X08gG3btuGTTz7B9OnTsWHDBoSGhmLKlCnIy8uzWP7EiRMYNmwYVq5ciT/++AO+vr6YPHkysrKyauNVtYgdSyIiIiIiokfY8uXLMWbMGDz99NNo0aIF3n//fUilUqxbt85i+S+++ALjxo1DWFgYgoOD8dFHH0Gv1+PYsWN11kZO3kP0CHJ8undDN6FB6IvLGroJDUJ59mZDN6FhPODZ2sZiRaS0oZvQIF4849LQTWgQy1qWNnQTGoQk2L+hm9AgVJeTGroJ9DeiVquhVqvNlkkkEkgkkkrlLl26hJdeesm0TCgUolu3bjhz5kyN9lVWVgatVgtnZ2frG14FdiyJiIiIiKhRMjzCs8IuWrQICxcuNFv22muv4fXXXzdblp+fD51OB3d3d7Pl7u7uSEhIqNG+Pv/8c3h5eaFbt27WNboa7FgSERERERHVs5deegmTJk0yW1ZxtLI2LF68GNu2bcPKlStha2tb6/XfxY4lERERERFRPbOU9mqJq6srRCJRpYl68vLy4OHhUe22S5cuxeLFi7F8+XKEhoZa1d774eQ9RERERETUOBkMj+6jhiQSCSIiIswm3rk7EU9kZGSV2y1ZsgTff/89fvrpJ7Rp08aql7EmOGJJRERERET0CJs0aRLmzJmD1q1bo23btvj5559RVlaGp556CgAwe/ZseHt746233gJgTH/95ptv8MUXX8Df3x85OTkAAHt7e8hksjppIzuWREREREREj7ChQ4dCLpfjm2++QU5ODsLCwvDTTz+ZUmEzMjIgFJYno/7xxx/QaDSYMWOGWT2WJgeqLexYEhERERFR49SIbm01fvx4jB8/3uK6X375xez5vn376qNJZniNJREREREREVmFHUsiIiIiIiKyClNhiYiIiIiocXqA2VfJOhyxJCIiIiIiIquwY0lERERERERWYSosERERERE1SoZGNCvso44jlkRERERERGQVdiyJiIiIiIjIKkyFJSIiIiKixomzwtYbjlgSERERERGRVdixJCIiIiIiIqswFZaIiIiIiBonpsLWG45YEhERERERkVXYsSQiIiIiIiKrMBWWiIiIiIgaJz1TYesLRyyJiIiIiIjIKuxYEhERERERkVWYCktERERERI2SgbPC1huOWBIREREREZFV2LEkIiIiIiIiqzAVloiIiIiIGifOCltvOGJJREREREREVmHHkoiIiIiIiKzCVFgiIiIiImqcOCtsvXksRywnTJiAjz/+uKGbgRMnTiAkJASFhYV1to+cnBxMmjQJ7du3R1RU1EPV8e2332LEiBHVlklNTUVISAiuXLnyUPsgIiIiIqK/L45Y1pMJEyYgNDQU8+bNq9f9rlixAjk5Odi4cSMcHR3vWz4kJATfffcd+vfvb1o2efJkjB8/3vR87ty5KCwsxPfff18nba5Nzj3bwaF9SwhsJVCn5kC+8zi0+UXVbuPQIQROnSMgcrCDOluO/F1xUGfkmdZ7PT8Q0gAfs22K4q8hf+cJ03PbAB+49GoPsacrDBotSi7cQsHBM/V21sypS2s4tG4Oga0Y6vRc5O8/DW1BcbXbOLRtAceOoRDZS6HOLUDBgXios+QAAKGtBE5dWkMa4A2Roz30ZSqU3UqD4thFGNQaYxmpBG6DukDi4QKhVAJdmQplCWlQHD0Pg1pb+zF2CocsPAhCWwlUGbkoOHgGWkX1McpaB8MxshVE9lJo8hTIP3QGmuz88gIiIVy6t4Vdy6YQiERQJmei4OAZ6MtUleoS2krgNbY/bBzskbbkL9PrYOvnCc9RvSuVT1++GfrSyvVYa8PpWPx54gDkxUUI9vLDjIGjEObXrMryB66cw7JD25GpyEcTNw9M6/MEurQIM61fcXgn9l0+g5wiBWxEIrTyaYIpvYYg3D8AAJBZIMfKI7tx5vZNyEsK4eHgjP4RHTC+e3+IRfV3SNkQf8QYd0kRgr18MaP/feK+eg7LDu8wxu3qgWl9hqFLsDFurU6HpYe348Stq8hQ5EFma4cOAS0xrfdQeDg6AwDOJt/Em7//aLHuHybOQKhv1fuuLRtOHMQfR/dCXlyIFt7+mDF0NMKaBFZZ/sCleCzdtxWZBXlo4uaJlwaMRJdWEWZlbudkYtHujTiXdBM6vR4Bnj744Nmp8HZxAwBsPhWLPRdO4UZGKkpVSmye+xkc7ezrMsxa0zrIAaN7+aJlE3u4O0nw3s83cOxyQUM3q8Y2xh/FnycPmt7jr/cbgbBq3mcHrp3H8tidpvf4P3oPQZfm5Z/tQ9cvYPPZ47iRlYZCZSkWT3wDLbz9TOszFXI8v/hTi3W/++R49AlpW3vBPaB1B3bh911bIS9UILhJM7z57AsIDwq2WDYhPRVLN6/FtduJyJTnYsbo8RjTb0iVdf+yYxMWbfwTo2MGY+aYCXUVgkU8jlFjw45lI5eSkoKIiAgEBgY+dB0ymQwymaz2GlVPHLtEwDEqDHlbjkBbUATnXpHwerY/0pf8Bej0FrexDwuEa78oyHcchyo9F07RYcZtFv8FfanSVK74zHUUHD5rem7Q6Ez/F3u5wmtMPyiOXkDeliMQOdjDbXBnQChAwb7TdRbvXY4dQ+HYviXydp2ArrAEzl3awHNkb2T8sr3KuO1aNoVLz/bI338aqsw8OLZvZdxm5Tboy1QQOdhB5CBFweFz0MgVsHGUwTUmCiKZHfK2HTW+BgaDsSN57AL0ZSrYuDjAtU9HCGOMr2etxhgZAoe2LSDfexK6wlI4dY6Ax/AeyPx9V9UxtmgClx5tkX+nw+zQriU8h/dE5m87TQdclx7tIA3whXzHcejVGrj0ioT7kK7IWX+gUn2uMR2hyVPAxsHyj+zMX3dAr9GYntfFwXjf5TP4Ye8mvDn4GYT5NcPak4cx+8/FWDltDlxllU8kXUxNxId//Yp/9BmKri3CsfdSPP6zbjkWT34TQZ6+AIAmbp6YOfAp+Lq4Q6XVYO3Jg5j952L8+vK/4GLvgOS8bBgMBswa/Az8XT2QmJuBL7atgVKjxiv9nqz1GC3GfeUsfti3CW8OfNoY96nDmL16CVb+Y3YVcSfhw02r8I/eQ9A1OBx7L5/Bf9avwOIX30CQpy+UWjVuZKZhQrf+CPbyQ7GyDN/u3Yh565dj0QtvAAAi/AOxbvq7ZvUuO7wT8bdvIMSnad3HfPE0vt+5AbOGP4sw/0CsPb4fb//yHX55/V24OliIOTkBH6xdgWn9nkTXkNbYc/4U/v3HYix+aQ6a3+lMpMlz8PrS/2Foh26Y1HcY7G2lSMrOgMRGbKpHqdGgU4twdGoRjiV7NtV5nLVJKhEhIaMUO0/l4L8TWzZ0cx7I/qtn8cOBzXhjwFMI822GdacPY86apfh5yttwlTlUKn8xLQkfbf4NU3sNRtfgMOy9chbvbliJRRNnIsjTeCJUqVGjTZNA9Altiy92rqtUh6ejC9a+8h+zZVvOH8efcQfROSikbgKtgb2njmHh2lX45/OTER4YjNX7dmDWt5/i9/c+h6uTc6XyKrUKfh5e6NuhM75d82u1dV9JuoVNh/ch2L/uTwxVxONYPWIqbL15LFNh76VWq7FgwQL07NkT7du3x+jRo3HiRPnI0/r16xEVFYXDhw9jyJAhiIyMxJQpU5CdnW0qo9Vq8dFHHyEqKgqdO3fG//3f/2HOnDl49dVXARhH+OLi4rBy5UqEhIQgJCQEqamppu0vXbqEp556Cu3atcPYsWORkJBQ4/b/9ttv6N+/P1q3bo1BgwZh48aNpnUxMTHYuXMnNm7ciJCQEMydO7faumJiYgAA06dPR0hIiOn5vamw3377LTZs2IC9e/eaYrn39brX9evXMXXqVERGRqJbt254++23IZfLaxybtZyiw6A4ch5lN1KgySlA3pZYiBztYd+q6gOIY6cwFJ+7gZILt6DNUxi/mLU6OLRtYVZOr9VCX6I0Pe6e5QOMnVN1Tj4Kj5yHNr8IqpQsFOyPh0OHEAgkdX8uxzGyFQrjLkOZkA5NrgJ5u05AJLODXbB/1dt0CEHxpQSUXE6EVl6I/H2noNdqIYsIAgBo8hTI23oUysR06BQlUKVmQ3H0POyC/ACBAABgUGlQcuEWNNn50BWVQpWSjeLzN2Hr51nrMTq0a4HCU1ehTMyAJk8B+Z44Y4xBflVu49i+FUouJaL06m1o84tQcCAeBq0OsrBAAIBAYgNZWBAUR85BlZYDTU4B8veegq2vByTebmZ1ySKaQ2grQfGZ61XuT1emgr60/FEX1sQdwrB2XTCkbScEevhg1uCnIbURY/v5OIvl1506jE7NQzC2S18EeHhjcu8haOnjjw2nj5jK9I/ogI5BreDn6o4gTx+82m8ESlRK3MpOBwB0Cg7FnCfGIrp5CPxc3dG9ZWuM6dwHh69fqJMYLVlz8iCGtetcHvegpyEVi7H9wkmL5dedvhN35ztx9xqMlt7+2BBvjNvB1g6fj30JfcPao5m7F8L9AzBzwChcz0xFVqFxJEAssoGbg5Pp4WQnw5GbFzG4TTQEdz4DdRrz0X0Y1rEbhkR2RaCXL2Y9MRZSsQTbzhyzHPPxA+jUIgxje/RHgKcPpvR7Ai19m2JD3EFTmZ/2bkbnlhF4eeBItPRtCn83T3QPbWvWUR3dtS/G9RyI8GpGRh9Vp64p8POuNBy9VNDQTXlga04dxtC2nTGkTTQCPbzx5sCnYCsWY/tFy+/x9adj0SmoFcZ26oMAd29M7jEILb39sfFM+Wd7YERHTOw2AB0DLHeyRUIh3BwczR6xNy6hT2g72Els6yTOmvhjz3YM794Xw7r1RpBfE7z9/GRIxbbYcvSgxfJhgcGY/vTz6B/dFWKbqo+5pUol3l/2PWaPnwpH+/o/ec7jGDVGj33H8oMPPsCZM2fw5ZdfYtOmTRg8eDCmTp2KpKQkUxmlUolly5bhs88+w6+//oqMjAwsWLDAtH7JkiXYvHkzPvnkE/z2228oLi7Gnj17TOvnzZuHyMhIjBkzBrGxsYiNjYWvr69p/Zdffom5c+di3bp1EIlEeOedd2rU9t27d2P+/PmYNGkSNm/ejLFjx+Kdd97B8ePG0aG1a9eiZ8+eGDJkCGJjY++bhrt27VoAwCeffILY2FjT83tNnjwZQ4YMQc+ePU2xREZGVipXWFiIF154AeHh4Vi7di1++ukn5OXl4Y033qhRbNYSuThA5GAPZVKGaZlBpYEqPQe2/lV0dIRCSHzcoUzMMFusTMqApMI2sojm8J85Bj5Th8O5dyQENiLTOoFICINWZ1Zer9VBKLaBxMfdysiqJ3KSQSSzgzI5y7TMoNZAlZkHWx8PyxsJhZB4uUJ1zzYAoErOqnobGFNo9GpNlWcChTIp7Fo0gSot2+L6h3U3RlXqvTFqoc6SV/36CgUQe7pAmWreFmVqlmkbiacrBCIhlCn3nDQqKIK2qMSsXhtXRzhFh0G+Jw6o5iSo97P94fviMHg82bNO/u4anRbXM1PRMaj8R6JQIESHwFa4lHbb4jaX026jY2Ars2XRQSG4lJZU5T62nD0Gma0ULbyq/rFTolLCUVo/6ZHGuNPQMaA8DmPcLauPu8KPaWPclssDxpgEEMDB1s7i+iM3L6GwrBRD2kQ/RBQPRqPV4lpGCjo2Lx81EgqF6Ng8BJdTEi1ucyk1ER2bh5ot6xQchsspSQAAvV6P49cvoam7F95euRAjP5uLVxb/Hw5fOVdncVDNlL/Hy09oCgVCdAxoicvpVbzH05PRoeJ7PLAVLqUnP3Q7rmem4mZ2er28x6ui0WpxPTkRUWGtTcuEQiGiwlrjUsINq+r+3x8r0K11e0TfU3d94XGMGqvHOhU2PT0d69evx/79++Ht7Q0AmDJlCg4fPoz169dj1qxZAACNRoP3338fzZoZR7rGjRtndn3hr7/+imnTpmHAgAEAgHfffReHDh0yrXd0dIRYLIZUKoWnZ+VOzZtvvolOnToBAKZNm4Zp06ZBpVLB1rb6M4RLly7FqFGjMG7cOABAUFAQzp49i2XLlqFLly5wc3ODRCKpcr8VubkZz2Y5OTlVWV4mk0EqlUKtVldb56+//orw8HDTawgA8+fPR+/evZGYmIigoKD7tscaIpnxx6CuRGm2XFeihFBm+YeiyN4WAqEQutIys+X6kjKI3Z1Mz0suJ0KnKIGuuBRiL1e49OkAsbsTctcbz54qE9PhGB0G+/BAlF65DZFMCufuxmtTRA6W911bRDIpAEBXah63vlRpWleR0E5yJ+4Kr1WpEjZuTpa3kUrg1CkcJRcrj667De4Cu+b+EIptUJaQBvkey2fYH5bI/m6M5mdPdWVK07rK7TX+bfWVXhcVxK7GGIX2Uhh0OrPR57tlTPUKhXAb2BmKoxegKy6DjVPllDRdaRnyD5yGOjsfApEIsvBAeI7sjey1+6DJLXiYkC1SlJZAb9DD1d48DdJVZkxXtUReXFQpjc5V5oj8YvPrjo/duIwP/voFKo0G7g6O+HzsS3C2rxwrAKTJc7HhdCxejhluRTQ1Z4q7Yhz2jlXHXVJUKUXWVeaA/BLL11urtRosOrAVMeHtIbO1/J7afj4O0UEh8HRyefAgHpCitBh6vR5uFVJeXR2ckJybZXEbeXGhhfKOkBcbJ4vLLylGmVqF32J3Y0rME5g2YCTibl7Gu3/+hC9fnIH2gX+v1NHGRFFWxWfb3gHJ8ure4xU/21W/x2ti24WTCHD3Qmv/wIeuw1qK4iLo9Hq4VUh5dXN0wu3M9Ieud8/JY7ienIgl//rQ2iY+FB7H6pmeqbD15bHuWF6/fh06nQ6DBw82W65Wq+Hi4mJ6bmdnZ+pUAoCXlxfy8oyTuRQVFSE3Nxdt25Zf1C4SiRAREQG93nKOfEUhIeVnoe921vLy8uDnV/UIAQAkJCTg2WefNVvWoUMHrFy5skb7rUtXr17FiRMnLI5mJicn13rH0j4iCG6Du5ie56zeV6v136vkbPlZUk1OAXTFZfB+fiBsXBygLSiGMjEDBftOw21QF7gP7wGDVofCIxcgbeZd7ZnBh2EfEgDXmI6m57mbDtfuDiwQSGzgMaIXNPJCKE5crLS+4NBZFJ64BBsXR7h0bwvXXpHI3//w15batWoK1z73xLgl9qHrspZz19bQ5heh9HrVowDagmKziZLUmXmwcXKAQ/uWyK/lTnZdaR8QjJ8mvwVFWQm2nD2O9zf+gu9fmFGpc5ZTpMDsPxejd2hbPNG+SxW1/b1odTq8/9cvAIA3Bz5tsUxOYQFOJl7DuyPqd6KP2mQwGI9P3UPbYHQ342UPLX2b4FJKAjadjGXH8jGn0miw98oZTOjar6GbUuuy5Hn4evVKfDnzX7AVS+plnzyO0ePise5YlpaWQiQSmVJQ72VvX57WZVMhR18gEMBQixcC31v/3Wt1atopfVSVlpaib9+++Oc//1lpXU1GTx9U2Y0UZKbnmp4LRMYsb5FMCn1J+QikSCaFJiu/0vaA8cyhQa+HyN58VFEos4OuWGlxGwBQ39mvjauT6Yu46OQVFJ28ApGDHfRKNUTODnDp2wHagoc/e2xJWUIa1JnlM9bibtz2UrOzmkJ7KTQ5BRbr0Jep78RtfpZUZC+FvsKIr0BsA88RvWFQa4wHRgtnAfWlSuhLldDmF0GuUsN7dD8oTlyqdJa1ppSJGcjK2l3ehjufVZG9rVmdIjvjbLYWY1Qa/7bCCjEK7W1NI7X6UiUEIhEEErHZ2d57y9g28YLYzRn+r9y9XtX4efWbMhxFp6+iMO6yxf2rs+WQ+FadVvwwnO1lEAqEyC81f0/llxRXGqm6y83BEfklxRXKF1Wa/MVOYgt/N1v4wwPh/gEY/+Mn2HYuDuO6lf/IzC1SYNaq7xHRJBBvDRldS1HdnynuinGUFsFNZnmE3U3mWGnkJr+kuFJH+W6nMlORj/8993LVo5UXTsLJzh7dW0RYXF/bnO0dIBQKIa8wspxfXAg3hypidnCyUL7IVN7Z3gEioRABnr5mZQI8fHAhuebX+VPtc7ar4rNdWgw3C5NTAXff4xU/25Xf4zV18Pp5qDQaDIzoeP/CdcjZwREioRDyQoXZcnlRIdwtTNxTE9eSE5FfVIgp88svD9Lp9Th38yrWH9iFfQt/hkhYu1eK8ThGj4vH+hrLsLAw6HQ6yOVyBAQEmD1q2vlxdHSEh4cHLlwon7hCp9Ph8mXzD6ZYLK71zmLz5s0RHx9vtiw+Ph4tWrSoYov7E4vF0Ol09y1zv1giIiJw48YN+Pv7V3pt7+201xaDWgttfpHpoclVQFdcCmlg+Y8mgUQMWz9PqNJyLFei10OdmWe2DQBIA3ygrmobGGeBBQBdcWmldbriMuOF9eGB0CpKoM6s3cmLDBottIri8oe8ELqSMkibepvKCCQ2sPVxhyoz13Ilej3U2fmwvWcbALBt6m22jUBiA89RvWHQ65G7ObbKWevuJbhzwLrb0X8YBo3WmHp853E3RtsmXuX7EdtA4u1m3sm+l94ATU4BpPdsAxgPsHe3Uefkw6DTm5WxcXGAjaPMVCZv+zFk/bkbWX/uQdafe5C//xQAIGf9ARRfuFVlDGIPl0qddGuJRTZo5dME8UnlI+h6gx7xt28g4s6tQSoK9w9A/G3z65JOJ11HxH1S3QwGAzS68lvG5BQp8Oaq79HKpwnmDBsLoaD+DiXGuP3N4tAb9IhPuvkQcZeXv9upTM3PwRdjX4KzneXJPAwGA3ZcOImBEVGwqXBCsq6IbWwQ4tsU8QnXTMv0ej1OJ15HeFPL2R8RTYLMygPAqYSrCG8aaKoz1D8AKRVSaVPysuHt4lq7AdADKX+P3zQtM362byLcr4r3uF8zxCffNFt26vYNRFRzC57qbL9wEt1ahMOlihT4+iK2sUGrZkE4ffWSaZler8fpqxcR0fzhRtWjQiOw8j+fYvm8+aZHaEBzDOzUDcvnza/1TiXA41hDMxj0j+yjsXmsO5ZBQUEYPnw4Zs+ejV27diElJQXnz5/HokWLcODAgRrXM378eCxatAh79uxBQkICPv74YygUCrOZAv39/XHu3DmkpqZCLpfXSidz6tSp2LBhA3777TckJSVh+fLl2L17NyZPnvzQdfr7++PYsWPIycmBQqGossy1a9eQkJAAuVwOjUZTqczzzz8PhUKBWbNm4fz580hOTsbhw4fxr3/9674d19pSePIKnLu1gV2LJhB7usB9eHfoikrN0j+8nhsAh47lqchFcVfg0L4lZG2aw8bdGa6Du0AotkHxeeMB28bFAU7d20Ds4waRswx2LZrAfXgPKJMzzUYEHTtHQOzpArGHM5y6t4FT19bI3x1XL1NeF525DqdO4ZAG+UHs7gy3gZ2hKylD2a00UxnPp/qYzXRbFH8NDq2bwz4sEDaujnCNiYJQbIOSy8aJQQQSG3iO7AOB2AbyPXEQSMQQ2kuNZ07vvM+lgb6QhQdB7O4MkaM9pIG+cI3pCFV6DnRFlTvd1ig+dxNOHcMgDfSFjZsT3PpHG2NMLL/mxmNEL8jalN/nrOjsdcjCg2AfEgAbV0e49OkAoY0NSq4kATCenCi5kgjnHm1h6+8JsacLXGOiocrIM93PU1do/EFw96ErNMalyS8yTfXu0LYFpEG+EDnLYOPmBOce7WDr74Xii1UfsB/W6E69sOXsCew4fxK3c7Pw5Y51UGrUGNzWeM32/M2/YcmBrabyT0f1RFzCVaw+cQDJeVlYcXgnrmWkYlTH7gCAMrUKSw5sw+W028hUyHEtIwULtv6BnCIFeoe2A1DeqfRydsXL/Z6EorQY8uJC07V79WF0dG9sOXcCOy7ciXvnemPcdyYZmb/ldyw5uK087o49EZd4DavjDiA5LxsrYnfiWmYqRnUwxq3V6fDfjStxLTMF84aPg16vN8V0b4caAOJv30SGQo5h7TrXW7wAMLpbDLbEH8WOs8dxOycTX275E0q1CkMijSnI89evxOLdf5nKP92lD+JuXsafR/bidk4mlu/fimvpyRjVqfzedGO798f+S/HYcuoIUvNysP7EQRy9fhEjonuZyuQVFeJGRirS5MaTTInZ6biRkYrC0pJ6ivzhSSVCNPe1Q3NfYxaKj5stmvvawdOlftIfrTE6qie2no/DzouncDsvC1/t2mB8j7eOAgB8svUPLDm03VT+qY49cDLxGlafPGh8jx/ZheuZqRgZ2d1UprCsFDez0pGUZzyZkJKfjZtZ6ZVGttPyc3E+JRFD73yPNLSx/Ydgc+x+bD92CEkZafj89+UoU6swrJvxvfzh8h/w44Y/TOU1Wi1upCThRkoSNDotcgrycSMlCanZmQAAe6kdmvs3NXtIJbZwkjmiuX/d3zroLh7HqDF6rFNhAeMMqD/88AM+/fRTZGdnw8XFBe3bt0efPn1qXMc//vEP5ObmYs6cORCJRBgzZgx69Ohhll47efJkzJ07F8OGDYNSqcTevXutbnv//v3xzjvvYNmyZZg/fz78/f0xf/58dO788D945syZg08//RRr1qyBt7c39u2rfK3imDFjEBcXh6effhqlpaVYuXIl/P3Nb2Xh7e2N33//HZ9//jmmTJkCtVoNPz8/9OzZE8I6OBtoSdHxSxCKbeA2pCuEUglUKdnIXr3HbKTNxsURIrvytJLSK0kQ2tvCuWd7iGR2UGfLkb16rylVxaDTQxroC8focAjFNtAWlqDs2m0ojpjfasGuuR+cu7UBREJosvORs3Y/lAkPP9HAA8V9+ioEYhu49Ysy3nQ5PQc5Gw+ax+3sAKFd+eRQZTdSUGBnC+curSGyN6bi5Gw8aJpeXOLpCltf44xwfi8+Yba/9GWboSsqNY7MRjSHS6/2gEgIXVEZym6lovDkldqP8cw1CMQiuPbtCKFEDFVGbqVRVBsnGUTSe2K8mYoCO1s4dQ433lg6V4HcLbFmN40uiD0HF4MB7oO7AiIhVMlZyD9knhVwXyIhXLq3g0hmB71Wa9zPpkNVj5RbISY8EorSEqw4vBPykkIEe/ljwZh/mNLlsgsLILznBFfrJkH495PjsezQdvx0cBv8XT3x4dOTTPewFAmFSMnLxn8vnISirAROdjKE+DbFN+Onm+6FdzrxGtLyc5GWn4sxCz8wa8/+f31R6zFajDusPRSlxVgRu/POzeP9sGDM1Hvizq8QdyD+PXwclh3egZ8ObYe/qwc+fOpFU9y5xQocvWkcEfnH8v+Z7evL515G+2blJ2G2nY9DhH8gmrmbjxrUtZjWHVFQUozl+7ZCXlyEFj7++GzCdFNqa5ZCbnYys3Wz5vjPMy9i6d4t+GnvZvi7e+KjsdNM97AEgJ5h7TDribFYdXgXvtm+Fk09vPDBs1PRNqD8h+ymU4fx84HyDsyMZV8BAOaMHG/q1D6qWjWR4f9eKp8Z9+XhxtG7Xady8cUay7PpPir6hrZHQWkJlh/Zhfy77/FnppS/x4sqfLb9AzHvieex7PAOLD28A/6uHvhg1ETT5xYAjt66jM+2rzY9/3DzbwCAid3648XuA03Lt184CU9HZ0Q9ItfZ9ovqioKiIvy0eS3khQq0aBKAL16fY5rQJ0ueZ/Za5BbkY9LH5Wmuv+/eit93b0X7lmFY+Na/6739VeFxjBojgaE2LxYkAMY0jSFDhmDIkCH1dnuNxir5k4afiKghCOwb7p5hDene27Y8ToRVzNjb6D2mM/UJqpj1sbF78YxLQzehQSxrWT8nFR81kmrundyYqS4nNXQTGkST6c80dBOqlL3T8v1+HwVeg7o2dBNq1WM/Ylkb0tLScOTIEURHR0OtVmPVqlVIS0vD8OH1M/0+ERERERFRQ2LHshYIhUKsX78eCxYsgMFgQKtWrbB8+XIEBwfff+NqDBs2DOnpls90vv/++3jyyScfqL5Nmzbhv//9r8V1fn5+2Lp1q8V1RERERERE1WHHshb4+vrijz/+uH/BB7R48WJotVqL69zd3R+4vpiYGLRr187iuoq3VCEiIiIi+tvjVX/1hr2JR1jFCXGs5eDgAAeHhp06nIiIiIiIGp/H+nYjREREREREZD2OWBIRERERUeP0mM5A3hA4YklERERERERWYceSiIiIiIiIrMJUWCIiIiIiapQMnBW23nDEkoiIiIiIiKzCjiURERERERFZhamwRERERETUODEVtt5wxJKIiIiIiIiswo4lERERERERWYWpsERERERE1DjpmQpbXzhiSURERERERFZhx5KIiIiIiIiswlRYIiIiIiJqnDgrbL3hiCURERERERFZhR1LIiIiIiIisgpTYYmIiIiIqFEycFbYesMRSyIiIiIiIrIKO5ZERERERERkFabCEhERERFR48RZYesNRyyJiIiIiIjIKuxYEhERERERkVWYCktERERERI0TU2HrDUcsiYiIiIiIyCrsWBIREREREZFVmApLRERERESNk56psPWFI5ZERERERERkFXYsiYiIiIiIyCpMhSUiIiIiokbJwFlh6w07lvRIEzraNXQTGoRAIm7oJjSMx/TLX1+mbugmUD0yFJY0dBMaxLKWpQ3dhAYx+YZfQzehQSxVJTV0ExqEwEbU0E0gajBMhSUiIiIiIiKrcMSSiIiIiIgaJ84KW284YklERERERERWYceSiIiIiIiIrMJUWCIiIiIiapwe04kBGwJHLImIiIiIiMgq7FgSERERERGRVZgKS0REREREjRNnha03HLEkIiIiIiIiq7BjSURERERERFZhKiwRERERETVOBn1Dt+CxwRFLIiIiIiIisgo7lkRERERERGQVpsISEREREVGjZDBwVtj6whFLIiIiIiIisgo7lkRERERERGQVpsISEREREVHjpGcqbH3hiCURERERERFZhR1LIiIiIiIisgpTYYmIiIiIqHHirLD1hiOWREREREREZBV2LImIiIiIiMgqTIUlIiIiIqLGibPC1huOWBIREREREZFV2LEkIiIiIiIiqzAVloiIiIiIGiUDZ4WtNxyxJCIiIiIiIquwY0lERERERERWYSosERERERE1TkyFrTccsSQiIiIiIiKrsGNJREREREREVqnVjuWECRPw8ccf12aVD+XEiRMICQlBYWFhne0jJycHkyZNQvv27REVFVVn+yEiIiIiooekNzy6j0bmb3+N5YQJExAaGop58+bV635XrFiBnJwcbNy4EY6OjvW6b6o5p04RkEUEQWgrgSojFwUH4qFVFFe7jaxNMBwjQyCyl0KTW4D8Q2egyc4vXx8RBPtWzSD2dIVQIkba4o0wqDWm9SJHezhFh8O2iRdE9lLoSspQeu02Ck9dqfUvkY1njuLPU4cgLylCsKcvXo8ZgTDfplWWP3DtPJYf2YXMwnw0cfXAP3oOQZfmoab1BoMBK47uxtYLcShWlaG1XyDe6D8KTVw9TGWuZ6VhyaFtuJqVCpFAiJ4tW+PVPk/ATmILANhx8RQ+27nG4v7XvfIfuNo7WB/32WP489RByEuKjXH3fbL6uK+fx/Iju41xu7hXHffFkyhWlqG1fyDe6DfSLO671Fotpv/+HW7lZGDx+Blo4eVXqUxafi6m/foNhEIhNk9/z+p479p47hhWnzoEeWkxgj188HrfJxHqU3XcB69fwPJj98TdYzA6B1WI+/gebLtw8s7fOwAzY8zjXhW3H8cTr+JWTgZshCJsevW/lfaz8MAmXEy/jaS8LDRz9cLi8TNqLeaattOS+71eaq0GPxzahv3Xz0Gj0yE6oCVm9B0BN1n5d3pNYjMYDFgTfxhbLsQhu6gATlIZRrTrgnGd+tbei3APpy6t4dAmGAJbMdTpucjfdwraguq/1xzatoBjVBhE9lKocwtQsP801FlyAIDQVgKnrq0hbeYDkZM99KUqlN1Kg+LYBbPvtqZvjK1Ub+62oyi7nly7AVawMf4o/jx50Pg95+WL1/uNQJhvsyrLH7h2HstjdyJTced7rvcQdGkeZlp/6PoFbD57HDey0lCoLMXiiW+ghXf55zhTIcfziz+1WPe7T45Hn5C2tRdcHWgd5IDRvXzRsok93J0keO/nGzh2uaChm1Utp07hkIXfc6w+eOb+x+rWwXCMbGU8VucpKh2rIRLCpXtb2LVsCoFIBGVyJgoOnoG+TAUAELs7w7FDCCS+HhDZ2UJbWIKSSwkoPn/TVIW0uR8cWgdD7OECgUgIjbwQhXGXoUrJsjrmx/U4Ro0bU2EfUkpKCiIiIhAYGAh3d/eGbk4larW6oZvQ4Bw7hMChXQvkH4hH9pq9MGi08HiyJyCq+m1v16IJXHq0Q+HJy8j6czfUeQp4PtkLQjtbUxmBjQ2UtzNRdOqKxTpsXB0BAZC//zQyf9uJgsNnIWsdDOeubWo1vv1Xz+GHg1swsWs/LJowA8GevpizbinySy0fjC+mJeGjrb9jSJtoLJ4wA91bhOPdv1YiMTfTVOaPkwex/swRvNl/FL57/jVIxRLMWbcUaq3xx2VucSHeXrsEfq4e+O751/Dp05ORlJeFBTtWm+roG9IOa1/+t9kjOrAV2jVpXiudyv3X7sTdpT8WjX/dGPf6auJOv42Ptv6BIa2jsHj8DHRvEYF3N/1SOe6zR/Fmv5H47vnpkIrFmLN+mSnuey0+vA3uMqcq26fV6fDRtj/Qxj/I6ljvtf/aefx4aCsmdumHH59/zRj3hmVVxn0p/TY+2v4HhkREYdG419E9OBzvbv7VPO5Th7DhzFG80W8kFo59FVKxBHM3mMet0WnRu2UbDG/budr2DY6IQp9WdfODuybtrKgmr9f3B7fieOIV/HfYOHz5zDTkFhfivS2rHji27w5uxraLp/Byz6FYPnEWPnpyIkK8m1gXdBUco0LhGNkK8r2nkP3Hbhg0WniO6lP991qrpnDpFYnC4xeR+dtOaHIK4Dmqj+l7TeRgB5HMDgWHzyLzlx2Q7zoBaaAP3AZ0qlRX3q4TSFu80fQou5VaJ3Hetf/qWfxwYDMmduuPRRNnGv+Oa5Yiv6Sa77nNvxm/516Yie4tI/DuhpVIzCl/3ys1arRpEoh/9B5isQ5PRxesfeU/Zo8Xuw+AnViCzkEhdRJnbZJKREjIKMXCjbcbuik14hgZAoe2LZB/MB7Za/fBoNXBY3iPGhyr2xqP1av3QJ1bAM/hPc2O1S492kEa6Af5juPI2XAAIpkd3Id0Na0Xe7lCV6aCfE8cMn/fhaLTV+HUpTVkbYJNZWz9PKFMyULullhkr94LVVoOPIZ1h9jDxaqYH9fjGDV+ddaxVKvVWLBgAXr27In27dtj9OjROHHihGn9+vXrERUVhcOHD2PIkCGIjIzElClTkJ2dbSqj1Wrx0UcfISoqCp07d8b//d//Yc6cOXj11VcBAHPnzkVcXBxWrlyJkJAQhISEIDW1/CB36dIlPPXUU2jXrh3Gjh2LhISEGrf/t99+Q//+/dG6dWsMGjQIGzduNK2LiYnBzp07sXHjRoSEhGDu3LnV1pWamoqQkBBcuVLeESksLERISIjpNVEoFHjrrbfQpUsXtG3bFgMHDsS6detM5TMyMjBz5kxERUWhU6dOeOWVV8xinTt3Ll599VX88MMP6NGjBwYPHmza765duzBhwgS0a9cOTz75JM6cOWPaLj8/H7NmzULPnj3Rrl07DB8+HFu2bDFr/4QJE/Dhhx/i448/RnR0NLp164bVq1ejtLQU//rXvxAZGYkBAwbg4MGDZttdv34dU6dORWRkJLp164a3334bcrm8xn8Dazm0a4nCU1egTEyHJk8B+Z44iGR2sGvuX+U2ju1boeRSIkqvJEGbX4SC/adh0OogCws0lSk+dwNF8ddMZ/srUiVnIX/vKahSsqArLIEyKQNFZ65Vu9+Hseb0YQxt0wlDWkcj0N0bbw4YBVuxGNsvnLRYfn38EXQKaoWx0b0R4O6Nyd0HoaW3HzaeOQrAeLZzXXwsxneOQfcWEQj29MXcIWOQW1yI2JuXAADHE67ARijCzH4j0MzNE6E+TfFm/1E4dOMi0vJzAQC2YjHcZI6mh1AgwJnkWxjSJrqW4o7F0NadMKR1lDHu/iNhayPB9ounqo478G7cXpjcfSBaevlh49lj5XGfOWIe9+Bn78R92ayuE4nXcOr2Dbzce2iV7Vt2ZBeaunmiT0jtnkhYG38YQ1tHY3CEMe43+hnj3nGpirjPHEF0YEs8G9ULAW5emNTtTtznyuNef+YIxnfui+7B4cYfNoPGILekCLG3yuN+sesAPNOhB4Lcfaps22t9nsTIdl3h6+RWqzE/SDsrut/rVaxSYvulU3i51zBENg1GK29/zB74DC5l3MbljPIRuPvFdluejU3nT+DD4RPQLTgcvs5uaOXtj6iAlrX7QtzhGBmCwhOXoExIgyZXgbydJ4zfa8FVd2QdO4Si+OItlFxOhFZeiPy9J6HXaiGLaA4A0OQpkLf1CJSJ6dApiqFKzYbi6AXYBfkBAoFZXQaVGvpSpekBnb5O4rxrzanDGNq2M4a0iUaghzfeHPiU8XvuYhXfc6djjd9znfoYv+d6DEJLb39sPHPEVGZgREdM7DYAHav4G4mEQrg5OJo9Ym9cQp/QdqbMjEfZqWsK/LwrDUcvFTR0U2rEoV0LFJ66CmVihvmxOqjyKNpdpmP11dvGY/WBeLNjtUBiA1lYEBRHzkGVlgNNTgHy956Cra8HJN7Gz3LplSQoYs9BnZ4LXWEJSq8no/RqktmxWhF7DsVnrkOTnQ+tohiFxy9CqyiCNNDXqpgf1+NYgzEYHt1HI1NnHcsPPvgAZ86cwZdffolNmzZh8ODBmDp1KpKSkkxllEolli1bhs8++wy//vorMjIysGDBAtP6JUuWYPPmzfjkk0/w22+/obi4GHv27DGtnzdvHiIjIzFmzBjExsYiNjYWvr7lH/Yvv/wSc+fOxbp16yASifDOO+/UqO27d+/G/PnzMWnSJGzevBljx47FO++8g+PHjwMA1q5di549e2LIkCGIjY2tlTTcr7/+Grdu3cKSJUuwbds2vPfee3B1dQUAaDQaTJkyBTKZDKtWrcLvv/8Oe3t7TJ061Wxk8tixY0hMTMTy5cuxaNEis9dhypQp2LhxIwIDA/HWW29Bq9UCMJ4AiIiIwOLFi7FlyxaMGTMGs2fPxvnz583at2HDBri6umLNmjUYP3483nvvPcycORORkZHYsGEDunfvjtmzZ6OsrAyAseP8wgsvIDw8HGvXrsVPP/2EvLw8vPHGG1a/VjUhcpJBJLMzS1cxqLVQZ8kh8alihFkogNjLFcoKKS7K1Kyqt6khoUQMvar2RpE1Oi2uZ6WhY7PyH0ZCgRAdm7Uw+1F8r8sZt9GhWQuzZdEBrXDpTvkMhRzykiKzH1sOtnYI822Ky+nGMmqtFjZCEYSC8q8OWxsxAOBCWpLF/e66HA9bsRi9W1p/gDLFHVAeh1AgRMeAFricYfns/OWM2+gQUCHuwFa4lG4sb4r7ntfGwVaKMJ+mZnXKS4rwxe51+NfgZyG9E3NF8ck3cfDGBcyMGfHQMVqi0WlxPTsdHZqax92hWXDVf+/MZHRsah53VEBLU/mMwnzIS4vM6iyPu25TGx/Ew7SzJq/Xjew0aPU6s9eomZsXvBxdHij+YwlX4OvshmOJVzFu2Wd4fukCfL57HQqVpQ8a6n3d/V5Tmn2vaaDKzIOtb1Xfa0JIvFwrpe6pkrOq3gZ3vrPUmko/fFz6doTfS6PgNXYAZOF1O5qh0WlxPdPS570lLqdX8XlPT0aHCh1G4+f94d/T1zNTcTM7vdZOjlE507E69QGP1Z4uUKZmmy2+91gt8XSFQCSEMuWewYqCImiLSqo9ngskYuiV1R+rBWLrjueP63GMaseqVasQExODNm3aYPTo0ZV+r1e0fft2DB48GG3atMHw4cMrDQLVtjrpWKanp2P9+vX4+uuvERUVhWbNmmHKlCno2LEj1q9fbyqn0Wjw/vvvo02bNoiIiMC4ceNMnTcA+PXXXzFt2jQMGDAAwcHBePfdd+HkVD507+joCLFYDKlUCk9PT3h6ekIkEpnWv/nmm+jUqRNatGiBadOm4cyZM1CpVPdt/9KlSzFq1CiMGzcOQUFBmDRpEgYMGIBly5YBANzc3CCRSEz7rY1rLNPT0xEWFoY2bdqgSZMm6NatG2JiYgAA27Ztg16vx8cff4yQkBAEBwfjk08+QUZGBuLi4kx12Nvb46OPPkLLli3RsmX5gXXy5Mno06cPgoKCMGPGDKSlpeH2beMXjbe3N6ZMmYKwsDA0bdoUEyZMQM+ePbF9+3az9oWGhuLVV19FYGAgXnrpJdja2sLV1RVjxoxBYGAgpk+fjoKCAly7dg2A8W8XHh6OWbNmITg4GOHh25/b1gAAqdxJREFU4Zg/fz5OnDiBxMREq1+v+xHZSwEAulLzv7euVGlaV5HQzhYCoRD6MqXZcn0129SoLc4yOLRtiZKLNR8xvx9FWSn0Bj1cZeappa72jpCXFFncRl5SDFd78/eqq8wR+XfK392uYrqqq72DaV1ks2DIS4vwx8mD0Oi0KFKWYsnh7WbbV7T9wkn0C20PW7Hlg9iDMMVtsY2WU4iMcVcufzflSH7n30plZOV1GgwGfLZzDYa37YwQH8sjQ4qyEny2cw1mD3oGMtuHf79YrruquO/397bwOt2J9+7fvfJ7yMG07lHwMO2syeslLymCWCSCg9SuUr1VvaaWZCjkyCoswKEbFzBn0GjMHjgaN7LT8L6FlFpriWR3vtdKLHxHyewsbQKhnQQCoRC6UvNtdKVKCKvaRiqBU+cIlFy8ZbZccfQC8rYeRc76/Si7mQLXmCg4tK+bkVnA+Jky/h0rfG9V8zeSlxRVfq/IrHtPb7twEgHuXmjtH/jQdZBlVR6ry6o5VkvvHKtLK34OVKZthPZSGHQ6s2uEK5apSOLjDvsWTVFyuerfKA6RrSAU26Ds5sOngD+uxzGy3rZt2/DJJ59g+vTp2LBhA0JDQzFlyhTk5eVZLB8fH4+33noLzzzzDDZu3Ih+/fph+vTpuH79ep21sU4m77l+/Tp0Oh0GDx5stlytVsPFxcX03M7ODs2alV+A7+XlZXpxioqKkJubi7Zty69rEYlEiIiIgF5fs9SbkJDyayE8PT0BAHl5efDzqzq9AgASEhLw7LPPmi3r0KEDVq5cWaP9PoznnnsOM2bMwOXLl9G9e3f0798fHTp0AABcvXoVycnJpud3qVQqJCeXn4Vt1aoVJBJJpbotvQ5yuRzBwcHQ6XT48ccfsWPHDmRlZUGj0UCtVkMqlVZZh0gkgouLC1q1amVa5uFhvDj87t/v6tWrOHHiBCIjIyu1Jzk5GUFBtXum265VM7j26Wh6nrvlcK3W/7CEMik8h/dC2c2Uag9WfxdBHj6YO3gMvj+wBT8d3gGRUIBRkd3hau8AQYWUOcB4nd9teTb+NfRZC7X9fWw4cxSlahWer2Yyli92r0dMaHu0a9K8HlvW+Oy5egZf7t1oej5/xAsN15gaMBgM0Oi0mDNoNJq6Gr9f3xrwNF75bSFS5Dlo6ub50HXbhwTAtV/5rOO5fx2yur33I5DYwGNkb2jkCiiOXzRbVxh3yfR/TU4BBDY2cOwYhuKzN+q8XQ1FpdFg75UzmNC1X0M3pVGwa9W0wrE6tgFbU87GzQnuQ7uh8GTVE/PYtWwKp+hw5G07apoA6O/kcT6OGRrJ7KvLly/HmDFj8PTTTwMA3n//fRw4cADr1q3DtGnTKpVfuXIlevbsialTpwIA3njjDRw9ehS//vorPvjggzppY510LEtLSyESiUwpqPeyt7cv37mN+e4FAgEMtZhvfG/9d3/01rRTWpuEQuPA8L2x3U1Fvat3797Yv38/Dh48iCNHjuDFF1/EuHHjMGfOHJSWliIiIgKff/55pbrd3Mqv+7Gzs3z2WXzPSFHF12Hp0qVYuXIl3nnnHYSEhMDOzg7z58+HRmN+ls/S38rS63s3xtLSUvTt2xf//Oc/K7Xnbue2NikT05GVVX7GRnDnfSeytzU7q3l3RkRL9GUqGPR6CO3MO9VCe2mls/01IZRJ4TmqD1SZucjff/qBt6+Os509hAJhpQks8kuLzGa0vJebzAH5peZn7fNLiuB6p/zd7fJLi+HuUJ4ZkF9ajBae5Sdj+oVFol9YJOQlRbATSwCBAGtPH4avc+Vr0LZdiEMLTz+0qqWJTExxl1aMuxhuMssTAxnjrlz+7pldtzv/Voq7pBgtvIyp9WdSbuFyRjIGff1vs3peXrUQ/cPaY+7gMTiTcgtHb13B6lN3T2oYoDcY0P/Ld/DWgFEY0vrh0+iqjvt+f28Lr9OdeO/+3fNLis0mccgvNc5Q2FC6NQ9H2D0zt2p0OgAP1s6avF5uMkdodDoUK8vMRi2N76WaZ6G4yRwhEgpNnUoACHDzAgBkFRVY1bEsS0iDOvOeM9F3JjMRyaRm32tCeyk0OfkVNwcA6MvUMOj1lUZpRPZS6EvKzJYJxDbwHNkHBrUGuZtj7zuLtfr/2bvvuKau94Hjn4S9kSnLhYoKDkTc1okbq7Z2qnV1L+2wjl/br6Ou2m3raN22tta6tXVrRa2ouPdGAZG9IUDy+yMSiYC1ZcQmz/v14qXcnNw8N2Tc557nnHM7CafWQdq4KmGspZON3d2/432fWw/4G7nYOZT8XMzK1L3e/6m9F0+Sl59P98CQv28s/lbutTji47frfi/zu9rmAd/VuXe/q23v/6620n1Xq7NzUZiZobC00Ou1LN6miHk1B9wff4ysM1fJOHq+1Me0qetLtc4hJG/9i7z7SnD/KVP9HhOlU6lUJSbctLS0LNFRpFKpOHPmDC+//LJum1KppG3btnpzpxR3/Phxhg0bpretffv2esMKK1qllMI2bNiQwsJCkpOTqVmzpt7PwyYVDg4OuLm5cerUKd22wsJCzp7VH4RsYWFR4clinTp1iIqK0tsWFRVF3bp1y7jHgxUlfwkJCbptxSfyKd5uwIABzJ49mwkTJvDLL78AEBgYyI0bN3B1dS3xfJa3DDcqKoquXbvy+OOP06BBA/z8/PTGwf5bgYGBXLp0CR8fnxIxF7+4UFE0+QUUpmXpfgqS0ynMysHK11PXRmFhjqWni/6JWnFqDfl3UrD289DbbOXrUfZ9ylCUVObfSSFlZ+mTTJSHhZk59T19iIq+Ny26WqMmKvoyjcqYhr+RV02iovVL247cuETg3fZeTi642Dno7TMrL5dzcTdp5F1yny52DthYWrHn/AkszcxLTFaSo8pjz4WTFTou6cHHXbPU+2iP+7LetiM3LhHorW1f5nHfvqnb5xud+/H9kLf5fshbfD/kLaYPGAbAR32eZWS7HgDMeeY13e3fD3mLYW3DsLW04vshb9G+bmD5j9vDm2M37/391Bo1x25eKfvvXb0GUTf1/95Hi70+vByr4WLroNfm3nGXvZRDZbO1tMLH2U33U9PF4x/H+TDPVz0PH8yVZnr7vZmcwJ2M1H90/EHeNSlUq4lNvfcZcevuRFaejs4PvZ/SaPILKEjLvPdz93PN2q/Y55qlOVbVXcmLK+tzTY3qTgpWxe4DYOXnqXcfhaU57gM7oVGrSdyw76ESRQv3ahTm5lXaBD4WZubUr+5D1I373u83LtPIu4z3u3eNMt7v/+41/fupw7St2wjnCpjRWjzou/re9+5DfVcnpGLtW/Z3tSohBU2hWq+NubM95g52evs1d3HEvX9Hss/fIP3QGUpjU88Pl66hJG8/RO6N26W2+SdM9XtMlG7+/PmEhITo/RSfJ6VISkoKhYWFJVaicHV1JTExsdR9JyYm6ioKH6Z9RaiUHsvatWsTHh7O2LFjGTduHA0bNiQlJYWDBw8SEBBAp06dHmo/gwcPZv78+dSoUYM6deqwYsUK0tLS9ErufHx8OHHiBLdu3cLW1lav1PbfGjVqFKNHj6Zhw4a0bduW3bt3s337dhYvXvyv9mdtbU2zZs1YsGABvr6+JCUl8eWXX+q1+eqrrwgMDKRevXqoVCr27NmDv792yuvw8HAWLlzIq6++yttvv42npyexsbFs376dUaNGUb162bM1/p2aNWuydetWoqKicHJyYvHixSQmJuoe+9967rnnWLVqFe+88w6jRo3C2dmZGzdusGXLFqZOnVqiJ7syZJ64hGOLhroB+06tgijMyiHnaoyujdvjj5FzNYasU9qTy4zjF3Hp1hLVnRRU8cnYN62H0tycrHPXdfdR2lphZmuNmZP2RMPC1QlNfj4FGdlo8vJ1SWVhRjap+0/oTX+uzq648plBIR2Y8ccqAqr70qC6L79FRZCbn0/PIG3p3PTff8HN3pEXO2in1B/YvB1jVs1n1ZE/aV27AbsunOBifAzvdteWVCgUCp5o3p4Vf+3Cx9kNL6dqLN6/DTd7R70vlLXHDhDoXRMbC0uO3rjE/D+38GKHXiXGqu2+cIJCjZqwhiXLoct33O2Z8cevBHj60qC6393jVtHzbo+C9rideLFDz5LHXacBu87fPe6wgfeOO7gdKw7twqeaG16OLiw+UHTcjYCSCYKNhfZKorezK+4OTgDUdNU/ybkQfwuFQkFtt3///izuyeYdmLntV+p7+tw97v3k5qvo0Uh73DO2rsLNzpFR7e8ed3A7xqxewKqj+2hdO4DdF05yMT6Gd7oO0B33wOB2/Bi5C19nV6o7ubD4wHbc7Bxo799I97jx6alk5GZzJyMVtUbN5TuxAPg4u+pmyIxJTSRHpSI5O4O8wnxdm5quHliYle9r5mHjfO+3H2jv34j+zdo+1PNlb2VNr8AWzP1zMw7WNthZWvPNng008qqhl1j+3bE1r1GXeh7efLr9N17r2BeNRsPXu9cTUqOuXi9mRck4dgHHloHkp2ZQmJaFY9vG2s+1Yst+uA/sTM6VW2Se0JaoZkSdx7V7a1TxyahuJ+PQXDtOLOusdty3wtIc9wGdUJibk/RHBApLCxSW2koXdU4eaDRY1/bWVnzcTkJTUIhVzeo4tmxUZg9PRRnUogMzttz9nPPy47cjd9/vRZ9zm3/GzcGJFx+7+zkX0p4xP89j1eG9tK7TkF3nj3Px9i3d5xxAek42d9JTScxKA+BmirYHysVOOwNskZiURE7evMb0J0dU6jFWNGtLJd6u9753qrtYUcfLhoycQhJSH72lyDJPXMYxpCEFqZkUpGfh1CpQ+5q+FqtrU+p3dddQ7Xf1nZLf1RpVAVnnruHUvgnqPBVqVT7OHYLJi0vSzehu7uKI++OPkXsznowTF1Ha3n3O1BrdBD5FSWVqxHFU8cm6NpqCQjQq/cqzf8JUv8cMxgDVig/r5ZdfZvjw4XrbShvW9l9RKYklwPTp05k7dy4zZszgzp07ODs706xZs4dOKgFefPFFEhMT+eCDDzAzM+Opp56iffv2eknJiBEjGDduHH369CE3N5edO3eWO/Zu3boxYcIEFi1axLRp0/Dx8WHatGm0avXgddweZNq0aUycOJGBAwdSu3Zt3n//fUaMuPdlZWFhweeff05MTAzW1taEhITw+eefA9oS1xUrVjB79mzeeOMNsrKy8PT0pE2bNtjbl+8q6quvvsrNmzcZOXIkNjY2PPXUU3Tr1o2MjPJN3uHp6cnKlSuZPXs2I0eORKVS4e3tTYcOHXSlwZUtI+oCCnNzqnVugdLKgry4RBI36l+JN3eyx6xY4pdz+RapNlY4tgzEzM6a/IRUEjfu0xtPYR/kj2PLe4mWxxPa8QrJOyLJPn8Daz9PLJwdsHB2wHt4uF5Mt+b8WmHH17lBU1Jzsli8fxsp2Rn4u3sz84kRuhKxO+mpKItdhAnyqcXE3s+yaP9WFkb8gY+zG5MfH6r3hfFMaEdy81V8vv03MvNyaexTixkDR2BZbPa487dvsvTAdnLy8/Bz8WBM2EC6N9If/wvaCS861A0qkXCW+7gDmpKancXiA9vvHffAYsedcd9xe9dkYu9nWLR/Gwv3b9Ued78hZRz3mmLHPVzvuA2tc0AT0nIyWXJwh/a43byY0X+43t9bwb3jDvSuycSez7Do4DYWHbh73OGD9Y+7xWPkFqj4fOda7XF712T6AP3jXnJwO9vO3avgePmnbwD47IkXaeanHYfz2fY1nIi5VqLNj8PHUt2pWrmP/WHijE1NIi3n3kysf/d8AbzWsQ8KhYJJm34kv7CAFjXrl5gJ8e+OTalQMrXfC8zZs4Exv87H2sKSlrUCeOWxsqfyL4+MI+dRmJvj0jVUu5h8bAIJa/fqf6452+td0Mq5eJNUG2uc2jTWDQdIWLdHd6HL0sMFKy/tVW3v4X31Hi920UYK07NArca+aT3MO2ovFBWkZZL65zHdiX5l6dygmfb9vn8bKVkZ+Ht4M/PJkWW/331qMbHvcyza9wcL9/2BTzU3Jg8YSm33e6/7A1fOMuv3e2vvTtn4EwBD23ZjWLvuuu2/nzqMu4MTLWpV3gRFlaG+rx2fvtxA9/sr4doLJduOJPLZr4/eWP+MYxdQWJhRrXMISsui7+oI/de0ox1m1qV8V7dqhJmtNfmJaSRuitD7rk6NOIGzRoNrzzZgptQuBfbnvc8yW39fzGytsQuoiV3AvZ7CgvQsbi/XTkpnH1gHhZmSah2bU63jve+5rHPXSdlV+tIgD8NUv8dESaWVvZamWrVqmJmZlZioJykpqUSvZBE3N7cSvZMPal8RFJqKHNRYydRqNb169aJXr15VtmyFMKyKTMT+S4p6C0zOf+fjqEIZy8QC4uFoKnDpof8SpX3FXmT6rxhx6cETBhqrhTVKXzrD2CnMK78i61Hk8/IAQ4dQplvfrjZ0CGXyff3Jh247aNAgmjRpwocffgho86JOnToxePDgUifvGT16NLm5ucybN0+37ZlnnqF+/fr/rcl7KkpMTAz79+8nNDQUlUrFjz/+SExMDOHh4X9/ZyGEEEIIIYRpM5KL1sOHD+eDDz4gKCiIJk2asHTpUnJychg4UFsSPXbsWDw9PXn33XcBGDp0KEOGDGHRokV07NiRLVu2cPr06UpLKuERTyyVSiVr1qxh5syZaDQa6tevz+LFi8s9/q9Pnz7ExsaWetukSZPo16/fP9rfhg0b+Pjjj0u9zdvbm82bN//jGIUQQgghhBACoHfv3iQnJ/P111+TkJBAw4YN+eGHH3SlrXFxcXrDzZo3b87s2bP58ssv+fzzz6lVqxbffvut3nKBFe0/VQpbUWJiYkos91HE1dX1H49bzMzMLHNxUnNzc3x8fP5xjEJLSmFNjOl9HAFSCmtqpBTWtEgprGmRUthHz6N8Lun7xiBDh1ChHukey8pS0Ymevb19uSfREUIIIYQQQlQwuXhbZapmek4hhBBCCCGEEEZLEkshhBBCCCGEEOVikqWwQgghhBBCCONngtPJGIz0WAohhBBCCCGEKBdJLIUQQgghhBBClIuUwgohhBBCCCGMk5TCVhnpsRRCCCGEEEIIUS6SWAohhBBCCCGEKBcphRVCCCGEEEIYJ7WUwlYV6bEUQgghhBBCCFEuklgKIYQQQgghhCgXKYUVQgghhBBCGCeZFbbKSI+lEEIIIYQQQohykcRSCCGEEEIIIUS5SCmsEEIIIYQQwihpZFbYKiM9lkIIIYQQQgghykUSSyGEEEIIIYQQ5SKlsEIIIYQQQgjjJLPCVhnpsRRCCCGEEEIIUS6SWAohhBBCCCGEKBcphRVCCCGEEEIYJymFrTLSYymEEEIIIYQQolwksRRCCCGEEEIIUS5SCiuEEEIIIYQwTmopha0q0mMphBBCCCGEEKJcJLEUQgghhBBCCFEuUgorhBBCCCGEME4yK2yVkR5LIYQQQgghhBDlIomlEEIIIYQQQohykVJY8UhT56gMHYJBWHq6GDoEg1Dn5hk6BMPINs3j1hQUGjoEg9Dkm+ZxW/r7GDoEg1iYd93QIRjEyOiahg7BIBYHJRg6BHEfjcwKW2Wkx1IIIYQQQgghRLlIYimEEEIIIYQQolykFFYIIYQQQghhnGRW2CojPZZCCCGEEEIIIcpFEkshhBBCCCGEEOUipbBCCCGEEEII46RWGzoCkyE9lkIIIYQQQgghykUSSyGEEEIIIYQQ5SKlsEIIIYQQQgjjJLPCVhnpsRRCCCGEEEIIUS6SWAohhBBCCCGEKBcphRVCCCGEEEIYJY2UwlYZ6bEUQgghhBBCCFEuklgKIYQQQgghhCgXKYUVQgghhBBCGCe1lMJWFemxFEIIIYQQQghRLpJYCiGEEEIIIYQoFymFFUIIIYQQQhgnmRW2ykiPpRBCCCGEEEKIcpHEUgghhBBCCCFEuUgprBBCCCGEEMI4yaywVUZ6LIUQQgghhBBClIsklkIIIYQQQgghykVKYYUQQgghhBBGSSOzwlYZ6bEUQgghhBBCCFEuklgKIYQQQgghhCgXKYUVQgghhBBCGCcpha0y0mMphBBCCCGEEKJcJLEUQgghhBBCCFEuUgorhBBCCCGEME5qKYWtKtJjKYQQQgghhBCiXP4zieWQIUP45JNPDB0Ghw4dIiAggPT09Ep7jISEBIYPH06zZs1o0aJFpT3O33lUnnMhhBBCCCHEo01KYR9gyJAhNGjQgIkTJ1bp4y5ZsoSEhATWrVuHg4NDlT52cd988w3m5v/tl4hTuybYN6mLwsoCVWwCydsOU5Ca8cD72AfXxzG0IWZ2NqjupJCy8wiq20mltnV/ojM2dbxJWLuXnMu3ALBwd8axVSBWPu4obawoTM8i8/glMqIuVPjxlWbtX3v5OWI7yZnp+Ff35e2+T9HQt1aZ7XefjmLRjo3cTk3Cx9WDV7r3p3VAkO72jv/3Wqn3e6XHAJ7tEEZcShLLdm8h6upFkjPTcXNwIqxZS4Z07ImFAV8/a49E8MvBXSRnZuDv6c1bPQbS0Kdmme33nD3Oor2/czs1GV8Xd17q2pfWdRuV2vbzLavYGHWQ18P682SrjpV1CCWsO36QX47sJTkrE393L97s3I+GXn5ltt9z8SSL92/ndnoKvs6uvNihF63rNNDdrtFoWHJgO5tPHyYzN4cgn1qM7tof32puujbP/jCD+PRUvf2Oat+T51p2AkBVkM8XO9ZyMT6GG8kJtKnTgCmPD63Q4wZwbNkIu0a1UVpZkheXSOreYxSkZT7wPnZB/jgE18fM1pr8pDRS/jxG/p2Uew3MlDi3a4JNPT8UZmbkRt8mde8x1Dl5evuxbVAT+6b1sHB2QK3KJ+fKLVL/PK673crPE8eWjbBwcURTqCYvNoG0/ScpzMiuyKdAxxQ/1+73255trNy2meT0NPx9azDm6RdoVNu/1LZXY2+xcONqLty4xu3kRN4aNJinuvYqc9/L/9jA/HW/MKhLT95+akhlHUKpDPE6t3B1wqF5AJZebpjZWFGQnkXWmatknrys24V1HW/sg/yxcHNGYaYkPzmd9Miz5N2Mr5Tn4d8Iqm3PoMe8qOdri6ujJf9beomDZ1MNHVa5GOP3mEHIrLBV5j/TY2lKbt68SWBgILVq1cLV1fUf3z8/P79C4nB2dsbe3r5C9mUIDi0b4dA8gOTtkcT/uBW1qgCPQZ3BrOyXvW1ATap1ak7agVPELdtCfkIKHoM6o7S1Krn/kAZAyQ8rS08X1Nm5JG0+QNzizaT9dRqnx5phH1y/Ig+vVLtOHeHb33/jhc59+P618fhX9+G9Jd+Qkln6Sefp6CtMWbWI3iFt+f618XRo2JSJP83nanysrs2aD6br/XwwYAgKhYKOgcEARCfcRq3R8N7jz7L0rQ95o/eTbIjcx/fb11f68ZZl15ljzN2+jhc69GDBqHfx9/Rm7Mr5pGSV8TzcvMaUtcvp3awV37/4Hu0Dgvhw1SKu3Ykr0Xbf+ZOcjbmBm4NTZR+Gnt0XTjB37yaGtu7G/MFv4u/uxQdrFpKSXfpJ5+nYG0zd/DO9glqwYPBbtKsbyEcblnMt8bauzc+H97Lm+AHGdO3Pt8+9jrWFBR+sWYSqQP8zZHjbMFa/PFH3MyC4re62Qo0GS3MLBgS3I6RG3Uo5dofgAOyb1CVlbxR3Vu9CU1CIW3j7B76Xber64ty+CemHzxK/ageqxFTcwzugtLn3XnZu3xTrWt4k//EXCWv3YGZng2uvNnr7sW9aD6dWQWREXeD2ym0kbthHbvS9k2kzB1vcerclLyaB+F92kLhhH2bWViX2U1FM8XPtfjuPHGTO6h8Z3ncgCydMpa5vDd75ZgYp6Wmlts9T5eHt5sErA57B1dH5gfs+d/0KG/btwt+nRiVE/mCGep1beFSjMCeP5B2R3F65jYyj53FsHYRd43uJupW3O7k340ncFMGdVTvJi0nArU87LNycK+W5+DesLc24GpfNnHU3DB1KhTDG7zFh/P6TiaVKpWLmzJl06NCBZs2aMWjQIA4dOqS7fc2aNbRo0YJ9+/bRq1cvgoODGTlyJHfu3NG1KSgoYOrUqbRo0YJWrVrx6aef8sEHH/Daa9remXHjxhEZGcmyZcsICAggICCAW7du6e5/5swZBg4cSNOmTXnmmWe4evXqQ8f/008/0a1bN4KCgujRowfr1q3T3dalSxe2bt3KunXrCAgIYNy4cX+7v4CAAH766SdeeeUVmjVrxrx58wDYsWMHAwYMoHHjxnTt2pU5c+ZQUFAAwLvvvsvo0aP19pOfn0+rVq108dxfCvug512j0dC6dWv++OMPXfvHH3+c9u3b634/cuQIQUFB5OTkPPRzVR6OIQ1I++s0OZdvkZ+QStKWg5jZ22Jbr+weHocWDcg8eZms01cpSEoneVsk6vxC7IP0r4RbeFTDIbQhSX/8VWIfWaevkrLrKHm37lCYlkn22etknb76wMetKKv276Jvi3b0DmlDLQ8v3u33LNYWlmw5eqDU9qsP7KZlvUY82yGMWh5ejOwWTn0vP9b+tUfXxtXBSe9n//kTBNeuj7eLtlerVf1Axj8xlNB6jfB2caNdwyY83b4bf549XunHW5ZfD+2hT3AbejVrRS336rzTexDWFpb8fvxQqe1/O/wnLf0b8EybLtR082REp97U8/Jl7ZF9eu0S0lP5eusaJvYfjJmyaj8+fz0aQe+glvQKakEtV0/GdOuPlbklv58+Umr7NVH7aVmrPs+EdqSmqwcj2nWnnoc3644fBLTv2d+O7Wdwqy60qxuIv7sX43o+TWJmOhGXz+rty8bSChc7B92PjYXlvdssLBnTbQB9m7TExa5yLkTZN61L+pHz5F6LIz8pjeQdkZjZ2WBT27vM+zg0q0/WmWtkn79BQUoGqXui0BQUYtewFgAKS3PsGtYmbf8J8mISyE9IJWXnEay83LD0dNG2sbLAsVUgyTsPk3PpJoXpWeQnpZF7/d6JmqVHNVAoSP/rtPb2xFQyjl/UnnArFRX+XJji59r9ft7xO+HtOtOnbUdqe/vy/nMjsLawYtOBvaW2b1jLn9efeI5uoW0eWEWRnZvLpEXfMXbwKBxs7Sor/DIZ6nWefe46aREnUMUmUpieRfbFaLLPX8emjo/ucdIiTpB57CL5d1IoSMsk/a/TFKRlYF3Lq1Kfk3/iyIU0lm6L4cCZVEOHUiGM8XtMGL//5Ctq8uTJHDt2jC+++IINGzbQs2dPRo0axfXr13VtcnNzWbRoEbNmzWLFihXExcUxc+ZM3e3ff/89GzduZPr06fz0009kZmayY8cO3e0TJ04kODiYp556ioiICCIiIvDyuvcB+sUXXzBu3Dh+++03zMzMmDBhwkPFvn37dqZNm8bw4cPZuHEjzzzzDBMmTOCvv7Rf5KtXr6ZDhw706tWLiIiIhy7DnTNnDmFhYWzcuJEnnniCI0eO8MEHHzB06FC2bNnC5MmTWbNmjS7pDA8PZ/fu3WRlZen2ERERQW5uLt26dSv1MR70vCsUCkJDQ4mMjAQgLS2NK1eukJuby5UrVwA4fPgwjRs3xsbG5qGOqTzMnOwxs7ch98a93hmNKp+8uESsvN1Kv5NSiWV1F737AOTeuI1lsfsozM1w69OOlB2HUWflPlQ8SisL1Lmqf34g/0B+QQEXY6MJ8Q+497hKJSH+DThz81qp9zlz8xoh/g30toXWa1Rm++TMdA5eOE3vkLal3l4kKzcHR5uqPzEDyC8s4GLcLUJq3+tJUSqUNK9VjzMxpV/JPnvrul57gNA6AZy5da+9WqNm+vofebpNZ2q7V+3JVH5hARfjYwipea9HUKlQElKzLmfjyjimuBs0r6nfgxhaqz5nYrXt49KSSc7K0OtltLeypmF1vxL7XBm5h/7fTeal5V/x8+G9FKoLK+rQ/paZox1mdjbk3brXS6hRFaCKT8ayehkVHUoFFu7O5N66o7c591a87j6W7tVQmCnJvVnsgmNqBgUZWbo21n6eKBQKzOys8Xy2O9Vf6I1Lj1aY2d/7DFPdSQE02DasBQrtibxtQA3ybt6p8JkITfFz7X75BQVcjL5Gi4b3yvWVSiUtGgZx5uqlcu3785+X0DaoGaHF9l1VDPk6L43C8u//tgoLC9R5Vfv3NxXG+D1mUGrNo/tjZP5ziWVsbCxr1qzhq6++okWLFtSoUYORI0cSEhLCmjVrdO3y8/OZNGkSjRs3JjAwkOeff16XvAGsWLGCl156ibCwMPz9/fnoo49wdHTU3e7g4ICFhQXW1ta4u7vj7u6OmZmZ7vYxY8bQsmVL6taty0svvcSxY8fIy9Mfl1OahQsXMmDAAJ5//nlq167N8OHDCQsLY9GiRQC4uLhgaWmpe9yHHWPZt29fnnjiCfz8/PD29mbOnDm89NJLDBgwAD8/P9q1a8fbb7/Nzz//DED79u2xsbFh+/btun1s2rSJLl26lFr++jDPe8uWLXWJ5eHDh2nUqJHetsjISFq2bPlQx1NeZnbWABRm6feOFmblorQrPbE1s7FCoVRSmK1/UqXOzsWs2H2cu4SQF5ugG3v0dyy93bANqEnmyfKd9PydtOxMCtVqqtk76m2vZu9Acmbpk00lZ6ZTzc6hZPuM0tv/cewvbK2seaxRszLjuJV0hzV/7SE8tH2ZbSpTWnYWao269OMq83nIKNnezoGUrHvtVx7YhZlSyROhj1V80H8jLSdbe0y2+u/Narb2JGeVXgqbnJVZavui0tnku/+WaGOnv8+Bwe34sM+zfDboRfo2acVPkbuZ/+fv5T6mh2Vme/e9nK3/+VqYk6u77X5Ka+17WV3ivZynu4/S1hpNYSEaVX6Zbcwd7UChwCGkAakRJ0j+4y+UVpa49eug640szMgmYcM+nFoH4fPKQHxe7I+ZnS1JW0v2+pWXKX6u3S8tM4NCtRoXR/0SPhcHR5LKKIV9GDsOH+Ri9DVeHvB0eUP8Vwz5Or+fZXVXbOv6kXW29AuMoB2zq7Qwf+jXi/hnjPF7TJiG/9zMLBcvXqSwsJCePXvqbVepVDg7O+t+t7GxoUaNe2MkPDw8SErSTlSQkZFBYmIiTZo00d1uZmZGYGAgarX6oeIICLjXK+Tu7g5AUlIS3t5ll6wAXL16laef1v/iat68OcuWLXuoxy1LUJD+Fdbz588TFRWl66EEKCwsJC8vj5ycHGxsbOjVqxcbN26kf//+ZGdns3PnTj7//PNS9/8wz3toaCiffPIJycnJHD58mJYtW+Lm5kZkZCRPPvkkx44dY9SoUeU6zrLYNqyFS/d7SWvCb3sq5XFs/H2wruHJ7aUPd2Jt4eaE+4COpB04Re71239/h0fc70cP0q1pKFYWFqXenpCeytil39IpqLnBEsvKcCHuJr9F/smCUe+iUFR8eeOjbFBIB93//d29sDAz4/MdaxnVvieWlTA5k019P6p1CtH9nrgposIf46EpFCjMlKTuO6GbpCR52yG8hodj5eNB3s14lLZWVOscQvb5G2RfuonCwhynVoG49mxN4oZ9f/MADyafa1UjPjmJr1Yt44u3x2NVrMy7Mj1Sr/NizF0cce3dlvTDZU/MY1PPD8fQRiRtOVBioivx6DLl7zFRdf5ziWV2djZmZma6EtTibG1tdf+/fzZThUKBpgJnhSq+/6I36MMmpZWh+LGD9nl688036d69e4m2VlbaQf3h4eEMGTKEpKQk9u/fj5WVFR06dCjRvmh/f/e8BwQE4OTkRGRkJIcPH2b06NG4u7vzww8/cOrUKQoKCggODq6Iwy0h5/Itbscl6n5X3I3RzM5Gr6zLzM5af7a8Ygpz8tCo1SWu4iptrXU9BFY1qmPu7IDvW4P02rg93oG8Wwnc+eVeObW5qyMeT3Ul88Rl0v86Xb4DfAhOtvaYKZWk3Hc1MyUzA5f7ejGLuNg7lpgIICUzAxeHku1PXL9MdGI8Hz89stR9JaanMnrhlwTWqM17jz/3L4+i/Jxs7VAqlKUfV5nPg0PJ9lkZVLPTtj8VfZXUrEye/nqy7na1Rs3cHetZHbmXn9/8qIKPQp+Tja32mO6bqCclO7PMcY0udvalti/qoXS5+29KdiauxZ6XlKxM6nqUXSLVoHoNCtVqbqenUMPF/V8dz4PkXosjPv5eJYXuvWxrpdczY2ZjjSoxtdR9qHO172Vlifeyla7nTp2di8LMDIWlhV5vTvE2Re/7guR77yl1rgp1bh7mDrbkAfZBddHk5ZN28JSuTfL2SLyG9cHS0wVVfPK/eBa05HOtJCd7B8yUSpLv651MzkjH9b5ezId1IfoaKRnpjJx2b+hJoVrNicvnWbNnG7vmLK3wsWiP0uu8iHk1B9wff4ysM1fJOHq+1Me0qetLtc4hJG/9i7z7SnBFxTHG7zFDqsjzf/Fg/7nEsmHDhhQWFpKcnPyv13h0cHDAzc2NU6dOERoaCmh7886ePUuDBvfGm1lYWFR4slinTh2ioqIYMGCAbltUVBR161bsbIqNGjXi2rVr1KxZ9rTUzZs3p3r16mzZsoU///yTnj17YlFGT9TDPO8KhYIWLVqwc+dOLl26REhICDY2NqhUKn755ReCgoJKJMAVRZNfQEGq/kl0YWYO1jU8dSdcCktzrLzcyDxeRumWWo3qdjLWNavrlfdY16xO5t0p9dMjz5B16rLe3byG9yVldxQ5V+7dx8LVCY+nu5J15hppEScq4hD/loW5OfW9a3D06gU63C1VVavVRF29wIAyphIP9KvN0SvnGdS2i27bkcvnCPSrXaLtlqMHCPCuQV0v3xK3JdxNKut712DcwKEoDTghgIWZOfW9fIm6dpH2AY0B7Zdn1PVLDGhRei9qI99aRF2/qDfl+tFrFwn01b5/whq3KDF2ZezK+YQ1DqFn01aVdCT3WJiZU9/Th6joy7SvGwjcPaboy/RvVvp410ZeNYmKvsyTzYtNoHXjEoHe2mPycnLBxc6BqOjL1PXQVlpk5eVy7vZN+jVtXWYsVxJiUSoUVKukyU00+QUUphXobSvMysHK14P8RG0yobAwx9LThczTV0rfiVpDfkIq1r4e5F67N8Oxla8HWae091ElpKApVGPt60HO1RgAzJ3tMXew0y3DoYrT/mtezUGXhCmsLFBaW1FwdykRhYX+hTYodhJTzl4B+VwrycLcnPo1anP0/Bkea6b9LlKr1Rw9f5qBnUpeSH0YLRoEsuzDGXrbpi1bQM3qXjzfPbxSJjh5lF7noO2pdH/8MbLP3yD90JlSH86mnh8uXVqQtO2vEmN2RcUyxu8xYRr+c4ll7dq1CQ8PZ+zYsYwbN46GDRuSkpLCwYMHCQgIoFOnTg+1n8GDBzN//nxq1KhBnTp1WLFiBWlpaXrlAT4+Ppw4cYJbt25ha2urV2r7b40aNYrRo0fTsGFD2rZty+7du9m+fTuLFy8u976Le/3113nllVfw9vamR48eKJVKzp8/z8WLFxkzZoyuXd++ffn555+5fv06S5cuLXN/D/u8t2zZkpkzZxIUFISdnfbEs0WLFmzcuJGRI0vv6aos6UfP49QmiIKUDArSsnBq34TCzGyyL93UtfF4qivZl26SeewiABlHzuPauw2q20nkxSXh0KIBSgszMk9rZ/1VZ+WWOrFFYXoWhWnaiZAs3JzweKobudfjSD9yDuXdcVGoNZVeNvRUuy5M/20ZDbxr0sC3JqsP7CZHlUevEO3U8p+sXoK7ozMvde8PwJNtO/PWD1/wS8QOWgcEsevkES7ERvNe/+f19puVm8Oe01G81mtgicdMSE/l7YVfUN3Jhdd6DSS12BVTVwNNZT6oVSdmbPiJ+l5+NPSpyepDe8nNV+m+PKet/xF3Byde7NIXgCdCH2P08jms+ms3res2YteZY1yIvcm7vZ8CtFePne5LpMyUSlzsHKnh6lE1xxTSnhl//EqApy8NqvvxW1SE9pgCteV003//BTd7J17soC1XH9i8HWNWzWfVkT9pXacBu86f4GJ8DO+Gaf+GCoWCJ4LbseLQLnyqueHl6MLiA9tws3ek/d11z87E3uDc7ZsE+9XBxsKKs3HRfLdnE90aBuNgfe8i0fWkeAoKC0nPzSFHlcflO9qT3KKEtbwyT1zGMaQhBamZFKRn4dQqkMKsHHKKnUy7Pf4YOVdjdCfUGccv4tI1FNWdFFR3krFvWg+luTlZ564D2olRss5dw6l9E9R5KtSqfJw7BJMXl6TrZSxIyyTnagzO7ZuSsicKtSofp9ZBFKSmkxej7a3JvR6HfdN6OLRoSE5RKWzrIArSs1AllN6LWB6m+Ll2v2e69eKTJfNpULM2DWv5s2rXH+So8ujTVntCPWXxXNydq/HKgGcA7YQ/1+O0CXJ+YQEJqSlcunkdGytrfD2qY2ttQx0f/dltrS2tcLRzKLG9MhnqdV6UVObejCfjxMV7y9CoNboJfGzq+eHSNZTUiOOo4pN1bTQFhWhU+gmyoVhbKvF2vbfMSnUXK+p42ZCRU0hC6n9vkiFj/B4Txu8/l1gCTJ8+nblz5zJjxgzu3LmDs7MzzZo1e+ikEuDFF18kMTGRDz74ADMzM5566inat2+vV+Y5YsQIxo0bR58+fcjNzWXnzp3ljr1bt25MmDCBRYsWMW3aNHx8fJg2bRqtWlXs1aIOHTowb948vv32W77//nvMzc2pU6cOgwbplzr169ePefPm4ePjQ0hISBl703qY571ly5YUFhbqTdLTsmVLdu7cWWUT9xTJiDyL0sIclx6ttItNx9zhzurdUHivF9rc2R6zYut9ZV+4gdLWCqd2TTGzs0Z1J4U7q3eXmBzhQWzr18DMzhq7wNrYBd7r+StIyyR2QeWu7dilcQtSszJZtHMTyZnp1PXy5dMX3tCVztxJTUGpuHf1PaiGPx8+NYKFOzbw/fYN+Lq688lzL1PHUz8h2HnqKBo0dG0SWuIxj1w+R0xSAjFJCTw5S3925L1Tv6uEo/x7XQKDScvOZMneP0jOSsff04eZz76Mi712YoM7aSkoi11ECvKrzf/1H8KiPVv4YfdmfFzcmfLUCGo/oCS0qnUOaEpqdhaLD2wnJTsDf3dvZg4cgcvdyRruZKTqH5N3TSb2foZF+7excP9WfJzdmNxvCLXdquvaPBPakdx8FZ9vX0NmXi6NfWoxY+BwLM21lQsWZubsPn+CpQd3kF9QgJeTC0+GtOfJ5vol8+PXLiY+PVX3+0srvgZg1zv6vUD/VsaxCygszKjWOQSlpQV5cYkkbozQfy872mFmfe+9nHP5Fqk2Vji2aqRdOD4xjcRNEXpJUGrECZw1Glx7tgEzJXnR8aT8GaX32Mk7DuPcvilufdqhQYMq5u5j353NLy8mgeRth3BoHoBD8wA0+dqZPO+Pr6KY4ufa/bq2aENqRgY/bFxNcnoadX1r8tmbH+gm9IlPTtJ7LySmpjD8k3tlriu3b2bl9s00q9eQOe/+X5XG/iCGep3b+vtiZmuNXUBN7ALuVTkVpGdxe7l23K19YB0UZkqqdWxOtY7NdW2yzl0nZVfpSx5Vtfq+dnz68r2qs1fCtfNsbDuSyGe/lj0R0aPKGL/HDMYIZ199VCk0UngMaEtpevXqRa9evUqs7ygMJ/rTHw0dgkFY1qr+942MkDrXNCeC0GSb6HEXVN2yJY8StYn+vW1aBPx9IyOUd/a6oUMwiJHRZQ/FMWaLgxIMHYJBeA/pbegQynR19FeGDqFMdb5829AhVKj/ZI9lRYiJiWH//v2EhoaiUqn48ccfiYmJITw83NChCSGEEEIIIcR/iskmlkqlkjVr1jBz5kw0Gg3169dn8eLF+Pv7l2u/ffr0ITY2ttTbJk2aRL9+/f7R/jZs2MDHH39c6m3e3t5s3rz5H8cohBBCCCGESZDizCpjsomll5cXP//8c4Xvd8GCBRQUlD6Q3dXV9R/vr0uXLjRt2rTU2+5fUkUIIYQQQgghDEEykwrm4+NTofuzt7fH3r70deqEEEIIIYQQ4lEgiaUQQgghhBDCOEkpbJUx3CrmQgghhBBCCCGMgiSWQgghhBBCCCHKRUphhRBCCCGEEEZJo1YbOgSTIT2WQgghhBBCCCHKRRJLIYQQQgghhBDlIqWwQgghhBBCCOMks8JWGemxFEIIIYQQQghRLpJYCiGEEEIIIYQoFymFFUIIIYQQQhgntZTCVhXpsRRCCCGEEEIIUS6SWAohhBBCCCGEKBcphRVCCCGEEEIYJ5kVtspIj6UQQgghhBBCiHKRxFIIIYQQQgghRLlIKawQQgghhBDCKGmkFLbKSI+lEEIIIYQQQohykcRSCCGEEEIIIUS5SCmsEEIIIYQQwjippRS2qkiPpRBCCCGEEEKIcpHEUgghhBBCCCFEuUgprBBCCCGEEMI4yaywVUZ6LIUQQgghhBBClIsklkIIIYQQQgghykVKYYUQQgghhBDGSWaFrTLSYymEEEIIIYQQolwksRRCCCGEEEIIUS5SCiuEEEIIIYQwTiY4K2xqaipTpkxh9+7dKJVKunfvzsSJE7Gzsyuz/TfffENERARxcXG4uLjQrVs33n77bRwcHB76caXHUgghhBBCCCGMxHvvvcfly5dZvHgx8+bN48iRI3z00Udltr9z5w537tzhgw8+YNOmTUyfPp19+/YxceLEf/S4Co3GBNN48Z9xY9JCQ4dgEApba0OHYBAvJtY3dAgGMSd+q6FDMIjClAxDh2AQjgMfM3QIBqHOzDF0CAahMDczdAgGobC1MnQIBjH8tLuhQzCIrTNDDR1CmS4P/8TQIZSp7uJ/lrg9jCtXrtC7d29Wr15N48aNAfjzzz956aWX2Lt3L56eng+1n99//53333+f48ePY27+cEWuUgorhBBCCCGEMEqPch+aSqVCpVLpbbO0tMTS0vJf7/PYsWM4OjrqkkqAtm3bolQqOXnyJGFhYQ+1n8zMTOzt7R86qQQphRVCCCGEEEKIKjd//nxCQkL0fubPn1+ufSYmJuLi4qK3zdzcHCcnJxISEh5qH8nJyXz33Xc8/fTT/+ixpcdSCCGEEEIIIarYyy+/zPDhw/W2ldVbOXv2bL7//vsH7m/Lli3ljikzM5OXX34Zf39/3njjjX90X0kshRBCCCGEEMZJ/eiWwv6TstcRI0YwYMCAB7bx8/PDzc2N5ORkve0FBQWkpaXh7v7gMcCZmZmMGjUKOzs7vv32WywsLB4qtiKSWAohhBBCCCHEI8zFxaVEiWtpgoODSU9P5/Tp0wQFBQHw119/oVaradKkSZn3y8zMZOTIkVhaWjJ37lysrP75BFwyxlIIIYQQQgghjIC/vz8dOnTgww8/5OTJkxw9epQpU6bQp08f3Yyw8fHx9OzZk5MnTwLapHLEiBFkZ2fzySefkJmZSUJCAgkJCRQWFj70Y0uPpRBCCCGEEMI4PcKzwlaW2bNnM2XKFF544QWUSiXdu3fn//7v/3S35+fnc+3aNXJytMtAnTlzhhMnTgCUmDV2586d+Pr6PtTjSmIphBBCCCGEEEbC2dmZzz77rMzbfX19uXDhgu73Vq1a6f3+b0kprBBCCCGEEEKIcpEeSyGEEEIIIYRxeoRnhTU20mMphBBCCCGEEKJcJLEUQgghhBBCCFEuUgorhBBCCCGEMEoaE5wV1lCkx1IIIYQQQgghRLlIYimEEEIIIYQQolykFFYIIYQQQghhnGRW2CojPZZCCCGEEEIIIcpFEkshhBBCCCGEEOUiiaUQQgghhBBCiHKRMZZCCCGEEEII4yTLjVQZ6bEUQgghhBBCCFEuklgKIYQQQgghhCgXKYUVQgghhBBCGCeN2tARmAzpsRRCCCGEEEIIUS6SWAohhBBCCCGEKBcphRVCCCGEEEIYJY1aZoWtKtJjKYQQQgghhBCiXCSxFEIIIYQQQghRLlIKK4QQQgghhDBOGimFrSrSYymEEEIIIYQQolwksRRCCCGEEEIIUS6PZGI5ZMgQPvnkE4PGcPToUcLDwwkMDOS1114zaCwV5VF4XoUQQgghhKgyas2j+2Nk/vNjLA8dOsTQoUM5fPgwjo6OFbbfGTNm0KBBA77//ntsbW0rbL+iajl1ao598wCU1pbk3YwnefMBCpLTH3gf+9CGOLVtjJm9DarbyST/fhBVbCIAZk72+I5+utT7Jfy6k+yz1wGw9HbDuWsoVt6uaDSgikkgZcdh8uOTK/T4yuLUrgn2TeqisLJAFZtA8rbDFKRmPPA+9sH1cQxtiJmdDao7KaTsPILqdlKpbd2f6IxNHW8S1u4l5/ItAJTWlrj2bYeFuzNm1lYUZueSc/kWqfuOo1EVVPgxVoSg2vYMesyLer62uDpa8r+llzh4NtXQYVUKlwEdcerYDKWtNbmXbnFn2Rby41PKbF+tT1vsQxpg6eWKOr+A3Mu3SFy1k/zbVfMa/jfcngvDOawlSjsbcs5f5/bcteTHlf4aBnB5ohMObYKw9PVAk5dPzvkbJCzbgipG+3638KiG//fjSr1vzMwVZBw4VSnHUZa1RyL45dBukjMz8Pf05q3uA2joXbPM9nvOHWfR3j+4nZaMr4sbL3XuS+u6jXS3L/nzD3adPU5CRirmZmbUr+7LyI69aeRzb58Xb99iwa5NnI+LxkyppENAE17v9jg2llaVeqyOLRth16g2SitL8uISSd17jIK0zAfexy7IH4fg+pjZWpOflEbKn8fIv1PsNW6mxLldE2zq+aEwMyM3+jape4+hzskrsS+llSUez3TD3N6WmO/Xo1HlA2Dl7Y77gI4l2scu3og6u+R+/ol1xw/yy5G9JGdl4u/uxZud+9HQy6/M9nsunmTx/u3cTk/B19mVFzv0onWdBrrbNRoNSw5sZ/Ppw2Tm5hDkU4vRXfvjW82txL5UBQW8vvJbriTEsWDwW9T18C7RJiYlkZdWfI1SqWTj6/8r17H+U2uPRPDLwV33Xvs9BtLQ5wGv/bPHWbT3d26nJuPr4s5LXfVf+8V9vmUVG6MO8npYf55sVfJv+6gzpe8x8eh7JHssHwXR0dG0bt2a6tWrl5qwajQaCgoejZNllUpl6BAeSY7tmuDYqhHJm/dz+4cNaFQFeAzuAWZmZd7HNrA2Lt1bkbr3GHHz16OKT8ZjcE+UttYAFKZncXP2T3o/qbuPos5TkXNJm2ApLMzxeL4HhWmZxP2wkfjFm1Cr8vEc3AOUiko/boeWjXBoHkDy9kjif9yKWlWAx6DOYFb22902oCbVOjUn7cAp4pZtIT8hBY9BnVHaljx5dAhpAJS8yqbRQM7lWySu2Uvswo0k/X4Q65rVcQlrVZGHV6GsLc24GpfNnHU3DB1KparWuw3OYaHcWfo7NycvRp2nwufd51BYlP1esGlQk9RdR7g5ZTExn/6IwkyJz3vPo7C0qMLIH57LwI5U69OO23PXcuP9OahzVfj9byQKi7Kvn9oG1SF1y0FuvP8tNz/+AYW5Er//jUJhpT3G/MRULr0wRe8n4adtFObkkRl1oaoODYBdZ48xd+d6XmjfgwUj3sHfw5uxPy8gJav0C0anb11jyroV9G7Wku9Hvkv7+o35cPVirt2J07XxdXXn7R4DWTjqfb4e8ibVnVwY+/N8UrO0CVxiRhrv/TQXn2pufDdsNDOffonribeZsXFlpR6rQ3AA9k3qkrI3ijurd6EpKMQtvP0DP8Ns6vri3L4J6YfPEr9qB6rEVNzDO6C0ufcZ5ty+Kda1vEn+4y8S1u7BzM4G115tSt1ftS4h5Cellfl4t1f8Qezijbqf8iaVuy+cYO7eTQxt3Y35g9/E392LD9YsJCW79GT6dOwNpm7+mV5BLVgw+C3a1Q3kow3LuZZ4W9fm58N7WXP8AGO69ufb517H2sKCD9YsQlWQX2J/C/ZtwdWu7IvzBYWFTN3yM419apfrOP+NXWeOMXf7Ol7o0IMFo97F39ObsSvnl/3av3mNKWuX07tZK75/8T3aBwTx4apFeq/9IvvOn+RszA3cHJwq+zAqjal8j4n/BoMnltnZ2YwdO5bg4GDat2/PokWL9G5ft24dAwcOJDg4mHbt2vHuu++SlKS9An3r1i2GDh0KQGhoKAEBAYwbp726rFarmT9/Pl26dKFJkyb069ePP/7442/juXXrFgEBAaSmpjJhwgQCAgJYs2YNhw4dIiAggL179zJw4EAaN27M0aNHUalUTJ06lTZt2tC4cWOeffZZTp48qdtf0f327dtH//79adKkCUOHDiUpKYm9e/fSq1cvmjdvzrvvvktOTs5DPWdDhgxh8uTJfPLJJ7Rq1YqRI0cCcPHiRUaNGkVwcDBt27bl/fffJzm57N4FlUrFzJkz6dChA82aNWPQoEEcOnRId3tKSgrvvPMOHTp0oGnTpoSHh7Np0ya9ffzxxx+Eh4fTpEkTWrVqxbBhw8jOztbd/uuvv9KrVy8aN25Mz549+fHHHx/qGCuCQ6tA0v48Ts6FaPLvpJC4bi/mDrbYNij7Kqdj6yAyoi6QdfwS+YmpJG/ajya/APvg+toGGg3qrBy9H9sGtcg+ew1NvvZCg4WbM2a21qTuiaIgKY38hFTS9h7DzN4Wcyf7Sj9ux5AGpP11mpzLt8hPSCVpy0HM7G2xrVf2lW+HFg3IPHmZrNNXKUhKJ3lbJOr8QuyD/PXaWXhUwyG0IUl//FViH5o8FZnHL6GKT6YwPYu86Hgyjl/Cyte9wo+xohy5kMbSbTEcOJNq6FAqlXP3liRviCDr2EVUt+4Q//0GzKo5YNc8oMz7xH62koyIk6hiE1HdvEP8DxuxcHPCqpZXFUb+8FzC25P06y4yI8+Sd+M2cV+uwtzFEfvWgWXe59akRaTtOorqZjx51+OI++pXLDyqYe3vq22g1lCYmqn349A6kIyIk2hyq/aC3q+Re+nTrDW9mraklnt13un1JNbmFvx+IrLU9r8d3kdL/wY807oLNd08GdGxF/Wq+7D2aISuTbfAEEJq18e7miu13avzWrfHycrL5cqdWAAOXj6LudKMt3sOpIarBw28a/BOzyf588JJYpITKu1Y7ZvWJf3IeXKvxZGflEbyjkjM7GywqV2yF62IQ7P6ZJ25Rvb5GxSkZJC6JwpNQSF2DWsBoLA0x65hbdL2nyAvJoH8hFRSdh7ByssNS08XvX3ZBdZBaWVJ5rGLZT5eYU4e6ux7P+X169EIege1pFdQC2q5ejKmW3+szC35/fSRUtuvidpPy1r1eSa0IzVdPRjRrjv1PLxZd/wgoL34/dux/Qxu1YV2dQPxd/diXM+nScxMJ+LyWb19Hbp2gSM3LvFKx95lxrdo/zb8XNzpFNC43Mf6T/16aA99gtvQq1kr7Wu/9yCsLSz5/fihUtv/dvhP7Wu/zd3Xfqfe1PPyZe2RfXrtEtJT+XrrGib2H4yZ0uCnw/+aqXyPlYtG8+j+GBmDv5NmzZrF4cOH+e6771i4cCGRkZGcOXNGd3tBQQFvv/02GzZs4NtvvyUmJkaXPHp5efHNN98A2gQnIiKCiRMnAjB//nzWrVvHpEmT2Lx5M8OGDeP9998nMrL0L+EiXl5eREREYG9vz4QJE4iIiKB373sftp999hnvvvsuW7ZsISAggFmzZrF161ZmzJjB2rVrqVmzJqNGjSI1NVVvv3PmzOHDDz/k559/5vbt24wePZply5bx2WefsWDBAiIiIli+fPlDP29r167FwsKClStXMmnSJNLT03nhhRdo1KgRq1ev5ocffiApKYnRo0eXuY/Jkydz7NgxvvjiCzZs2EDPnj0ZNWoU169fB7SJZ2BgIAsWLGDTpk089dRTjB07Vpc437lzh3fffZcnnniCLVu2sGzZMsLCwtDcfaNs2LCBr776ijFjxrBlyxbeeecdvv76a9auXfvQx/lvmTs7YO5gS87VWN02TV4+ebcSsPLzKP1OSiWW3m7kFrsPQO7VWKx8S7+PpZcrll6uZEbdOwHJT0qjMDtXm4wqlSjMzbAPro8qIYWC1AeXcpWXmZM9ZvY25N64d9Vao8onLy4RK++S5U+A9riru+jdByD3xm0si91HYW6GW592pOw4jDor9+9jsbPBtp4febfu/LuDERXC3N0Zc2cHss9e021T5+SReyXmXgL1EIp6ftRZD3cBrCpZeLpg7uJI1olLum3q7FxyL97EJqDGQ+9HV5mQmV3q7Vb+PljX8SFtx+HyBfwP5RcWcDHuFiG16uu2KRVKmteuz5mY66Xe52zMdUJq1dPbFlqnQZnt8wsL2HTsIHZW1tT11CZw+QUFmJuZo1TcO1WwMtf25p66da3U/ZSXmaMdZnY25N2K123TqApQxSdjWd219DspFVi4O5N732dN7q143X0s3auhMFOSe/Nem4LUDAoysvT2a17NAcfQhiTviCytMEPH8+lueA3rg1u/DmXH9ZDyCwu4GB9DSM26xQ5JSUjNupyNK70X6mzcDZoXaw8QWqs+Z2K17ePSkknOyiCkxr029lbWNKzup7fP5KwMPtv+G+N7Po21eenVCFHRl9l76RRvd3n8Xx/jv6V77de+77Vfqx5nYsp4bm5d12sPEFongDO37rVXa9RMX/8jT7fpTG33R/NimRD/RQYdY5mVlcXq1av59NNPadNGW44yY8YMOna8V+P+5JNP6v7v5+fHxIkTefLJJ8nKysLOzg4nJ235gqurq65kVaVSMX/+fBYvXkxwcLDuvkePHuWXX36hZcuWZcZkZmaGu7s7CoUCBwcH3N31e1veeust2rVrB2h7W3/++WemT5+ui3nKlCns37+f1atXM2rUKN39Ro8eTUhIiO6YPvvsM3bs2IGfn7YXqUePHhw6dIiXXnrpoZ67WrVqMXbsWN3v3333HY0aNeKdd97RbZs2bRodO3bk2rVr1K6tX74SGxvLmjVr2L17N56engCMHDmSffv2sWbNGt555x08PT11vaGg7SmNiIjg999/p0mTJiQkJFBQUEBYWBg+Pj4ABATc6wH55ptvGDduHN27dwe0f4PLly/zyy+/MGDAgIc6zn/LzN4GKHkSXJiVg5mdTen3sbVGoVRSWMp9LNxKL5OxDw5AlZCilzxpVPnEL9mC+zPdcHqsGQAFyenEr9ha6VenzOysdTEXV5iVi7Ks47ax0h53tn6yqM7OxcLlXmmUc5cQ8mITdGMqy+Latx02dX1RWpiTfflWqb2bouoU9ZIXpmXpbS9Mz8Lcye7hdqIA9+e6k3PxJqqYyuup+rfMqzkAlLhwU5CaqbvtbykUeI4KJ/vsNVTR8aU2ce4WSt7NeHLOV23JWVp2FmqNmmp2+sdSzc6B6KTSL9wkZ2aU2j4lU7988OClM0xet5y8/Hxc7R2Y/ewrONlqXzPBterx3c71/PzXLp4IfYxclYoFuzcDkJT54LHq/5ZZUXJ/Xy9gYU6u7rb7Ka21n2HqEp9heVhU036GKW2t0RQW6sZKFm+j269SiUv3VqQdOEVhZg7mjiUrTAqzc0jZcxTVnRQUZmbYNaqFe/+O3Fm9i/zE1H9zyKTlZGv/vrb6j1fN1p7oMnqGk7MyS21fVDqbfPffEm3s7Em+W+qs0WiYtfVXwpu0IqC6L7fTSlY4peVkMWvrr4zv9TR2VqU//5WpzNe+/b947Wfde82uPLALM6WSJ0Ifq/ighTBhBk0sb968SX5+Pk2bNtVtc3Z21kuCTp8+zZw5czh//jxpaWm63rC4uDjq1q1bYp8AN27cICcnhxEjRuhtz8/Pp2HDhuWKuXHje2Ug0dHR5Ofn07x5c902CwsLmjRpwpUrV/TuVzzhcnV1xcbGRpdUAri5uXHq1MNPBBEYqF/edf78eQ4dOqRLpIuLjo4ukVhevHiRwsJCevbsqbddpVLh7OwMQGFhIfPmzeOPP/4gPj6e/Px8VCoV1tbaL5cGDRrQpk0bwsPDad++Pe3bt6dHjx44OTmRnZ1NdHQ0EydO5MMPP9Ttv6CgAAeHhzzR+wfsGvvj0red7vc7P22r8Me4n8LcDLvGdUj983iJ7a792pMXHU/ib7tBocCxbWM8nuvO7e/XoykorLAYbBvWwqX7vQslCb/tqbB9F2fj74N1DU9uL/39b9um7D5K2oFTWFRzwOmxZlTrHEJKFffwmDKHNkF4vHCvyiL2i5/LvU/3Ib2w9HXn1idLy72viuDYsRnVXx2o+/3mlMXl3qfny49jVcOTG+PnlXq7wtIcx8eakbRqZ7kf61HSrGZdfhj5Lmk5WWw6/heT1i7ju2FvU83Ogdru1RkX/izf7djA97u3YKZUMLBFB6rZOaBUVMx4cZv6flTrFKL7PXFTxANaVy6nNkEUpGSQfTG6zDYFqZl6FzBUt5Mwd7THvlm9/9zn3NpjB8hW5fFcy85ltvls+xq6NGhGU986VRhZ5boQd5PfIv9kwah3UVTQ61g82jRGWHL6qHqkZ4XNzs5m5MiRtG/fntmzZ1OtWjXi4uIYOXIk+fklB58Xvx9oy2GLeuOKWFpalismG5vSe33+jrn5vadaoVDo/V60Ta1W/+s4srOz6dy5M++9916Jtvf3uha1NzMz47fffsPsvslsimbBXbhwIcuWLdONNbWxsWHatGm6597MzIzFixcTFRXF/v37Wb58OV988QWrVq3SxTdlyhS9CwcAykoYy5B9IVqv11Bhrj0mpZ0NhZn3eu/M7GxQlTEza2F2Lhq1ukSPptl9+yhi26g2Cgtzsk5c1ttu19gfc2cHbi/cqNuW+Nse/D4YjE1ATbLPXP3nB1iGnMu3uB2XqPtdcfdvaWZno1euamZnrT87YjGFOXna476vN0Bpa63r+bSqUR1zZwd83xqk18bt8Q7k3Urgzi87dNvUWbmos3IpSE5HnavC87nupB089VDls6L8Mo9dJPdKjO73oveCmZMdhcVm1TRztCOvjJ654twH98CuaT1uTV9GQcqDZxauKpmRZ7l24abu96IJesyd7SksFqO5sz2512JL3P9+ni89jn1oQ6LHz6OgjAlbHNo2RmllQdruqHJG/8852dqhVChLTFaSkpWBi13pF+pc7B1KbV/NXr+9jaUVPi7u+OBOI59aDJ47jS0nDvF8226Adhxmt8AQkjMzsLn7/flr5F68nMtX/lkk91oc8fHbdb/rPsNsrfR6IM1srFGV0SOoztV+hilLfIZZ6Sox1Nm5KMzMUFha6PVaFm9j5euBhYsTPq/6FEUDgPfIcDKOnic9Un9sYhHVnWQsvcoYavAQnGxstX/f+ybqScnOxMWu9HH5Lnb2pbYv6qF0uftvSnYmrvb3Kk9SsjKp66Et/Tx28wpn46Lp8dX/6e3nlR/n0K1hM8b1fIpjN69w4Mo5VunGJ2pQazR0+2IC74YNoFdQ6L8+7odR5ms/MwMX+9InGyrztX93cqJT0VdJzcrk6a8n625Xa9TM3bGe1ZF7+fnNjyr4KIQwHQZNLP38/LCwsODEiRN4e2vHdKSlpXH9+nVCQ0O5evUqqampvPfee3h5aT8IT58+rbcPCwvtmIDCwnu9QP7+/lhaWhIbG/vAstfyqlGjBhYWFkRFRelKQfPz8zl16hQvvPBCpT1uaQIDA9m6dSs+Pj4lktbSNGzYkMLCQpKTk2nRokWpbaKioujatSuPP64dV6FWq7l+/Tr+/vcmdFEoFISEhBASEsLrr79O586d2bFjB8OHD8fDw4ObN2/Sr1+/ijnIB9Co8im4r8SpICMb6zreuiU+FJYWWPm6k3HkfOk7UatRxSZiXceLnAv3St2s63iTUcoJhX1wfbIvRJcov1JYmJe8Olb0ewVfHNXkF5Qo/yvMzMG6hqcukVRYmmPl5Ubm8Uul7UJ73LeTsa5ZXa/M1bpmdd3Ml+mRZ8g6pZ9Aew3vS8ruKHKuPKA09u7VYMUDZuIVFUuTqyL/vollClIzsG1US1fiqbS2xNrfh7TdRx+4L/fBPbAPCeDWjOUU/Msyv8qgzlGhztFfRqQgOR27JnXJu6ad+VFpY4V1fT9S/qYU2/Olx7FvHUj0xPllXnwBbRlsxuFzFKZnldmmsliYmVPfy5eo65dof3fyFLVGTdT1SwwIaV/qfRr51CLq+iWebHlvaMnRaxcJ9Kn1wMfSaDTklzLjucvdhHTLiUNYmlvQonbZEz/9E5r8AgrT9B+vMCsHK18P8hO1Sb7CwhxLTxcyT18pbReg1pCfkIq1r4fehQQrXw+yTmnvo0pIQVOoxtrXg5yr2gsv5s72mDvY6ZZVSvr9oO5CDIClRzVcuoaSsGYPBQ/4u1u4OZfrwpmFmTn1PX2Iir5M+7qBdw9JTVT0Zfo3a1vqfRp51SQq+jJPNr/39z9y4xKBd5ef8XJywcXOgajoy7qlQ7Lycjl3+yb9mrYG4I3O/RjRrrvu/omZ6XywZhEf9XmWhl7asclznnkNtebeRe/9V87y8+G9fPPMq7iVkdhVJN1r/9rFkq/9FmW89n1rEXX9ot7SIUevXSTQV/vchDVuUWIM5tiV8wlrHELPpo/uLOZC/BcYNLG0s7PjiSee4NNPP8XZ2RlXV1e++OILXWmCt7c3FhYWLF++nGeffZaLFy/y3Xff6e3Dx8cHhULBnj176NixI1ZWVtjb2zNixAimT5+ORqMhJCSEjIwMoqKisLe3r7Dxfba2tjz77LPMmjULJycnvL29+eGHH8jNzdUbG1oVnnvuOVatWsU777zDqFGjcHZ25saNG2zZsoWpU6eW6JWsXbs24eHhjB07lnHjxtGwYUNSUlI4ePAgAQEBdOrUiZo1a7J161aioqJwcnJi8eLFJCYm6hLLEydOcPDgQdq1a4erqysnTpwgOTmZOnW0JTNvvfUWU6dOxcHBgQ4dOqBSqTh9+jTp6ekMHz680p+TjENncOrQjIKkdApSM3DuHEJBRjbZxcZHeQzpRc7562QcPgdA+l+ncev/GKrYRPJiEnBsHYTCwpzM4/qzA5pXc8CqZnXu/Li1xOPmXImhWlgoLr3bkh55BoVCgWO7pqBWk3e95HTnFS396HldSVdBWhZO7ZtQmJlN9qV7PTweT3Ul+9JN3ayHGUfO49q7DarbSeTFJeHQogFKCzMyT2t7V4t6Ie9XmJ6lG7tnXdsbMztrVLeTUKsKsHBzolrH5uTeumOQk/GHYW2pxNv13nIE1V2sqONlQ0ZOIQmpxrOMT+q2SFzC25N/O5n8xFRcB3aiMCWDrGJLZviMfZ7MoxdI26mdhdJ9SE8c2gQR99Uq1LkqzO6Ox1Rn5+lmQH6UJG+MwPWpLqjiEsmPT8Htue4UJKeT+de9yeD8Jr9Ixl+nSd2inTnT8+X+OD7WjFvTlqLOycPMWdvLo87O1Vt71aK6KzaBtbk1ufwlt//WoJYdmbFxJfW9/GjoXYPVkXvJzVfRs4n24um0DT/h7uDIi537AvBEaAdGr/iWVYf20Nq/IbvOHuNC3E3e7aWtOshR5bHiwA7a1QvExd6RtOws1h3dT0JGGh0bNtM97toj+wj0rY2NhSVHrl1k/q6NvNi5D/bW/65652FknriMY0hDbdlpehZOrQIpzMohp1jS6Pb4Y+RcjdEljhnHL+LSNRTVnRRUd5Kxb1oPpbk5WeeuA9oJgLLOXcOpfRPUeSrUqnycOwSTF5ekq2K5/3PKzFr72ZCfkqHr5bRvUpeCjCzyk9PvjrGsjZWPB4kb9Wcc/acGhbRnxh+/EuDpS4PqfvwWFaH9+wZqy4Sn//4LbvZOvNhBO3xlYPN2jFk1n1VH/qR1nQbsOn+Ci/ExvBumLRFXKBQ8EdyOFYd24VPNDS9HFxYf2IabvSPt767n6OnorBeDjYW2R9rb2RX3u8tv1HTVn7juQvwtFAoFtd2ql+t4/4lBrToxY8NP2te+T01WH7r72r+bBE5b/yPuDk682KXotf8Yo5fPYdVfu2ldtxG7zhzjQuxN3u39FKDtBXWy1R9fbqZU4mLnSA3XMib3e4SZyvdYuailFLaqGLwUduzYsWRnZ/Pqq69iZ2fH8OHDyczU9sC4uLgwY8YMPv/8c5YvX05gYCAffPABr776qu7+np6evPnmm3z22WeMHz+e/v37M2PGDEaPHo2Liwvz58/n1q1bODg40KhRI1555ZUKjf+9995Do9EwduxYsrKyCAoK4ocfftBNKlRVPD09WblyJbNnz2bkyJGoVCq8vb3p0KFDmaWn06dPZ+7cucyYMYM7d+7g7OxMs2bN6NSpEwCvvvoqN2/eZOTIkdjY2PDUU0/RrVs3MjK0JSb29vYcPnyYpUuXkpmZibe3N+PGjdNNZDRo0CCsra1ZuHAhs2bNwtbWlvr161dZb276/pMoLMxxDW+H0tqS3Oh47qzYCsV6ty1cHMgrVj6VfeYaKbbWOHcKwczeBtXtJO78uLVEUmUfXJ/C9Cy9ksMiBUlp3Fm5HaeOwXiNDEejAVVcEvErtpZaUlvRMiLPorQwx6VHK+3i4jF3uLN6NxTeu+ps7myPWbH13bIv3EBpa4VTu6ba5PBOCndW7y7RG/sgmoJC7JvUxaJzCJgpKczQJrPph878/Z0NpL6vHZ++fG9B8VfCtVfptx1J5LNfK2fWS0NI2XIQhZUlHsP7oLS1JvfiTWI+W4kmv9h7waMaZg62ut+du2orGXzHD9Xb1+0fNpARcZJHTfKavSitLan+2hMo7azJOXedm5MW6SXBltVdMHe8d0JZrbd20ria0/S/F+K+WkXarnu9uU7dWlCQlE5WWb3+VaBLo2DSsjNZ8ucfJGel4+/pw8ynX9L1JN5JT9Eb9xjkW5v/e3wwi/b+zg97NuNTzZ0pTw6n9t0ySDOlkpuJd/j45GHScrJwtLEjwMuPr4e8QW33e0nDudibLNm3lRxVHn6uHrzTaxDdG5de5VJRMo5dQGFhRrXOISgtLciLSyRxY4T+Z5ijnS7xA+2wgFQbKxxbNcLM1pr8xDQSN0Wgzrk3CVBqxAmcNRpce7YBMyV50fGk/PkPS5vNlDi3a6odblBQoH2cDX+SV85JrToHNCU1O4vFB7aTkp2Bv7s3MweO0JU638lI1f/7etdkYu9nWLR/Gwv3b8XH2Y3J/YboJXzPhHYkN1/F59vXkJmXS2OfWswYOBzLMmZ/fVR1Cbz72t9b7LX/7Mv3Xvtp9732/Wrzf/2HsGjPFn7YvRkfF3emPDVC99o3NqbyPSb+GxQaGdEqHmE3Ji00dAgGoShj9kNj92Ji/b9vZITmxJfs+TYFhY/ImM2q5jjQNGeiVFfBhbVHUfHyWlOisLX6+0ZGaPjpR3ft5sq0dWbljrctj/PhY/++kYE02DjL0CFUKIP3WAohhBBCCCFEpZA+tCpjkonlRx99xMaNG0u9LTw8nMmTJ5d6W1WIjY2lT58+Zd6+efNm3URHQgghhBBCCPEoMMnE8u2332bkyJGl3mZvX/rU3lXFw8ODdevWPfB2IYQQQgghhHiUmGRi6erqiqtrxazBVdHMzc2pWbOmocMQQgghhBDiv09mha0yFb9SvRBCCCGEEEIIkyKJpRBCCCGEEEKIcjHJUlghhBBCCCGECZBZYauM9FgKIYQQQgghhCgXSSyFEEIIIYQQQpSLlMIKIYQQQgghjJJGZoWtMtJjKYQQQgghhBCiXCSxFEIIIYQQQghRLlIKK4QQQgghhDBOMitslZEeSyGEEEIIIYQQ5SKJpRBCCCGEEEKIcpFSWCGEEEIIIYRxklLYKiM9lkIIIYQQQgghykUSSyGEEEIIIYQQ5SKlsEIIIYQQQgjjpJZS2KoiPZZCCCGEEEIIIcpFEkshhBBCCCGEEOUipbBCCCGEEEIIo6SRWWGrjPRYCiGEEEIIIYQoF0kshRBCCCGEEEKUi5TCCiGEEEIIIYyTzApbZaTHUgghhBBCCCFEuUhiKYQQQgghhBCiXKQUVgghhBBCCGGcNGpDR2AypMdSCCGEEEIIIUS5SGIphBBCCCGEEKJcpBRWCCGEEEIIYZw0MitsVZEeSyGEEEIIIYQQ5SKJpRBCCCGEEEKIclFoNNI/LIQQQgghhBDi35MeSyGEEEIIIYQQ5SKJpRBCCCGEEEKIcpHEUgghhBBCCCFEuUhiKYQQQgghhBCiXCSxFEIIIYQQQghRLpJYCiGEEEIIIYQoF0kshRBCCCGEEEKUiySWQgghhBBCCCHKRRJLIYQQQgghhBDlIomlEEIIIYQQQohykcRSCCGEEEIIIUS5SGIphCA9PZ1ff/2Vzz77jNTUVADOnDlDfHy8YQMTQgghhBD/CeaGDkCIR016ejpbt24lOjqakSNH4uzszJkzZ3Bzc8PT09PQ4VW48+fPM3z4cBwcHIiJieGpp57C2dmZbdu2ERcXx6xZswwdYqU5cuQIP//8Mzdv3uTrr7/G09OTdevW4evrS4sWLQwdniin8+fPP3TbBg0aVGIkjw6NRgOAQqEwcCRV58aNG0RHRxMaGoq1tTUajcYkjt/UjjsvLw8rKytDh1Hl1q1bx88//8ytW7f45Zdf8PHxYcmSJfj6+tKtWzdDhydMjCSWQhRjiknWjBkzGDBgAGPHjiU4OFi3vWPHjrz33nsGjKxybd26lbFjxxIeHs7Zs2dRqVQAZGZmMn/+fKNLLHfu3PnQbbt27VqJkVSd/v37o1AoHuqE+ty5c1UUlWGsW7eOhQsXcv36dQBq1arFyJEj6d+/v0HjqkwpKSmMGTOGv/76C4VCwbZt2/Dz82PChAk4OTkxbtw4Q4dYKUz1uFu0aEGTJk0IDQ2lVatWBAcHY21tbeiwKtVPP/3E119/zQsvvMC8efNQq9UAODo6snTpUkksRZWTxFKIYkwxyTp16hSTJ08usd3T05OEhAQDRFQ15s6dy6RJk+jfvz+bN2/WbW/evDlz5841YGSV4/XXX3+odgqFwmiSrOLJ9Llz55g5cyYjR46kWbNmABw/fpzFixfz/vvvGyjCqrF48WK++uornn/+eUaPHg3A0aNH+d///kdqairDhg0zaHyVZfr06ZiZmbFnzx569eql2967d29mzJhhtAmWqR734sWLOXLkCJGRkSxdupSCggKCgoJo2bIlLVu2pF27doYOscKtWLGCqVOn0q1bNxYsWKDbHhQUxMyZMw0YmTBVklgKUYwpJlmWlpZkZmaW2H79+nVcXFwMEFHVuHbtWqm9kg4ODqSnpxsgosr1T8pCjYWPj4/u/2+//Tb/93//R8eOHXXbGjRogJeXF1999ZVRX9lfvnw5//vf//R6J7t27Uq9evX45ptvjDax3L9/PwsXLqR69ep622vVqkVsbKyBoqp8pnrcLVq0oEWLFrzyyisUFBRw6tQpfvnlF3744QcWLFhgNBfMirt16xYNGzYssd3S0pKcnBwDRCRMnSSWQhRjiklWly5d+Pbbb/nyyy9122JjY5k9ezbdu3c3XGCVzM3NjejoaHx9ffW2Hz16FD8/PwNFJSrLxYsXS/ytAXx9fbl8+bIBIqo6CQkJehUYRYKDg432ghlAdnZ2qaWQqampWFpaGiCiqmGqxw3aC4aRkZFERkZy6NAh8vPz6dSpEy1btjR0aJXC19eXc+fO6V1EA9i3bx/+/v4GikqYMkkshSjGFJOscePG8dZbb9G2bVvy8vIYMmQIiYmJNGvWjDFjxhg6vErz1FNP8cknnzBt2jQUCgXx8fEcO3aMmTNn8tprrxk6vEo1Z86cB97+xhtvVFEkVcff35/58+czdepU3cm1SqVi/vz5Rn8CVrNmTX7//XdeeeUVve1btmyhVq1ahgmqCrRo0YJ169bpyn8B1Go1P/zwA61atTJcYJXMVI+7Q4cO5OXl6UpfX3zxRQICAox6wqLhw4czefJk3RwBJ0+eZNOmTSxYsICpU6caODphihSaoinihBBkZGTw1ltvcfr0abKysvDw8NAlWQsWLMDW1tbQIVaao0ePcv78ebKzswkMDKRt27aGDqlSaTQa5s2bx4IFC3QlQ5aWlowYMULvhMwY3T9hS0FBAbdu3cLMzIwaNWqwdu1awwRWiU6ePMkrr7yCRqMhICAAgAsXLqBQKJg3bx5NmjQxcISVZ+vWrYwZM4Y2bdrQvHlzAKKiovjrr7/48ssvCQsLM3CElePixYsMGzaMRo0a8ddff9GlSxcuX75MWloaK1eupEaNGoYOsVKY6nE//vjjXL16lcDAQF1yGRISgo2NjaFDq1QbNmxgzpw5REdHA+Dh4cGbb77JoEGDDByZMEWSWApRiiNHjnDhwgWjT7Ly8/Np2rQp69ato379+oYOxyBUKhXR0dFkZ2fj7++PnZ2doUMyiMzMTMaNG0e3bt2MdqbQ7OxsNm7cyNWrVwFtL2bfvn2N+oJRkdOnT7NkyRLdsdepU4cRI0bQqFEjA0dWuTIyMlixYoXuolmjRo14/vnn8fDwMHRolcpUjzs9PZ3Dhw9z+PBhIiMjuXLlCg0bNqRVq1ZGXYEDkJOTQ3Z2Nq6uroYORZgwSSyFMHFdu3bl22+/NZl1/IqMHz+eiRMnYm9vr7c9OzubKVOmMH36dANFZjgXLlzg1VdfZdeuXYYORQgh/rWUlBQiIyPZuXMnmzdvRq1WG+XkPbm5uWg0Gl2vbExMDNu3b6du3bq0b9/ewNEJUySJpTB5y5Yt4+mnn8bKyoply5Y9sO3QoUOrKKqq8+uvv7J9+3ZmzZqFs7OzocOpMg0bNiQiIqLE1d3k5GTat2/P2bNnDRSZ4Rw5coRXX32Vw4cPGzqUSrFu3Tp++eUXbt68afQLiWdmZuoumpQ2IVlx919c+S/7J7MfG/PFtLy8PC5cuEBSUpJubcMixrJO7f22bdumm7TnypUrODk5ERISoiuLNca/94gRIwgLC+PZZ58lPT2dnj17YmFhQUpKCuPGjeO5554zdIjCxMjkPcLkLVmyhPDwcKysrFiyZEmZ7RQKhVEmlj/++CM3btygQ4cOeHt7lygLNLbxdpmZmWg0GjQaDVlZWVhZWeluKyws5M8//zTaGYCL3H8BRaPRkJCQwPr163nssccMFFXlKr6Q+Ny5c41+IfHQ0FDdhZMWLVqUOoGJRqMxqnVLQTt+WKFQ8HfXzI3tuIv7888/+eCDD0hJSSlxmzEf98cff0xoaChPP/00oaGhurHUxuzMmTOMHz8e0I6ldnNzY926dWzdupWvv/5aEktR5SSxFCaveNmfKZYAGtsJ9d8pOslWKBT06NGjxO0KhYI333zTAJFVnfsvoCiVSlxcXBgwYAAvvfSSYYKqZKa2kPjSpUtxcnICSl5IMGY7d+40dAgGN3XqVHr27Mnrr7+Om5ubocOpMgcPHjR0CFUuNzdXNy9AREQE3bt3R6lU0qxZM6Nes1Q8uiSxFKIMRVe8jXmqcjDOpSUeZNmyZWg0Gl544QW++eYb3ck3gIWFBd7e3nh6ehowwspx/vx56tevj1KpNMkLKKa2kHjxdft8fX3x8vIq8Vmm0WiIi4ur6tAqVfH1/A4fPkxwcDDm5vqnOgUFBRw7dqzE2n/GIjExkeHDh5tUUlkkOjqa3377jZs3bzJx4kRcXV3Zu3cv3t7e1KtXz9DhVbgaNWqwY8cOwsLCiIiIYNiwYQAkJSUZVYm7+O9QGjoAIR41v/76K3379qVx48Y0btyYvn378uuvvxo6rEp3+vRp1q9fz/r16416fGHLli1p1aoVO3fupGvXrrrxNy1btiQ4ONgok0qAAQMG6ErjunbtWmqZnDErWkj8fqawkHjXrl1JTk4usT01NdVox9uBdkx8Wlpaie0ZGRlGOayhSI8ePTh06JChw6hykZGRhIeHc/LkSbZt20Z2djagnZTsm2++MXB0leP1119n1qxZdOnShaZNmxIcHAzA/v37S72QJkRlkx5LIYr56quvWLJkCYMHD6ZZs2YAHD9+nGnTphEbG8vbb79t2AArQVJSEmPGjCEyMhJHR0dAO2V7q1at+OKLL4x2vGFRb0VOTg6xsbHk5+fr3W5sEz04Ojpy69YtXF1diYmJ+dsxaMbGlBcSLxpLeb/s7Gy9McbGpqzjTk1NNeq1DT/66CPefvttjh49Sv369Uv02BprUv3ZZ58xevRohg8frkuwAFq3bs2KFSsMGFnl6dmzJyEhISQkJOh9Z7Vp08bkhrmIR4MklkIUs3LlSqZMmULfvn1127p27UpAQABTpkwxysRyypQpZGVlsXnzZl3PzeXLl/nggw+YOnUqn3/+uYEjrBzJycmMHz+eP//8s9TbjW2Ci+7duzN48GDc3d1RKBQ88cQTKJWlF60Y4zi1QYMGYWVlxZdffklOTg7vvvsuHh4eTJgwgT59+hg6vEpRtGSOQqHgyy+/1EumCgsLOXnypNFdQIF75f0KhYJx48ZhaWmpu62wsJALFy7oJR7GZtOmTezfvx9LS0siIyP1bjPWSegALl68yOzZs0tsd3FxMeoKDXd3d9zd3fW2NWnSxEDRCFMniaUQxRQUFBAUFFRie2BgIIWFhQaIqPLt27ePxYsX65UD1q1bl48//pgRI0YYMLLK9cknn5Cens6qVasYOnQoc+bMITExkblz5zJu3DhDh1fhpkyZQlhYGNHR0UydOpVBgwbpJn0wFf369aNfv34ms5B4UUm7RqPh4sWLWFhY6G6ztLSkQYMGRvked3BwALTHbWdnh7W1te42CwsLmjVrxqBBgwwVXqX78ssvefPNN3nppZfKvHhkjBwcHEhISMDPz09v+7lz54x2iAPAqVOn+P3334mLiytReTNnzhwDRSVMlSSWQhTz+OOPs3LlSt303UVWrVpFeHi4gaKqXGq1Wu+Es4i5uXmJ9c+MyaFDh/juu+9o3LgxCoUCb29v2rVrh729PfPnz6dTp06GDrHCFS0lcubMGYYOHWpSkzusXr2aVq1a4efnh42NjVGXQhZZvnw5AOPHj2fixIkm8/cu6qn18fFhxIgRJZZQMnb5+fn07t3bpJJKgD59+jB79my++uorFAoFarWao0ePMnPmTPr372/o8CrF5s2b+eCDD2jfvj0RERG0b9+ea9eukZSURFhYmKHDEyZIoTG1gTZC3KfoJAS0ZVJr1qzB29ubpk2bAtqxWLGxsfTv358PP/zQUGFWmldffZWMjAw+++wz3VXd+Ph43nvvPRwdHfn2228NHGHlaN68ORs2bMDX15fOnTsze/ZsQkJCuHnzJn379uXEiROGDrFKFM0K6uXlZeBIKlf37t25efMmnp6ehIaG6iZsqlmzpqFDE6JCTZs2DRcXF1555RVDh1KlVCoVkydPZu3atRQWFmJubk5hYSF9+/ZlxowZmJmZGTrEChceHs4zzzzD888/T3BwsO477aOPPsLd3Z233nrL0CEKEyM9lsLk3T8DamBgIKCdthzA2dkZZ2dnLl26VOWxVYWPPvqIV199la5du1K9enUAbt++Tb169fj0008NHF3lqV27NteuXcPX15eAgAB++eUXfH19+fnnn0uMVzE2BQUFzJkzh+XLl+tmTrS1tWXw4MG88cYbpfZg/9dt27aN+Ph4Dh06xJEjR1i4cKHu5Ktly5aljs0yJqZSLjdgwACWLFmCk5MT/fv3f+ByUWvXrq3CyKqOWq3mhx9+ICIigoCAgBKT99xfkWMsLC0tmTp1Kq+99hqXLl0iKyuLRo0aUatWLUOHVmlu3rxJx44dAe3xZ2dno1AoGDZsGC+88IIklqLKSWIpTF5RuZip8vLyYu3atRw4cICrV68C4O/vT9u2bQ0cWeUaOnQoCQkJgHayj1GjRrFhwwYsLCyYOXOmgaOrXFOmTGH79u28//77erMfz5kzh9TUVCZNmmTYACuJp6cn/fr1IywsjCNHjrB582Y2btzIli1bjDqxNKVyua5du+om6+natavRr0NcmgsXLuiWmrh48aLebabwfHh7e+Pt7W3oMKqEo6MjWVlZAHh4eHDp0iUCAgJIT083yvV5xaNPSmGFuCs/P5+mTZuybt066tevb+hwRBXLycnh6tWreHl5Ge0SK0VCQkL4/PPPdVe6i+zdu5d33nmHo0ePGiiyyhMREUFkZCSRkZGcPXsWf39/XUlsaGgoTk5Ohg6x0ki5nDBW06dP5+2338bW1lZvWEtpjLGn9t133yUoKIjhw4fz7bffsmLFCrp27cqBAwdo1KiRUVUjiP8G6bEU4i4LCwu8vLyMesKa0kydOpUaNWqUmIJ+xYoV3Lhxg4kTJxoosor3dycexRnjSUgRS0tLfH19S2z39fU1yjJYgFGjRuHi4sLw4cNZsGCBbs1WU2Cq5XJdu3Zl9erVVKtWTW97eno6AwYMMMpldUzN2bNnKSgo0P2/LMbaU/vhhx+Sl5cHaOdLsLCwICoqiu7du/Pqq68aODphiiSxFKKYV155hc8//5xZs2bh7Oxs6HCqxNatW5k7d26J7cHBwSxYsMCoEsv7TzzOnj1LYWEhtWvXBuD69esolUrdOFtj9fzzz/Pdd98xffp0XdmgSqVi7ty5DB482MDRVY5x48Zx5MgRfvjhB5YtW6abvKdly5a6v7+xMtVyuZiYmFIvFKpUKuLj4w0QUdUxlTG1xYeymOKwluLnKUqlkpdeeslwwQiBJJZC6Pnxxx+5ceMGHTp0wNvbu8Q09cY42UNqaqpu3bfi7O3tjW5R6eInHosXL8bOzo6ZM2fqyiDT0tIYP348LVq0MFSIVeLcuXMcPHiQxx57jAYNGgBw/vx58vPzadOmjW6BeTCek9Bhw4YxbNgwQDsG7fDhw+zbt48pU6bg4uLCn3/+adgAK1FoaCgHDhwgICCAnj178sknn/DXX39x4MAB2rRpY+jwKlzxnsh9+/bpfb6p1WoOHjyIj4+PIUKrEqY0pra49evX0717d5NYSqi46OhofvvtN27evMnEiRNxdXVl7969eHt7U69ePUOHJ0yMJJZCFNOtWzdDh1Dlatasyb59+0osu/Dnn3+WWGjamCxatIhFixbpja1zcnJi9OjRjBgxwigXji/i6OhIjx499LYZ+3IjABqNhrNnzxIZGcmhQ4c4evQoarXa6MfUmlq53Ouvvw5oyx/HjRund5u5uTk+Pj4lthuTefPmMX78eN2Y2okTJ+qNqTVW06dP53//+x9dunShX79+tG/f3iiXGCkuMjKSF198kebNm3P48GHGjBmDq6srFy5c4LfffuPrr782dIjCxEhiKUQxxXtqTMWwYcOYMmUKycnJtG7dGoCDBw+yaNEioyqDvV9mZibJycklticnJ+vKBo3VPxlraixeeeUVoqKiyMzMpEGDBrRs2ZJBgwYRGhpq1OMtCwoK2LNnD+3btwdMo1zu/PnzAHTp0oXVq1cb/YWD+5nqmNqIiAj27dvHpk2bGD16NNbW1vTs2ZPw8HCaN29u6PAqxWeffcbo0aMZPnw4wcHBuu2tW7dmxYoVBoxMmCpJLIUwcU8++SQqlYp58+bx3XffAdpJXCZNmkT//v0NG1wlCgsLY/z48YwbN44mTZoAcOLECWbNmkX37t0NHJ2oaLVr1+bpp5+mRYsWpZZ+Gytzc3M+/vhjtmzZYuhQqtyuXbseql14eDgLFiwwml57Ux1Ta25uTufOnencuTM5OTls376dTZs2MXToUKpXr86OHTsMHWKFu3jxYqlLJbm4uBjdUBbx3yCJpRDFFBYWsmTJkjInPYiMjDRQZJUnNzeXAQMG8Nxzz5GcnExiYiIHDhzA1dXV0KFVqkmTJjFz5kzeffdd3ayCZmZmPPnkk4wdO9bA0VW8v1ssvjhjHEv8wQcf6P6fl5eHlZWVAaOpWk2aNOHcuXNGPa6wPG7duqX7DDAGpjamtjQ2Nja0b9+e9PR0YmNjuXLliqFDqhQODg4kJCSUGLZy7tw5PD09DRSVMGWSWApRzJw5c/j1118ZMWIEX375Ja+88goxMTHs2LFDN27H2Lz22muEhYXx7LPPYm5uzvDhwzE3NyclJYVx48bx3HPPGTrESmFjY8P//vc/xo4dS3R0NAA1atQoMWGTsTDF8cPFqdVq5s6dy88//0xSUhJbt27Fz8+PL7/8Eh8fHwYNGmToECvNs88+y4wZM7h9+zaBgYElJjcpmsBJGAdTG1NbXFFP5caNGzl48CBeXl706dOHr776ytChVYo+ffowe/ZsvvrqKxQKBWq1mqNHjzJz5kyjrjgSjy6FRqPRGDoIIR4V3bp14//+7//o1KkTwcHBrF+/nho1arBs2TJOnDjBZ599ZugQK1yrVq1YsWIF9erV49dff2X58uWsW7eOrVu38vXXX/P7778bOkQhym3OnDmsW7eOt956iw8//JBNmzbh5+fHli1bWLp0Kb/88ouhQ6w0pSWOCoUCjUaDQqHg3LlzBojq0REcHMyGDRuMerIyUzBmzBj27NmDtbU1vXr1Ijw8XG/coTFSqVRMnjyZtWvXUlhYiLm5OYWFhfTt25cZM2YY/eRF4tEjPZZCFJOYmEj9+vUBsLOzIyMjA4DOnTsb7RXP3Nxc7OzsAO3kB927d0epVNKsWTNiY2MNHJ2oLOnp6WzdupXo6GhGjhyJs7MzZ86cwc3NzShLqNavX8+UKVNo06YNH3/8sW57QEAAV69eNWBkla/48hvCNKjVam7cuEFSUhL39x+EhoYaKKrKpVQq+fLLL01iNtgilpaWTJ06lddee41Lly6RlZVFo0aNqFWrlqFDEyZKEkshivH09CQhIQFvb2/8/PzYv38/gYGBnDp1SreQvLGpUaMGO3bsICwsjIiICN1af0lJSdjb2xs2OFEpzp8/z/Dhw3FwcCAmJoannnoKZ2dntm3bRlxcHLNmzTJ0iBUuPj6eGjVqlNiu0WiManxdaR52bOVLL73E1KlT8fDwqOSIRGU6fvw47777LrGxsSWSSmPuoS5eUWRq46i9vb3x9vY2dBhCSGIpRHFhYWEcPHiQpk2bMmTIEN5//31Wr15NbGysLuEyNq+//jrvvfce06dPp02bNrrSof3799OwYUMDRycqw4wZMxgwYABjx47VKxXr2LEj7733ngEjqzx169blyJEjJZKsP/74Q17ndx0+fFg3Nk/8d3388ccEBQWxYMEC3N3dH3rSrv86UxlH/U+Wixo/fnwlRiJESZJYClFM8ZPq3r174+XlxfHjx6lZsyZdunQxYGSVp2fPnoSEhJCQkKA3FqtNmzYmP+GLsTp16hSTJ08usb2ox94Yvfbaa4wbN474+Hg0Gg3btm3j2rVrrFu3jvnz5xs6PFFBWrZsyR9//IGLiwvjx49n4sSJf1t5MXnyZKOaBfvGjRt8/fXX1KxZ09ChVKnvvvuOdevW8f777/Phhx/qttevX5+lS5caTWJ59uzZh2pnKhcUxKNFEkshHiA4ONjoB/8DuLu74+7urretaG1HYXwsLS3JzMwssf369etGu5h8t27dmDdvHt9++y02NjZ8/fXXNGrUiHnz5tGuXTtDhycqSH5+PllZWbi4uOiSjL8THh5eBZFVnSZNmnDjxg2TSyxNZRz18uXLDR2CEGWSxFKIYlJSUqhWrRoAcXFxrFq1itzcXLp27UqLFi0MHJ0QFaNLly58++23fPnll7ptsbGxzJ49m+7duxsusErWokULFi9ebOgwRCVq1qwZr732GkFBQWg0GqZOnVrmWLt/UlL4XzJkyBBmzpypm4zO3Fz/VM9Yl5cx5XHUN27cIDo6mtDQUKytrXUzPgtR1SSxFAK4cOECr776KnFxcdSsWZMvvviCUaNGkZ2djVKpZOnSpXz99ddSGiqMwrhx43jrrbdo27YteXl5DBkyhMTERJo1a8aYMWMMHZ4Q/9qnn37KkiVLiI6ORqFQkJGRYXLjRt98800AJkyYoNtmCsvLmOI46pSUFEaPHs2hQ4dQKBRs27YNPz8/JkyYgJOTE+PGjTN0iMLESGIpBNqTkfr16/Ppp5+yfv16Xn75ZTp27MjUqVMBmDJlCgsWLJDEUhgFBwcHFi9ezJEjR7hw4QLZ2dkEBgbStm1bQ4dWoYqPtwsNDX3gFfzIyMgqjExUFjc3N91Y+S5dujBr1ixdFYqpMNXlZUxxHPX06dMxNzdnz5499OrVS7e9d+/ezJgxQxJLUeUksRQC7WQmS5cupUGDBjRo0IBVq1bx3HPPoVQqARg8eDBPP/20gaMUomK1aNHCqEu8x48fr5u4Zfz48VIa9jdeeeUVnJycDB1Ghdm1a5ehQ6hy+fn5vPDCC8yfPx9/f39Dh1OlTHEc9f79+1m4cCHVq1fX216rVi1Zh1oYhCSWQgBpaWm6yWvs7OywsbHRO8FycnIiKyvLUOEJUeEOHjzIwYMHSUpKQq1W691mLGPPBgwYoPv/wIEDDRhJ1fsnvVZdu3YF4OWXX66scAwmMjKSRYsWceXKFQD8/f0ZNWqU0V5QsbCwMLnSX4CCggLmzZvHk08+aVLjqLOzs7G2ti6xPTU11WjX3haPNkkshbhLejOEqZgzZw7ffvstQUFBJrPO3bBhw+jXrx/du3f/2+UnjMHrr7/+UO2Meczd+vXrmTBhAmFhYQwZMgSAqKgohg0bxvTp041uNtgizz//PN9//z1Tp04tMXGPsTI3N2fhwoX079/f0KFUqRYtWrBu3TpGjx6t26ZWq/nhhx9o1aqV4QITJkuh0Wg0hg5CCENr0KABjz32mO4K3+7du2ndujU2NjYAqFQq9u3bZ7QnYMK0tG/fnvfee8+kTsKmTp3KH3/8QUZGBh07dqRfv3507NgRCwsLQ4cmKkmvXr14+umnGTZsmN72xYsXs2rVKn7//XfDBFbJXn/9dQ4ePIitrS0BAQG677Eic+bMMVBklevVV1+le/fuepUKxu7ixYsMGzaMRo0a8ddff9GlSxcuX75MWloaK1euLHWWXCEqkySWQqAdf/UwjKVEUJi2Vq1a8euvv5rcSYdarebAgQNs2rSJ7du3Y2ZmRo8ePQgPD6dly5aGDk9UsKCgIDZv3lxiPccbN27Qt29fTp06ZaDIKtfffZ8Z6/fYypUr+fbbbwkPDycwMLBEQl1U8m1sMjIyWLFiBefPnyc7O5tGjRrx/PPP4+HhYejQhAmSxFIIIUzMp59+iq2t7UOXSxqjvLw8du3axbx587h48aJRVyP8XQ/VG2+8UUWRVK2wsDBGjhzJM888o7d95cqVLF68mG3bthkoMlEZHrQ+pzGWfOfn5zNq1CgmTZpErVq1DB2OEICMsRTigTIzM/nrr7+oXbu2yc2wJ4xL8V4KtVrNqlWrOHjwIAEBASXGYT1sD/5/VUJCAps3b2bDhg1cuHCBJk2aGDqkSrVjxw693wsKCrh16xZmZmbUqFHDaBPL4cOHM3XqVM6dO0dwcDCgHWO5du1aJk6caODoKldBQQGRkZFER0fTt29f7O3tiY+Px97eHjs7O0OHVynOnz9v6BCqlIWFBRcuXDB0GELokR5LIYp5++23CQ0NZfDgweTm5vL4448TExODRqPh888/p0ePHoYOUYh/pWjykr+jUChYtmxZJUdT9TIzM9m6dSubNm0iMjISX19fwsPD6devn8mVBIP2+Rg3bhzdunUz6rG227dvZ9GiRVy9ehWAOnXqMHLkSKNekzgmJoZRo0YRFxeHSqVi69at+Pn5MXXqVFQqFZMnTzZ0iAYVHh7OggUL8PLyMnQo5TZt2jQsLS11a7cKYWjSYylEMUeOHOHVV18FtCckGo2Gw4cPs3btWubOnSuJpfjPWr58+T++z+3bt/Hw8NCt5/pf1rZtWxwdHenduzfvvPMOjRs3NnRIBmVvb8+bb77Jq6++atSJZVhYGGFhYQ9ss2nTJrp06YKtrW0VRVW5PvnkE4KCgli/fr3ezKBhYWF8+OGHBozs0XDr1i0KCgoMHUaFKCwsZOXKlRw4cICgoKAS40qNvfpEPHoksRSimIyMDN36lfv27aN79+7Y2NjQqVMnPv30UwNHJ0TV6t27N+vXr8fPz8/QoZTb3LlzadOmzd8myUePHqVx48YmsQZcRkYGGRkZhg7D4D766COaNm1qNInl0aNHWblyZYnXsI+PD/Hx8QaKSlSGixcv0qhRIwCuXbumd5spLCMlHj2SWApRjJeXF8eOHcPJyYl9+/bx+eefA5Cenm4SJ5pCFGdMIyXatWv3UO1efPFFo0mmi9xf2qzRaEhISGD9+vU89thjBorq0WFMr3PQjqFWq9Ultt++fdtox1eaqoetRDGm6hPxaJPEUohihg4dyvvvv4+trS1eXl66MqLDhw9Tv359A0cnhKhsxpZkACxZskTvd6VSiYuLCwMGDOCll14yTFCi0rRr146lS5cyZcoU3basrCy++eYbOnbsaMDIhKEYU/WJeLRJYilEMc8//zxNmzYlLi6Odu3a6a7u+fn5MWbMGANHJ4QQD+f8+fPUr18fpVLJrl27DB2OqELjxo1j5MiR9O7dG5VKxXvvvcf169epVq2argpHmBZjvGAmHk2SWAqTN336dN5++21sbW31lmQ4cuRIibbNmzevytCEEOJfGTBgABEREbi6utK1a1dWr15NtWrVDB2WqALVq1dn/fr1bNmyhfPnz5Odnc2TTz5JeHg41tbWhg5PCGHEJLEUJu/s2bO6GeLOnj1bZjsZCC9Mjbzm/7scHR25desWrq6uuiWThOkwNzenX79+9OvXz9ChVKqWLVvyxx9/4OLiwvjx45k4cSL29vYPvM/kyZNxdXWtogiFMC2SWAqTV3zw+79ZkkEIY2WKyYixJNPdu3dn8ODBuLu7o1AoeOKJJ8qcuGPnzp1VHN2jxcfHB3Nz4zkdWrt2LdWqVaNTp04AzJo1i1WrVlG3bl0+++wzfHx8DBtgBcrPzycrKwsXFxfWrVvH+++//7f3CQ8Pr4LIhDBNxvNJKoQQokJt2bIFDw8PQ4dRpYwlmZ4yZQphYWFER0czdepUBg0aZLIzgqpUKpKTk0vMlOrt7Q1o17E0JvPmzeN///sfAMeOHePHH39kwoQJ7N69m+nTpzNnzhzDBliBmjVrxmuvvUZQUBAajYapU6diZWVVatviQ11MjbFcMBOPPkkshRDCBLzxxhsP3bboxNPLy6uywjGIgoICIiMjiY6Opm/fvtjb2xMfH4+9vb0u6Tp27JiBo6w4RUuJnDlzhqFDh/5tiaCxuX79OhMmTCjxN9VoNCgUCs6dO2egyCrX7du3qVmzJgA7duygR48ePP300zRv3pwhQ4YYOLqK9emnn7JkyRKio6NRKBRkZGSQl5dn6LAeOcZywUw8+iSxFEIIE+Dg4KD7v0ajYfv27Tg4OBAUFARok4/09HS6d+9uqBArVUxMDKNGjSIuLg6VSkW7du2wt7fn+++/R6VSMXnyZEOHWGmK99TExcUBxnfRoDTjxo3D3NycefPm4eHhYTK9Nra2tqSmpuLt7c3+/fsZNmwYAFZWVkaXdLm5ufHee+8B0KVLF2bNmiWTVJXCFKtPhGFIYimEECageHLx6aef0qtXLyZNmoSZmRkAhYWFTJo0yWjLJT/55BOCgoJYv369bn1agLCwMD788EMDRlb5CgoKmDNnDsuXLyc7OxvQJh+DBw/mjTfewMLCwsARVo7z58/z22+/4e/vb+hQqlTbtm35v//7Pxo2bMj169d1a1deunTJqMZX3s8Ul9XJy8tj+fLlHDp0iKSkpBI9k2vXrgVM40KSeDRIYimEECbmt99+46efftIllQBmZmYMGzaMZ599lg8++MCA0VWOo0ePsnLlSiwtLfW2+/j4EB8fb6CoqsaUKVPYvn0777//Ps2aNQPg+PHjzJkzh9TUVCZNmmTYACuJv78/KSkphg6jyn388cd8+eWXxMXF8fXXX+t68M6cOUOfPn0MHF3lioyMZNGiRVy5cgXQvgZGjRpFixYtDBxZ5ZgwYQL79++nR48eNGnSxGR65cWjSxJLIYQwMYWFhVy9epU6derobb969WqJCU6MhVqtLvXYbt++bbS9tEU2bdrE559/ruu5AmjQoAFeXl688847RpVYZmZm6v7/3nvvMXv2bMaMGUP9+vVL9Mwa65hTR0dHPvrooxLb33rrLQNEU3XWr1/PhAkTCAsL040ljYqKYtiwYUyfPt0oZ4Pds2cPCxYsICQkxNChCAFIYimEECZn4MCBTJw4kZs3b9K4cWMATp48yYIFCxg4cKCBo6sc7dq1Y+nSpUyZMkW3LSsri2+++UYv4TJGlpaW+Pr6ltju6+trdGWwLVq00Ou10Wg0ujGGxbcZ8+Q9hw8ffuDtoaGhVRRJ1Zo3bx7vv/++3t976NChLF68mO+++84oE0tPT0+jvzAm/lsUGpkqSgghTIparWbhwoUsW7aMhIQEANzd3Rk6dCgjRozQK5E1Frdv32bkyJFoNBpu3LhBUFAQ169fp1q1avz4449GvWD6nDlzuHbtGtOnT9eVAqtUKiZMmECtWrX+0YzBj7rIyMiHbtuyZctKjMRwGjRoUGJb8WTbWBPqoKAgNm/erJsRt8iNGzfo27cvp06dMlBklWfv3r0sX76cSZMmGfX4WfHfIYmlEEKYsKLSQWMtCyyuoKCAzZs3c+HCBbKzswkMDCQ8PBxra2tDh1apXn/9dQ4ePIilpaUu6Th//jz5+fm0adNGr60xrXEYGxuLl5dXiXFnGo2GuLg43TqWxiYjI0Pv9/z8fM6dO8dXX33FmDFjSvzNjUVYWBgjR47kmWee0du+cuVKFi9ezLZt2wwUWeVJTk7m7bff5siRI1hbW5eoQPgnF1qEqAhSCiuEECbMFBLKIubm5jz++OOGDqPKOTo60qNHD71tpjBLZNeuXYmIiCjRG52amkrXrl2Ntueu+NJCRdq1a4eFhQUzZsxgzZo1Boiq8g0fPpypU6dy7tw5goODAe0Yy7Vr1zJx4kQDR1c53nnnHe7cucOYMWNwc3OTyXuEwUliKYQQJiYxMZGZM2dy8OBBkpOTS0xRbywn3Dt37nzotl27dq3ESAyr+FIzpqRoLOX9srOzsbKyMkBEhuXq6sq1a9cMHUalee6553B3d2fRokX88ccfANSpU4cvvviCbt26GTi6ynHs2DF++eWXUsufhTAESSyFEMLEjBs3jri4OF577TWjXjT79ddff6h2xjyRiykqSqQVCgVffvklNjY2utsKCws5efKkUZ+Inz9/vsS2O3fu8P333xv1cYO2HDYsLOyBbTZt2kSXLl2wtbWtoqgqT506dcjNzTV0GELoyBhLIYQwMcHBwfz00080bNjQ0KGIStK/f/+HLosrWkTdWBQtNXH48GGaNWumN+7M0tISHx8fRowYQa1atQwUYeVq0KABCoWiRCVCs2bN+OSTT/D39zdQZI+G5s2bs379evz8/AwdSrlFREQwZ84ck1tSRzy6pMdSCCFMjJeXV4mTTmFcjLX072EsX74cgPHjxzNx4kSTO7m+vwRcqVTi4uJikuW/pTGmz75Ro0YBmNySOuLRJT2WQghhYiIiIli8eDGTJk0qdX1DY3Xw4EGWLFnClStXAPD39+eFF16gbdu2Bo5MiKoXHh7OggULTGIip+KCg4PZsGGDUfRY/t2sr8a6pI54dEmPpRBCmJgxY8aQk5NDWFiYyUxR/+OPPzJt2jR69OjB0KFDAThx4gQvvfQS48eP5/nnnzdwhJUrPT2drVu3Eh0dzciRI3F2dubMmTO4ubnh6elp6PAqRVnrcyoUCiwtLalZsyZ9+/alTp06VRzZo+HWrVsUFBQYOgxRDpI4ikeNJJZCCGFiJkyYYOgQqtz8+fMZP348gwcP1tvevHlz5s2bZ9SJ5fnz5xk+fDgODg7ExMTw1FNP4ezszLZt24iLi2PWrFmGDrFS2Nvbs2PHDhwdHQkMDATgzJkzZGRk0K5dO7Zs2cL333/PkiVLCAkJMXC0Qvw76enprF69WleJUa9ePZ544olSl50RorJJYimEECZmwIABhg6hymVkZNChQ4cS29u1a8fs2bMNEFHVmTFjBgMGDGDs2LG69f0AOnbsyHvvvWfAyCqXm5sbffv25aOPPkKpVAKgVqv55JNPsLOz44svvuDjjz9m9uzZrFy50sDRCvHPnTp1ilGjRmFlZUWTJk0AWLx4MXPnzmXRokW6CypCVBWloQMQQghRtWJjYx/4Y4y6dOnC9u3bS2zfuXMnnTp1qvqAqtCpU6d45plnSmz39PQkISHBABFVjdWrV/PCCy/okkrQTmQzePBgfvnlFxQKBc8//zyXLl0yYJSiqvn4+GBubhz9KtOnT6dLly7s2rWLOXPmMGfOHHbu3Ennzp2ZNm2aocMTJsg43llCCCEeWpcuXR64FIUxziTo7+/PvHnziIyMpFmzZoB2jGVUVBTDhw9n2bJlurZFYzCNhaWlJZmZmSW2X79+HRcXFwNEVDUKCwu5evUqtWvX1tt+9epV1Go1AFZWVg+9LIv4b1CpVCQnJ+v+xkW8vb0B7TqWxuL06dNMmTJFL1E2Nzdn1KhRPPHEEwaMTJgqSSyFEMLErFu3Tu/3/Px8zp07x+LFixkzZoxhgqpkq1evxtHRkcuXL3P58mXddgcHB1avXq37XaFQGF1i2aVLF7799lu+/PJL3bbY2Fhmz55N9+7dDRdYJXv88ceZOHEiN2/eJCgoCNCeiM+bN4/HH38c0K51WbduXUOGKSrI9evXmTBhAseOHdPbbsxLb9jb2xMXF1dibdK4uDjs7OwMFJUwZbLciBBCCAD27NnDwoULdesACuOQkZHBW2+9xenTp8nKysLDw4PExESaNm3K999/j62traFDrBSFhYUsWLCA/2/v3oOiPM82gF+LsmrEqmjQ5SAIRgExglWDmraOSLQCgqfRDngANQ2KCtGkrqRpPERCigeCVTRTUSNqPBQ8IirOaFAUCxq0oOsEyRLBBESpsjSWhe8Phq3rksZ+7u4j73v9Zpwxz/v+cRFQ934O95Oeno7q6moAzecuIyIiMH/+fLRr1w4VFRWwsbFB7969Bad9McOHD8fJkydhb2//3Pd3Hj16FAEBAZL5/s+YMQPt27fH/Pnz4eDgYLIS7enpKSiZ5axZswanT5/GH/7wB8P56cLCQnz66ad46623EB8fLzghyQ0LSyIiAgB8++23CA0NxbVr10RHsaiWf/bktgWyoKAAN2/ehE6nw8CBA2V1f2fLVuCfK7baqqfvZvTy8sKFCxckvc25Nb6+vjh06JDJ6p2UPXnyBJ9++in27dsHvV4PoHkr7O9+9zssW7YMSqVScEKSGxaWREQy8+x5u6amJvzwww/YtGkTSktLcfjwYUHJLCszMxN//etfUVZWBgBwc3PD3LlzERYWJjSXNeTl5SEvLw/37983OXuWkJAgKBWZS2RkJKqrq+Hj44OMjAxMmDABHTp0aPVdqX6/p0yZArVajaFDh4qOYhV6vR6FhYXo378/lEoltFotAKBPnz7o1KmT4HQkVzxjSUQkM0OHDjVZrWtqaoJKpcL69esFpbKstLQ0JCcnIzw8HLGxsQCaV/A++ugjPHz4EHPmzBGaz5I2bdqEv/zlL/Dx8cGrr74qm5Xa6upqJCYmIi8vDzU1NXh2Hl1KZ+7+/Oc/Y8eOHdBqtVAoFHj06BF+/PFH0bEs7ulJsmXLliEpKQlxcXHo378/bG1tjd6V2mp1u3btEBUVhRMnTsDFxQUDBgwQHYmIK5ZERHKTn59v9N82Njbo3r07XF1dJdOG/1ljxozB4sWLTVYnMzIykJKSgrNnz4oJZgVvvvkmli1bJouV2afNmzcPlZWVCA8Ph4ODg8nzsWPHCkhleWPGjMGhQ4fQvXt30VEsztPT02iipKVRz9Ok3Lxn8uTJeO+99zBixAjRUYgAcMWSiEh2hg8fLjqC1VVVVRmaWzzNz89P0nc5As1df4cMGSI6htUVFBRgz5498PLyEh3FqqQ8SfKsp68JkqPY2FgkJiZiyZIlGDhwoEkjJqmt0tLLj4UlEZEMabVa7Ny5E9988w0AoF+/fpg1axb69OkjOJlluLq6IisrC++8847R+IkTJ+Dm5iYmlJVMnToVR48excKFC0VHsSqVSmWy/VUu8vPzsX37dsOfbw8PD8ybN09y5w+fniSrqKiASqVqdcWysrLS2tGs4u233wYAREdHt7pyK8VVWnq5cSssEZHMfPXVV4iOjoaXl5dhJauwsBA3b95EamoqRo0aJTih+WVnZyMuLg4jRoww+povXbqEjRs3IjAwUHBC83q6QUtjYyMyMzMxYMAADBgwwGS7s1qttnY8q8jNzUVaWhpWrlwJZ2dn0XGs5vDhw1ixYgUCAwONftbPnDmDhIQEhISECE5oGV5eXsjNzUWPHj2Mxh88eICRI0dKssh69ljDs+S4O4XEYmFJRCQzYWFhhnN3T0tKSsKFCxeQkZEhKJll3bhxAzt27EBpaSkAwN3dHVFRUfD29haczPxmzpz5XO8pFArJbiccNmwY6uvrodfr0bFjR5NmLj/3obyt+u1vf4vp06ebNKRKS0vD/v37kZWVJSaYhXl6euLixYsm16zcvXsXQUFBkrlGKSYmBp988gns7OyQmZmJCRMm8FoRemmwsCQikplBgwbh6NGjJltA79y5g4kTJ+L69etighGZ0c9NkEyaNMlKSazLx8cHx48fh6urq9H4t99+i+DgYMn9+W5Znd+1axemTZtmdNWGXq9HUVERbGxssG/fPlERzcrHxwdnz56Fg4PDT67SEonCM5ZERDJjb2+PkpISk8KypKRE0h9QtFotDh06hO+++w4rVqxAjx49cO7cOTg6OuK1114THY/MTKqF489RqVTIy8szKSwvXrwIlUolKJXlFBcXA2g+V6jRaIxWppVKJTw9PREVFSUqntn17dsX69evxxtvvIGmpiZkZWX9ZJMeuXWCJvG4YklEJDObNm3Czp07MX/+fKMzWJ9//jnmzJkjySYv+fn5hq/3ypUryMrKgouLC7Zt24YbN27gs88+Ex2RLKBlMqG8vBzx8fGymEzYs2cP1q5diylTphg6IRcWFiIjIwPx8fGYMWOG4ISWoVarER8fL/lOqIWFhfjkk0+g1WpRW1uLzp07t3o3rUKhkOx2b3p5sbAkIpKZpqYm7Ny5E9u3b8cPP/wAAHBwcMDcuXMxa9asVj+ktHXTp0/H+PHjERkZCT8/Pxw5cgQuLi4oKipCTEwMzp8/LzoimZmcJxNOnz6N7du3G50nnjt3rmTv7pQrT09PXLhwQdI7Taht4VZYIiIZyMnJwa9//WvY2tpCoVBgzpw5mDNnDh4/fgxA+vedaTQaJCUlmYzb29vjwYMHAhKRpa1btw6xsbGGyYQW/v7+2L17t8BklhcYGPiznY6PHTuGMWPGmNx92FbFxMS0Oq5QKKBUKuHq6org4GC4u7tbOZnl5OTkmDQras1HH32ExYsXP9e7RC/CRnQAIiKyvJiYGDx69AhAc1v++/fvA2guKKVeVAJAly5dUFVVZTJeUlKCXr16CUhElqbRaFpdoeNkQrMPP/zQ8PeAFNjZ2eHSpUsoLi6GQqGAQqFAcXExLl26BL1ejxMnTiA0NBQFBQWio5qNk5PTc+0wOXLkCOrq6qyQiOSOhSURkQzY29sb2u23XJ4tJ0FBQUhKSkJVVRUUCgUaGxtRUFCAxMRENriQKE4m/HdSOwnVs2dPBAcH48yZM0hJSUFKSgrOnDmDiRMnok+fPsjKysKkSZNa3bkgdVL7XtPLi4UlEZEMzJgxAwsWLICXlxcUCgVGjRoFLy+vVn9JUVxcHNzd3TF69GjodDoEBQUhIiICfn5+iI6OFh2PLICTCfJy8OBBzJ49GzY2//loa2Njg4iICHz55ZdQKBQIDw/H7du3BaYkkjaesSQikoFFixZhwoQJ0Gq1iI6ORkJCArp06SI6ltUolUqsWbMGCxYswO3bt1FXVwdvb2+TK1dIOuLi4rBq1SqMHj0aer0eQUFBaGhoQEhICCcTJEiv16O0tBR9+/Y1Gi8tLUVjYyMAoEOHDrLbrUFkTSwsiYhkwsPDAx4eHoiJicH48eONLhJvTUFBAQYNGgSlUmmlhJbn6OhouMuPHzClrWUyYeHChdBoNJxMkLjQ0FDEx8ejvLwcPj4+AIAbN24gNTUVoaGhAIArV66gX79+ImMSSRqvGyEiolYNGTIEhw8fhouLi+goZnHgwAHs3LkTZWVlAAA3NzfMnj0b06ZNExuMzCYhIeG531Wr1RZM8vJ7+todKdDr9di2bRvS09NRXV0NoPncZUREBObPn4927dqhoqICNjY26N27t+C01iW17zW9vLhiSURErZLSvGNycjJ27NiBiIgI+Pr6AgCuXbuGtWvXoqKiAkuWLBEbkMyiuLj4ud7janVzR9H27aXzMbBdu3aIjo5GdHT0T16j5OjoKCKacBMnTkTnzp1FxyAZ4IolERG1Skqz3P7+/vjggw8QHBxsNH7s2DGsXr0aly9fFpSMyDKePHmCmpoaw/nCFnItrqTq73//O/bt24fy8nJ89tln6NWrFzIzM+Hs7IyhQ4eKjkcyI52pKiIiop/Q0NBgOHf1tIEDB0Kv1wtIRGQZZWVlWLFiBa5evWo03nLNUElJiaBkllVdXY3ExETk5eWhpqbGZMeFFL/u7OxsvP/++wgJCUFxcTGePHkCAHj8+DG2bt3KwpKsjoUlERFJXmhoKPbu3Wtyrm7//v0ICQkRlIrI/JYvX4727dsjNTUVDg4Ostn2u3z5clRWVmLBggVwcHAQHccqtmzZgpUrVyIsLAzHjx83jA8ZMgRbtmwRmIzkioUlERG1SmofSA8ePIgLFy5g8ODBAICioiJUVFQgLCzMqOmL3Ju6UNt28+ZNHDp0CB4eHqKjWFVBQQH27Nkj2bt4W3Pnzp1WVyW7dOmCf/7znwISkdyxsCQiolZJ6Qi+RqOBt7c3AECr1QIAunXrhm7dukGj0Rjek1oxTfLj4eGBBw8eiI5hdSqVSlJ/Zz2Pnj17QqvVwtnZ2Wi8oKBAEmfjqe1h8x4iIhlqaGhAfn4+tFotgoODYWdnh++//x52dnay7h547949ODg4wMbGRnQUoufW0gUVAK5fv47k5GTExcWhf//+sLW1NXr32U6pUpGbm4u0tDSsXLnSpNCSqq1bt+LIkSNYu3YtIiMjsW3bNlRUVCAhIQELFizAzJkzRUckmWFhSUQkM3fv3sW8efNQWVmJJ0+eIDs7Gy4uLlizZg2ePHmCVatWiY4ojNTu7iR58PT0NFptb2nU8zSpN+8ZNmwY6uvrodfr0bFjR5OCOj8/X1Ayy2lqakJqaiq2bduG+vp6AIBSqURUVBRiY2PFhiNZ4lZYIiKZ+fjjj+Hj44PDhw/jjTfeMIwHBgbij3/8o8Bk4nGuldqiXbt2iY4g3IoVK0RHsDqFQoHo6GjMnTsXWq0WOp0OHh4est51QmKxsCQikpmCggLs3bsXSqXSaNzJyQnff/+9oFRE9P81fPhww+8rKiqgUqlaXbGsrKy0djSrmTRpkugIVqdWqxEfHw87Ozv069fPMK7T6bB69WqjpmRE1sBDJEREMtPY2GhyaTrQfL6QM91EbVtAQABqampMxh8+fIiAgAABiaxHq9Viw4YNePfdd3H//n0AwLlz53D79m3BySwjMzMTP/74o8n4v/71Lxw+fFhAIpI7FpZERDIzatQo7Ny502isrq4OKSkp+M1vfiMoFRGZQ2vnK4HmVawOHToISGQd+fn5CAkJQVFREU6dOgWdTgcAuHXrFlJSUgSnM6/Hjx/j0aNHaGpqQl1dHR4/fmz4VVtbi/Pnz8Pe3l50TJIhboUlIpKZ5cuXY+7cuZgwYQKePHmCZcuWoaysDN27d8f69etFxxOK141QW9Wy7VGhUGDjxo3o1KmT4Zler0dRURE8PT1FxbO4devWITY2FpGRkfDz8zOM+/v7Y/fu3QKTmd/QoUOhUCigUCgwbtw4k+cKhQKLFi0SkIzkjoUlEZHM9O7dG4cPH8bx48dx69Yt6HQ6TJ06FSEhIejYsaPoeEKxeQ+1VcXFxQCaf4Y1Go1RV1SlUglPT09ERUWJimdxGo0GSUlJJuP29vaSu9dz165daGpqwuzZs5GSkoKuXbsantna2sLR0RG9evUSmJDkioUlEZEMtW/fHqGhoaJjvHROnDgBBwcH0TGI/mdffPEFAOOGLnLSpUsXVFVVmVwVVFJSIrkiq6VZU05ODlQqFe/dpZcGC0siIhnIycl57nel0uAjJibmud/dtGkTAEClUlkqDpFVyLUTaFBQEJKSkpCcnAyFQoHGxkYUFBQgMTERYWFhouNZhJOTEwCgvr4eFRUV+Pe//230XMpbn+nlxMKSiEgGFi5c+FzvSekC9S5duoiOQGR1PzWholAooFQq4erqiuDgYLi7u1s5mWXFxcVh1apVGD16NPR6PYKCgtDQ0ICQkBBER0eLjmcRNTU1UKvVOH/+fKvPpfJ3ObUdiiYeKCEiIiKShOXLl+PMmTP4xS9+gYEDBwIA/vGPf+DRo0cYNWoUbt68ibt372LHjh345S9/KTit+VVWVkKj0aCurg7e3t5wc3MTHclili5dioqKCqxYsQKzZs3Cpk2bUF1djS1btmD58uUYPXq06IgkM1yxJCIiIpKInj17Ijg4GB9++KHh7F1jYyM+/vhjdO7cGRs2bMCf/vQnJCUlYe/evYLTvpif2/b79ddfG36vVqstHcfqLl++jM2bN2PQoEFQKBRwdHTEqFGjYGdnh61bt7KwJKtjYUlEJEN5eXnYsWMHvvnmGwCAh4cHZs+ejZEjRwpOZjknT55EVlYWKisrTc4iZWRkCEpFZF4HDx7E3r17jRq62NjYICIiAjNmzMC7776L8PBwhIeHC0xpHi2dcH+OVK8R0ul0hvsqu3btipqaGvTt2xf9+/d/7v83RObEwpKISGbS09Oxdu1ajBs3DrNmzQLQPLP/9ttvQ61WS+ID57N27dqFDRs2YPLkycjJycHkyZNRXl6O69evS/LrJfnS6/UoLS1F3759jcZLS0vR2NgIAOjQoYMkiq2WTrhy1bdvX9y5cwfOzs4YMGAAvvzySzg7O2Pfvn149dVXRccjGWJhSUQkM1u3boVarUZERITR+JAhQ5CamirJQmvPnj1YvXo1goOD8be//Q3z58+Hi4sLkpOTUVtbKzoekdmEhoYiPj4e5eXl8PHxAQDcuHEDqamphiuGrly5gn79+omMSWYwa9YsVFVVAWhu2jRv3jwcOXIEtra2SExMFJyO5IjNe4iIZMbPzw+ZmZlwdXU1Gi8rK8OkSZNw9epVQcksZ/DgwThx4gScnJwwYsQIpKWlwdPTE2VlZZg+fTouX74sOiKRWej1emzbtg3p6emorq4G0HzuMiIiAvPnz0e7du1QUVEBGxsb9O7dW3BaMqf6+nqUlpZCpVIZtsgSWRNXLImIZGbMmDE4ffo05s2bZzSek5Mj2WYPPXv2RG1tLZycnKBSqXDt2jV4enriu+++A+dXSUratWuH6OhoREdH4/HjxwAAOzs7o3ccHR1FRCMz+F/uKZViwyJ6ubGwJCKSGQ8PD6SmpiI/Px++vr4Ams9YFhYWIjIyErt27TK823IGs63z9/fH2bNn4e3tjSlTpiAhIQHZ2dm4ceMGAgMDRccjsohnC0pq+55tylNcXAy9Xm84U1tWVgYbGxvDVTNE1sStsEREMjNmzJjnek+hUCAnJ8fCaayjsbERjY2NaN++eT71+PHjuHr1KlxdXTF9+nQolUrBCYnMo7q6GomJicjLy0NNTY3JinxJSYmgZGRuaWlpuHz5MhITE9G1a1cAQG1tLdRqNYYOHYqoqCjBCUluWFgSEZHkVVRUQKVSmXTCbGpqQmVlJbcGkmTMmzcPlZWVCA8Ph4ODg8nzsWPHCkhFlvCrX/0K27dvx2uvvWY0rtFoEBUVhdzcXEHJSK64FZaISMZa5halcPXAfxMQEIDc3Fz06NHDaPzhw4cICAjgKg5JRkFBAfbs2QMvLy/RUcjCHj9+jJqaGpPxmpoa1NXVCUhEcmfz868QEZHUZGZmIiQkBK+//jpef/11hISEIDMzU3Qsi2lqamq1eNbpdOjQoYOARESWoVKp2JBKJgIDA6FWq3Hq1Cncu3cP9+7dQ3Z2NuLj4/HWW2+JjkcyxK2wREQyk5aWhuTkZISHh2PIkCEA/rPKERsbizlz5ogNaEYtHRR37dqFadOmoVOnToZner0eRUVFsLGxwb59+0RFJDKr3NxcpKWlYeXKlXB2dhYdhyyovr4eiYmJOHToEBoaGgA0dwWeOnUq3n//fbzyyiuCE5LcsLAkIpKZMWPGYPHixQgLCzMaz8jIQEpKCs6ePSsmmAXMnDkTQPOF8L6+vrC1tTU8UyqVcHJyQlRUFNzc3AQlJDKvYcOGob6+Hnq9Hh07djT6mQeA/Px8QcnIUnQ6HbRaLQCgT58+LChJGJ6xJCKSmaqqKvj5+ZmM+/n5oaqqSkAiy/niiy8ANN/nFh8fz+sXSPJWrFghOgJZ2SuvvAJPT0/RMYi4YklEJDfBwcEIDg7GO++8YzS+efNmZGVl4ejRo4KSWce9e/cAAL179xachIiISDq4YklEJDOLFi1CXFwcrly5YjhjWVhYiEuXLmHjxo1iw1lIY2MjNm/ejLS0NOh0OgBA586dERkZiejoaNjYsJcdSYdWq8WhQ4dQXl6O+Ph49OjRA+fOnYOjo6PJ1RRERObCf0mJiGRm3Lhx2L9/P7p3746cnBzk5OSge/fuOHDgAAIDA0XHs4gNGzYgPT0dS5cuRUZGBjIyMhAXF4fdu3cjOTlZdDwis8nPz0dISAiKiopw6tQpw0TKrVu3kJKSIjgdEUkZt8ISEZHkvfnmm1i5ciUCAgKMxs+cOYOVK1fiq6++EpSMyLymT5+O8ePHIzIyEn5+fjhy5AhcXFxQVFSEmJgYnD9/XnREIpIorlgSEcmQVqvFhg0bsHTpUty/fx8AcO7cOdy+fVtwMsuora2Fu7u7ybi7uztqa2sFJCKyDI1Gg7Fjx5qM29vb48GDBwISEZFcsLAkIpKZp7fKZWdny2KrnKenJ9LT003G09PT2U2RJKVLly6tdncuKSlBr169BCQiIrlg8x4iIplZt24dYmNjDVvlWvj7+2P37t0Ck1nOe++9h9///ve4ePEifH19AQDXrl1DZWUlPv/8c7HhiMwoKCgISUlJSE5OhkKhQGNjIwoKCpCYmGhydy0RkTlxxZKISGbkuFXO2dkZJ0+eRGBgIB49eoRHjx4hMDAQJ0+ehKOjo+h4RGYTFxcHd3d3jB49GjqdDkFBQQgPD4efnx+io6NFxyMiCeOKJRGRzLRslXNxcTEal/JWuYCAAOTm5iIuLs5o/MGDBxg5ciRKSkoEJSMyL6VSiTVr1mDhwoXQaDSoq6uDt7c33NzcREcjIoljYUlEJDNy3Cr3Uw3QdTodOnToYOU0ROaVkJDwX59//fXXht+r1WpLxyEimWJhSUQkM3FxcVi1ahVGjx4NvV6PoKAgNDQ0ICQkRHJb5Vo+cCsUCiQnJ6NTp06GZ3q9HkVFRWzeQ21ecXHxc72nUCgsnISI5Iz3WBIRyVRlZSU0Gg10Oh28vb3h6uoqOpLZzZw5EwBw5coV+Pr6wtbW1vBMqVTCyckJUVFR3CZIRET0glhYEhHJ0IEDB7Bz506UlZUBANzc3DB79mxMmzZNbDALUavViI+Ph52dnegoREREksTCkohIZpKTk7Fjxw5EREQYXb2xe/duzJkzB0uWLBEbkIiIiNocFpZERDLj7++PDz74AMHBwUbjx44dw+rVq3H58mVByYiIiKit4j2WREQy09DQAB8fH5PxgQMHQq/XC0hEREREbR0LSyIimQkNDcXevXtNxvfv34+QkBABiYiIiKit41ZYIiKZWb16NTIzM6FSqTB48GAAQFFRESoqKhAWFob27f9zExXvvCMiIqLnwXssiYhkRqPRwNvbGwCg1WoBAN26dUO3bt2g0WgM7/HOOyIiInpeXLEkIiIiIiKiF8IzlkRERERERPRCWFgSERERERHRC2FhSURERERERC+EhSURERERERG9EBaWRERERERE9EJYWBIREREREdELYWFJREREREREL+T/AK8cSd1EOJO1AAAAAElFTkSuQmCC"
     },
     "metadata": {},
     "output_type": "display_data"
    }
   ],
   "source": [
    "# Coorelation Matrix\n",
    "\n",
    "drop_na_df = numeric_df[numeric_df['score'] != 'NULL']\n",
    "\n",
    "fig1 = plt.figure(figsize=(10, 10))\n",
    "ax1 = fig1.add_subplot(111)\n",
    "\n",
    "cmap = sns.diverging_palette(0, 255, n=256, as_cmap=True)\n",
    "\n",
    "sns.heatmap(data=drop_na_df.corr(), ax=ax1, cmap=cmap, annot=True)\n",
    "\n",
    "plt.show()"
   ],
   "metadata": {
    "id": "pqJuM4y_VpNU",
    "colab": {
     "base_uri": "https://localhost:8080/",
     "height": 1000
    },
    "outputId": "7165560b-eb05-4ae3-eff5-103828b98971",
    "ExecuteTime": {
     "end_time": "2023-09-01T01:20:04.672430732Z",
     "start_time": "2023-09-01T01:20:04.260517031Z"
    }
   }
  },
  {
   "cell_type": "code",
   "execution_count": 15,
   "outputs": [
    {
     "data": {
      "text/plain": "<Figure size 1000x1000 with 1 Axes>",
      "image/png": "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"
     },
     "metadata": {},
     "output_type": "display_data"
    }
   ],
   "source": [
    "fig2 = plt.figure(figsize=(10, 10))\n",
    "ax2 = fig2.add_subplot(111)\n",
    "\n",
    "sns.boxplot(data=numeric_df, x='isBarbie', y='date_from_release', ax=ax2)\n",
    "\n",
    "plt.show()"
   ],
   "metadata": {
    "id": "h-WV-jGeVpNV",
    "colab": {
     "base_uri": "https://localhost:8080/",
     "height": 850
    },
    "outputId": "2bd4dff2-af0e-4892-f493-d35b5dd22d3e",
    "ExecuteTime": {
     "end_time": "2023-09-01T01:20:04.863853365Z",
     "start_time": "2023-09-01T01:20:04.676208779Z"
    }
   }
  },
  {
   "cell_type": "code",
   "execution_count": 16,
   "outputs": [
    {
     "data": {
      "text/plain": "<Figure size 800x800 with 1 Axes>",
      "image/png": "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"
     },
     "metadata": {},
     "output_type": "display_data"
    },
    {
     "data": {
      "text/plain": "<Figure size 800x800 with 1 Axes>",
      "image/png": "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"
     },
     "metadata": {},
     "output_type": "display_data"
    }
   ],
   "source": [
    "group_by = df.groupby('isBarbie')\n",
    "for movie_id, group_data in group_by:\n",
    "    plt.figure(figsize=(8, 8))\n",
    "    plt.hist(group_data['score'], edgecolor='black')\n",
    "    plt.title(f'Score Distribution for isBarbie: {movie_id}')\n",
    "    plt.xlabel('Score')\n",
    "    plt.ylabel('Frequency')\n",
    "    plt.show()"
   ],
   "metadata": {
    "id": "FdPvynH0VpNV",
    "colab": {
     "base_uri": "https://localhost:8080/",
     "height": 1000
    },
    "outputId": "892d3894-4a85-49ad-d02a-e2183216e63e",
    "ExecuteTime": {
     "end_time": "2023-09-01T01:20:05.127842771Z",
     "start_time": "2023-09-01T01:20:04.791581123Z"
    }
   }
  },
  {
   "cell_type": "code",
   "source": [
    "textdata = df[['review', 'title', 'isBarbie']]\n",
    "textdata"
   ],
   "metadata": {
    "id": "7Fk9W7nCxxb9",
    "colab": {
     "base_uri": "https://localhost:8080/",
     "height": 419
    },
    "outputId": "8b4c1dc4-50d9-4835-fca6-0803f607ba7e",
    "ExecuteTime": {
     "end_time": "2023-09-01T01:20:05.211329542Z",
     "start_time": "2023-09-01T01:20:05.133836471Z"
    }
   },
   "execution_count": 17,
   "outputs": [
    {
     "data": {
      "text/plain": "                                                 review  \\\n0     I'm just going to get straight to the point: I...   \n1     Margot does the best with what she's given, bu...   \n2     Barbie begins in an irresistible way, as a fun...   \n3                                     Warning: Spoilers   \n4     Wow, this movie was a love letter to cinema. F...   \n...                                                 ...   \n2792  Loved the movie, loved the actors efforts. Aft...   \n2793  I suppose these reviews are tweaked, otherwise...   \n2794  Ok let me start by the obvious ratings which w...   \n2795  Acting was tremendous and the true story behin...   \n2796  Totally underwhelmed with Oppenheimer.\\n\\nEnri...   \n\n                                                  title  isBarbie  \n0                    Creative but preachy and confusing         1  \n1                        Beautiful film, but so preachy         1  \n2     Clever and fun beginning turns into another le...         1  \n3                                     It was depressing         1  \n4                                   A Technicolor Dream         1  \n...                                                 ...       ...  \n2792         Huge story, but production fails sometimes         0  \n2793                                            Tweaked         0  \n2794                  Just a 6 for a near perfect film.         0  \n2795                              No need to be 3 hours         0  \n2796                                      Disappointing         0  \n\n[2796 rows x 3 columns]",
      "text/html": "<div>\n<style scoped>\n    .dataframe tbody tr th:only-of-type {\n        vertical-align: middle;\n    }\n\n    .dataframe tbody tr th {\n        vertical-align: top;\n    }\n\n    .dataframe thead th {\n        text-align: right;\n    }\n</style>\n<table border=\"1\" class=\"dataframe\">\n  <thead>\n    <tr style=\"text-align: right;\">\n      <th></th>\n      <th>review</th>\n      <th>title</th>\n      <th>isBarbie</th>\n    </tr>\n  </thead>\n  <tbody>\n    <tr>\n      <th>0</th>\n      <td>I'm just going to get straight to the point: I...</td>\n      <td>Creative but preachy and confusing</td>\n      <td>1</td>\n    </tr>\n    <tr>\n      <th>1</th>\n      <td>Margot does the best with what she's given, bu...</td>\n      <td>Beautiful film, but so preachy</td>\n      <td>1</td>\n    </tr>\n    <tr>\n      <th>2</th>\n      <td>Barbie begins in an irresistible way, as a fun...</td>\n      <td>Clever and fun beginning turns into another le...</td>\n      <td>1</td>\n    </tr>\n    <tr>\n      <th>3</th>\n      <td>Warning: Spoilers</td>\n      <td>It was depressing</td>\n      <td>1</td>\n    </tr>\n    <tr>\n      <th>4</th>\n      <td>Wow, this movie was a love letter to cinema. F...</td>\n      <td>A Technicolor Dream</td>\n      <td>1</td>\n    </tr>\n    <tr>\n      <th>...</th>\n      <td>...</td>\n      <td>...</td>\n      <td>...</td>\n    </tr>\n    <tr>\n      <th>2792</th>\n      <td>Loved the movie, loved the actors efforts. Aft...</td>\n      <td>Huge story, but production fails sometimes</td>\n      <td>0</td>\n    </tr>\n    <tr>\n      <th>2793</th>\n      <td>I suppose these reviews are tweaked, otherwise...</td>\n      <td>Tweaked</td>\n      <td>0</td>\n    </tr>\n    <tr>\n      <th>2794</th>\n      <td>Ok let me start by the obvious ratings which w...</td>\n      <td>Just a 6 for a near perfect film.</td>\n      <td>0</td>\n    </tr>\n    <tr>\n      <th>2795</th>\n      <td>Acting was tremendous and the true story behin...</td>\n      <td>No need to be 3 hours</td>\n      <td>0</td>\n    </tr>\n    <tr>\n      <th>2796</th>\n      <td>Totally underwhelmed with Oppenheimer.\\n\\nEnri...</td>\n      <td>Disappointing</td>\n      <td>0</td>\n    </tr>\n  </tbody>\n</table>\n<p>2796 rows × 3 columns</p>\n</div>"
     },
     "execution_count": 17,
     "metadata": {},
     "output_type": "execute_result"
    }
   ]
  },
  {
   "cell_type": "code",
   "source": [
    "from sklearn.model_selection import train_test_split\n",
    "\n",
    "X_train, X_test, y_train, y_test = train_test_split(textdata.drop(columns = ['isBarbie', 'title']), textdata['isBarbie'], stratify=textdata['isBarbie'])"
   ],
   "metadata": {
    "id": "NjCRYI-Edvsy",
    "ExecuteTime": {
     "end_time": "2023-09-01T01:20:05.405013263Z",
     "start_time": "2023-09-01T01:20:05.176005164Z"
    }
   },
   "execution_count": 18,
   "outputs": []
  },
  {
   "cell_type": "code",
   "source": [
    "import tensorflow as tf\n",
    "import tensorflow_hub as hub\n",
    "# !pip install tensorflow_text\n",
    "import tensorflow_text as text\n",
    "\n",
    "bert_encoder = hub.KerasLayer(\"https://tfhub.dev/tensorflow/bert_en_uncased_L-12_H-768_A-12/4\")\n",
    "bert_preprocess = hub.KerasLayer(\"https://tfhub.dev/tensorflow/bert_en_uncased_preprocess/3\")"
   ],
   "metadata": {
    "id": "AVr-8aGPkAfV",
    "colab": {
     "base_uri": "https://localhost:8080/"
    },
    "outputId": "71ceb537-32c1-4078-dee2-99fcb7fe0958",
    "ExecuteTime": {
     "start_time": "2023-09-01T01:31:14.721861676Z"
    }
   },
   "execution_count": null,
   "outputs": []
  },
  {
   "cell_type": "code",
   "source": [
    "from keras.layers import Dense, Input\n",
    "from keras.optimizers import SGD\n",
    "from keras.optimizers import Adam\n",
    "\n",
    "# BERT layers\n",
    "text_input = Input(shape=(), dtype=tf.string)\n",
    "preprocessed_text = bert_preprocess(text_input)\n",
    "outputs = bert_encoder(preprocessed_text)\n",
    "\n",
    "# Neural network layers\n",
    "l = tf.keras.layers.Dropout(0.1, name=\"dropout\")(outputs['pooled_output'])\n",
    "l = Dense(1, activation='sigmoid')(l)\n",
    "\n",
    "# Use inputs and outputs to construct a final model\n",
    "model = tf.keras.Model(inputs=[text_input], outputs = [l])\n",
    "\n",
    "model.compile(optimizer = Adam(learning_rate = 0.2), loss = 'binary_crossentropy', metrics = ['accuracy'])\n",
    "\n",
    "history = model.fit(X_train, y_train, batch_size = 64, epochs = 5)"
   ],
   "metadata": {
    "colab": {
     "base_uri": "https://localhost:8080/"
    },
    "id": "fAPZNgRjvjSV",
    "outputId": "866b3766-4722-499d-c29e-dee2f0102f7e",
    "ExecuteTime": {
     "end_time": "2023-09-01T01:59:10.650213517Z",
     "start_time": "2023-09-01T01:44:19.210355325Z"
    }
   },
   "execution_count": 26,
   "outputs": [
    {
     "name": "stdout",
     "output_type": "stream",
     "text": [
      "Epoch 1/5\n",
      "33/33 [==============================] - 181s 5s/step - loss: 8.8569 - accuracy: 0.6314\n",
      "Epoch 2/5\n",
      "33/33 [==============================] - 186s 6s/step - loss: 1.2425 - accuracy: 0.7515\n",
      "Epoch 3/5\n",
      "33/33 [==============================] - 177s 5s/step - loss: 0.8234 - accuracy: 0.7892\n",
      "Epoch 4/5\n",
      "33/33 [==============================] - 171s 5s/step - loss: 0.5825 - accuracy: 0.8250\n",
      "Epoch 5/5\n",
      "33/33 [==============================] - 176s 5s/step - loss: 0.6050 - accuracy: 0.8255\n"
     ]
    }
   ]
  },
  {
   "cell_type": "code",
   "source": [
    "yhat_test = model.predict(X_test)\n",
    "yhat_test = [1  if y >= 0.5 else 0 for y in yhat_test]\n",
    "series = pd.Series(yhat_test)\n",
    "series.value_counts()"
   ],
   "metadata": {
    "colab": {
     "base_uri": "https://localhost:8080/"
    },
    "id": "pKcmvpFhD7TV",
    "outputId": "a7a80c8c-206d-4fc4-f34c-a1903395b749",
    "ExecuteTime": {
     "end_time": "2023-09-01T02:02:34.348118374Z",
     "start_time": "2023-09-01T02:01:34.516856509Z"
    }
   },
   "execution_count": 27,
   "outputs": [
    {
     "name": "stdout",
     "output_type": "stream",
     "text": [
      "22/22 [==============================] - 60s 3s/step\n"
     ]
    },
    {
     "data": {
      "text/plain": "0    578\n1    121\nName: count, dtype: int64"
     },
     "execution_count": 27,
     "metadata": {},
     "output_type": "execute_result"
    }
   ]
  },
  {
   "cell_type": "code",
   "source": [
    "print(y_train.value_counts())\n",
    "(textdata['isBarbie'].value_counts())"
   ],
   "metadata": {
    "colab": {
     "base_uri": "https://localhost:8080/"
    },
    "id": "PHcKK9H0HUfh",
    "outputId": "4de6c224-9eb5-4167-c002-aff6eef6bad1",
    "ExecuteTime": {
     "end_time": "2023-09-01T02:02:53.752217251Z",
     "start_time": "2023-09-01T02:02:53.741851230Z"
    }
   },
   "execution_count": 28,
   "outputs": [
    {
     "name": "stdout",
     "output_type": "stream",
     "text": [
      "isBarbie\n",
      "0    1509\n",
      "1     588\n",
      "Name: count, dtype: int64\n"
     ]
    },
    {
     "data": {
      "text/plain": "isBarbie\n0    2012\n1     784\nName: count, dtype: int64"
     },
     "execution_count": 28,
     "metadata": {},
     "output_type": "execute_result"
    }
   ]
  },
  {
   "cell_type": "code",
   "source": [
    "from sklearn.metrics import confusion_matrix\n",
    "\n",
    "cm = confusion_matrix(y_test, yhat_test)\n",
    "cm"
   ],
   "metadata": {
    "colab": {
     "base_uri": "https://localhost:8080/"
    },
    "id": "x40VPgPsG-z1",
    "outputId": "1f4e1c94-5a58-482e-d07e-35aa6fda8773",
    "ExecuteTime": {
     "end_time": "2023-09-01T02:02:57.020234597Z",
     "start_time": "2023-09-01T02:02:57.006892419Z"
    }
   },
   "execution_count": 29,
   "outputs": [
    {
     "data": {
      "text/plain": "array([[497,   6],\n       [ 81, 115]])"
     },
     "execution_count": 29,
     "metadata": {},
     "output_type": "execute_result"
    }
   ]
  },
  {
   "cell_type": "code",
   "source": [
    "from sklearn.metrics import classification_report\n",
    "\n",
    "print(classification_report(y_test, yhat_test))"
   ],
   "metadata": {
    "colab": {
     "base_uri": "https://localhost:8080/"
    },
    "id": "CTTHdMQ1H6NC",
    "outputId": "4e429e0d-de48-4d73-d2f2-7b7f0f722396",
    "ExecuteTime": {
     "end_time": "2023-09-01T02:02:59.694608042Z",
     "start_time": "2023-09-01T02:02:59.682868960Z"
    }
   },
   "execution_count": 30,
   "outputs": [
    {
     "name": "stdout",
     "output_type": "stream",
     "text": [
      "              precision    recall  f1-score   support\n",
      "\n",
      "           0       0.86      0.99      0.92       503\n",
      "           1       0.95      0.59      0.73       196\n",
      "\n",
      "    accuracy                           0.88       699\n",
      "   macro avg       0.91      0.79      0.82       699\n",
      "weighted avg       0.89      0.88      0.87       699\n"
     ]
    }
   ]
  }
 ]
}
