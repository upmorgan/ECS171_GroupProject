{
 "nbformat": 4,
 "nbformat_minor": 0,
 "metadata": {
  "colab": {
   "provenance": []
  },
  "kernelspec": {
   "name": "python3",
   "language": "python",
   "display_name": "Python 3 (ipykernel)"
  },
  "language_info": {
   "name": "python"
  }
 },
 "cells": [
  {
   "cell_type": "code",
   "execution_count": 190,
   "metadata": {
    "id": "Mu0k0HsY6eDQ",
    "ExecuteTime": {
     "end_time": "2023-08-25T03:32:02.536791750Z",
     "start_time": "2023-08-25T03:32:01.806296707Z"
    }
   },
   "outputs": [],
   "source": [
    "import pandas as pd\n",
    "\n",
    "df_bb = pd.read_csv('./data/imdb_barbie_Uncleaned.csv', header=None)\n",
    "df_op = pd.read_csv('./data/imdb_oppenhimmer_Uncleaned.csv', header=None)"
   ]
  },
  {
   "cell_type": "markdown",
   "source": [
    "# Regular Expression"
   ],
   "metadata": {
    "collapsed": false
   }
  },
  {
   "cell_type": "code",
   "execution_count": 191,
   "outputs": [],
   "source": [
    "import re\n",
    "\n",
    "score_Reg = '(\\d{1,2})\\/\\d{1,2}\\s.*\\s'\n",
    "title_Reg = '\\d{1,2}\\/\\d{1,2}\\s(\\..*)'\n",
    "people_found_helpful_Reg = '([\\d,]*) out of ([\\d,]*) found this helpful'\n",
    "username_Reg = '\\d{1,2}\\/\\d{1,2}\\s.*\\s([A-Za-z0-9_-]+)\\d{2}\\s[January|February|March|April|June|July|August|September|October|November|December]'\n",
    "date_Reg = '(\\d{1,2}\\s\\w+\\s\\d{4})'\n",
    "review_Reg = '\\d{1,2}\\s\\w+\\s\\d{4}\\s([\\s\\S]*)\\s[\\d,]* out of [\\d,]* found this helpful'"
   ],
   "metadata": {
    "collapsed": false,
    "ExecuteTime": {
     "end_time": "2023-08-25T03:32:02.580497059Z",
     "start_time": "2023-08-25T03:32:02.579487778Z"
    }
   }
  },
  {
   "cell_type": "code",
   "execution_count": 192,
   "outputs": [
    {
     "name": "stdout",
     "output_type": "stream",
     "text": [
      "Honestly - not funny and light enough\n",
      "imdbmovieguy21 July 2023\n",
      "I really enjoyed the first 20 minutes of the movie. It was very upbeat, positive and light. However, things soon became negative about 20 - 25 minutes into the movie. I couldn't stand it. Barbie's world and attitude was a constant bummer. Ken's attitude was sour. For the next hour (and more) the movie just lived in negativity.\n",
      "\n",
      "I bought tickets to this show a month ago. And, I saw it the day before the official opening day. I was very excited about this movie. And, I was playing the music (Dua Lipa) song almost every day. I was really excited for this movie - and was looking forward to something very positive. But, the vast majority of the movie was the \"conflict\" part of the writing. It was just too much! The movie didn't need to go that way, that far, that fast. I would have preferred a more shallow and fun Barbie movie vs. This Barbie movie filled with over an hour of conflict.\n",
      "358 out of 799 found this helpful. Was this review helpful? Sign in to vote.\n",
      "Permalink\n",
      "[]\n",
      "[]\n",
      "[]\n",
      "['21 July 2023']\n",
      "[('358', '799')]\n",
      "['I really enjoyed the first 20 minutes of the movie. It was very upbeat, positive and light. However, things soon became negative about 20 - 25 minutes into the movie. I couldn\\'t stand it. Barbie\\'s world and attitude was a constant bummer. Ken\\'s attitude was sour. For the next hour (and more) the movie just lived in negativity.\\n\\nI bought tickets to this show a month ago. And, I saw it the day before the official opening day. I was very excited about this movie. And, I was playing the music (Dua Lipa) song almost every day. I was really excited for this movie - and was looking forward to something very positive. But, the vast majority of the movie was the \"conflict\" part of the writing. It was just too much! The movie didn\\'t need to go that way, that far, that fast. I would have preferred a more shallow and fun Barbie movie vs. This Barbie movie filled with over an hour of conflict.']\n"
     ]
    }
   ],
   "source": [
    "# Regular Expression test code\n",
    "\n",
    "test_text = df_bb.iloc[18][0]\n",
    "\n",
    "print(test_text)\n",
    "\n",
    "res = re.findall(score_Reg, test_text)\n",
    "print(res)\n",
    "\n",
    "res = re.findall(title_Reg, test_text)\n",
    "print(res)\n",
    "\n",
    "res = re.findall(username_Reg, test_text)\n",
    "print(res)\n",
    "\n",
    "res = re.findall(date_Reg, test_text)\n",
    "print(res)\n",
    "\n",
    "res = re.findall(people_found_helpful_Reg, test_text)\n",
    "print(res)\n",
    "\n",
    "res = re.findall(review_Reg, test_text)\n",
    "print(res)"
   ],
   "metadata": {
    "collapsed": false,
    "ExecuteTime": {
     "end_time": "2023-08-25T03:32:02.581105379Z",
     "start_time": "2023-08-25T03:32:02.579767354Z"
    }
   }
  },
  {
   "cell_type": "code",
   "execution_count": 193,
   "outputs": [],
   "source": [
    "# Clean every row in data set\n",
    "\n",
    "# cleand_df_bb = pd.DataFrame(columns=['score', 'title', 'username', 'date', 'people_found_helpful', 'people_didnt_find_helpful', 'review'])\n",
    "\n",
    "def get_cleaned_df(dirty_df):\n",
    "\tcleaned_df = pd.DataFrame(columns=['score', 'title', 'username', 'date', 'people_found_helpful', 'review'])\n",
    "    # cleaned_df = pd.DataFrame(columns=['score', 'title', 'username', 'date', 'people_found_helpful', 'people_didnt_find_helpful', 'review'])\n",
    "\tfor index in range(len(dirty_df)):\n",
    "\t\trow = dirty_df.iloc[index][0]\n",
    "\t\t\n",
    "\t\tscore = re.findall(score_Reg, row)\n",
    "\t\ttitle = re.findall(title_Reg, row)\n",
    "\t\tusername = re.findall(username_Reg, row)\n",
    "\t\tdate = re.findall(date_Reg, row)\n",
    "\t\tpeople_found_helpful = re.findall(people_found_helpful_Reg, row)\n",
    "\t\treview = re.findall(review_Reg, row)\n",
    "\t\t\n",
    "\t\tif not score:\n",
    "\t\t\tscore = ['NULL']\n",
    "\t\tif not title:\n",
    "\t\t\ttitle = ['NULL']\n",
    "\t\tif not username:\n",
    "\t\t\tusername = ['NULL']\n",
    "\t\tif not date:\n",
    "\t\t\tdate = ['NULL']\n",
    "\t\tif not people_found_helpful:\n",
    "\t\t\tpeople_found_helpful = ['NULL', 'NULL']\n",
    "\t\tif not review:\n",
    "\t\t\treview = ['NULL']\n",
    "\t\t\t\n",
    "\t\tcleaned_df.loc[index] = [score[0], title[0], username[0], date[0], people_found_helpful[0], review[0]]\n",
    "\t\t\n",
    "\treturn cleaned_df"
   ],
   "metadata": {
    "collapsed": false,
    "ExecuteTime": {
     "end_time": "2023-08-25T03:32:02.581411005Z",
     "start_time": "2023-08-25T03:32:02.579927361Z"
    }
   }
  },
  {
   "cell_type": "code",
   "execution_count": 194,
   "outputs": [
    {
     "data": {
      "text/plain": "  score title        username          date people_found_helpful  \\\n0     6  NULL     Imshortok06  23 July 2023       (1,007, 1,363)   \n1     6  NULL    LoveofLegacy  21 July 2023       (1,190, 1,646)   \n2     6  NULL        Binkconn  21 July 2023         (804, 1,173)   \n3     8  NULL       coxaneesa  24 July 2023           (152, 242)   \n4     9  NULL  heatherhilgers  24 July 2023             (20, 26)   \n\n                                              review  \n0  I'm just going to get straight to the point: I...  \n1  Margot does the best with what she's given, bu...  \n2  Barbie begins in an irresistible way, as a fun...  \n3                                  Warning: Spoilers  \n4  Wow, this movie was a love letter to cinema. F...  ",
      "text/html": "<div>\n<style scoped>\n    .dataframe tbody tr th:only-of-type {\n        vertical-align: middle;\n    }\n\n    .dataframe tbody tr th {\n        vertical-align: top;\n    }\n\n    .dataframe thead th {\n        text-align: right;\n    }\n</style>\n<table border=\"1\" class=\"dataframe\">\n  <thead>\n    <tr style=\"text-align: right;\">\n      <th></th>\n      <th>score</th>\n      <th>title</th>\n      <th>username</th>\n      <th>date</th>\n      <th>people_found_helpful</th>\n      <th>review</th>\n    </tr>\n  </thead>\n  <tbody>\n    <tr>\n      <th>0</th>\n      <td>6</td>\n      <td>NULL</td>\n      <td>Imshortok06</td>\n      <td>23 July 2023</td>\n      <td>(1,007, 1,363)</td>\n      <td>I'm just going to get straight to the point: I...</td>\n    </tr>\n    <tr>\n      <th>1</th>\n      <td>6</td>\n      <td>NULL</td>\n      <td>LoveofLegacy</td>\n      <td>21 July 2023</td>\n      <td>(1,190, 1,646)</td>\n      <td>Margot does the best with what she's given, bu...</td>\n    </tr>\n    <tr>\n      <th>2</th>\n      <td>6</td>\n      <td>NULL</td>\n      <td>Binkconn</td>\n      <td>21 July 2023</td>\n      <td>(804, 1,173)</td>\n      <td>Barbie begins in an irresistible way, as a fun...</td>\n    </tr>\n    <tr>\n      <th>3</th>\n      <td>8</td>\n      <td>NULL</td>\n      <td>coxaneesa</td>\n      <td>24 July 2023</td>\n      <td>(152, 242)</td>\n      <td>Warning: Spoilers</td>\n    </tr>\n    <tr>\n      <th>4</th>\n      <td>9</td>\n      <td>NULL</td>\n      <td>heatherhilgers</td>\n      <td>24 July 2023</td>\n      <td>(20, 26)</td>\n      <td>Wow, this movie was a love letter to cinema. F...</td>\n    </tr>\n  </tbody>\n</table>\n</div>"
     },
     "execution_count": 194,
     "metadata": {},
     "output_type": "execute_result"
    }
   ],
   "source": [
    "cleand_df_bb = get_cleaned_df(df_bb)\n",
    "cleand_df_bb.head()"
   ],
   "metadata": {
    "collapsed": false,
    "ExecuteTime": {
     "end_time": "2023-08-25T03:32:22.285414497Z",
     "start_time": "2023-08-25T03:32:02.580077032Z"
    }
   }
  },
  {
   "cell_type": "code",
   "execution_count": null,
   "outputs": [],
   "source": [
    "cleand_df_op = get_cleaned_df(df_op)\n",
    "cleand_df_op.head()"
   ],
   "metadata": {
    "collapsed": false,
    "is_executing": true,
    "ExecuteTime": {
     "start_time": "2023-08-25T03:32:22.371242506Z"
    }
   }
  }
 ]
}
