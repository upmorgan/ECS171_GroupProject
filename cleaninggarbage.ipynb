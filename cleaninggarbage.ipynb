{
 "nbformat": 4,
 "nbformat_minor": 0,
 "metadata": {
  "colab": {
   "provenance": []
  },
  "kernelspec": {
   "name": "python3",
   "language": "python",
   "display_name": "Python 3 (ipykernel)"
  },
  "language_info": {
   "name": "python"
  }
 },
 "cells": [
  {
   "cell_type": "code",
   "execution_count": 212,
   "metadata": {
    "id": "Mu0k0HsY6eDQ",
    "ExecuteTime": {
     "end_time": "2023-08-25T03:43:21.794545270Z",
     "start_time": "2023-08-25T03:43:21.119234394Z"
    }
   },
   "outputs": [],
   "source": [
    "import pandas as pd\n",
    "\n",
    "df_bb = pd.read_csv('./data/imdb_barbie_Uncleaned.csv', header=None)\n",
    "df_op = pd.read_csv('./data/imdb_oppenhimmer_Uncleaned.csv', header=None)\n",
    "df_bb.drop_duplicates(inplace=True)\n",
    "df_op.drop_duplicates(inplace=True)\n"
   ]
  },
  {
   "cell_type": "markdown",
   "source": [
    "# Regular Expression"
   ],
   "metadata": {
    "collapsed": false
   }
  },
  {
   "cell_type": "code",
   "execution_count": 200,
   "outputs": [],
   "source": [
    "import re\n",
    "\n",
    "score_Reg = '(\\d{1,2})\\/\\d{1,2}\\s.*\\s'\n",
    "title_Reg = '\\d{1,2}\\/\\d{1,2}\\s(.*)'\n",
    "people_found_helpful_Reg = '([\\d,]*) out of ([\\d,]*) found this helpful'\n",
    "username_Reg = '\\d{1,2}\\/\\d{1,2}\\s.*\\s([A-Za-z0-9_-]+)\\d{2}\\s[January|February|March|April|June|July|August|September|October|November|December]'\n",
    "date_Reg = '(\\d{1,2}\\s\\w+\\s\\d{4})'\n",
    "review_Reg = '\\d{1,2}\\s\\w+\\s\\d{4}\\s([\\s\\S]*)\\s[\\d,]* out of [\\d,]* found this helpful'"
   ],
   "metadata": {
    "collapsed": false,
    "ExecuteTime": {
     "end_time": "2023-08-25T03:36:56.320756156Z",
     "start_time": "2023-08-25T03:36:56.314257517Z"
    }
   }
  },
  {
   "cell_type": "code",
   "execution_count": 201,
   "outputs": [
    {
     "name": "stdout",
     "output_type": "stream",
     "text": [
      "Honestly - not funny and light enough\n",
      "imdbmovieguy21 July 2023\n",
      "I really enjoyed the first 20 minutes of the movie. It was very upbeat, positive and light. However, things soon became negative about 20 - 25 minutes into the movie. I couldn't stand it. Barbie's world and attitude was a constant bummer. Ken's attitude was sour. For the next hour (and more) the movie just lived in negativity.\n",
      "\n",
      "I bought tickets to this show a month ago. And, I saw it the day before the official opening day. I was very excited about this movie. And, I was playing the music (Dua Lipa) song almost every day. I was really excited for this movie - and was looking forward to something very positive. But, the vast majority of the movie was the \"conflict\" part of the writing. It was just too much! The movie didn't need to go that way, that far, that fast. I would have preferred a more shallow and fun Barbie movie vs. This Barbie movie filled with over an hour of conflict.\n",
      "358 out of 799 found this helpful. Was this review helpful? Sign in to vote.\n",
      "Permalink\n",
      "[]\n",
      "[]\n",
      "[]\n",
      "['21 July 2023']\n",
      "[('358', '799')]\n",
      "['I really enjoyed the first 20 minutes of the movie. It was very upbeat, positive and light. However, things soon became negative about 20 - 25 minutes into the movie. I couldn\\'t stand it. Barbie\\'s world and attitude was a constant bummer. Ken\\'s attitude was sour. For the next hour (and more) the movie just lived in negativity.\\n\\nI bought tickets to this show a month ago. And, I saw it the day before the official opening day. I was very excited about this movie. And, I was playing the music (Dua Lipa) song almost every day. I was really excited for this movie - and was looking forward to something very positive. But, the vast majority of the movie was the \"conflict\" part of the writing. It was just too much! The movie didn\\'t need to go that way, that far, that fast. I would have preferred a more shallow and fun Barbie movie vs. This Barbie movie filled with over an hour of conflict.']\n"
     ]
    }
   ],
   "source": [
    "# Regular Expression test code\n",
    "\n",
    "test_text = df_bb.iloc[18][0]\n",
    "\n",
    "print(test_text)\n",
    "\n",
    "res = re.findall(score_Reg, test_text)\n",
    "print(res)\n",
    "\n",
    "res = re.findall(title_Reg, test_text)\n",
    "print(res)\n",
    "\n",
    "res = re.findall(username_Reg, test_text)\n",
    "print(res)\n",
    "\n",
    "res = re.findall(date_Reg, test_text)\n",
    "print(res)\n",
    "\n",
    "res = re.findall(people_found_helpful_Reg, test_text)\n",
    "print(res)\n",
    "\n",
    "res = re.findall(review_Reg, test_text)\n",
    "print(res)"
   ],
   "metadata": {
    "collapsed": false,
    "ExecuteTime": {
     "end_time": "2023-08-25T03:36:56.349838666Z",
     "start_time": "2023-08-25T03:36:56.317896375Z"
    }
   }
  },
  {
   "cell_type": "code",
   "execution_count": 214,
   "outputs": [],
   "source": [
    "# Clean every row in data set\n",
    "\n",
    "# cleand_df_bb = pd.DataFrame(columns=['score', 'title', 'username', 'date', 'people_found_helpful', 'people_didnt_find_helpful', 'review'])\n",
    "\n",
    "def get_cleaned_df(dirty_df):\n",
    "\tcleaned_df = pd.DataFrame(columns=['score', 'title', 'username', 'date', 'people_found_helpful', 'review'])\n",
    "    # cleaned_df = pd.DataFrame(columns=['score', 'title', 'username', 'date', 'people_found_helpful', 'people_didnt_find_helpful', 'review'])\n",
    "\tfor index in range(len(dirty_df)):\n",
    "\t\trow = dirty_df.iloc[index][0]\n",
    "\t\t\n",
    "\t\tscore = re.findall(score_Reg, row)\n",
    "\t\ttitle = re.findall(title_Reg, row)\n",
    "\t\tusername = re.findall(username_Reg, row)\n",
    "\t\tdate = re.findall(date_Reg, row)\n",
    "\t\tpeople_found_helpful = re.findall(people_found_helpful_Reg, row)\n",
    "\t\treview = re.findall(review_Reg, row)\n",
    "\t\t\n",
    "\t\tif not score:\n",
    "\t\t\tscore = ['NULL']\n",
    "\t\tif not title:\n",
    "\t\t\ttitle = ['NULL']\n",
    "\t\tif not username:\n",
    "\t\t\tusername = ['NULL']\n",
    "\t\tif not date:\n",
    "\t\t\tdate = ['NULL']\n",
    "\t\tif not people_found_helpful:\n",
    "\t\t\tpeople_found_helpful = ['NULL', 'NULL']\n",
    "\t\tif not review:\n",
    "\t\t\treview = ['NULL']\n",
    "\t\t\t\n",
    "\t\tcleaned_df.loc[index] = [score[0], title[0], username[0], date[0], people_found_helpful[0], review[0]]\n",
    "\treturn cleaned_df"
   ],
   "metadata": {
    "collapsed": false,
    "ExecuteTime": {
     "end_time": "2023-08-25T03:43:51.973431241Z",
     "start_time": "2023-08-25T03:43:51.971122497Z"
    }
   }
  },
  {
   "cell_type": "code",
   "execution_count": 219,
   "outputs": [],
   "source": [
    "cleand_df_bb = get_cleaned_df(df_bb)\n",
    "cleand_df_bb.drop_duplicates(subset=['username'], inplace=True)"
   ],
   "metadata": {
    "collapsed": false,
    "ExecuteTime": {
     "end_time": "2023-08-25T03:45:44.790277142Z",
     "start_time": "2023-08-25T03:45:44.786952694Z"
    }
   }
  },
  {
   "cell_type": "code",
   "execution_count": 220,
   "outputs": [
    {
     "data": {
      "text/plain": "    score                                              title  \\\n0       6                 Creative but preachy and confusing   \n1       6                     Beautiful film, but so preachy   \n2       6  Clever and fun beginning turns into another le...   \n3       8                                  It was depressing   \n4       9                                A Technicolor Dream   \n..    ...                                                ...   \n792     2                                    Barbie-not good   \n793     5                             Feminism but the rest?   \n794     3  Great sets, great execution but horrible story...   \n795     2                                          Just meh.   \n796     1          Not for little kids and wastes your time.   \n\n             username          date people_found_helpful  \\\n0         Imshortok06  23 July 2023       (1,007, 1,363)   \n1        LoveofLegacy  21 July 2023       (1,190, 1,646)   \n2            Binkconn  21 July 2023         (804, 1,173)   \n3           coxaneesa  24 July 2023           (152, 242)   \n4      heatherhilgers  24 July 2023             (20, 26)   \n..                ...           ...                  ...   \n792          thongman  22 July 2023              (5, 17)   \n793      iyaseminkose  23 July 2023               (1, 6)   \n794       DaHermitKid  28 July 2023               (1, 5)   \n795  apriljosey-29034  27 July 2023               (0, 1)   \n796         ben-39403  27 July 2023               (0, 6)   \n\n                                                review  \n0    I'm just going to get straight to the point: I...  \n1    Margot does the best with what she's given, bu...  \n2    Barbie begins in an irresistible way, as a fun...  \n3                                    Warning: Spoilers  \n4    Wow, this movie was a love letter to cinema. F...  \n..                                                 ...  \n792  The only reason this movie even gets a 2 from ...  \n793  I'm NOT a Barbie girl in NOT the Barbie World,...  \n794  Firstly, the technical execution is top notch....  \n795                                  Warning: Spoilers  \n796  Too many sexual references and doesn't grasp t...  \n\n[784 rows x 6 columns]",
      "text/html": "<div>\n<style scoped>\n    .dataframe tbody tr th:only-of-type {\n        vertical-align: middle;\n    }\n\n    .dataframe tbody tr th {\n        vertical-align: top;\n    }\n\n    .dataframe thead th {\n        text-align: right;\n    }\n</style>\n<table border=\"1\" class=\"dataframe\">\n  <thead>\n    <tr style=\"text-align: right;\">\n      <th></th>\n      <th>score</th>\n      <th>title</th>\n      <th>username</th>\n      <th>date</th>\n      <th>people_found_helpful</th>\n      <th>review</th>\n    </tr>\n  </thead>\n  <tbody>\n    <tr>\n      <th>0</th>\n      <td>6</td>\n      <td>Creative but preachy and confusing</td>\n      <td>Imshortok06</td>\n      <td>23 July 2023</td>\n      <td>(1,007, 1,363)</td>\n      <td>I'm just going to get straight to the point: I...</td>\n    </tr>\n    <tr>\n      <th>1</th>\n      <td>6</td>\n      <td>Beautiful film, but so preachy</td>\n      <td>LoveofLegacy</td>\n      <td>21 July 2023</td>\n      <td>(1,190, 1,646)</td>\n      <td>Margot does the best with what she's given, bu...</td>\n    </tr>\n    <tr>\n      <th>2</th>\n      <td>6</td>\n      <td>Clever and fun beginning turns into another le...</td>\n      <td>Binkconn</td>\n      <td>21 July 2023</td>\n      <td>(804, 1,173)</td>\n      <td>Barbie begins in an irresistible way, as a fun...</td>\n    </tr>\n    <tr>\n      <th>3</th>\n      <td>8</td>\n      <td>It was depressing</td>\n      <td>coxaneesa</td>\n      <td>24 July 2023</td>\n      <td>(152, 242)</td>\n      <td>Warning: Spoilers</td>\n    </tr>\n    <tr>\n      <th>4</th>\n      <td>9</td>\n      <td>A Technicolor Dream</td>\n      <td>heatherhilgers</td>\n      <td>24 July 2023</td>\n      <td>(20, 26)</td>\n      <td>Wow, this movie was a love letter to cinema. F...</td>\n    </tr>\n    <tr>\n      <th>...</th>\n      <td>...</td>\n      <td>...</td>\n      <td>...</td>\n      <td>...</td>\n      <td>...</td>\n      <td>...</td>\n    </tr>\n    <tr>\n      <th>792</th>\n      <td>2</td>\n      <td>Barbie-not good</td>\n      <td>thongman</td>\n      <td>22 July 2023</td>\n      <td>(5, 17)</td>\n      <td>The only reason this movie even gets a 2 from ...</td>\n    </tr>\n    <tr>\n      <th>793</th>\n      <td>5</td>\n      <td>Feminism but the rest?</td>\n      <td>iyaseminkose</td>\n      <td>23 July 2023</td>\n      <td>(1, 6)</td>\n      <td>I'm NOT a Barbie girl in NOT the Barbie World,...</td>\n    </tr>\n    <tr>\n      <th>794</th>\n      <td>3</td>\n      <td>Great sets, great execution but horrible story...</td>\n      <td>DaHermitKid</td>\n      <td>28 July 2023</td>\n      <td>(1, 5)</td>\n      <td>Firstly, the technical execution is top notch....</td>\n    </tr>\n    <tr>\n      <th>795</th>\n      <td>2</td>\n      <td>Just meh.</td>\n      <td>apriljosey-29034</td>\n      <td>27 July 2023</td>\n      <td>(0, 1)</td>\n      <td>Warning: Spoilers</td>\n    </tr>\n    <tr>\n      <th>796</th>\n      <td>1</td>\n      <td>Not for little kids and wastes your time.</td>\n      <td>ben-39403</td>\n      <td>27 July 2023</td>\n      <td>(0, 6)</td>\n      <td>Too many sexual references and doesn't grasp t...</td>\n    </tr>\n  </tbody>\n</table>\n<p>784 rows × 6 columns</p>\n</div>"
     },
     "execution_count": 220,
     "metadata": {},
     "output_type": "execute_result"
    }
   ],
   "source": [
    "cleand_df_bb"
   ],
   "metadata": {
    "collapsed": false,
    "ExecuteTime": {
     "end_time": "2023-08-25T03:45:47.515737621Z",
     "start_time": "2023-08-25T03:45:47.473475297Z"
    }
   }
  },
  {
   "cell_type": "code",
   "execution_count": 221,
   "outputs": [],
   "source": [
    "cleand_df_op = get_cleaned_df(df_op)\n",
    "cleand_df_op.drop_duplicates(subset=['username'], inplace=True)"
   ],
   "metadata": {
    "collapsed": false,
    "ExecuteTime": {
     "end_time": "2023-08-25T03:45:53.207296412Z",
     "start_time": "2023-08-25T03:45:51.455450555Z"
    }
   }
  },
  {
   "cell_type": "code",
   "execution_count": 222,
   "outputs": [
    {
     "data": {
      "text/plain": "     score                                              title  \\\n0        9                              Murphy is exceptional   \n1        8  A challenging watch to be sure, but a worthwhi...   \n2       10  A brilliantly layered examination of a man thr...   \n3       10  Nolan delivers a powerfull biopic that shows t...   \n4       10                                      A Masterpiece   \n...    ...                                                ...   \n2031     7         Huge story, but production fails sometimes   \n2032     6                                            Tweaked   \n2033     6                  Just a 6 for a near perfect film.   \n2034     6                              No need to be 3 hours   \n2035     6                                      Disappointing   \n\n                  username          date people_found_helpful  \\\n0          Orlando_Gardner  19 July 2023       (1,413, 1,597)   \n1          Jeremy_Urquhart  20 July 2023           (685, 819)   \n2                 MrDHWong  20 July 2023           (556, 691)   \n3            and_mikkelsen  20 July 2023           (358, 457)   \n4      mohameddawoud-26019  19 July 2023           (670, 833)   \n...                    ...           ...                  ...   \n2031        andreverschoor  27 July 2023               (1, 3)   \n2032                 fmacr  25 July 2023               (1, 7)   \n2033  m-nicolaou-86-661254  24 July 2023               (0, 1)   \n2034          scottahaynie  24 July 2023               (0, 0)   \n2035             krisdevos  22 July 2023               (0, 0)   \n\n                                                 review  \n0     You'll have to have your wits about you and yo...  \n1     One of the most anticipated films of the year ...  \n2     \"Oppenheimer\" is a biographical thriller film ...  \n3     This movie is just... wow! I don't think I hav...  \n4     I may consider myself lucky to be alive to wat...  \n...                                                 ...  \n2031  Loved the movie, loved the actors efforts. Aft...  \n2032  I suppose these reviews are tweaked, otherwise...  \n2033  Ok let me start by the obvious ratings which w...  \n2034  Acting was tremendous and the true story behin...  \n2035  Totally underwhelmed with Oppenheimer.\\n\\nEnri...  \n\n[2013 rows x 6 columns]",
      "text/html": "<div>\n<style scoped>\n    .dataframe tbody tr th:only-of-type {\n        vertical-align: middle;\n    }\n\n    .dataframe tbody tr th {\n        vertical-align: top;\n    }\n\n    .dataframe thead th {\n        text-align: right;\n    }\n</style>\n<table border=\"1\" class=\"dataframe\">\n  <thead>\n    <tr style=\"text-align: right;\">\n      <th></th>\n      <th>score</th>\n      <th>title</th>\n      <th>username</th>\n      <th>date</th>\n      <th>people_found_helpful</th>\n      <th>review</th>\n    </tr>\n  </thead>\n  <tbody>\n    <tr>\n      <th>0</th>\n      <td>9</td>\n      <td>Murphy is exceptional</td>\n      <td>Orlando_Gardner</td>\n      <td>19 July 2023</td>\n      <td>(1,413, 1,597)</td>\n      <td>You'll have to have your wits about you and yo...</td>\n    </tr>\n    <tr>\n      <th>1</th>\n      <td>8</td>\n      <td>A challenging watch to be sure, but a worthwhi...</td>\n      <td>Jeremy_Urquhart</td>\n      <td>20 July 2023</td>\n      <td>(685, 819)</td>\n      <td>One of the most anticipated films of the year ...</td>\n    </tr>\n    <tr>\n      <th>2</th>\n      <td>10</td>\n      <td>A brilliantly layered examination of a man thr...</td>\n      <td>MrDHWong</td>\n      <td>20 July 2023</td>\n      <td>(556, 691)</td>\n      <td>\"Oppenheimer\" is a biographical thriller film ...</td>\n    </tr>\n    <tr>\n      <th>3</th>\n      <td>10</td>\n      <td>Nolan delivers a powerfull biopic that shows t...</td>\n      <td>and_mikkelsen</td>\n      <td>20 July 2023</td>\n      <td>(358, 457)</td>\n      <td>This movie is just... wow! I don't think I hav...</td>\n    </tr>\n    <tr>\n      <th>4</th>\n      <td>10</td>\n      <td>A Masterpiece</td>\n      <td>mohameddawoud-26019</td>\n      <td>19 July 2023</td>\n      <td>(670, 833)</td>\n      <td>I may consider myself lucky to be alive to wat...</td>\n    </tr>\n    <tr>\n      <th>...</th>\n      <td>...</td>\n      <td>...</td>\n      <td>...</td>\n      <td>...</td>\n      <td>...</td>\n      <td>...</td>\n    </tr>\n    <tr>\n      <th>2031</th>\n      <td>7</td>\n      <td>Huge story, but production fails sometimes</td>\n      <td>andreverschoor</td>\n      <td>27 July 2023</td>\n      <td>(1, 3)</td>\n      <td>Loved the movie, loved the actors efforts. Aft...</td>\n    </tr>\n    <tr>\n      <th>2032</th>\n      <td>6</td>\n      <td>Tweaked</td>\n      <td>fmacr</td>\n      <td>25 July 2023</td>\n      <td>(1, 7)</td>\n      <td>I suppose these reviews are tweaked, otherwise...</td>\n    </tr>\n    <tr>\n      <th>2033</th>\n      <td>6</td>\n      <td>Just a 6 for a near perfect film.</td>\n      <td>m-nicolaou-86-661254</td>\n      <td>24 July 2023</td>\n      <td>(0, 1)</td>\n      <td>Ok let me start by the obvious ratings which w...</td>\n    </tr>\n    <tr>\n      <th>2034</th>\n      <td>6</td>\n      <td>No need to be 3 hours</td>\n      <td>scottahaynie</td>\n      <td>24 July 2023</td>\n      <td>(0, 0)</td>\n      <td>Acting was tremendous and the true story behin...</td>\n    </tr>\n    <tr>\n      <th>2035</th>\n      <td>6</td>\n      <td>Disappointing</td>\n      <td>krisdevos</td>\n      <td>22 July 2023</td>\n      <td>(0, 0)</td>\n      <td>Totally underwhelmed with Oppenheimer.\\n\\nEnri...</td>\n    </tr>\n  </tbody>\n</table>\n<p>2013 rows × 6 columns</p>\n</div>"
     },
     "execution_count": 222,
     "metadata": {},
     "output_type": "execute_result"
    }
   ],
   "source": [
    "cleand_df_op"
   ],
   "metadata": {
    "collapsed": false,
    "ExecuteTime": {
     "end_time": "2023-08-25T03:46:03.994988147Z",
     "start_time": "2023-08-25T03:46:03.978501887Z"
    }
   }
  }
 ]
}
