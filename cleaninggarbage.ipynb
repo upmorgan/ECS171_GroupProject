{
 "nbformat": 4,
 "nbformat_minor": 0,
 "metadata": {
  "colab": {
   "provenance": []
  },
  "kernelspec": {
   "name": "python3",
   "language": "python",
   "display_name": "Python 3 (ipykernel)"
  },
  "language_info": {
   "name": "python"
  }
 },
 "cells": [
  {
   "cell_type": "code",
   "execution_count": 113,
   "metadata": {
    "id": "Mu0k0HsY6eDQ",
    "ExecuteTime": {
     "end_time": "2023-08-26T00:50:19.168630589Z",
     "start_time": "2023-08-26T00:50:18.479904305Z"
    }
   },
   "outputs": [],
   "source": [
    "import pandas as pd\n",
    "\n",
    "df_bb = pd.read_csv('./data/imdb_barbie_Uncleaned.csv', header=None)\n",
    "df_op = pd.read_csv('./data/imdb_oppenhimmer_Uncleaned.csv', header=None)\n",
    "df_bb.drop_duplicates(inplace=True)\n",
    "df_op.drop_duplicates(inplace=True)\n"
   ]
  },
  {
   "cell_type": "markdown",
   "source": [
    "# Regular Expression"
   ],
   "metadata": {
    "collapsed": false
   }
  },
  {
   "cell_type": "code",
   "execution_count": 114,
   "outputs": [],
   "source": [
    "import re\n",
    "\n",
    "score_Reg = '(\\d{1,2})\\/\\d{1,2}\\s.*\\s'\n",
    "title_Reg = '\\d{1,2}\\/\\d{1,2}\\s(.*)'\n",
    "people_found_helpful_Reg = '([\\d,]*) out of ([\\d,]*) found this helpful'\n",
    "username_Reg = '\\d{1,2}\\/\\d{1,2}\\s.*\\s([A-Za-z0-9_-]+)\\d{2}\\s[January|February|March|April|June|July|August|September|October|November|December]'\n",
    "date_Reg = '(\\d{1,2}\\s\\w+\\s\\d{4})'\n",
    "review_Reg = '\\d{1,2}\\s\\w+\\s\\d{4}\\s([\\s\\S]*)\\s[\\d,]* out of [\\d,]* found this helpful'"
   ],
   "metadata": {
    "collapsed": false,
    "ExecuteTime": {
     "end_time": "2023-08-26T00:50:19.209660866Z",
     "start_time": "2023-08-26T00:50:19.209032319Z"
    }
   }
  },
  {
   "cell_type": "code",
   "execution_count": 115,
   "outputs": [
    {
     "name": "stdout",
     "output_type": "stream",
     "text": [
      "['6']\n",
      "['Creative but preachy and confusing']\n",
      "['Imshortok06']\n",
      "['23 July 2023']\n",
      "[('1,007', '1,363')]\n",
      "1007\n",
      "1363\n",
      "['I\\'m just going to get straight to the point: I liked some aspects of this movie and disliked other parts. Cinematography: awesome. Choreographed musical numbers: hilarious. Comedy: good. Margot Robbie: great. Ryan Gosling: awesome, and arguably the best part of the movie. The scenery and props really did help create the world. The storyline started off very intriguing. However, when the movie got to the meat of the plot and the central conflict, its message became confusing. It\\'s like they wanted to make Ken the bad guy yet also sympathetic, which is not impossible or unheard of, but the way the writers did this was ineffective. Also, the resolution didn\\'t make sense based on the message and events that led up to it. Lastly, I really hate it when movies try to empower women by dumbing down the men. I get that in a Barbie world, Ken is an afterthought, but in the real world all men were also dumb. They also treated masculine qualities as \"evil.\" I hate stereotyping people, men included, and it\\'s like all men ride horses and have fragile egos and drink \"brewskies.\" And for goodness sake, if I had a dollar for every time the movie said \"patriarchy\", I\\'d be rich. So, overall, I give this movie a 6/10.']\n"
     ]
    }
   ],
   "source": [
    "# Regular Expression test code\n",
    "\n",
    "test_text = df_bb.iloc[0][0]\n",
    "\n",
    "# print(test_text)\n",
    "\n",
    "res = re.findall(score_Reg, test_text)\n",
    "print(res)\n",
    "\n",
    "res = re.findall(title_Reg, test_text)\n",
    "print(res)\n",
    "\n",
    "res = re.findall(username_Reg, test_text)\n",
    "print(res)\n",
    "\n",
    "res = re.findall(date_Reg, test_text)\n",
    "print(res)\n",
    "\n",
    "res = re.findall(people_found_helpful_Reg, test_text)\n",
    "print(res)\n",
    "print(int(res[0][0].replace(',', '')))\n",
    "print(int(res[0][1].replace(',', '')))\n",
    "\n",
    "res = re.findall(review_Reg, test_text)\n",
    "print(res)"
   ],
   "metadata": {
    "collapsed": false,
    "ExecuteTime": {
     "end_time": "2023-08-26T00:50:19.210223339Z",
     "start_time": "2023-08-26T00:50:19.209349281Z"
    }
   }
  },
  {
   "cell_type": "markdown",
   "source": [
    "# Cleaning Data"
   ],
   "metadata": {
    "collapsed": false
   }
  },
  {
   "cell_type": "code",
   "execution_count": 116,
   "outputs": [],
   "source": [
    "# Clean every row in data set\n",
    "\n",
    "def get_cleaned_df(dirty_df):\n",
    "\t# cleaned_df = pd.DataFrame(columns=['score', 'title', 'username', 'date', 'people_found_helpful', 'review'])\n",
    "\tcleaned_df = pd.DataFrame(columns=['score', 'title', 'username', 'date', 'people_found_helpful', 'total_people_viewed', 'review'])\n",
    "\t\n",
    "\tfor index in range(len(dirty_df)):\n",
    "\t\trow = dirty_df.iloc[index][0]\n",
    "\t\t\n",
    "\t\tscore = re.findall(score_Reg, row)\n",
    "\t\ttitle = re.findall(title_Reg, row)\n",
    "\t\tusername = re.findall(username_Reg, row)\n",
    "\t\tdate = re.findall(date_Reg, row)\n",
    "\t\tpeople_found_helpful = re.findall(people_found_helpful_Reg, row)\n",
    "\t\treview = re.findall(review_Reg, row)\n",
    "\t\t\n",
    "\t\tif not score:\n",
    "\t\t\tscore = 'NULL'\n",
    "\t\telse:\n",
    "\t\t\tscore = int(score[0])\n",
    "\t\tif not title:\n",
    "\t\t\ttitle = ['NULL']\n",
    "\t\tif not username:\n",
    "\t\t\tusername = ['NULL']\n",
    "\t\tif not date:\n",
    "\t\t\tdate = ['NULL']\n",
    "\t\tif not people_found_helpful:\n",
    "\t\t\tpeople_found_helpful = 'NULL'\n",
    "\t\t\ttotal_people_viewed = 'NULL'\n",
    "\t\telse:\n",
    "\t\t\ttotal_people_viewed = int(people_found_helpful[0][1].replace(',', ''))\n",
    "\t\t\tpeople_found_helpful = int(people_found_helpful[0][0].replace(',', ''))\n",
    "\t\tif not review:\n",
    "\t\t\treview = ['NULL']\n",
    "\t\t\t\n",
    "\t\tcleaned_df.loc[index] = [score, title[0], username[0], date[0], people_found_helpful, total_people_viewed, review[0]]\n",
    "\treturn cleaned_df\n"
   ],
   "metadata": {
    "collapsed": false,
    "ExecuteTime": {
     "end_time": "2023-08-26T00:50:19.210452715Z",
     "start_time": "2023-08-26T00:50:19.209502385Z"
    }
   }
  },
  {
   "cell_type": "code",
   "execution_count": 117,
   "outputs": [],
   "source": [
    "cleand_df_bb = get_cleaned_df(df_bb)\n",
    "cleand_df_bb.drop_duplicates(subset=['username'], inplace=True)"
   ],
   "metadata": {
    "collapsed": false,
    "ExecuteTime": {
     "end_time": "2023-08-26T00:50:19.961863125Z",
     "start_time": "2023-08-26T00:50:19.209613580Z"
    }
   }
  },
  {
   "cell_type": "code",
   "execution_count": 118,
   "outputs": [
    {
     "data": {
      "text/plain": "    score                                              title  \\\n0       6                 Creative but preachy and confusing   \n1       6                     Beautiful film, but so preachy   \n2       6  Clever and fun beginning turns into another le...   \n3       8                                  It was depressing   \n4       9                                A Technicolor Dream   \n..    ...                                                ...   \n792     2                                    Barbie-not good   \n793     5                             Feminism but the rest?   \n794     3  Great sets, great execution but horrible story...   \n795     2                                          Just meh.   \n796     1          Not for little kids and wastes your time.   \n\n             username          date  people_found_helpful  \\\n0         Imshortok06  23 July 2023                  1007   \n1        LoveofLegacy  21 July 2023                  1190   \n2            Binkconn  21 July 2023                   804   \n3           coxaneesa  24 July 2023                   152   \n4      heatherhilgers  24 July 2023                    20   \n..                ...           ...                   ...   \n792          thongman  22 July 2023                     5   \n793      iyaseminkose  23 July 2023                     1   \n794       DaHermitKid  28 July 2023                     1   \n795  apriljosey-29034  27 July 2023                     0   \n796         ben-39403  27 July 2023                     0   \n\n     total_people_viewed                                             review  \n0                   1363  I'm just going to get straight to the point: I...  \n1                   1646  Margot does the best with what she's given, bu...  \n2                   1173  Barbie begins in an irresistible way, as a fun...  \n3                    242                                  Warning: Spoilers  \n4                     26  Wow, this movie was a love letter to cinema. F...  \n..                   ...                                                ...  \n792                   17  The only reason this movie even gets a 2 from ...  \n793                    6  I'm NOT a Barbie girl in NOT the Barbie World,...  \n794                    5  Firstly, the technical execution is top notch....  \n795                    1                                  Warning: Spoilers  \n796                    6  Too many sexual references and doesn't grasp t...  \n\n[784 rows x 7 columns]",
      "text/html": "<div>\n<style scoped>\n    .dataframe tbody tr th:only-of-type {\n        vertical-align: middle;\n    }\n\n    .dataframe tbody tr th {\n        vertical-align: top;\n    }\n\n    .dataframe thead th {\n        text-align: right;\n    }\n</style>\n<table border=\"1\" class=\"dataframe\">\n  <thead>\n    <tr style=\"text-align: right;\">\n      <th></th>\n      <th>score</th>\n      <th>title</th>\n      <th>username</th>\n      <th>date</th>\n      <th>people_found_helpful</th>\n      <th>total_people_viewed</th>\n      <th>review</th>\n    </tr>\n  </thead>\n  <tbody>\n    <tr>\n      <th>0</th>\n      <td>6</td>\n      <td>Creative but preachy and confusing</td>\n      <td>Imshortok06</td>\n      <td>23 July 2023</td>\n      <td>1007</td>\n      <td>1363</td>\n      <td>I'm just going to get straight to the point: I...</td>\n    </tr>\n    <tr>\n      <th>1</th>\n      <td>6</td>\n      <td>Beautiful film, but so preachy</td>\n      <td>LoveofLegacy</td>\n      <td>21 July 2023</td>\n      <td>1190</td>\n      <td>1646</td>\n      <td>Margot does the best with what she's given, bu...</td>\n    </tr>\n    <tr>\n      <th>2</th>\n      <td>6</td>\n      <td>Clever and fun beginning turns into another le...</td>\n      <td>Binkconn</td>\n      <td>21 July 2023</td>\n      <td>804</td>\n      <td>1173</td>\n      <td>Barbie begins in an irresistible way, as a fun...</td>\n    </tr>\n    <tr>\n      <th>3</th>\n      <td>8</td>\n      <td>It was depressing</td>\n      <td>coxaneesa</td>\n      <td>24 July 2023</td>\n      <td>152</td>\n      <td>242</td>\n      <td>Warning: Spoilers</td>\n    </tr>\n    <tr>\n      <th>4</th>\n      <td>9</td>\n      <td>A Technicolor Dream</td>\n      <td>heatherhilgers</td>\n      <td>24 July 2023</td>\n      <td>20</td>\n      <td>26</td>\n      <td>Wow, this movie was a love letter to cinema. F...</td>\n    </tr>\n    <tr>\n      <th>...</th>\n      <td>...</td>\n      <td>...</td>\n      <td>...</td>\n      <td>...</td>\n      <td>...</td>\n      <td>...</td>\n      <td>...</td>\n    </tr>\n    <tr>\n      <th>792</th>\n      <td>2</td>\n      <td>Barbie-not good</td>\n      <td>thongman</td>\n      <td>22 July 2023</td>\n      <td>5</td>\n      <td>17</td>\n      <td>The only reason this movie even gets a 2 from ...</td>\n    </tr>\n    <tr>\n      <th>793</th>\n      <td>5</td>\n      <td>Feminism but the rest?</td>\n      <td>iyaseminkose</td>\n      <td>23 July 2023</td>\n      <td>1</td>\n      <td>6</td>\n      <td>I'm NOT a Barbie girl in NOT the Barbie World,...</td>\n    </tr>\n    <tr>\n      <th>794</th>\n      <td>3</td>\n      <td>Great sets, great execution but horrible story...</td>\n      <td>DaHermitKid</td>\n      <td>28 July 2023</td>\n      <td>1</td>\n      <td>5</td>\n      <td>Firstly, the technical execution is top notch....</td>\n    </tr>\n    <tr>\n      <th>795</th>\n      <td>2</td>\n      <td>Just meh.</td>\n      <td>apriljosey-29034</td>\n      <td>27 July 2023</td>\n      <td>0</td>\n      <td>1</td>\n      <td>Warning: Spoilers</td>\n    </tr>\n    <tr>\n      <th>796</th>\n      <td>1</td>\n      <td>Not for little kids and wastes your time.</td>\n      <td>ben-39403</td>\n      <td>27 July 2023</td>\n      <td>0</td>\n      <td>6</td>\n      <td>Too many sexual references and doesn't grasp t...</td>\n    </tr>\n  </tbody>\n</table>\n<p>784 rows × 7 columns</p>\n</div>"
     },
     "execution_count": 118,
     "metadata": {},
     "output_type": "execute_result"
    }
   ],
   "source": [
    "cleand_df_bb"
   ],
   "metadata": {
    "collapsed": false,
    "ExecuteTime": {
     "end_time": "2023-08-26T00:50:20.014162765Z",
     "start_time": "2023-08-26T00:50:19.970805836Z"
    }
   }
  },
  {
   "cell_type": "code",
   "execution_count": 119,
   "outputs": [],
   "source": [
    "cleand_df_op = get_cleaned_df(df_op)\n",
    "cleand_df_op.drop_duplicates(subset=['username'], inplace=True)"
   ],
   "metadata": {
    "collapsed": false,
    "ExecuteTime": {
     "end_time": "2023-08-26T00:50:22.014307308Z",
     "start_time": "2023-08-26T00:50:20.013227801Z"
    }
   }
  },
  {
   "cell_type": "code",
   "execution_count": 120,
   "outputs": [
    {
     "data": {
      "text/plain": "     score                                              title  \\\n0        9                              Murphy is exceptional   \n1        8  A challenging watch to be sure, but a worthwhi...   \n2       10  A brilliantly layered examination of a man thr...   \n3       10  Nolan delivers a powerfull biopic that shows t...   \n4       10                                      A Masterpiece   \n...    ...                                                ...   \n2031     7         Huge story, but production fails sometimes   \n2032     6                                            Tweaked   \n2033     6                  Just a 6 for a near perfect film.   \n2034     6                              No need to be 3 hours   \n2035     6                                      Disappointing   \n\n                  username          date  people_found_helpful  \\\n0          Orlando_Gardner  19 July 2023                  1413   \n1          Jeremy_Urquhart  20 July 2023                   685   \n2                 MrDHWong  20 July 2023                   556   \n3            and_mikkelsen  20 July 2023                   358   \n4      mohameddawoud-26019  19 July 2023                   670   \n...                    ...           ...                   ...   \n2031        andreverschoor  27 July 2023                     1   \n2032                 fmacr  25 July 2023                     1   \n2033  m-nicolaou-86-661254  24 July 2023                     0   \n2034          scottahaynie  24 July 2023                     0   \n2035             krisdevos  22 July 2023                     0   \n\n      total_people_viewed                                             review  \n0                    1597  You'll have to have your wits about you and yo...  \n1                     819  One of the most anticipated films of the year ...  \n2                     691  \"Oppenheimer\" is a biographical thriller film ...  \n3                     457  This movie is just... wow! I don't think I hav...  \n4                     833  I may consider myself lucky to be alive to wat...  \n...                   ...                                                ...  \n2031                    3  Loved the movie, loved the actors efforts. Aft...  \n2032                    7  I suppose these reviews are tweaked, otherwise...  \n2033                    1  Ok let me start by the obvious ratings which w...  \n2034                    0  Acting was tremendous and the true story behin...  \n2035                    0  Totally underwhelmed with Oppenheimer.\\n\\nEnri...  \n\n[2013 rows x 7 columns]",
      "text/html": "<div>\n<style scoped>\n    .dataframe tbody tr th:only-of-type {\n        vertical-align: middle;\n    }\n\n    .dataframe tbody tr th {\n        vertical-align: top;\n    }\n\n    .dataframe thead th {\n        text-align: right;\n    }\n</style>\n<table border=\"1\" class=\"dataframe\">\n  <thead>\n    <tr style=\"text-align: right;\">\n      <th></th>\n      <th>score</th>\n      <th>title</th>\n      <th>username</th>\n      <th>date</th>\n      <th>people_found_helpful</th>\n      <th>total_people_viewed</th>\n      <th>review</th>\n    </tr>\n  </thead>\n  <tbody>\n    <tr>\n      <th>0</th>\n      <td>9</td>\n      <td>Murphy is exceptional</td>\n      <td>Orlando_Gardner</td>\n      <td>19 July 2023</td>\n      <td>1413</td>\n      <td>1597</td>\n      <td>You'll have to have your wits about you and yo...</td>\n    </tr>\n    <tr>\n      <th>1</th>\n      <td>8</td>\n      <td>A challenging watch to be sure, but a worthwhi...</td>\n      <td>Jeremy_Urquhart</td>\n      <td>20 July 2023</td>\n      <td>685</td>\n      <td>819</td>\n      <td>One of the most anticipated films of the year ...</td>\n    </tr>\n    <tr>\n      <th>2</th>\n      <td>10</td>\n      <td>A brilliantly layered examination of a man thr...</td>\n      <td>MrDHWong</td>\n      <td>20 July 2023</td>\n      <td>556</td>\n      <td>691</td>\n      <td>\"Oppenheimer\" is a biographical thriller film ...</td>\n    </tr>\n    <tr>\n      <th>3</th>\n      <td>10</td>\n      <td>Nolan delivers a powerfull biopic that shows t...</td>\n      <td>and_mikkelsen</td>\n      <td>20 July 2023</td>\n      <td>358</td>\n      <td>457</td>\n      <td>This movie is just... wow! I don't think I hav...</td>\n    </tr>\n    <tr>\n      <th>4</th>\n      <td>10</td>\n      <td>A Masterpiece</td>\n      <td>mohameddawoud-26019</td>\n      <td>19 July 2023</td>\n      <td>670</td>\n      <td>833</td>\n      <td>I may consider myself lucky to be alive to wat...</td>\n    </tr>\n    <tr>\n      <th>...</th>\n      <td>...</td>\n      <td>...</td>\n      <td>...</td>\n      <td>...</td>\n      <td>...</td>\n      <td>...</td>\n      <td>...</td>\n    </tr>\n    <tr>\n      <th>2031</th>\n      <td>7</td>\n      <td>Huge story, but production fails sometimes</td>\n      <td>andreverschoor</td>\n      <td>27 July 2023</td>\n      <td>1</td>\n      <td>3</td>\n      <td>Loved the movie, loved the actors efforts. Aft...</td>\n    </tr>\n    <tr>\n      <th>2032</th>\n      <td>6</td>\n      <td>Tweaked</td>\n      <td>fmacr</td>\n      <td>25 July 2023</td>\n      <td>1</td>\n      <td>7</td>\n      <td>I suppose these reviews are tweaked, otherwise...</td>\n    </tr>\n    <tr>\n      <th>2033</th>\n      <td>6</td>\n      <td>Just a 6 for a near perfect film.</td>\n      <td>m-nicolaou-86-661254</td>\n      <td>24 July 2023</td>\n      <td>0</td>\n      <td>1</td>\n      <td>Ok let me start by the obvious ratings which w...</td>\n    </tr>\n    <tr>\n      <th>2034</th>\n      <td>6</td>\n      <td>No need to be 3 hours</td>\n      <td>scottahaynie</td>\n      <td>24 July 2023</td>\n      <td>0</td>\n      <td>0</td>\n      <td>Acting was tremendous and the true story behin...</td>\n    </tr>\n    <tr>\n      <th>2035</th>\n      <td>6</td>\n      <td>Disappointing</td>\n      <td>krisdevos</td>\n      <td>22 July 2023</td>\n      <td>0</td>\n      <td>0</td>\n      <td>Totally underwhelmed with Oppenheimer.\\n\\nEnri...</td>\n    </tr>\n  </tbody>\n</table>\n<p>2013 rows × 7 columns</p>\n</div>"
     },
     "execution_count": 120,
     "metadata": {},
     "output_type": "execute_result"
    }
   ],
   "source": [
    "cleand_df_op"
   ],
   "metadata": {
    "collapsed": false,
    "ExecuteTime": {
     "end_time": "2023-08-26T00:50:22.066129390Z",
     "start_time": "2023-08-26T00:50:22.020135427Z"
    }
   }
  },
  {
   "cell_type": "markdown",
   "source": [
    "# Graphing for Exploration"
   ],
   "metadata": {
    "collapsed": false
   }
  },
  {
   "cell_type": "code",
   "execution_count": 121,
   "outputs": [],
   "source": [
    "# combine the two data sets\n",
    "\n",
    "cleand_df_bb['isBarbie'] = 1\n",
    "cleand_df_op['isBarbie'] = 0\n",
    "\n",
    "df = pd.concat([cleand_df_bb, cleand_df_op], ignore_index=True)"
   ],
   "metadata": {
    "collapsed": false,
    "ExecuteTime": {
     "end_time": "2023-08-26T00:50:22.066411919Z",
     "start_time": "2023-08-26T00:50:22.065107119Z"
    }
   }
  },
  {
   "cell_type": "code",
   "execution_count": 122,
   "outputs": [
    {
     "data": {
      "text/plain": "     score                                              title  \\\n0        6                 Creative but preachy and confusing   \n1        6                     Beautiful film, but so preachy   \n2        6  Clever and fun beginning turns into another le...   \n3        8                                  It was depressing   \n4        9                                A Technicolor Dream   \n...    ...                                                ...   \n2792     7         Huge story, but production fails sometimes   \n2793     6                                            Tweaked   \n2794     6                  Just a 6 for a near perfect film.   \n2795     6                              No need to be 3 hours   \n2796     6                                      Disappointing   \n\n                  username          date  people_found_helpful  \\\n0              Imshortok06  23 July 2023                  1007   \n1             LoveofLegacy  21 July 2023                  1190   \n2                 Binkconn  21 July 2023                   804   \n3                coxaneesa  24 July 2023                   152   \n4           heatherhilgers  24 July 2023                    20   \n...                    ...           ...                   ...   \n2792        andreverschoor  27 July 2023                     1   \n2793                 fmacr  25 July 2023                     1   \n2794  m-nicolaou-86-661254  24 July 2023                     0   \n2795          scottahaynie  24 July 2023                     0   \n2796             krisdevos  22 July 2023                     0   \n\n      total_people_viewed                                             review  \\\n0                    1363  I'm just going to get straight to the point: I...   \n1                    1646  Margot does the best with what she's given, bu...   \n2                    1173  Barbie begins in an irresistible way, as a fun...   \n3                     242                                  Warning: Spoilers   \n4                      26  Wow, this movie was a love letter to cinema. F...   \n...                   ...                                                ...   \n2792                    3  Loved the movie, loved the actors efforts. Aft...   \n2793                    7  I suppose these reviews are tweaked, otherwise...   \n2794                    1  Ok let me start by the obvious ratings which w...   \n2795                    0  Acting was tremendous and the true story behin...   \n2796                    0  Totally underwhelmed with Oppenheimer.\\n\\nEnri...   \n\n      isBarbie  \n0            1  \n1            1  \n2            1  \n3            1  \n4            1  \n...        ...  \n2792         0  \n2793         0  \n2794         0  \n2795         0  \n2796         0  \n\n[2797 rows x 8 columns]",
      "text/html": "<div>\n<style scoped>\n    .dataframe tbody tr th:only-of-type {\n        vertical-align: middle;\n    }\n\n    .dataframe tbody tr th {\n        vertical-align: top;\n    }\n\n    .dataframe thead th {\n        text-align: right;\n    }\n</style>\n<table border=\"1\" class=\"dataframe\">\n  <thead>\n    <tr style=\"text-align: right;\">\n      <th></th>\n      <th>score</th>\n      <th>title</th>\n      <th>username</th>\n      <th>date</th>\n      <th>people_found_helpful</th>\n      <th>total_people_viewed</th>\n      <th>review</th>\n      <th>isBarbie</th>\n    </tr>\n  </thead>\n  <tbody>\n    <tr>\n      <th>0</th>\n      <td>6</td>\n      <td>Creative but preachy and confusing</td>\n      <td>Imshortok06</td>\n      <td>23 July 2023</td>\n      <td>1007</td>\n      <td>1363</td>\n      <td>I'm just going to get straight to the point: I...</td>\n      <td>1</td>\n    </tr>\n    <tr>\n      <th>1</th>\n      <td>6</td>\n      <td>Beautiful film, but so preachy</td>\n      <td>LoveofLegacy</td>\n      <td>21 July 2023</td>\n      <td>1190</td>\n      <td>1646</td>\n      <td>Margot does the best with what she's given, bu...</td>\n      <td>1</td>\n    </tr>\n    <tr>\n      <th>2</th>\n      <td>6</td>\n      <td>Clever and fun beginning turns into another le...</td>\n      <td>Binkconn</td>\n      <td>21 July 2023</td>\n      <td>804</td>\n      <td>1173</td>\n      <td>Barbie begins in an irresistible way, as a fun...</td>\n      <td>1</td>\n    </tr>\n    <tr>\n      <th>3</th>\n      <td>8</td>\n      <td>It was depressing</td>\n      <td>coxaneesa</td>\n      <td>24 July 2023</td>\n      <td>152</td>\n      <td>242</td>\n      <td>Warning: Spoilers</td>\n      <td>1</td>\n    </tr>\n    <tr>\n      <th>4</th>\n      <td>9</td>\n      <td>A Technicolor Dream</td>\n      <td>heatherhilgers</td>\n      <td>24 July 2023</td>\n      <td>20</td>\n      <td>26</td>\n      <td>Wow, this movie was a love letter to cinema. F...</td>\n      <td>1</td>\n    </tr>\n    <tr>\n      <th>...</th>\n      <td>...</td>\n      <td>...</td>\n      <td>...</td>\n      <td>...</td>\n      <td>...</td>\n      <td>...</td>\n      <td>...</td>\n      <td>...</td>\n    </tr>\n    <tr>\n      <th>2792</th>\n      <td>7</td>\n      <td>Huge story, but production fails sometimes</td>\n      <td>andreverschoor</td>\n      <td>27 July 2023</td>\n      <td>1</td>\n      <td>3</td>\n      <td>Loved the movie, loved the actors efforts. Aft...</td>\n      <td>0</td>\n    </tr>\n    <tr>\n      <th>2793</th>\n      <td>6</td>\n      <td>Tweaked</td>\n      <td>fmacr</td>\n      <td>25 July 2023</td>\n      <td>1</td>\n      <td>7</td>\n      <td>I suppose these reviews are tweaked, otherwise...</td>\n      <td>0</td>\n    </tr>\n    <tr>\n      <th>2794</th>\n      <td>6</td>\n      <td>Just a 6 for a near perfect film.</td>\n      <td>m-nicolaou-86-661254</td>\n      <td>24 July 2023</td>\n      <td>0</td>\n      <td>1</td>\n      <td>Ok let me start by the obvious ratings which w...</td>\n      <td>0</td>\n    </tr>\n    <tr>\n      <th>2795</th>\n      <td>6</td>\n      <td>No need to be 3 hours</td>\n      <td>scottahaynie</td>\n      <td>24 July 2023</td>\n      <td>0</td>\n      <td>0</td>\n      <td>Acting was tremendous and the true story behin...</td>\n      <td>0</td>\n    </tr>\n    <tr>\n      <th>2796</th>\n      <td>6</td>\n      <td>Disappointing</td>\n      <td>krisdevos</td>\n      <td>22 July 2023</td>\n      <td>0</td>\n      <td>0</td>\n      <td>Totally underwhelmed with Oppenheimer.\\n\\nEnri...</td>\n      <td>0</td>\n    </tr>\n  </tbody>\n</table>\n<p>2797 rows × 8 columns</p>\n</div>"
     },
     "execution_count": 122,
     "metadata": {},
     "output_type": "execute_result"
    }
   ],
   "source": [
    "df"
   ],
   "metadata": {
    "collapsed": false,
    "ExecuteTime": {
     "end_time": "2023-08-26T00:50:22.067390676Z",
     "start_time": "2023-08-26T00:50:22.065300454Z"
    }
   }
  },
  {
   "cell_type": "code",
   "execution_count": 123,
   "outputs": [],
   "source": [
    "import matplotlib.pyplot as plt\n",
    "import seaborn as sns\n",
    "import numpy as np"
   ],
   "metadata": {
    "collapsed": false,
    "ExecuteTime": {
     "end_time": "2023-08-26T00:50:22.067556072Z",
     "start_time": "2023-08-26T00:50:22.065596253Z"
    }
   }
  },
  {
   "cell_type": "code",
   "execution_count": 128,
   "outputs": [
    {
     "ename": "TypeError",
     "evalue": "Cannot perform 'rand_' with a dtyped [bool] array and scalar of type [bool]",
     "output_type": "error",
     "traceback": [
      "\u001B[0;31m---------------------------------------------------------------------------\u001B[0m",
      "\u001B[0;31mTypeError\u001B[0m                                 Traceback (most recent call last)",
      "File \u001B[0;32m~/.local/lib/python3.10/site-packages/pandas/core/ops/array_ops.py:311\u001B[0m, in \u001B[0;36mna_logical_op\u001B[0;34m(x, y, op)\u001B[0m\n\u001B[1;32m    302\u001B[0m \u001B[38;5;28;01mtry\u001B[39;00m:\n\u001B[1;32m    303\u001B[0m     \u001B[38;5;66;03m# For exposition, write:\u001B[39;00m\n\u001B[1;32m    304\u001B[0m     \u001B[38;5;66;03m#  yarr = isinstance(y, np.ndarray)\u001B[39;00m\n\u001B[0;32m   (...)\u001B[0m\n\u001B[1;32m    309\u001B[0m     \u001B[38;5;66;03m# Then Cases where this goes through without raising include:\u001B[39;00m\n\u001B[1;32m    310\u001B[0m     \u001B[38;5;66;03m#  (xint or xbool) and (yint or bool)\u001B[39;00m\n\u001B[0;32m--> 311\u001B[0m     result \u001B[38;5;241m=\u001B[39m \u001B[43mop\u001B[49m\u001B[43m(\u001B[49m\u001B[43mx\u001B[49m\u001B[43m,\u001B[49m\u001B[43m \u001B[49m\u001B[43my\u001B[49m\u001B[43m)\u001B[49m\n\u001B[1;32m    312\u001B[0m \u001B[38;5;28;01mexcept\u001B[39;00m \u001B[38;5;167;01mTypeError\u001B[39;00m:\n",
      "File \u001B[0;32m~/.local/lib/python3.10/site-packages/pandas/core/roperator.py:54\u001B[0m, in \u001B[0;36mrand_\u001B[0;34m(left, right)\u001B[0m\n\u001B[1;32m     53\u001B[0m \u001B[38;5;28;01mdef\u001B[39;00m \u001B[38;5;21mrand_\u001B[39m(left, right):\n\u001B[0;32m---> 54\u001B[0m     \u001B[38;5;28;01mreturn\u001B[39;00m \u001B[43moperator\u001B[49m\u001B[38;5;241;43m.\u001B[39;49m\u001B[43mand_\u001B[49m\u001B[43m(\u001B[49m\u001B[43mright\u001B[49m\u001B[43m,\u001B[49m\u001B[43m \u001B[49m\u001B[43mleft\u001B[49m\u001B[43m)\u001B[49m\n",
      "\u001B[0;31mTypeError\u001B[0m: ufunc 'bitwise_and' not supported for the input types, and the inputs could not be safely coerced to any supported types according to the casting rule ''safe''",
      "\nDuring handling of the above exception, another exception occurred:\n",
      "\u001B[0;31mValueError\u001B[0m                                Traceback (most recent call last)",
      "File \u001B[0;32m~/.local/lib/python3.10/site-packages/pandas/core/ops/array_ops.py:325\u001B[0m, in \u001B[0;36mna_logical_op\u001B[0;34m(x, y, op)\u001B[0m\n\u001B[1;32m    324\u001B[0m \u001B[38;5;28;01mtry\u001B[39;00m:\n\u001B[0;32m--> 325\u001B[0m     result \u001B[38;5;241m=\u001B[39m \u001B[43mlibops\u001B[49m\u001B[38;5;241;43m.\u001B[39;49m\u001B[43mscalar_binop\u001B[49m\u001B[43m(\u001B[49m\u001B[43mx\u001B[49m\u001B[43m,\u001B[49m\u001B[43m \u001B[49m\u001B[43my\u001B[49m\u001B[43m,\u001B[49m\u001B[43m \u001B[49m\u001B[43mop\u001B[49m\u001B[43m)\u001B[49m\n\u001B[1;32m    326\u001B[0m \u001B[38;5;28;01mexcept\u001B[39;00m (\n\u001B[1;32m    327\u001B[0m     \u001B[38;5;167;01mTypeError\u001B[39;00m,\n\u001B[1;32m    328\u001B[0m     \u001B[38;5;167;01mValueError\u001B[39;00m,\n\u001B[0;32m   (...)\u001B[0m\n\u001B[1;32m    331\u001B[0m     \u001B[38;5;167;01mNotImplementedError\u001B[39;00m,\n\u001B[1;32m    332\u001B[0m ) \u001B[38;5;28;01mas\u001B[39;00m err:\n",
      "File \u001B[0;32m~/.local/lib/python3.10/site-packages/pandas/_libs/ops.pyx:180\u001B[0m, in \u001B[0;36mpandas._libs.ops.scalar_binop\u001B[0;34m()\u001B[0m\n",
      "\u001B[0;31mValueError\u001B[0m: Buffer dtype mismatch, expected 'Python object' but got 'bool'",
      "\nThe above exception was the direct cause of the following exception:\n",
      "\u001B[0;31mTypeError\u001B[0m                                 Traceback (most recent call last)",
      "Cell \u001B[0;32mIn[128], line 9\u001B[0m\n\u001B[1;32m      7\u001B[0m numeric_df[\u001B[38;5;124m'\u001B[39m\u001B[38;5;124misBarbie\u001B[39m\u001B[38;5;124m'\u001B[39m] \u001B[38;5;241m=\u001B[39m df[\u001B[38;5;124m'\u001B[39m\u001B[38;5;124misBarbie\u001B[39m\u001B[38;5;124m'\u001B[39m]\n\u001B[1;32m      8\u001B[0m numeric_df[\u001B[38;5;124m'\u001B[39m\u001B[38;5;124mscore\u001B[39m\u001B[38;5;124m'\u001B[39m] \u001B[38;5;241m=\u001B[39m df[\u001B[38;5;124m'\u001B[39m\u001B[38;5;124mscore\u001B[39m\u001B[38;5;124m'\u001B[39m]\n\u001B[0;32m----> 9\u001B[0m numeric_df[\u001B[38;5;124m'\u001B[39m\u001B[38;5;124mdate\u001B[39m\u001B[38;5;124m'\u001B[39m] \u001B[38;5;241m=\u001B[39m df[df[\u001B[38;5;124;43m'\u001B[39;49m\u001B[38;5;124;43mdate\u001B[39;49m\u001B[38;5;124;43m'\u001B[39;49m\u001B[43m \u001B[49m\u001B[38;5;241;43m&\u001B[39;49m\u001B[43m \u001B[49m\u001B[38;5;241;43m~\u001B[39;49m\u001B[43mdf\u001B[49m\u001B[43m[\u001B[49m\u001B[38;5;124;43m'\u001B[39;49m\u001B[38;5;124;43mdate\u001B[39;49m\u001B[38;5;124;43m'\u001B[39;49m\u001B[43m]\u001B[49m\u001B[38;5;241;43m.\u001B[39;49m\u001B[43mstr\u001B[49m\u001B[38;5;241;43m.\u001B[39;49m\u001B[43mcontains\u001B[49m\u001B[43m(\u001B[49m\u001B[38;5;124;43m'\u001B[39;49m\u001B[38;5;124;43mIMAX\u001B[39;49m\u001B[38;5;124;43m'\u001B[39;49m\u001B[43m)\u001B[49m]]\n\u001B[1;32m     10\u001B[0m numeric_df[\u001B[38;5;124m'\u001B[39m\u001B[38;5;124mtotal_people_viewed\u001B[39m\u001B[38;5;124m'\u001B[39m] \u001B[38;5;241m=\u001B[39m df[\u001B[38;5;124m'\u001B[39m\u001B[38;5;124mtotal_people_viewed\u001B[39m\u001B[38;5;124m'\u001B[39m]\n\u001B[1;32m     11\u001B[0m numeric_df[\u001B[38;5;124m'\u001B[39m\u001B[38;5;124mpeople_found_helpful\u001B[39m\u001B[38;5;124m'\u001B[39m] \u001B[38;5;241m=\u001B[39m df[\u001B[38;5;124m'\u001B[39m\u001B[38;5;124mpeople_found_helpful\u001B[39m\u001B[38;5;124m'\u001B[39m]\n",
      "File \u001B[0;32m~/.local/lib/python3.10/site-packages/pandas/core/ops/common.py:81\u001B[0m, in \u001B[0;36m_unpack_zerodim_and_defer.<locals>.new_method\u001B[0;34m(self, other)\u001B[0m\n\u001B[1;32m     77\u001B[0m             \u001B[38;5;28;01mreturn\u001B[39;00m \u001B[38;5;28mNotImplemented\u001B[39m\n\u001B[1;32m     79\u001B[0m other \u001B[38;5;241m=\u001B[39m item_from_zerodim(other)\n\u001B[0;32m---> 81\u001B[0m \u001B[38;5;28;01mreturn\u001B[39;00m \u001B[43mmethod\u001B[49m\u001B[43m(\u001B[49m\u001B[38;5;28;43mself\u001B[39;49m\u001B[43m,\u001B[49m\u001B[43m \u001B[49m\u001B[43mother\u001B[49m\u001B[43m)\u001B[49m\n",
      "File \u001B[0;32m~/.local/lib/python3.10/site-packages/pandas/core/arraylike.py:74\u001B[0m, in \u001B[0;36mOpsMixin.__rand__\u001B[0;34m(self, other)\u001B[0m\n\u001B[1;32m     72\u001B[0m \u001B[38;5;129m@unpack_zerodim_and_defer\u001B[39m(\u001B[38;5;124m\"\u001B[39m\u001B[38;5;124m__rand__\u001B[39m\u001B[38;5;124m\"\u001B[39m)\n\u001B[1;32m     73\u001B[0m \u001B[38;5;28;01mdef\u001B[39;00m \u001B[38;5;21m__rand__\u001B[39m(\u001B[38;5;28mself\u001B[39m, other):\n\u001B[0;32m---> 74\u001B[0m     \u001B[38;5;28;01mreturn\u001B[39;00m \u001B[38;5;28;43mself\u001B[39;49m\u001B[38;5;241;43m.\u001B[39;49m\u001B[43m_logical_method\u001B[49m\u001B[43m(\u001B[49m\u001B[43mother\u001B[49m\u001B[43m,\u001B[49m\u001B[43m \u001B[49m\u001B[43mroperator\u001B[49m\u001B[38;5;241;43m.\u001B[39;49m\u001B[43mrand_\u001B[49m\u001B[43m)\u001B[49m\n",
      "File \u001B[0;32m~/.local/lib/python3.10/site-packages/pandas/core/series.py:6107\u001B[0m, in \u001B[0;36mSeries._logical_method\u001B[0;34m(self, other, op)\u001B[0m\n\u001B[1;32m   6104\u001B[0m lvalues \u001B[38;5;241m=\u001B[39m \u001B[38;5;28mself\u001B[39m\u001B[38;5;241m.\u001B[39m_values\n\u001B[1;32m   6105\u001B[0m rvalues \u001B[38;5;241m=\u001B[39m extract_array(other, extract_numpy\u001B[38;5;241m=\u001B[39m\u001B[38;5;28;01mTrue\u001B[39;00m, extract_range\u001B[38;5;241m=\u001B[39m\u001B[38;5;28;01mTrue\u001B[39;00m)\n\u001B[0;32m-> 6107\u001B[0m res_values \u001B[38;5;241m=\u001B[39m \u001B[43mops\u001B[49m\u001B[38;5;241;43m.\u001B[39;49m\u001B[43mlogical_op\u001B[49m\u001B[43m(\u001B[49m\u001B[43mlvalues\u001B[49m\u001B[43m,\u001B[49m\u001B[43m \u001B[49m\u001B[43mrvalues\u001B[49m\u001B[43m,\u001B[49m\u001B[43m \u001B[49m\u001B[43mop\u001B[49m\u001B[43m)\u001B[49m\n\u001B[1;32m   6108\u001B[0m \u001B[38;5;28;01mreturn\u001B[39;00m \u001B[38;5;28mself\u001B[39m\u001B[38;5;241m.\u001B[39m_construct_result(res_values, name\u001B[38;5;241m=\u001B[39mres_name)\n",
      "File \u001B[0;32m~/.local/lib/python3.10/site-packages/pandas/core/ops/array_ops.py:401\u001B[0m, in \u001B[0;36mlogical_op\u001B[0;34m(left, right, op)\u001B[0m\n\u001B[1;32m    397\u001B[0m \u001B[38;5;66;03m# For int vs int `^`, `|`, `&` are bitwise operators and return\u001B[39;00m\n\u001B[1;32m    398\u001B[0m \u001B[38;5;66;03m#   integer dtypes.  Otherwise these are boolean ops\u001B[39;00m\n\u001B[1;32m    399\u001B[0m filler \u001B[38;5;241m=\u001B[39m fill_int \u001B[38;5;28;01mif\u001B[39;00m is_self_int_dtype \u001B[38;5;129;01mand\u001B[39;00m is_other_int_dtype \u001B[38;5;28;01melse\u001B[39;00m fill_bool\n\u001B[0;32m--> 401\u001B[0m res_values \u001B[38;5;241m=\u001B[39m \u001B[43mna_logical_op\u001B[49m\u001B[43m(\u001B[49m\u001B[43mlvalues\u001B[49m\u001B[43m,\u001B[49m\u001B[43m \u001B[49m\u001B[43mrvalues\u001B[49m\u001B[43m,\u001B[49m\u001B[43m \u001B[49m\u001B[43mop\u001B[49m\u001B[43m)\u001B[49m\n\u001B[1;32m    402\u001B[0m \u001B[38;5;66;03m# error: Cannot call function of unknown type\u001B[39;00m\n\u001B[1;32m    403\u001B[0m res_values \u001B[38;5;241m=\u001B[39m filler(res_values)  \u001B[38;5;66;03m# type: ignore[operator]\u001B[39;00m\n",
      "File \u001B[0;32m~/.local/lib/python3.10/site-packages/pandas/core/ops/array_ops.py:334\u001B[0m, in \u001B[0;36mna_logical_op\u001B[0;34m(x, y, op)\u001B[0m\n\u001B[1;32m    326\u001B[0m         \u001B[38;5;28;01mexcept\u001B[39;00m (\n\u001B[1;32m    327\u001B[0m             \u001B[38;5;167;01mTypeError\u001B[39;00m,\n\u001B[1;32m    328\u001B[0m             \u001B[38;5;167;01mValueError\u001B[39;00m,\n\u001B[0;32m   (...)\u001B[0m\n\u001B[1;32m    331\u001B[0m             \u001B[38;5;167;01mNotImplementedError\u001B[39;00m,\n\u001B[1;32m    332\u001B[0m         ) \u001B[38;5;28;01mas\u001B[39;00m err:\n\u001B[1;32m    333\u001B[0m             typ \u001B[38;5;241m=\u001B[39m \u001B[38;5;28mtype\u001B[39m(y)\u001B[38;5;241m.\u001B[39m\u001B[38;5;18m__name__\u001B[39m\n\u001B[0;32m--> 334\u001B[0m             \u001B[38;5;28;01mraise\u001B[39;00m \u001B[38;5;167;01mTypeError\u001B[39;00m(\n\u001B[1;32m    335\u001B[0m                 \u001B[38;5;124mf\u001B[39m\u001B[38;5;124m\"\u001B[39m\u001B[38;5;124mCannot perform \u001B[39m\u001B[38;5;124m'\u001B[39m\u001B[38;5;132;01m{\u001B[39;00mop\u001B[38;5;241m.\u001B[39m\u001B[38;5;18m__name__\u001B[39m\u001B[38;5;132;01m}\u001B[39;00m\u001B[38;5;124m'\u001B[39m\u001B[38;5;124m with a dtyped [\u001B[39m\u001B[38;5;132;01m{\u001B[39;00mx\u001B[38;5;241m.\u001B[39mdtype\u001B[38;5;132;01m}\u001B[39;00m\u001B[38;5;124m] array \u001B[39m\u001B[38;5;124m\"\u001B[39m\n\u001B[1;32m    336\u001B[0m                 \u001B[38;5;124mf\u001B[39m\u001B[38;5;124m\"\u001B[39m\u001B[38;5;124mand scalar of type [\u001B[39m\u001B[38;5;132;01m{\u001B[39;00mtyp\u001B[38;5;132;01m}\u001B[39;00m\u001B[38;5;124m]\u001B[39m\u001B[38;5;124m\"\u001B[39m\n\u001B[1;32m    337\u001B[0m             ) \u001B[38;5;28;01mfrom\u001B[39;00m \u001B[38;5;21;01merr\u001B[39;00m\n\u001B[1;32m    339\u001B[0m \u001B[38;5;28;01mreturn\u001B[39;00m result\u001B[38;5;241m.\u001B[39mreshape(x\u001B[38;5;241m.\u001B[39mshape)\n",
      "\u001B[0;31mTypeError\u001B[0m: Cannot perform 'rand_' with a dtyped [bool] array and scalar of type [bool]"
     ]
    }
   ],
   "source": [
    "# Creating graphable data\n",
    "\n",
    "# numeric_df = pd.DataFrame(columns=['isBarbie', 'score', 'people_found_helpful', 'total_people_viewed', 'helpful_ratio', 'date', 'date_from_release','length_of_title', 'length_of_username', 'length_of_review'])\n",
    "numeric_df = pd.DataFrame(columns=['isBarbie', 'score', 'date', 'people_found_helpful', 'total_people_viewed', 'helpful_ratio','length_of_title', 'length_of_username', 'length_of_review'])\n",
    "\n",
    "\n",
    "numeric_df['isBarbie'] = df['isBarbie']\n",
    "numeric_df['score'] = df['score']\n",
    "numeric_df['date'] = df['date']\n",
    "numeric_df['total_people_viewed'] = df['total_people_viewed']\n",
    "numeric_df['people_found_helpful'] = df['people_found_helpful']\n",
    "numeric_df['helpful_ratio'] = df['people_found_helpful'] / df['total_people_viewed']\n",
    "numeric_df['length_of_title'] = df['title'].apply(lambda x: len(x))\n",
    "numeric_df['length_of_username'] = df['username'].apply(lambda x: len(x))\n",
    "numeric_df['length_of_review'] = df['review'].apply(lambda x: len(x))\n",
    "\n",
    "numeric_df = numeric_df[~numeric_df['date'].str.contains('IMAX')]\n",
    "numeric_df['date'] = pd.to_datetime(df['date'], format='%d %B %Y')\n",
    "numeric_df['date_from_release'] = (numeric_df['date'] - pd.to_datetime('2023-07-23', format='%Y-%m-%d')).dt.days"
   ],
   "metadata": {
    "collapsed": false,
    "ExecuteTime": {
     "end_time": "2023-08-26T00:52:10.702633883Z",
     "start_time": "2023-08-26T00:52:10.570733626Z"
    }
   }
  },
  {
   "cell_type": "code",
   "execution_count": null,
   "outputs": [],
   "source": [
    "numeric_df"
   ],
   "metadata": {
    "collapsed": false,
    "ExecuteTime": {
     "start_time": "2023-08-26T00:50:22.109362746Z"
    }
   }
  },
  {
   "cell_type": "code",
   "execution_count": null,
   "outputs": [],
   "source": [
    "# Coorelation Matrix\n",
    "\n",
    "drop_na_df = numeric_df[numeric_df['score'] != 'NULL']\n",
    "\n",
    "fig1 = plt.figure(figsize=(10, 10))\n",
    "ax1 = fig1.add_subplot(111)\n",
    "\n",
    "cmap = sns.diverging_palette(0, 255, n=256, as_cmap=True)\n",
    "\n",
    "sns.heatmap(data=drop_na_df.corr(), ax=ax1, cmap=cmap, annot=True)\n",
    "\n",
    "plt.show()"
   ],
   "metadata": {
    "collapsed": false,
    "ExecuteTime": {
     "start_time": "2023-08-26T00:50:22.109511449Z"
    }
   }
  },
  {
   "cell_type": "code",
   "execution_count": null,
   "outputs": [],
   "source": [
    "fig2 = plt.figure(figsize=(10, 10))\n",
    "ax2 = fig2.add_subplot(111)\n",
    "\n",
    "sns.boxplot(data=numeric_df, x='isBarbie', y='date_from_release', ax=ax2)\n",
    "\n",
    "plt.show()"
   ],
   "metadata": {
    "collapsed": false,
    "ExecuteTime": {
     "start_time": "2023-08-26T00:50:22.152947219Z"
    }
   }
  },
  {
   "cell_type": "code",
   "execution_count": null,
   "outputs": [],
   "source": [
    "group_by = df.groupby('movie_id')\n",
    "for movie_id, group_data in group_by:\n",
    "    plt.figure(figsize=(8, 8))\n",
    "    plt.hist(group_data['score'], edgecolor='black')\n",
    "    plt.title(f'Score Distribution for Movie ID {movie_id}')\n",
    "    plt.xlabel('Score')\n",
    "    plt.ylabel('Frequency')\n",
    "    plt.show()"
   ],
   "metadata": {
    "collapsed": false
   }
  }
 ]
}
