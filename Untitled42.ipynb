{
 "nbformat": 4,
 "nbformat_minor": 0,
 "metadata": {
  "colab": {
   "provenance": []
  },
  "kernelspec": {
   "name": "python3",
   "language": "python",
   "display_name": "Python 3 (ipykernel)"
  },
  "language_info": {
   "name": "python"
  }
 },
 "cells": [
  {
   "cell_type": "code",
   "source": [
    "# from google.colab import drive\n",
    "# drive.mount('/content/drive')"
   ],
   "metadata": {
    "id": "0G3TRhOEM5-J",
    "colab": {
     "base_uri": "https://localhost:8080/"
    },
    "outputId": "7f5d180b-b9f4-4524-867e-89b93a4a6738",
    "ExecuteTime": {
     "end_time": "2023-09-12T04:53:47.577698690Z",
     "start_time": "2023-09-12T04:53:47.284940649Z"
    }
   },
   "execution_count": 2,
   "outputs": []
  },
  {
   "cell_type": "code",
   "execution_count": 3,
   "metadata": {
    "id": "YsmlH0sWehrb",
    "ExecuteTime": {
     "end_time": "2023-09-12T04:53:47.942150829Z",
     "start_time": "2023-09-12T04:53:47.292427303Z"
    }
   },
   "outputs": [],
   "source": [
    "import pandas as pd\n",
    "\n",
    "df_bb = pd.read_csv('./data/imdb_barbie_Uncleaned.csv', header=None)\n",
    "df_op = pd.read_csv('./data/imdb_oppenhimmer_Uncleaned.csv', header=None)\n",
    "df_bb.drop_duplicates(inplace=True)\n",
    "df_op.drop_duplicates(inplace=True)\n"
   ]
  },
  {
   "cell_type": "code",
   "source": [
    "import re\n",
    "\n",
    "score_Reg = '(\\d{1,2})\\/\\d{1,2}\\s.*\\s'\n",
    "title_Reg = '\\d{1,2}\\/\\d{1,2}\\s(.*)'\n",
    "people_found_helpful_Reg = '([\\d,]*) out of ([\\d,]*) found this helpful'\n",
    "username_Reg = '\\d{1,2}\\/\\d{1,2}\\s.*\\s([A-Za-z0-9_-]+)\\d{2}\\s(?:January|February|March|April|June|July|August|September|October|November|December)'\n",
    "date_Reg = '(\\d{1,2}\\s(?:January|February|March|April|June|July|August|September|October|November|December)\\s\\d{4})'\n",
    "review_Reg = '\\d{1,2}\\s\\w+\\s\\d{4}\\s([\\s\\S]*)\\s[\\d,]* out of [\\d,]* found this helpful'"
   ],
   "metadata": {
    "id": "orzhV8cUG16Q",
    "ExecuteTime": {
     "end_time": "2023-09-12T04:53:47.942539423Z",
     "start_time": "2023-09-12T04:53:47.942013173Z"
    }
   },
   "execution_count": 4,
   "outputs": []
  },
  {
   "cell_type": "code",
   "source": [
    "# Regular Expression test code\n",
    "\n",
    "test_text = df_bb.iloc[0][0]\n",
    "\n",
    "# print(test_text)\n",
    "\n",
    "res = re.findall(score_Reg, test_text)\n",
    "print(res)\n",
    "\n",
    "res = re.findall(title_Reg, test_text)\n",
    "print(res)\n",
    "\n",
    "res = re.findall(username_Reg, test_text)\n",
    "print(res)\n",
    "\n",
    "res = re.findall(date_Reg, test_text)\n",
    "print(res)\n",
    "\n",
    "res = re.findall(people_found_helpful_Reg, test_text)\n",
    "print(res)\n",
    "print(int(res[0][0].replace(',', '')))\n",
    "print(int(res[0][1].replace(',', '')))\n",
    "\n",
    "res = re.findall(review_Reg, test_text)\n",
    "# print(res)"
   ],
   "metadata": {
    "colab": {
     "base_uri": "https://localhost:8080/"
    },
    "id": "5lo-hbsEG5bt",
    "outputId": "75c620ac-b855-4734-d178-e98122183e34",
    "ExecuteTime": {
     "end_time": "2023-09-12T04:53:47.946798036Z",
     "start_time": "2023-09-12T04:53:47.942300079Z"
    }
   },
   "execution_count": 5,
   "outputs": [
    {
     "name": "stdout",
     "output_type": "stream",
     "text": [
      "['6']\n",
      "['Creative but preachy and confusing']\n",
      "['Imshortok06']\n",
      "['23 July 2023']\n",
      "[('1,007', '1,363')]\n",
      "1007\n",
      "1363\n",
      "['I\\'m just going to get straight to the point: I liked some aspects of this movie and disliked other parts. Cinematography: awesome. Choreographed musical numbers: hilarious. Comedy: good. Margot Robbie: great. Ryan Gosling: awesome, and arguably the best part of the movie. The scenery and props really did help create the world. The storyline started off very intriguing. However, when the movie got to the meat of the plot and the central conflict, its message became confusing. It\\'s like they wanted to make Ken the bad guy yet also sympathetic, which is not impossible or unheard of, but the way the writers did this was ineffective. Also, the resolution didn\\'t make sense based on the message and events that led up to it. Lastly, I really hate it when movies try to empower women by dumbing down the men. I get that in a Barbie world, Ken is an afterthought, but in the real world all men were also dumb. They also treated masculine qualities as \"evil.\" I hate stereotyping people, men included, and it\\'s like all men ride horses and have fragile egos and drink \"brewskies.\" And for goodness sake, if I had a dollar for every time the movie said \"patriarchy\", I\\'d be rich. So, overall, I give this movie a 6/10.']\n"
     ]
    }
   ]
  },
  {
   "cell_type": "code",
   "source": [
    "# Clean every row in data set\n",
    "\n",
    "def get_cleaned_df(dirty_df):\n",
    "\t# cleaned_df = pd.DataFrame(columns=['score', 'title', 'username', 'date', 'people_found_helpful', 'review'])\n",
    "\tcleaned_df = pd.DataFrame(columns=['score', 'title', 'username', 'date', 'people_found_helpful', 'total_people_viewed', 'review'])\n",
    "\n",
    "\tfor index in range(len(dirty_df)):\n",
    "\t\trow = dirty_df.iloc[index][0]\n",
    "\n",
    "\t\tscore = re.findall(score_Reg, row)\n",
    "\t\ttitle = re.findall(title_Reg, row)\n",
    "\t\tusername = re.findall(username_Reg, row)\n",
    "\t\tdate = re.findall(date_Reg, row)\n",
    "\t\tpeople_found_helpful = re.findall(people_found_helpful_Reg, row)\n",
    "\t\treview = re.findall(review_Reg, row)\n",
    "\n",
    "\t\tif not score:\n",
    "\t\t\tscore = 'NULL'\n",
    "\t\t\tcontinue\n",
    "\t\telse:\n",
    "\t\t\tscore = int(score[0])\n",
    "\t\tif not title:\n",
    "\t\t\ttitle = ['NULL']\n",
    "\t\tif not username:\n",
    "\t\t\tusername = ['NULL']\n",
    "\t\tif not date:\n",
    "\t\t\tdate = ['NULL']\n",
    "\t\tif not people_found_helpful:\n",
    "\t\t\tpeople_found_helpful = 'NULL'\n",
    "\t\t\ttotal_people_viewed = 'NULL'\n",
    "\t\telse:\n",
    "\t\t\ttotal_people_viewed = int(people_found_helpful[0][1].replace(',', ''))\n",
    "\t\t\tpeople_found_helpful = int(people_found_helpful[0][0].replace(',', ''))\n",
    "\t\tif not review:\n",
    "\t\t\treview = ['NULL']\n",
    "\n",
    "\t\tcleaned_df.loc[index] = [score, title[0], username[0], date[0], people_found_helpful, total_people_viewed, review[0]]\n",
    "\treturn cleaned_df"
   ],
   "metadata": {
    "id": "is8XvAx2HE5_",
    "ExecuteTime": {
     "end_time": "2023-09-12T04:53:47.947438127Z",
     "start_time": "2023-09-12T04:53:47.942494236Z"
    }
   },
   "execution_count": 6,
   "outputs": []
  },
  {
   "cell_type": "code",
   "source": [
    "cleand_df_bb = get_cleaned_df(df_bb)\n",
    "cleand_df_bb.drop_duplicates(subset=['username'], inplace=True)"
   ],
   "metadata": {
    "id": "rEup6TxZHRM-",
    "ExecuteTime": {
     "end_time": "2023-09-12T04:53:48.802409520Z",
     "start_time": "2023-09-12T04:53:47.942649283Z"
    }
   },
   "execution_count": 7,
   "outputs": []
  },
  {
   "cell_type": "code",
   "source": [
    "cleand_df_op = get_cleaned_df(df_op)\n",
    "cleand_df_op.drop_duplicates(subset=['username'], inplace=True)"
   ],
   "metadata": {
    "id": "SkO9m6jcHZfH",
    "ExecuteTime": {
     "end_time": "2023-09-12T04:53:50.580104240Z",
     "start_time": "2023-09-12T04:53:48.933438895Z"
    }
   },
   "execution_count": 8,
   "outputs": []
  },
  {
   "cell_type": "code",
   "source": [
    "cleand_df_op"
   ],
   "metadata": {
    "colab": {
     "base_uri": "https://localhost:8080/",
     "height": 424
    },
    "id": "1XGLW1i7Hea-",
    "outputId": "70dae0c6-d496-4c9d-bb8e-b1c6ec56043c",
    "ExecuteTime": {
     "end_time": "2023-09-12T04:53:50.602176168Z",
     "start_time": "2023-09-12T04:53:50.578452575Z"
    }
   },
   "execution_count": 9,
   "outputs": [
    {
     "data": {
      "text/plain": "      score                                              title  \\\n0         9                              Murphy is exceptional   \n1         8  A challenging watch to be sure, but a worthwhi...   \n2        10  A brilliantly layered examination of a man thr...   \n3        10  Nolan delivers a powerfull biopic that shows t...   \n4        10                                      A Masterpiece   \n...     ...                                                ...   \n2031      7         Huge story, but production fails sometimes   \n2032      6                                            Tweaked   \n2033      6                  Just a 6 for a near perfect film.   \n2034      6                              No need to be 3 hours   \n2035      6                                      Disappointing   \n\n                  username          date  people_found_helpful  \\\n0          Orlando_Gardner  19 July 2023                  1413   \n1          Jeremy_Urquhart  20 July 2023                   685   \n2                 MrDHWong  20 July 2023                   556   \n3            and_mikkelsen  20 July 2023                   358   \n4      mohameddawoud-26019  19 July 2023                   670   \n...                    ...           ...                   ...   \n2031        andreverschoor  27 July 2023                     1   \n2032                 fmacr  25 July 2023                     1   \n2033  m-nicolaou-86-661254  24 July 2023                     0   \n2034          scottahaynie  24 July 2023                     0   \n2035             krisdevos  22 July 2023                     0   \n\n      total_people_viewed                                             review  \n0                    1597  You'll have to have your wits about you and yo...  \n1                     819  One of the most anticipated films of the year ...  \n2                     691  \"Oppenheimer\" is a biographical thriller film ...  \n3                     457  This movie is just... wow! I don't think I hav...  \n4                     833  I may consider myself lucky to be alive to wat...  \n...                   ...                                                ...  \n2031                    3  Loved the movie, loved the actors efforts. Aft...  \n2032                    7  I suppose these reviews are tweaked, otherwise...  \n2033                    1  Ok let me start by the obvious ratings which w...  \n2034                    0  Acting was tremendous and the true story behin...  \n2035                    0  Totally underwhelmed with Oppenheimer.\\n\\nEnri...  \n\n[2013 rows x 7 columns]",
      "text/html": "<div>\n<style scoped>\n    .dataframe tbody tr th:only-of-type {\n        vertical-align: middle;\n    }\n\n    .dataframe tbody tr th {\n        vertical-align: top;\n    }\n\n    .dataframe thead th {\n        text-align: right;\n    }\n</style>\n<table border=\"1\" class=\"dataframe\">\n  <thead>\n    <tr style=\"text-align: right;\">\n      <th></th>\n      <th>score</th>\n      <th>title</th>\n      <th>username</th>\n      <th>date</th>\n      <th>people_found_helpful</th>\n      <th>total_people_viewed</th>\n      <th>review</th>\n    </tr>\n  </thead>\n  <tbody>\n    <tr>\n      <th>0</th>\n      <td>9</td>\n      <td>Murphy is exceptional</td>\n      <td>Orlando_Gardner</td>\n      <td>19 July 2023</td>\n      <td>1413</td>\n      <td>1597</td>\n      <td>You'll have to have your wits about you and yo...</td>\n    </tr>\n    <tr>\n      <th>1</th>\n      <td>8</td>\n      <td>A challenging watch to be sure, but a worthwhi...</td>\n      <td>Jeremy_Urquhart</td>\n      <td>20 July 2023</td>\n      <td>685</td>\n      <td>819</td>\n      <td>One of the most anticipated films of the year ...</td>\n    </tr>\n    <tr>\n      <th>2</th>\n      <td>10</td>\n      <td>A brilliantly layered examination of a man thr...</td>\n      <td>MrDHWong</td>\n      <td>20 July 2023</td>\n      <td>556</td>\n      <td>691</td>\n      <td>\"Oppenheimer\" is a biographical thriller film ...</td>\n    </tr>\n    <tr>\n      <th>3</th>\n      <td>10</td>\n      <td>Nolan delivers a powerfull biopic that shows t...</td>\n      <td>and_mikkelsen</td>\n      <td>20 July 2023</td>\n      <td>358</td>\n      <td>457</td>\n      <td>This movie is just... wow! I don't think I hav...</td>\n    </tr>\n    <tr>\n      <th>4</th>\n      <td>10</td>\n      <td>A Masterpiece</td>\n      <td>mohameddawoud-26019</td>\n      <td>19 July 2023</td>\n      <td>670</td>\n      <td>833</td>\n      <td>I may consider myself lucky to be alive to wat...</td>\n    </tr>\n    <tr>\n      <th>...</th>\n      <td>...</td>\n      <td>...</td>\n      <td>...</td>\n      <td>...</td>\n      <td>...</td>\n      <td>...</td>\n      <td>...</td>\n    </tr>\n    <tr>\n      <th>2031</th>\n      <td>7</td>\n      <td>Huge story, but production fails sometimes</td>\n      <td>andreverschoor</td>\n      <td>27 July 2023</td>\n      <td>1</td>\n      <td>3</td>\n      <td>Loved the movie, loved the actors efforts. Aft...</td>\n    </tr>\n    <tr>\n      <th>2032</th>\n      <td>6</td>\n      <td>Tweaked</td>\n      <td>fmacr</td>\n      <td>25 July 2023</td>\n      <td>1</td>\n      <td>7</td>\n      <td>I suppose these reviews are tweaked, otherwise...</td>\n    </tr>\n    <tr>\n      <th>2033</th>\n      <td>6</td>\n      <td>Just a 6 for a near perfect film.</td>\n      <td>m-nicolaou-86-661254</td>\n      <td>24 July 2023</td>\n      <td>0</td>\n      <td>1</td>\n      <td>Ok let me start by the obvious ratings which w...</td>\n    </tr>\n    <tr>\n      <th>2034</th>\n      <td>6</td>\n      <td>No need to be 3 hours</td>\n      <td>scottahaynie</td>\n      <td>24 July 2023</td>\n      <td>0</td>\n      <td>0</td>\n      <td>Acting was tremendous and the true story behin...</td>\n    </tr>\n    <tr>\n      <th>2035</th>\n      <td>6</td>\n      <td>Disappointing</td>\n      <td>krisdevos</td>\n      <td>22 July 2023</td>\n      <td>0</td>\n      <td>0</td>\n      <td>Totally underwhelmed with Oppenheimer.\\n\\nEnri...</td>\n    </tr>\n  </tbody>\n</table>\n<p>2013 rows × 7 columns</p>\n</div>"
     },
     "execution_count": 9,
     "metadata": {},
     "output_type": "execute_result"
    }
   ]
  },
  {
   "cell_type": "code",
   "source": [
    "import nltk"
   ],
   "metadata": {
    "id": "d5sKlNlpJz7P",
    "ExecuteTime": {
     "end_time": "2023-09-12T04:53:50.779981349Z",
     "start_time": "2023-09-12T04:53:50.585110987Z"
    }
   },
   "execution_count": 10,
   "outputs": []
  },
  {
   "cell_type": "code",
   "source": [
    "# combine the two data sets\n",
    "\n",
    "cleand_df_bb['isBarbie'] = 1\n",
    "cleand_df_op['isBarbie'] = 0\n",
    "\n",
    "df = pd.concat([cleand_df_bb, cleand_df_op], ignore_index=True)"
   ],
   "metadata": {
    "id": "0tCFZmYvNcuZ",
    "ExecuteTime": {
     "end_time": "2023-09-12T04:53:50.780220973Z",
     "start_time": "2023-09-12T04:53:50.768873170Z"
    }
   },
   "execution_count": 11,
   "outputs": []
  },
  {
   "cell_type": "code",
   "source": [
    "df"
   ],
   "metadata": {
    "colab": {
     "base_uri": "https://localhost:8080/",
     "height": 597
    },
    "id": "bdhb259nzslx",
    "outputId": "3525554b-e99a-432e-c97f-9466c4d09e98",
    "ExecuteTime": {
     "end_time": "2023-09-12T04:53:50.912041714Z",
     "start_time": "2023-09-12T04:53:50.772092482Z"
    }
   },
   "execution_count": 12,
   "outputs": [
    {
     "data": {
      "text/plain": "      score                                              title  \\\n0         6                 Creative but preachy and confusing   \n1         6                     Beautiful film, but so preachy   \n2         6  Clever and fun beginning turns into another le...   \n3         8                                  It was depressing   \n4         9                                A Technicolor Dream   \n...     ...                                                ...   \n2792      7         Huge story, but production fails sometimes   \n2793      6                                            Tweaked   \n2794      6                  Just a 6 for a near perfect film.   \n2795      6                              No need to be 3 hours   \n2796      6                                      Disappointing   \n\n                  username          date  people_found_helpful  \\\n0              Imshortok06  23 July 2023                  1007   \n1             LoveofLegacy  21 July 2023                  1190   \n2                 Binkconn  21 July 2023                   804   \n3                coxaneesa  24 July 2023                   152   \n4           heatherhilgers  24 July 2023                    20   \n...                    ...           ...                   ...   \n2792        andreverschoor  27 July 2023                     1   \n2793                 fmacr  25 July 2023                     1   \n2794  m-nicolaou-86-661254  24 July 2023                     0   \n2795          scottahaynie  24 July 2023                     0   \n2796             krisdevos  22 July 2023                     0   \n\n      total_people_viewed                                             review  \\\n0                    1363  I'm just going to get straight to the point: I...   \n1                    1646  Margot does the best with what she's given, bu...   \n2                    1173  Barbie begins in an irresistible way, as a fun...   \n3                     242                                  Warning: Spoilers   \n4                      26  Wow, this movie was a love letter to cinema. F...   \n...                   ...                                                ...   \n2792                    3  Loved the movie, loved the actors efforts. Aft...   \n2793                    7  I suppose these reviews are tweaked, otherwise...   \n2794                    1  Ok let me start by the obvious ratings which w...   \n2795                    0  Acting was tremendous and the true story behin...   \n2796                    0  Totally underwhelmed with Oppenheimer.\\n\\nEnri...   \n\n      isBarbie  \n0            1  \n1            1  \n2            1  \n3            1  \n4            1  \n...        ...  \n2792         0  \n2793         0  \n2794         0  \n2795         0  \n2796         0  \n\n[2797 rows x 8 columns]",
      "text/html": "<div>\n<style scoped>\n    .dataframe tbody tr th:only-of-type {\n        vertical-align: middle;\n    }\n\n    .dataframe tbody tr th {\n        vertical-align: top;\n    }\n\n    .dataframe thead th {\n        text-align: right;\n    }\n</style>\n<table border=\"1\" class=\"dataframe\">\n  <thead>\n    <tr style=\"text-align: right;\">\n      <th></th>\n      <th>score</th>\n      <th>title</th>\n      <th>username</th>\n      <th>date</th>\n      <th>people_found_helpful</th>\n      <th>total_people_viewed</th>\n      <th>review</th>\n      <th>isBarbie</th>\n    </tr>\n  </thead>\n  <tbody>\n    <tr>\n      <th>0</th>\n      <td>6</td>\n      <td>Creative but preachy and confusing</td>\n      <td>Imshortok06</td>\n      <td>23 July 2023</td>\n      <td>1007</td>\n      <td>1363</td>\n      <td>I'm just going to get straight to the point: I...</td>\n      <td>1</td>\n    </tr>\n    <tr>\n      <th>1</th>\n      <td>6</td>\n      <td>Beautiful film, but so preachy</td>\n      <td>LoveofLegacy</td>\n      <td>21 July 2023</td>\n      <td>1190</td>\n      <td>1646</td>\n      <td>Margot does the best with what she's given, bu...</td>\n      <td>1</td>\n    </tr>\n    <tr>\n      <th>2</th>\n      <td>6</td>\n      <td>Clever and fun beginning turns into another le...</td>\n      <td>Binkconn</td>\n      <td>21 July 2023</td>\n      <td>804</td>\n      <td>1173</td>\n      <td>Barbie begins in an irresistible way, as a fun...</td>\n      <td>1</td>\n    </tr>\n    <tr>\n      <th>3</th>\n      <td>8</td>\n      <td>It was depressing</td>\n      <td>coxaneesa</td>\n      <td>24 July 2023</td>\n      <td>152</td>\n      <td>242</td>\n      <td>Warning: Spoilers</td>\n      <td>1</td>\n    </tr>\n    <tr>\n      <th>4</th>\n      <td>9</td>\n      <td>A Technicolor Dream</td>\n      <td>heatherhilgers</td>\n      <td>24 July 2023</td>\n      <td>20</td>\n      <td>26</td>\n      <td>Wow, this movie was a love letter to cinema. F...</td>\n      <td>1</td>\n    </tr>\n    <tr>\n      <th>...</th>\n      <td>...</td>\n      <td>...</td>\n      <td>...</td>\n      <td>...</td>\n      <td>...</td>\n      <td>...</td>\n      <td>...</td>\n      <td>...</td>\n    </tr>\n    <tr>\n      <th>2792</th>\n      <td>7</td>\n      <td>Huge story, but production fails sometimes</td>\n      <td>andreverschoor</td>\n      <td>27 July 2023</td>\n      <td>1</td>\n      <td>3</td>\n      <td>Loved the movie, loved the actors efforts. Aft...</td>\n      <td>0</td>\n    </tr>\n    <tr>\n      <th>2793</th>\n      <td>6</td>\n      <td>Tweaked</td>\n      <td>fmacr</td>\n      <td>25 July 2023</td>\n      <td>1</td>\n      <td>7</td>\n      <td>I suppose these reviews are tweaked, otherwise...</td>\n      <td>0</td>\n    </tr>\n    <tr>\n      <th>2794</th>\n      <td>6</td>\n      <td>Just a 6 for a near perfect film.</td>\n      <td>m-nicolaou-86-661254</td>\n      <td>24 July 2023</td>\n      <td>0</td>\n      <td>1</td>\n      <td>Ok let me start by the obvious ratings which w...</td>\n      <td>0</td>\n    </tr>\n    <tr>\n      <th>2795</th>\n      <td>6</td>\n      <td>No need to be 3 hours</td>\n      <td>scottahaynie</td>\n      <td>24 July 2023</td>\n      <td>0</td>\n      <td>0</td>\n      <td>Acting was tremendous and the true story behin...</td>\n      <td>0</td>\n    </tr>\n    <tr>\n      <th>2796</th>\n      <td>6</td>\n      <td>Disappointing</td>\n      <td>krisdevos</td>\n      <td>22 July 2023</td>\n      <td>0</td>\n      <td>0</td>\n      <td>Totally underwhelmed with Oppenheimer.\\n\\nEnri...</td>\n      <td>0</td>\n    </tr>\n  </tbody>\n</table>\n<p>2797 rows × 8 columns</p>\n</div>"
     },
     "execution_count": 12,
     "metadata": {},
     "output_type": "execute_result"
    }
   ]
  },
  {
   "cell_type": "code",
   "execution_count": 41,
   "outputs": [
    {
     "name": "stdout",
     "output_type": "stream",
     "text": [
      "2797\n"
     ]
    }
   ],
   "source": [
    "print(len(df['review']))"
   ],
   "metadata": {
    "collapsed": false,
    "ExecuteTime": {
     "end_time": "2023-09-12T05:16:42.917775784Z",
     "start_time": "2023-09-12T05:16:42.827894842Z"
    }
   }
  },
  {
   "cell_type": "code",
   "source": [
    "# Calculates the number of instances the word \"Oppenheimer\" was used\n",
    "opp_inst = []\n",
    "from collections import Counter\n",
    "for i in range(len(df['review'])):\n",
    "  count = Counter(df['review'][i].split())\n",
    "  amount = count['Oppenheimer'] + count['oppenheimer']\n",
    "  opp_inst.append(amount)"
   ],
   "metadata": {
    "id": "GrmHCukm1JGY",
    "ExecuteTime": {
     "end_time": "2023-09-12T04:53:50.913416390Z",
     "start_time": "2023-09-12T04:53:50.813998080Z"
    }
   },
   "execution_count": 13,
   "outputs": []
  },
  {
   "cell_type": "code",
   "source": [
    "# Calculates the number of instances the word \"Barbie\" was used\n",
    "barbie_inst = []\n",
    "from collections import Counter\n",
    "for i in range(len(df['review'])):\n",
    "  count = Counter(df['review'][i].split())\n",
    "  amount = count['Barbie'] + count['barbie']\n",
    "  barbie_inst.append(amount)"
   ],
   "metadata": {
    "id": "VVbS3VfAASRK",
    "ExecuteTime": {
     "end_time": "2023-09-12T04:53:50.970125654Z",
     "start_time": "2023-09-12T04:53:50.875173523Z"
    }
   },
   "execution_count": 14,
   "outputs": []
  },
  {
   "cell_type": "code",
   "source": [
    "# Calculates the number of instances the word \"movie\" was used\n",
    "movie_inst = []\n",
    "from collections import Counter\n",
    "for i in range(len(df['review'])):\n",
    "  count = Counter(df['review'][i].split())\n",
    "  amount = count['Movie'] + count['movie']\n",
    "  movie_inst.append(amount)"
   ],
   "metadata": {
    "id": "DxFkCVN0D54B",
    "ExecuteTime": {
     "end_time": "2023-09-12T04:53:51.039772857Z",
     "start_time": "2023-09-12T04:53:50.975284306Z"
    }
   },
   "execution_count": 15,
   "outputs": []
  },
  {
   "cell_type": "code",
   "source": [
    "# Calculates the number of instances an exclamation mark was used\n",
    "excl_inst = []\n",
    "from collections import Counter\n",
    "for i in range(len(df['review'])):\n",
    "  count = Counter(df['review'][i])\n",
    "  amount = count['!']\n",
    "  excl_inst.append(amount)"
   ],
   "metadata": {
    "id": "MJDIdnxIDmtn",
    "ExecuteTime": {
     "end_time": "2023-09-12T04:53:51.149438140Z",
     "start_time": "2023-09-12T04:53:51.017841029Z"
    }
   },
   "execution_count": 16,
   "outputs": []
  },
  {
   "cell_type": "code",
   "source": [
    "sum(movie_inst)"
   ],
   "metadata": {
    "colab": {
     "base_uri": "https://localhost:8080/"
    },
    "id": "0ydOsmKT2Rf3",
    "outputId": "f38e719e-c037-4472-f005-03ce7b2f0aae",
    "ExecuteTime": {
     "end_time": "2023-09-12T04:53:51.150591840Z",
     "start_time": "2023-09-12T04:53:51.072539507Z"
    }
   },
   "execution_count": 17,
   "outputs": [
    {
     "data": {
      "text/plain": "4262"
     },
     "execution_count": 17,
     "metadata": {},
     "output_type": "execute_result"
    }
   ]
  },
  {
   "cell_type": "code",
   "source": [
    "df['review'][2200]"
   ],
   "metadata": {
    "colab": {
     "base_uri": "https://localhost:8080/",
     "height": 104
    },
    "id": "uSapt__M_SJg",
    "outputId": "589eb3b8-86c3-400f-f0b6-9ee45c85b3d2",
    "ExecuteTime": {
     "end_time": "2023-09-12T04:53:51.150932594Z",
     "start_time": "2023-09-12T04:53:51.113940645Z"
    }
   },
   "execution_count": 18,
   "outputs": [
    {
     "data": {
      "text/plain": "\"Personally, i think Christopher Nolan is the best director of all time. You have a different experience in each of his movies. The cast is great and this movie was one of my first times seeing Cillian Murphy and he was spectacular to say the least. It felt like every expression had a meaning. His performance will be talked a lot over the years. RDJ stole the show every scene he was in and i wish he got more screen time. Although the movie was dialogue driven every dialogue and every scene was like an action scene courtesy of Nolan. And the music REALLY helped this film given most of the movie was based on dialogues. I'm gonna watch the movie for the second time tomorrow because i couldn't get all the information and couldn't completely understand the film although it was pretty straightforward. There were a lot of stuff to unpack in the movie. I liked it very much and i highly suggest you watch this movie.\""
     },
     "execution_count": 18,
     "metadata": {},
     "output_type": "execute_result"
    }
   ]
  },
  {
   "cell_type": "code",
   "source": [
    "# Creating graphable data\n",
    "\n",
    "# numeric_df = pd.DataFrame(columns=['isBarbie', 'score', 'people_found_helpful', 'total_people_viewed', 'helpful_ratio', 'date', 'date_from_release','length_of_title', 'length_of_username', 'length_of_review'])\n",
    "numeric_df = pd.DataFrame(columns=['isBarbie', 'score', 'date', 'people_found_helpful', 'total_people_viewed','length_of_title', 'length_of_username', 'length_of_review'])\n",
    "\n",
    "\n",
    "numeric_df['isBarbie'] = df['isBarbie']\n",
    "numeric_df['score'] = df['score']\n",
    "numeric_df['date'] = df['date']\n",
    "numeric_df['total_people_viewed'] = df['total_people_viewed']\n",
    "numeric_df['people_found_helpful'] = df['people_found_helpful']\n",
    "#numeric_df['helpful_ratio'] = df['people_found_helpful'] / df['total_people_viewed']\n",
    "numeric_df['length_of_title'] = df['title'].apply(lambda x: len(x))\n",
    "numeric_df['length_of_username'] = df['username'].apply(lambda x: len(x))\n",
    "numeric_df['length_of_review'] = df['review'].apply(lambda x: len(x))\n",
    "\n",
    "numeric_df = numeric_df[~numeric_df['date'].str.contains('IMAX')]\n",
    "numeric_df['date'] = pd.to_datetime(df['date'], format='%d %B %Y')\n",
    "numeric_df['date_from_release'] = (numeric_df['date'] - pd.to_datetime('2023-07-23', format='%Y-%m-%d')).dt.days\n",
    "\n"
   ],
   "metadata": {
    "id": "dUM5-t84NHF0",
    "ExecuteTime": {
     "end_time": "2023-09-12T04:53:51.151038752Z",
     "start_time": "2023-09-12T04:53:51.114209043Z"
    }
   },
   "execution_count": 19,
   "outputs": []
  },
  {
   "cell_type": "code",
   "source": [
    "numeric_df"
   ],
   "metadata": {
    "colab": {
     "base_uri": "https://localhost:8080/",
     "height": 424
    },
    "id": "Dn2qhQ9vNe2L",
    "outputId": "49c22543-8670-4f88-dd27-2bf0c8ff1229",
    "ExecuteTime": {
     "end_time": "2023-09-12T04:53:51.212128780Z",
     "start_time": "2023-09-12T04:53:51.157852769Z"
    }
   },
   "execution_count": 20,
   "outputs": [
    {
     "data": {
      "text/plain": "      isBarbie  score       date  people_found_helpful  total_people_viewed  \\\n0            1      6 2023-07-23                  1007                 1363   \n1            1      6 2023-07-21                  1190                 1646   \n2            1      6 2023-07-21                   804                 1173   \n3            1      8 2023-07-24                   152                  242   \n4            1      9 2023-07-24                    20                   26   \n...        ...    ...        ...                   ...                  ...   \n2792         0      7 2023-07-27                     1                    3   \n2793         0      6 2023-07-25                     1                    7   \n2794         0      6 2023-07-24                     0                    1   \n2795         0      6 2023-07-24                     0                    0   \n2796         0      6 2023-07-22                     0                    0   \n\n      length_of_title  length_of_username  length_of_review  date_from_release  \n0                  34                  11              1216                  0  \n1                  30                  12               786                 -2  \n2                  69                   8               601                 -2  \n3                  17                   9                17                  1  \n4                  19                  14              1239                  1  \n...               ...                 ...               ...                ...  \n2792               42                  14               624                  4  \n2793                7                   5              1152                  2  \n2794               33                  20              1369                  1  \n2795               21                  12               609                  1  \n2796               13                   9              1070                 -1  \n\n[2797 rows x 9 columns]",
      "text/html": "<div>\n<style scoped>\n    .dataframe tbody tr th:only-of-type {\n        vertical-align: middle;\n    }\n\n    .dataframe tbody tr th {\n        vertical-align: top;\n    }\n\n    .dataframe thead th {\n        text-align: right;\n    }\n</style>\n<table border=\"1\" class=\"dataframe\">\n  <thead>\n    <tr style=\"text-align: right;\">\n      <th></th>\n      <th>isBarbie</th>\n      <th>score</th>\n      <th>date</th>\n      <th>people_found_helpful</th>\n      <th>total_people_viewed</th>\n      <th>length_of_title</th>\n      <th>length_of_username</th>\n      <th>length_of_review</th>\n      <th>date_from_release</th>\n    </tr>\n  </thead>\n  <tbody>\n    <tr>\n      <th>0</th>\n      <td>1</td>\n      <td>6</td>\n      <td>2023-07-23</td>\n      <td>1007</td>\n      <td>1363</td>\n      <td>34</td>\n      <td>11</td>\n      <td>1216</td>\n      <td>0</td>\n    </tr>\n    <tr>\n      <th>1</th>\n      <td>1</td>\n      <td>6</td>\n      <td>2023-07-21</td>\n      <td>1190</td>\n      <td>1646</td>\n      <td>30</td>\n      <td>12</td>\n      <td>786</td>\n      <td>-2</td>\n    </tr>\n    <tr>\n      <th>2</th>\n      <td>1</td>\n      <td>6</td>\n      <td>2023-07-21</td>\n      <td>804</td>\n      <td>1173</td>\n      <td>69</td>\n      <td>8</td>\n      <td>601</td>\n      <td>-2</td>\n    </tr>\n    <tr>\n      <th>3</th>\n      <td>1</td>\n      <td>8</td>\n      <td>2023-07-24</td>\n      <td>152</td>\n      <td>242</td>\n      <td>17</td>\n      <td>9</td>\n      <td>17</td>\n      <td>1</td>\n    </tr>\n    <tr>\n      <th>4</th>\n      <td>1</td>\n      <td>9</td>\n      <td>2023-07-24</td>\n      <td>20</td>\n      <td>26</td>\n      <td>19</td>\n      <td>14</td>\n      <td>1239</td>\n      <td>1</td>\n    </tr>\n    <tr>\n      <th>...</th>\n      <td>...</td>\n      <td>...</td>\n      <td>...</td>\n      <td>...</td>\n      <td>...</td>\n      <td>...</td>\n      <td>...</td>\n      <td>...</td>\n      <td>...</td>\n    </tr>\n    <tr>\n      <th>2792</th>\n      <td>0</td>\n      <td>7</td>\n      <td>2023-07-27</td>\n      <td>1</td>\n      <td>3</td>\n      <td>42</td>\n      <td>14</td>\n      <td>624</td>\n      <td>4</td>\n    </tr>\n    <tr>\n      <th>2793</th>\n      <td>0</td>\n      <td>6</td>\n      <td>2023-07-25</td>\n      <td>1</td>\n      <td>7</td>\n      <td>7</td>\n      <td>5</td>\n      <td>1152</td>\n      <td>2</td>\n    </tr>\n    <tr>\n      <th>2794</th>\n      <td>0</td>\n      <td>6</td>\n      <td>2023-07-24</td>\n      <td>0</td>\n      <td>1</td>\n      <td>33</td>\n      <td>20</td>\n      <td>1369</td>\n      <td>1</td>\n    </tr>\n    <tr>\n      <th>2795</th>\n      <td>0</td>\n      <td>6</td>\n      <td>2023-07-24</td>\n      <td>0</td>\n      <td>0</td>\n      <td>21</td>\n      <td>12</td>\n      <td>609</td>\n      <td>1</td>\n    </tr>\n    <tr>\n      <th>2796</th>\n      <td>0</td>\n      <td>6</td>\n      <td>2023-07-22</td>\n      <td>0</td>\n      <td>0</td>\n      <td>13</td>\n      <td>9</td>\n      <td>1070</td>\n      <td>-1</td>\n    </tr>\n  </tbody>\n</table>\n<p>2797 rows × 9 columns</p>\n</div>"
     },
     "execution_count": 20,
     "metadata": {},
     "output_type": "execute_result"
    }
   ]
  },
  {
   "cell_type": "code",
   "source": [
    "new_df = pd.DataFrame()\n",
    "new_df['opp_inst'] = opp_inst\n",
    "new_df['barbie_inst'] = barbie_inst\n",
    "new_df['movie_inst'] = movie_inst\n",
    "new_df['excl_inst'] = excl_inst\n",
    "new_df['score'] = numeric_df['score']\n",
    "new_df['date_from_release'] = numeric_df['date_from_release']\n",
    "new_df['isBarbie'] = numeric_df['isBarbie']"
   ],
   "metadata": {
    "id": "a_jhNeG7Fl5A",
    "ExecuteTime": {
     "end_time": "2023-09-12T04:53:51.212325801Z",
     "start_time": "2023-09-12T04:53:51.158060965Z"
    }
   },
   "execution_count": 21,
   "outputs": []
  },
  {
   "cell_type": "code",
   "source": [
    "new_df"
   ],
   "metadata": {
    "colab": {
     "base_uri": "https://localhost:8080/",
     "height": 424
    },
    "id": "z_miebFiGPKQ",
    "outputId": "c9d3cd50-ed91-4f4a-fe0b-d202f7b6dff6",
    "ExecuteTime": {
     "end_time": "2023-09-12T04:53:51.212723404Z",
     "start_time": "2023-09-12T04:53:51.158162583Z"
    }
   },
   "execution_count": 22,
   "outputs": [
    {
     "data": {
      "text/plain": "      opp_inst  barbie_inst  movie_inst  excl_inst  score  date_from_release  \\\n0            0            1           4          0      6                  0   \n1            0            0           0          0      6                 -2   \n2            0            4           0          0      6                 -2   \n3            0            0           0          0      8                  1   \n4            0            1           2          0      9                  1   \n...        ...          ...         ...        ...    ...                ...   \n2792         1            0           0          0      7                  4   \n2793         0            0           2          0      6                  2   \n2794         0            0           0          0      6                  1   \n2795         0            0           0          0      6                  1   \n2796         1            0           0          0      6                 -1   \n\n      isBarbie  \n0            1  \n1            1  \n2            1  \n3            1  \n4            1  \n...        ...  \n2792         0  \n2793         0  \n2794         0  \n2795         0  \n2796         0  \n\n[2797 rows x 7 columns]",
      "text/html": "<div>\n<style scoped>\n    .dataframe tbody tr th:only-of-type {\n        vertical-align: middle;\n    }\n\n    .dataframe tbody tr th {\n        vertical-align: top;\n    }\n\n    .dataframe thead th {\n        text-align: right;\n    }\n</style>\n<table border=\"1\" class=\"dataframe\">\n  <thead>\n    <tr style=\"text-align: right;\">\n      <th></th>\n      <th>opp_inst</th>\n      <th>barbie_inst</th>\n      <th>movie_inst</th>\n      <th>excl_inst</th>\n      <th>score</th>\n      <th>date_from_release</th>\n      <th>isBarbie</th>\n    </tr>\n  </thead>\n  <tbody>\n    <tr>\n      <th>0</th>\n      <td>0</td>\n      <td>1</td>\n      <td>4</td>\n      <td>0</td>\n      <td>6</td>\n      <td>0</td>\n      <td>1</td>\n    </tr>\n    <tr>\n      <th>1</th>\n      <td>0</td>\n      <td>0</td>\n      <td>0</td>\n      <td>0</td>\n      <td>6</td>\n      <td>-2</td>\n      <td>1</td>\n    </tr>\n    <tr>\n      <th>2</th>\n      <td>0</td>\n      <td>4</td>\n      <td>0</td>\n      <td>0</td>\n      <td>6</td>\n      <td>-2</td>\n      <td>1</td>\n    </tr>\n    <tr>\n      <th>3</th>\n      <td>0</td>\n      <td>0</td>\n      <td>0</td>\n      <td>0</td>\n      <td>8</td>\n      <td>1</td>\n      <td>1</td>\n    </tr>\n    <tr>\n      <th>4</th>\n      <td>0</td>\n      <td>1</td>\n      <td>2</td>\n      <td>0</td>\n      <td>9</td>\n      <td>1</td>\n      <td>1</td>\n    </tr>\n    <tr>\n      <th>...</th>\n      <td>...</td>\n      <td>...</td>\n      <td>...</td>\n      <td>...</td>\n      <td>...</td>\n      <td>...</td>\n      <td>...</td>\n    </tr>\n    <tr>\n      <th>2792</th>\n      <td>1</td>\n      <td>0</td>\n      <td>0</td>\n      <td>0</td>\n      <td>7</td>\n      <td>4</td>\n      <td>0</td>\n    </tr>\n    <tr>\n      <th>2793</th>\n      <td>0</td>\n      <td>0</td>\n      <td>2</td>\n      <td>0</td>\n      <td>6</td>\n      <td>2</td>\n      <td>0</td>\n    </tr>\n    <tr>\n      <th>2794</th>\n      <td>0</td>\n      <td>0</td>\n      <td>0</td>\n      <td>0</td>\n      <td>6</td>\n      <td>1</td>\n      <td>0</td>\n    </tr>\n    <tr>\n      <th>2795</th>\n      <td>0</td>\n      <td>0</td>\n      <td>0</td>\n      <td>0</td>\n      <td>6</td>\n      <td>1</td>\n      <td>0</td>\n    </tr>\n    <tr>\n      <th>2796</th>\n      <td>1</td>\n      <td>0</td>\n      <td>0</td>\n      <td>0</td>\n      <td>6</td>\n      <td>-1</td>\n      <td>0</td>\n    </tr>\n  </tbody>\n</table>\n<p>2797 rows × 7 columns</p>\n</div>"
     },
     "execution_count": 22,
     "metadata": {},
     "output_type": "execute_result"
    }
   ]
  },
  {
   "cell_type": "code",
   "source": [
    "# Shuffles samples\n",
    "new_df = new_df.sample(frac = 1)\n",
    "new_df"
   ],
   "metadata": {
    "colab": {
     "base_uri": "https://localhost:8080/",
     "height": 424
    },
    "id": "bnMf7aVRnRxT",
    "outputId": "a694fc36-b394-4821-dd0f-3ad2af327dd9",
    "ExecuteTime": {
     "end_time": "2023-09-12T04:53:51.213143776Z",
     "start_time": "2023-09-12T04:53:51.158365331Z"
    }
   },
   "execution_count": 23,
   "outputs": [
    {
     "data": {
      "text/plain": "      opp_inst  barbie_inst  movie_inst  excl_inst  score  date_from_release  \\\n2043         0            0           6          0     10                 -2   \n2240         1            0           4          0     10                  0   \n2690        11            0           0          0      3                  1   \n1137         3            0           0          0      9                  1   \n433          0            0           0          1     10                  0   \n...        ...          ...         ...        ...    ...                ...   \n659          0            1           3          0     10                  3   \n860          0            0           0          0     10                 -3   \n1512         1            0           0          0     10                 -2   \n960          1            0           0          0      8                  7   \n236          0            5           1          0      9                  3   \n\n      isBarbie  \n2043         0  \n2240         0  \n2690         0  \n1137         0  \n433          1  \n...        ...  \n659          1  \n860          0  \n1512         0  \n960          0  \n236          1  \n\n[2797 rows x 7 columns]",
      "text/html": "<div>\n<style scoped>\n    .dataframe tbody tr th:only-of-type {\n        vertical-align: middle;\n    }\n\n    .dataframe tbody tr th {\n        vertical-align: top;\n    }\n\n    .dataframe thead th {\n        text-align: right;\n    }\n</style>\n<table border=\"1\" class=\"dataframe\">\n  <thead>\n    <tr style=\"text-align: right;\">\n      <th></th>\n      <th>opp_inst</th>\n      <th>barbie_inst</th>\n      <th>movie_inst</th>\n      <th>excl_inst</th>\n      <th>score</th>\n      <th>date_from_release</th>\n      <th>isBarbie</th>\n    </tr>\n  </thead>\n  <tbody>\n    <tr>\n      <th>2043</th>\n      <td>0</td>\n      <td>0</td>\n      <td>6</td>\n      <td>0</td>\n      <td>10</td>\n      <td>-2</td>\n      <td>0</td>\n    </tr>\n    <tr>\n      <th>2240</th>\n      <td>1</td>\n      <td>0</td>\n      <td>4</td>\n      <td>0</td>\n      <td>10</td>\n      <td>0</td>\n      <td>0</td>\n    </tr>\n    <tr>\n      <th>2690</th>\n      <td>11</td>\n      <td>0</td>\n      <td>0</td>\n      <td>0</td>\n      <td>3</td>\n      <td>1</td>\n      <td>0</td>\n    </tr>\n    <tr>\n      <th>1137</th>\n      <td>3</td>\n      <td>0</td>\n      <td>0</td>\n      <td>0</td>\n      <td>9</td>\n      <td>1</td>\n      <td>0</td>\n    </tr>\n    <tr>\n      <th>433</th>\n      <td>0</td>\n      <td>0</td>\n      <td>0</td>\n      <td>1</td>\n      <td>10</td>\n      <td>0</td>\n      <td>1</td>\n    </tr>\n    <tr>\n      <th>...</th>\n      <td>...</td>\n      <td>...</td>\n      <td>...</td>\n      <td>...</td>\n      <td>...</td>\n      <td>...</td>\n      <td>...</td>\n    </tr>\n    <tr>\n      <th>659</th>\n      <td>0</td>\n      <td>1</td>\n      <td>3</td>\n      <td>0</td>\n      <td>10</td>\n      <td>3</td>\n      <td>1</td>\n    </tr>\n    <tr>\n      <th>860</th>\n      <td>0</td>\n      <td>0</td>\n      <td>0</td>\n      <td>0</td>\n      <td>10</td>\n      <td>-3</td>\n      <td>0</td>\n    </tr>\n    <tr>\n      <th>1512</th>\n      <td>1</td>\n      <td>0</td>\n      <td>0</td>\n      <td>0</td>\n      <td>10</td>\n      <td>-2</td>\n      <td>0</td>\n    </tr>\n    <tr>\n      <th>960</th>\n      <td>1</td>\n      <td>0</td>\n      <td>0</td>\n      <td>0</td>\n      <td>8</td>\n      <td>7</td>\n      <td>0</td>\n    </tr>\n    <tr>\n      <th>236</th>\n      <td>0</td>\n      <td>5</td>\n      <td>1</td>\n      <td>0</td>\n      <td>9</td>\n      <td>3</td>\n      <td>1</td>\n    </tr>\n  </tbody>\n</table>\n<p>2797 rows × 7 columns</p>\n</div>"
     },
     "execution_count": 23,
     "metadata": {},
     "output_type": "execute_result"
    }
   ]
  },
  {
   "cell_type": "code",
   "source": [
    "from sklearn.preprocessing import MinMaxScaler"
   ],
   "metadata": {
    "id": "PoSUvHUMuIFb",
    "ExecuteTime": {
     "end_time": "2023-09-12T04:53:51.254099749Z",
     "start_time": "2023-09-12T04:53:51.201998372Z"
    }
   },
   "execution_count": 24,
   "outputs": []
  },
  {
   "cell_type": "code",
   "source": [
    "from sklearn.neural_network import MLPClassifier"
   ],
   "metadata": {
    "id": "g294FP-YNqPR",
    "ExecuteTime": {
     "end_time": "2023-09-12T04:53:51.270341507Z",
     "start_time": "2023-09-12T04:53:51.202444584Z"
    }
   },
   "execution_count": 25,
   "outputs": []
  },
  {
   "cell_type": "code",
   "source": [
    "from keras.models import Sequential\n",
    "from keras.layers import Dense"
   ],
   "metadata": {
    "id": "YdPvICrmdE_q",
    "ExecuteTime": {
     "end_time": "2023-09-12T04:53:52.776471306Z",
     "start_time": "2023-09-12T04:53:51.202871591Z"
    }
   },
   "execution_count": 26,
   "outputs": [
    {
     "name": "stderr",
     "output_type": "stream",
     "text": [
      "2023-09-11 21:53:51.390441: I tensorflow/core/platform/cpu_feature_guard.cc:182] This TensorFlow binary is optimized to use available CPU instructions in performance-critical operations.\n",
      "To enable the following instructions: AVX2 FMA, in other operations, rebuild TensorFlow with the appropriate compiler flags.\n",
      "2023-09-11 21:53:52.092805: W tensorflow/compiler/tf2tensorrt/utils/py_utils.cc:38] TF-TRT Warning: Could not find TensorRT\n"
     ]
    }
   ]
  },
  {
   "cell_type": "code",
   "source": [
    "x_data = new_df.iloc[:,:6]\n",
    "x_data"
   ],
   "metadata": {
    "colab": {
     "base_uri": "https://localhost:8080/",
     "height": 424
    },
    "id": "ZOa4ZcNDdWRt",
    "outputId": "a87ea1f9-845b-4b08-f686-4d1b96ce978e",
    "ExecuteTime": {
     "end_time": "2023-09-12T04:53:52.818717168Z",
     "start_time": "2023-09-12T04:53:52.764705645Z"
    }
   },
   "execution_count": 27,
   "outputs": [
    {
     "data": {
      "text/plain": "      opp_inst  barbie_inst  movie_inst  excl_inst  score  date_from_release\n2043         0            0           6          0     10                 -2\n2240         1            0           4          0     10                  0\n2690        11            0           0          0      3                  1\n1137         3            0           0          0      9                  1\n433          0            0           0          1     10                  0\n...        ...          ...         ...        ...    ...                ...\n659          0            1           3          0     10                  3\n860          0            0           0          0     10                 -3\n1512         1            0           0          0     10                 -2\n960          1            0           0          0      8                  7\n236          0            5           1          0      9                  3\n\n[2797 rows x 6 columns]",
      "text/html": "<div>\n<style scoped>\n    .dataframe tbody tr th:only-of-type {\n        vertical-align: middle;\n    }\n\n    .dataframe tbody tr th {\n        vertical-align: top;\n    }\n\n    .dataframe thead th {\n        text-align: right;\n    }\n</style>\n<table border=\"1\" class=\"dataframe\">\n  <thead>\n    <tr style=\"text-align: right;\">\n      <th></th>\n      <th>opp_inst</th>\n      <th>barbie_inst</th>\n      <th>movie_inst</th>\n      <th>excl_inst</th>\n      <th>score</th>\n      <th>date_from_release</th>\n    </tr>\n  </thead>\n  <tbody>\n    <tr>\n      <th>2043</th>\n      <td>0</td>\n      <td>0</td>\n      <td>6</td>\n      <td>0</td>\n      <td>10</td>\n      <td>-2</td>\n    </tr>\n    <tr>\n      <th>2240</th>\n      <td>1</td>\n      <td>0</td>\n      <td>4</td>\n      <td>0</td>\n      <td>10</td>\n      <td>0</td>\n    </tr>\n    <tr>\n      <th>2690</th>\n      <td>11</td>\n      <td>0</td>\n      <td>0</td>\n      <td>0</td>\n      <td>3</td>\n      <td>1</td>\n    </tr>\n    <tr>\n      <th>1137</th>\n      <td>3</td>\n      <td>0</td>\n      <td>0</td>\n      <td>0</td>\n      <td>9</td>\n      <td>1</td>\n    </tr>\n    <tr>\n      <th>433</th>\n      <td>0</td>\n      <td>0</td>\n      <td>0</td>\n      <td>1</td>\n      <td>10</td>\n      <td>0</td>\n    </tr>\n    <tr>\n      <th>...</th>\n      <td>...</td>\n      <td>...</td>\n      <td>...</td>\n      <td>...</td>\n      <td>...</td>\n      <td>...</td>\n    </tr>\n    <tr>\n      <th>659</th>\n      <td>0</td>\n      <td>1</td>\n      <td>3</td>\n      <td>0</td>\n      <td>10</td>\n      <td>3</td>\n    </tr>\n    <tr>\n      <th>860</th>\n      <td>0</td>\n      <td>0</td>\n      <td>0</td>\n      <td>0</td>\n      <td>10</td>\n      <td>-3</td>\n    </tr>\n    <tr>\n      <th>1512</th>\n      <td>1</td>\n      <td>0</td>\n      <td>0</td>\n      <td>0</td>\n      <td>10</td>\n      <td>-2</td>\n    </tr>\n    <tr>\n      <th>960</th>\n      <td>1</td>\n      <td>0</td>\n      <td>0</td>\n      <td>0</td>\n      <td>8</td>\n      <td>7</td>\n    </tr>\n    <tr>\n      <th>236</th>\n      <td>0</td>\n      <td>5</td>\n      <td>1</td>\n      <td>0</td>\n      <td>9</td>\n      <td>3</td>\n    </tr>\n  </tbody>\n</table>\n<p>2797 rows × 6 columns</p>\n</div>"
     },
     "execution_count": 27,
     "metadata": {},
     "output_type": "execute_result"
    }
   ]
  },
  {
   "cell_type": "code",
   "source": [
    "# Normalizes the predictor variables\n",
    "scaler = MinMaxScaler()\n",
    "normalized_inputs = pd.DataFrame(scaler.fit_transform(x_data), columns = x_data.columns)\n",
    "normalized_inputs"
   ],
   "metadata": {
    "colab": {
     "base_uri": "https://localhost:8080/",
     "height": 424
    },
    "id": "kDye35wPuV1s",
    "outputId": "f39937c3-30b8-4602-f624-28165415ba6e",
    "ExecuteTime": {
     "end_time": "2023-09-12T04:53:52.819249914Z",
     "start_time": "2023-09-12T04:53:52.806131087Z"
    }
   },
   "execution_count": 28,
   "outputs": [
    {
     "data": {
      "text/plain": "      opp_inst  barbie_inst  movie_inst  excl_inst     score  \\\n0     0.000000     0.000000    0.230769   0.000000  1.000000   \n1     0.071429     0.000000    0.153846   0.000000  1.000000   \n2     0.785714     0.000000    0.000000   0.000000  0.222222   \n3     0.214286     0.000000    0.000000   0.000000  0.888889   \n4     0.000000     0.000000    0.000000   0.019608  1.000000   \n...        ...          ...         ...        ...       ...   \n2792  0.000000     0.041667    0.115385   0.000000  1.000000   \n2793  0.000000     0.000000    0.000000   0.000000  1.000000   \n2794  0.071429     0.000000    0.000000   0.000000  1.000000   \n2795  0.071429     0.000000    0.000000   0.000000  0.777778   \n2796  0.000000     0.208333    0.038462   0.000000  0.888889   \n\n      date_from_release  \n0              0.181818  \n1              0.363636  \n2              0.454545  \n3              0.454545  \n4              0.363636  \n...                 ...  \n2792           0.636364  \n2793           0.090909  \n2794           0.181818  \n2795           1.000000  \n2796           0.636364  \n\n[2797 rows x 6 columns]",
      "text/html": "<div>\n<style scoped>\n    .dataframe tbody tr th:only-of-type {\n        vertical-align: middle;\n    }\n\n    .dataframe tbody tr th {\n        vertical-align: top;\n    }\n\n    .dataframe thead th {\n        text-align: right;\n    }\n</style>\n<table border=\"1\" class=\"dataframe\">\n  <thead>\n    <tr style=\"text-align: right;\">\n      <th></th>\n      <th>opp_inst</th>\n      <th>barbie_inst</th>\n      <th>movie_inst</th>\n      <th>excl_inst</th>\n      <th>score</th>\n      <th>date_from_release</th>\n    </tr>\n  </thead>\n  <tbody>\n    <tr>\n      <th>0</th>\n      <td>0.000000</td>\n      <td>0.000000</td>\n      <td>0.230769</td>\n      <td>0.000000</td>\n      <td>1.000000</td>\n      <td>0.181818</td>\n    </tr>\n    <tr>\n      <th>1</th>\n      <td>0.071429</td>\n      <td>0.000000</td>\n      <td>0.153846</td>\n      <td>0.000000</td>\n      <td>1.000000</td>\n      <td>0.363636</td>\n    </tr>\n    <tr>\n      <th>2</th>\n      <td>0.785714</td>\n      <td>0.000000</td>\n      <td>0.000000</td>\n      <td>0.000000</td>\n      <td>0.222222</td>\n      <td>0.454545</td>\n    </tr>\n    <tr>\n      <th>3</th>\n      <td>0.214286</td>\n      <td>0.000000</td>\n      <td>0.000000</td>\n      <td>0.000000</td>\n      <td>0.888889</td>\n      <td>0.454545</td>\n    </tr>\n    <tr>\n      <th>4</th>\n      <td>0.000000</td>\n      <td>0.000000</td>\n      <td>0.000000</td>\n      <td>0.019608</td>\n      <td>1.000000</td>\n      <td>0.363636</td>\n    </tr>\n    <tr>\n      <th>...</th>\n      <td>...</td>\n      <td>...</td>\n      <td>...</td>\n      <td>...</td>\n      <td>...</td>\n      <td>...</td>\n    </tr>\n    <tr>\n      <th>2792</th>\n      <td>0.000000</td>\n      <td>0.041667</td>\n      <td>0.115385</td>\n      <td>0.000000</td>\n      <td>1.000000</td>\n      <td>0.636364</td>\n    </tr>\n    <tr>\n      <th>2793</th>\n      <td>0.000000</td>\n      <td>0.000000</td>\n      <td>0.000000</td>\n      <td>0.000000</td>\n      <td>1.000000</td>\n      <td>0.090909</td>\n    </tr>\n    <tr>\n      <th>2794</th>\n      <td>0.071429</td>\n      <td>0.000000</td>\n      <td>0.000000</td>\n      <td>0.000000</td>\n      <td>1.000000</td>\n      <td>0.181818</td>\n    </tr>\n    <tr>\n      <th>2795</th>\n      <td>0.071429</td>\n      <td>0.000000</td>\n      <td>0.000000</td>\n      <td>0.000000</td>\n      <td>0.777778</td>\n      <td>1.000000</td>\n    </tr>\n    <tr>\n      <th>2796</th>\n      <td>0.000000</td>\n      <td>0.208333</td>\n      <td>0.038462</td>\n      <td>0.000000</td>\n      <td>0.888889</td>\n      <td>0.636364</td>\n    </tr>\n  </tbody>\n</table>\n<p>2797 rows × 6 columns</p>\n</div>"
     },
     "execution_count": 28,
     "metadata": {},
     "output_type": "execute_result"
    }
   ]
  },
  {
   "cell_type": "code",
   "source": [
    "y_data = new_df['isBarbie']\n",
    "y_data"
   ],
   "metadata": {
    "colab": {
     "base_uri": "https://localhost:8080/"
    },
    "id": "TR60CVusht6M",
    "outputId": "c9bde54a-54ab-46a3-ac74-e5edd3fbce7e",
    "ExecuteTime": {
     "end_time": "2023-09-12T04:53:52.819751860Z",
     "start_time": "2023-09-12T04:53:52.806416387Z"
    }
   },
   "execution_count": 29,
   "outputs": [
    {
     "data": {
      "text/plain": "2043    0\n2240    0\n2690    0\n1137    0\n433     1\n       ..\n659     1\n860     0\n1512    0\n960     0\n236     1\nName: isBarbie, Length: 2797, dtype: int64"
     },
     "execution_count": 29,
     "metadata": {},
     "output_type": "execute_result"
    }
   ]
  },
  {
   "cell_type": "code",
   "source": [
    "# Builds all the layers of the neural network\n",
    "classifier = Sequential() # Initialising the ANN\n",
    "\n",
    "classifier.add(Dense(units = 16, activation = 'sigmoid', input_dim = 6))\n",
    "classifier.add(Dense(units = 8, activation = 'sigmoid'))\n",
    "classifier.add(Dense(units = 4, activation = 'sigmoid'))\n",
    "classifier.add(Dense(units = 1, activation = 'sigmoid'))"
   ],
   "metadata": {
    "id": "AiwMWgkTh2Y8",
    "ExecuteTime": {
     "end_time": "2023-09-12T04:53:53.011234314Z",
     "start_time": "2023-09-12T04:53:52.806624233Z"
    }
   },
   "execution_count": 30,
   "outputs": [
    {
     "name": "stderr",
     "output_type": "stream",
     "text": [
      "2023-09-11 21:53:52.862030: I tensorflow/compiler/xla/stream_executor/cuda/cuda_gpu_executor.cc:995] successful NUMA node read from SysFS had negative value (-1), but there must be at least one NUMA node, so returning NUMA node zero. See more at https://github.com/torvalds/linux/blob/v6.0/Documentation/ABI/testing/sysfs-bus-pci#L344-L355\n",
      "2023-09-11 21:53:52.904752: W tensorflow/core/common_runtime/gpu/gpu_device.cc:1960] Cannot dlopen some GPU libraries. Please make sure the missing libraries mentioned above are installed properly if you would like to use GPU. Follow the guide at https://www.tensorflow.org/install/gpu for how to download and setup the required libraries for your platform.\n",
      "Skipping registering GPU devices...\n"
     ]
    }
   ]
  },
  {
   "cell_type": "code",
   "source": [
    "import tensorflow as tf\n"
   ],
   "metadata": {
    "id": "vbogM2w6v6rW",
    "ExecuteTime": {
     "end_time": "2023-09-12T04:53:53.011472053Z",
     "start_time": "2023-09-12T04:53:52.990886127Z"
    }
   },
   "execution_count": 31,
   "outputs": []
  },
  {
   "cell_type": "code",
   "source": [
    "# Uses stochastic gradient descent as optimizer\n",
    "opt = tf.keras.optimizers.Adam(learning_rate=1e-03)\n",
    "classifier.compile(optimizer = opt,loss = 'binary_crossentropy')"
   ],
   "metadata": {
    "id": "gsIji8_liFrj",
    "ExecuteTime": {
     "end_time": "2023-09-12T04:53:53.021863875Z",
     "start_time": "2023-09-12T04:53:52.995564483Z"
    }
   },
   "execution_count": 32,
   "outputs": []
  },
  {
   "cell_type": "code",
   "source": [
    "from sklearn.model_selection import train_test_split"
   ],
   "metadata": {
    "id": "Gdxuq2moiY2s",
    "ExecuteTime": {
     "end_time": "2023-09-12T04:53:53.097318340Z",
     "start_time": "2023-09-12T04:53:53.019170883Z"
    }
   },
   "execution_count": 33,
   "outputs": []
  },
  {
   "cell_type": "code",
   "source": [
    "# Splits dataset into training and testing\n",
    "x_train, x_test = train_test_split(normalized_inputs, test_size=0.1, random_state=36)\n",
    "y_train, y_test = train_test_split(y_data, test_size=0.1, random_state=36)"
   ],
   "metadata": {
    "id": "hEPzJ4WtiMpD",
    "ExecuteTime": {
     "end_time": "2023-09-12T04:53:53.111320722Z",
     "start_time": "2023-09-12T04:53:53.062000964Z"
    }
   },
   "execution_count": 34,
   "outputs": []
  },
  {
   "cell_type": "code",
   "source": [
    "# Runs the training\n",
    "history = classifier.fit(x_train, y_train, batch_size = 30, epochs = 100)"
   ],
   "metadata": {
    "colab": {
     "base_uri": "https://localhost:8080/"
    },
    "id": "3ZGVW2t_iiPi",
    "outputId": "e6684778-426b-4e74-b286-e5e376806ab9",
    "ExecuteTime": {
     "end_time": "2023-09-12T04:54:03.865724445Z",
     "start_time": "2023-09-12T04:53:53.062239890Z"
    }
   },
   "execution_count": 35,
   "outputs": [
    {
     "name": "stdout",
     "output_type": "stream",
     "text": [
      "Epoch 1/100\n",
      "84/84 [==============================] - 1s 1ms/step - loss: 0.7263\n",
      "Epoch 2/100\n",
      "84/84 [==============================] - 0s 1ms/step - loss: 0.6414\n",
      "Epoch 3/100\n",
      "84/84 [==============================] - 0s 1ms/step - loss: 0.6100\n",
      "Epoch 4/100\n",
      "84/84 [==============================] - 0s 1ms/step - loss: 0.6002\n",
      "Epoch 5/100\n",
      "84/84 [==============================] - 0s 1ms/step - loss: 0.5976\n",
      "Epoch 6/100\n",
      "84/84 [==============================] - 0s 1ms/step - loss: 0.5969\n",
      "Epoch 7/100\n",
      "84/84 [==============================] - 0s 1ms/step - loss: 0.5966\n",
      "Epoch 8/100\n",
      "84/84 [==============================] - 0s 1ms/step - loss: 0.5966\n",
      "Epoch 9/100\n",
      "84/84 [==============================] - 0s 1ms/step - loss: 0.5965\n",
      "Epoch 10/100\n",
      "84/84 [==============================] - 0s 1ms/step - loss: 0.5963\n",
      "Epoch 11/100\n",
      "84/84 [==============================] - 0s 1ms/step - loss: 0.5962\n",
      "Epoch 12/100\n",
      "84/84 [==============================] - 0s 1ms/step - loss: 0.5959\n",
      "Epoch 13/100\n",
      "84/84 [==============================] - 0s 1ms/step - loss: 0.5957\n",
      "Epoch 14/100\n",
      "84/84 [==============================] - 0s 1ms/step - loss: 0.5955\n",
      "Epoch 15/100\n",
      "84/84 [==============================] - 0s 2ms/step - loss: 0.5951\n",
      "Epoch 16/100\n",
      "84/84 [==============================] - 0s 1ms/step - loss: 0.5947\n",
      "Epoch 17/100\n",
      "84/84 [==============================] - 0s 1ms/step - loss: 0.5943\n",
      "Epoch 18/100\n",
      "84/84 [==============================] - 0s 1ms/step - loss: 0.5936\n",
      "Epoch 19/100\n",
      "84/84 [==============================] - 0s 1ms/step - loss: 0.5925\n",
      "Epoch 20/100\n",
      "84/84 [==============================] - 0s 1ms/step - loss: 0.5914\n",
      "Epoch 21/100\n",
      "84/84 [==============================] - 0s 1ms/step - loss: 0.5902\n",
      "Epoch 22/100\n",
      "84/84 [==============================] - 0s 1ms/step - loss: 0.5885\n",
      "Epoch 23/100\n",
      "84/84 [==============================] - 0s 1ms/step - loss: 0.5860\n",
      "Epoch 24/100\n",
      "84/84 [==============================] - 0s 2ms/step - loss: 0.5829\n",
      "Epoch 25/100\n",
      "84/84 [==============================] - 0s 1ms/step - loss: 0.5792\n",
      "Epoch 26/100\n",
      "84/84 [==============================] - 0s 1ms/step - loss: 0.5746\n",
      "Epoch 27/100\n",
      "84/84 [==============================] - 0s 1ms/step - loss: 0.5693\n",
      "Epoch 28/100\n",
      "84/84 [==============================] - 0s 1ms/step - loss: 0.5627\n",
      "Epoch 29/100\n",
      "84/84 [==============================] - 0s 1ms/step - loss: 0.5552\n",
      "Epoch 30/100\n",
      "84/84 [==============================] - 0s 1ms/step - loss: 0.5466\n",
      "Epoch 31/100\n",
      "84/84 [==============================] - 0s 1ms/step - loss: 0.5374\n",
      "Epoch 32/100\n",
      "84/84 [==============================] - 0s 2ms/step - loss: 0.5269\n",
      "Epoch 33/100\n",
      "84/84 [==============================] - 0s 1ms/step - loss: 0.5156\n",
      "Epoch 34/100\n",
      "84/84 [==============================] - 0s 2ms/step - loss: 0.5056\n",
      "Epoch 35/100\n",
      "84/84 [==============================] - 0s 1ms/step - loss: 0.4944\n",
      "Epoch 36/100\n",
      "84/84 [==============================] - 0s 1ms/step - loss: 0.4834\n",
      "Epoch 37/100\n",
      "84/84 [==============================] - 0s 1ms/step - loss: 0.4730\n",
      "Epoch 38/100\n",
      "84/84 [==============================] - 0s 1ms/step - loss: 0.4631\n",
      "Epoch 39/100\n",
      "84/84 [==============================] - 0s 1ms/step - loss: 0.4545\n",
      "Epoch 40/100\n",
      "84/84 [==============================] - 0s 1ms/step - loss: 0.4459\n",
      "Epoch 41/100\n",
      "84/84 [==============================] - 0s 1ms/step - loss: 0.4377\n",
      "Epoch 42/100\n",
      "84/84 [==============================] - 0s 1ms/step - loss: 0.4324\n",
      "Epoch 43/100\n",
      "84/84 [==============================] - 0s 2ms/step - loss: 0.4244\n",
      "Epoch 44/100\n",
      "84/84 [==============================] - 0s 1ms/step - loss: 0.4191\n",
      "Epoch 45/100\n",
      "84/84 [==============================] - 0s 1ms/step - loss: 0.4120\n",
      "Epoch 46/100\n",
      "84/84 [==============================] - 0s 1ms/step - loss: 0.4082\n",
      "Epoch 47/100\n",
      "84/84 [==============================] - 0s 1ms/step - loss: 0.4020\n",
      "Epoch 48/100\n",
      "84/84 [==============================] - 0s 1ms/step - loss: 0.3996\n",
      "Epoch 49/100\n",
      "84/84 [==============================] - 0s 1ms/step - loss: 0.3958\n",
      "Epoch 50/100\n",
      "84/84 [==============================] - 0s 1ms/step - loss: 0.3903\n",
      "Epoch 51/100\n",
      "84/84 [==============================] - 0s 1ms/step - loss: 0.3877\n",
      "Epoch 52/100\n",
      "84/84 [==============================] - 0s 1ms/step - loss: 0.3832\n",
      "Epoch 53/100\n",
      "84/84 [==============================] - 0s 1ms/step - loss: 0.3817\n",
      "Epoch 54/100\n",
      "84/84 [==============================] - 0s 1ms/step - loss: 0.3771\n",
      "Epoch 55/100\n",
      "84/84 [==============================] - 0s 1ms/step - loss: 0.3757\n",
      "Epoch 56/100\n",
      "84/84 [==============================] - 0s 1ms/step - loss: 0.3727\n",
      "Epoch 57/100\n",
      "84/84 [==============================] - 0s 1ms/step - loss: 0.3744\n",
      "Epoch 58/100\n",
      "84/84 [==============================] - 0s 1ms/step - loss: 0.3690\n",
      "Epoch 59/100\n",
      "84/84 [==============================] - 0s 1ms/step - loss: 0.3671\n",
      "Epoch 60/100\n",
      "84/84 [==============================] - 0s 1ms/step - loss: 0.3655\n",
      "Epoch 61/100\n",
      "84/84 [==============================] - 0s 1ms/step - loss: 0.3635\n",
      "Epoch 62/100\n",
      "84/84 [==============================] - 0s 1ms/step - loss: 0.3622\n",
      "Epoch 63/100\n",
      "84/84 [==============================] - 0s 1ms/step - loss: 0.3605\n",
      "Epoch 64/100\n",
      "84/84 [==============================] - 0s 1ms/step - loss: 0.3591\n",
      "Epoch 65/100\n",
      "84/84 [==============================] - 0s 1ms/step - loss: 0.3592\n",
      "Epoch 66/100\n",
      "84/84 [==============================] - 0s 1ms/step - loss: 0.3570\n",
      "Epoch 67/100\n",
      "84/84 [==============================] - 0s 1ms/step - loss: 0.3558\n",
      "Epoch 68/100\n",
      "84/84 [==============================] - 0s 988us/step - loss: 0.3556\n",
      "Epoch 69/100\n",
      "84/84 [==============================] - 0s 1ms/step - loss: 0.3538\n",
      "Epoch 70/100\n",
      "84/84 [==============================] - 0s 995us/step - loss: 0.3530\n",
      "Epoch 71/100\n",
      "84/84 [==============================] - 0s 999us/step - loss: 0.3531\n",
      "Epoch 72/100\n",
      "84/84 [==============================] - 0s 1ms/step - loss: 0.3531\n",
      "Epoch 73/100\n",
      "84/84 [==============================] - 0s 1ms/step - loss: 0.3511\n",
      "Epoch 74/100\n",
      "84/84 [==============================] - 0s 1ms/step - loss: 0.3512\n",
      "Epoch 75/100\n",
      "84/84 [==============================] - 0s 1ms/step - loss: 0.3505\n",
      "Epoch 76/100\n",
      "84/84 [==============================] - 0s 1ms/step - loss: 0.3497\n",
      "Epoch 77/100\n",
      "84/84 [==============================] - 0s 1ms/step - loss: 0.3488\n",
      "Epoch 78/100\n",
      "84/84 [==============================] - 0s 938us/step - loss: 0.3486\n",
      "Epoch 79/100\n",
      "84/84 [==============================] - 0s 1ms/step - loss: 0.3481\n",
      "Epoch 80/100\n",
      "84/84 [==============================] - 0s 1ms/step - loss: 0.3476\n",
      "Epoch 81/100\n",
      "84/84 [==============================] - 0s 943us/step - loss: 0.3475\n",
      "Epoch 82/100\n",
      "84/84 [==============================] - 0s 1ms/step - loss: 0.3475\n",
      "Epoch 83/100\n",
      "84/84 [==============================] - 0s 1ms/step - loss: 0.3488\n",
      "Epoch 84/100\n",
      "84/84 [==============================] - 0s 1ms/step - loss: 0.3467\n",
      "Epoch 85/100\n",
      "84/84 [==============================] - 0s 1ms/step - loss: 0.3468\n",
      "Epoch 86/100\n",
      "84/84 [==============================] - 0s 1ms/step - loss: 0.3463\n",
      "Epoch 87/100\n",
      "84/84 [==============================] - 0s 1ms/step - loss: 0.3458\n",
      "Epoch 88/100\n",
      "84/84 [==============================] - 0s 1ms/step - loss: 0.3462\n",
      "Epoch 89/100\n",
      "84/84 [==============================] - 0s 1ms/step - loss: 0.3465\n",
      "Epoch 90/100\n",
      "84/84 [==============================] - 0s 1ms/step - loss: 0.3458\n",
      "Epoch 91/100\n",
      "84/84 [==============================] - 0s 1ms/step - loss: 0.3470\n",
      "Epoch 92/100\n",
      "84/84 [==============================] - 0s 1ms/step - loss: 0.3454\n",
      "Epoch 93/100\n",
      "84/84 [==============================] - 0s 1ms/step - loss: 0.3449\n",
      "Epoch 94/100\n",
      "84/84 [==============================] - 0s 1ms/step - loss: 0.3469\n",
      "Epoch 95/100\n",
      "84/84 [==============================] - 0s 1ms/step - loss: 0.3457\n",
      "Epoch 96/100\n",
      "84/84 [==============================] - 0s 1ms/step - loss: 0.3456\n",
      "Epoch 97/100\n",
      "84/84 [==============================] - 0s 1ms/step - loss: 0.3439\n",
      "Epoch 98/100\n",
      "84/84 [==============================] - 0s 1ms/step - loss: 0.3451\n",
      "Epoch 99/100\n",
      "84/84 [==============================] - 0s 1ms/step - loss: 0.3448\n",
      "Epoch 100/100\n",
      "84/84 [==============================] - 0s 1ms/step - loss: 0.3441\n"
     ]
    }
   ]
  },
  {
   "cell_type": "code",
   "source": [
    "# Predicts what type of bean based on the x values\n",
    "yhat_test = classifier.predict(x_test)\n",
    "yhat_test[:5]"
   ],
   "metadata": {
    "colab": {
     "base_uri": "https://localhost:8080/"
    },
    "id": "AJncZn7KOQrq",
    "outputId": "40674f5a-195b-4580-e9dc-8c880853ecc1",
    "ExecuteTime": {
     "end_time": "2023-09-12T04:54:03.947996001Z",
     "start_time": "2023-09-12T04:54:03.858100553Z"
    }
   },
   "execution_count": 36,
   "outputs": [
    {
     "name": "stdout",
     "output_type": "stream",
     "text": [
      "9/9 [==============================] - 0s 777us/step\n"
     ]
    },
    {
     "data": {
      "text/plain": "array([[0.18991905],\n       [0.00992944],\n       [0.8992819 ],\n       [0.01133825],\n       [0.23357864]], dtype=float32)"
     },
     "execution_count": 36,
     "metadata": {},
     "output_type": "execute_result"
    }
   ]
  },
  {
   "cell_type": "code",
   "source": [
    "new_yhat_test = [ 1 if y>=0.5 else 0 for y in yhat_test ]"
   ],
   "metadata": {
    "id": "pSBo37F7zMP3",
    "ExecuteTime": {
     "end_time": "2023-09-12T04:54:03.988450726Z",
     "start_time": "2023-09-12T04:54:03.945390171Z"
    }
   },
   "execution_count": 37,
   "outputs": []
  },
  {
   "cell_type": "code",
   "source": [
    "new_yhat_test[:5]"
   ],
   "metadata": {
    "colab": {
     "base_uri": "https://localhost:8080/"
    },
    "id": "bzxefJ2c0BsM",
    "outputId": "d63dd112-0e10-44f1-fa2f-1515956acee7",
    "ExecuteTime": {
     "end_time": "2023-09-12T04:54:03.988913910Z",
     "start_time": "2023-09-12T04:54:03.986037447Z"
    }
   },
   "execution_count": 38,
   "outputs": [
    {
     "data": {
      "text/plain": "[0, 0, 1, 0, 0]"
     },
     "execution_count": 38,
     "metadata": {},
     "output_type": "execute_result"
    }
   ]
  },
  {
   "cell_type": "code",
   "source": [
    "from sklearn.metrics import confusion_matrix\n",
    "confusion_matrix(y_test, new_yhat_test)"
   ],
   "metadata": {
    "colab": {
     "base_uri": "https://localhost:8080/"
    },
    "id": "8Dc6Yy760E6M",
    "outputId": "f85abfc3-1d09-4fa7-e83a-94a41670b031",
    "ExecuteTime": {
     "end_time": "2023-09-12T04:54:03.989188385Z",
     "start_time": "2023-09-12T04:54:03.986234049Z"
    }
   },
   "execution_count": 39,
   "outputs": [
    {
     "data": {
      "text/plain": "array([[209,   3],\n       [ 28,  40]])"
     },
     "execution_count": 39,
     "metadata": {},
     "output_type": "execute_result"
    }
   ]
  },
  {
   "cell_type": "code",
   "source": [
    "# Calculates precision and recall\n",
    "from sklearn.metrics import classification_report\n",
    "print(classification_report(y_test, new_yhat_test))"
   ],
   "metadata": {
    "colab": {
     "base_uri": "https://localhost:8080/"
    },
    "id": "tLEsJTrv0j2P",
    "outputId": "eca2ef1a-57e2-4937-df0d-69e19c77da67",
    "ExecuteTime": {
     "end_time": "2023-09-12T04:54:03.989647378Z",
     "start_time": "2023-09-12T04:54:03.986364512Z"
    }
   },
   "execution_count": 40,
   "outputs": [
    {
     "name": "stdout",
     "output_type": "stream",
     "text": [
      "              precision    recall  f1-score   support\n",
      "\n",
      "           0       0.88      0.99      0.93       212\n",
      "           1       0.93      0.59      0.72        68\n",
      "\n",
      "    accuracy                           0.89       280\n",
      "   macro avg       0.91      0.79      0.83       280\n",
      "weighted avg       0.89      0.89      0.88       280\n"
     ]
    }
   ]
  }
 ]
}
