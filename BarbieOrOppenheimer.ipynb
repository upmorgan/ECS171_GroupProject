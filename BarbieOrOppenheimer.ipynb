{
  "cells": [
    {
      "cell_type": "markdown",
      "source": [
        "## Data Import"
      ],
      "metadata": {
        "collapsed": false,
        "id": "a0caf6b9cbdbbc25"
      },
      "id": "a0caf6b9cbdbbc25"
    },
    {
      "cell_type": "code",
      "execution_count": 1,
      "id": "initial_id",
      "metadata": {
        "collapsed": true,
        "ExecuteTime": {
          "end_time": "2023-09-14T02:48:27.050250084Z",
          "start_time": "2023-09-14T02:48:26.884290511Z"
        },
        "id": "initial_id"
      },
      "outputs": [],
      "source": [
        "import pandas as pd"
      ]
    },
    {
      "cell_type": "code",
      "execution_count": 2,
      "outputs": [],
      "source": [
        "# My path to file is different than some people, so this will have to change depending on who's running it\n",
        "df_bb = pd.read_csv('/content/imdb_barbie_Uncleaned.csv', header=None)\n",
        "df_op = pd.read_csv('/content/imdb_oppenhimmer_Uncleaned.csv', header=None)\n",
        "df_bb.drop_duplicates(inplace=True)\n",
        "df_op.drop_duplicates(inplace=True)"
      ],
      "metadata": {
        "ExecuteTime": {
          "end_time": "2023-09-14T02:48:28.136812611Z",
          "start_time": "2023-09-14T02:48:26.891333395Z"
        },
        "id": "9af715f05c5aad94"
      },
      "id": "9af715f05c5aad94"
    },
    {
      "cell_type": "markdown",
      "source": [
        "## Data Cleaning"
      ],
      "metadata": {
        "collapsed": false,
        "id": "3f7b2d99e60fdb3f"
      },
      "id": "3f7b2d99e60fdb3f"
    },
    {
      "cell_type": "code",
      "execution_count": 3,
      "outputs": [],
      "source": [
        "import re\n",
        "\n",
        "score_Reg = '(\\d{1,2})\\/\\d{1,2}\\s.*\\s'\n",
        "title_Reg = '\\d{1,2}\\/\\d{1,2}\\s(.*)'\n",
        "people_found_helpful_Reg = '([\\d,]*) out of ([\\d,]*) found this helpful'\n",
        "username_Reg = '\\d{1,2}\\/\\d{1,2}\\s.*\\s([A-Za-z0-9_-]+)\\d{2}\\s(?:January|February|March|April|June|July|August|September|October|November|December)'\n",
        "date_Reg = '(\\d{1,2}\\s(?:January|February|March|April|June|July|August|September|October|November|December)\\s\\d{4})'\n",
        "review_Reg = '\\d{1,2}\\s\\w+\\s\\d{4}\\s([\\s\\S]*)\\s[\\d,]* out of [\\d,]* found this helpful'"
      ],
      "metadata": {
        "ExecuteTime": {
          "end_time": "2023-09-14T02:48:28.137025636Z",
          "start_time": "2023-09-14T02:48:27.728971253Z"
        },
        "id": "d85badd27eead25e"
      },
      "id": "d85badd27eead25e"
    },
    {
      "cell_type": "code",
      "execution_count": 4,
      "outputs": [],
      "source": [
        "def get_cleaned_df(dirty_df):\n",
        "    # cleaned_df = pd.DataFrame(columns=['score', 'title', 'username', 'date', 'people_found_helpful', 'review'])\n",
        "    cleaned_df = pd.DataFrame(columns=['score', 'title', 'username', 'date', 'people_found_helpful', 'total_people_viewed', 'review'])\n",
        "\n",
        "    for index in range(len(dirty_df)):\n",
        "        row = dirty_df.iloc[index][0]\n",
        "\n",
        "        score = re.findall(score_Reg, row)\n",
        "        title = re.findall(title_Reg, row)\n",
        "        username = re.findall(username_Reg, row)\n",
        "        date = re.findall(date_Reg, row)\n",
        "        people_found_helpful = re.findall(people_found_helpful_Reg, row)\n",
        "        review = re.findall(review_Reg, row)\n",
        "\n",
        "        if not score:\n",
        "            continue\n",
        "        else:\n",
        "            score = int(score[0])\n",
        "        if not title:\n",
        "            title = ['NULL']\n",
        "        if not username:\n",
        "            username = ['NULL']\n",
        "        if not date:\n",
        "            date = ['NULL']\n",
        "        if not people_found_helpful:\n",
        "            people_found_helpful = 'NULL'\n",
        "            total_people_viewed = 'NULL'\n",
        "        else:\n",
        "            total_people_viewed = int(people_found_helpful[0][1].replace(',', ''))\n",
        "            people_found_helpful = int(people_found_helpful[0][0].replace(',', ''))\n",
        "        if not review:\n",
        "            review = ['NULL']\n",
        "\n",
        "        cleaned_df.loc[index] = [score, title[0], username[0], date[0], people_found_helpful, total_people_viewed, review[0]]\n",
        "    return cleaned_df"
      ],
      "metadata": {
        "ExecuteTime": {
          "end_time": "2023-09-14T02:48:28.137132288Z",
          "start_time": "2023-09-14T02:48:27.729256008Z"
        },
        "id": "6ecd47722b077386"
      },
      "id": "6ecd47722b077386"
    },
    {
      "cell_type": "code",
      "execution_count": 5,
      "outputs": [],
      "source": [
        "cleaned_df_bb = get_cleaned_df(df_bb)\n",
        "cleaned_df_bb.drop_duplicates(subset=['username'], inplace=True)\n",
        "\n",
        "cleaned_df_op = get_cleaned_df(df_op)\n",
        "cleaned_df_op.drop_duplicates(subset=['username'], inplace=True)"
      ],
      "metadata": {
        "ExecuteTime": {
          "end_time": "2023-09-14T02:48:30.828367403Z",
          "start_time": "2023-09-14T02:48:27.729538388Z"
        },
        "id": "f27754b68cf9750a"
      },
      "id": "f27754b68cf9750a"
    },
    {
      "cell_type": "code",
      "execution_count": 6,
      "outputs": [],
      "source": [
        "cleaned_df_bb['isBarbie'] = 1\n",
        "cleaned_df_op['isBarbie'] = 0\n",
        "\n",
        "df = pd.concat([cleaned_df_bb, cleaned_df_op], ignore_index=True)"
      ],
      "metadata": {
        "ExecuteTime": {
          "end_time": "2023-09-14T02:48:30.832537803Z",
          "start_time": "2023-09-14T02:48:30.829625368Z"
        },
        "id": "9b6c4e0108711c45"
      },
      "id": "9b6c4e0108711c45"
    },
    {
      "cell_type": "markdown",
      "source": [
        "## Get Numeric Data"
      ],
      "metadata": {
        "collapsed": false,
        "id": "cccf4a154bf5c332"
      },
      "id": "cccf4a154bf5c332"
    },
    {
      "cell_type": "code",
      "execution_count": 7,
      "outputs": [],
      "source": [
        "numeric_df = pd.DataFrame(columns=['isBarbie', 'score', 'date', 'people_found_helpful', 'total_people_viewed', 'helpful_ratio','length_of_title', 'length_of_username', 'length_of_review'])\n",
        "\n",
        "numeric_df['isBarbie'] = df['isBarbie']\n",
        "numeric_df['score'] = df['score']\n",
        "numeric_df['date'] = df['date']\n",
        "numeric_df['total_people_viewed'] = df['total_people_viewed']\n",
        "numeric_df['people_found_helpful'] = df['people_found_helpful']\n",
        "numeric_df['helpful_ratio'] = df['people_found_helpful'] / df['total_people_viewed']\n",
        "numeric_df['length_of_title'] = df['title'].apply(lambda x: len(x))\n",
        "numeric_df['length_of_username'] = df['username'].apply(lambda x: len(x))\n",
        "numeric_df['length_of_review'] = df['review'].apply(lambda x: len(x))\n",
        "\n",
        "# numeric_df = numeric_df[~numeric_df['date'].str.contains('IMAX')]\n",
        "numeric_df['date'] = pd.to_datetime(df['date'], format='%d %B %Y')\n",
        "numeric_df['date_from_release'] = (numeric_df['date'] - pd.to_datetime('2023-07-23', format='%Y-%m-%d')).dt.days"
      ],
      "metadata": {
        "ExecuteTime": {
          "end_time": "2023-09-14T02:48:30.874480313Z",
          "start_time": "2023-09-14T02:48:30.834753890Z"
        },
        "id": "682e9c6ca99e7368"
      },
      "id": "682e9c6ca99e7368"
    },
    {
      "cell_type": "markdown",
      "source": [
        "## Data Explore"
      ],
      "metadata": {
        "collapsed": false,
        "id": "155f229d6dfd39ba"
      },
      "id": "155f229d6dfd39ba"
    },
    {
      "cell_type": "code",
      "execution_count": 8,
      "outputs": [
        {
          "output_type": "stream",
          "name": "stderr",
          "text": [
            "<ipython-input-8-5d6e87dc5d47>:12: FutureWarning: The default value of numeric_only in DataFrame.corr is deprecated. In a future version, it will default to False. Select only valid columns or specify the value of numeric_only to silence this warning.\n",
            "  sns.heatmap(data=drop_na_df.corr(), ax=ax1, cmap=cmap, annot=True)\n"
          ]
        },
        {
          "output_type": "display_data",
          "data": {
            "text/plain": [
              "<Figure size 1000x1000 with 2 Axes>"
            ],
            "image/png": "[encoded data removed]"
          },
          "metadata": {}
        }
      ],
      "source": [
        "# Coorelation Matrix\n",
        "import matplotlib.pyplot as plt\n",
        "import seaborn as sns\n",
        "\n",
        "drop_na_df = numeric_df[numeric_df['score'] != 'NULL']\n",
        "\n",
        "fig1 = plt.figure(figsize=(10, 10))\n",
        "ax1 = fig1.add_subplot(111)\n",
        "\n",
        "cmap = sns.diverging_palette(0, 255, n=256, as_cmap=True)\n",
        "\n",
        "sns.heatmap(data=drop_na_df.corr(), ax=ax1, cmap=cmap, annot=True)\n",
        "\n",
        "plt.show()"
      ],
      "metadata": {
        "ExecuteTime": {
          "end_time": "2023-09-14T02:48:31.314894290Z",
          "start_time": "2023-09-14T02:48:30.856013148Z"
        },
        "colab": {
          "base_uri": "https://localhost:8080/",
          "height": 843
        },
        "id": "e77e77d1f01cbdac",
        "outputId": "83aa6a97-4e49-41c2-cdcc-545ebfe6efdb"
      },
      "id": "e77e77d1f01cbdac"
    },
    {
      "cell_type": "code",
      "execution_count": 9,
      "outputs": [
        {
          "output_type": "display_data",
          "data": {
            "text/plain": [
              "<Figure size 1000x1000 with 1 Axes>"
            ],
            "image/png": "[encoded data removed]"
          },
          "metadata": {}
        }
      ],
      "source": [
        "fig2 = plt.figure(figsize=(10, 10))\n",
        "ax2 = fig2.add_subplot(111)\n",
        "\n",
        "sns.boxplot(data=numeric_df, x='isBarbie', y='date_from_release', ax=ax2)\n",
        "\n",
        "plt.show()"
      ],
      "metadata": {
        "ExecuteTime": {
          "end_time": "2023-09-14T02:48:31.447017085Z",
          "start_time": "2023-09-14T02:48:31.327150416Z"
        },
        "colab": {
          "base_uri": "https://localhost:8080/",
          "height": 749
        },
        "id": "40c7321246268f27",
        "outputId": "da87a003-c09a-4d97-d3c7-4733298b8277"
      },
      "id": "40c7321246268f27"
    },
    {
      "cell_type": "code",
      "execution_count": 10,
      "outputs": [
        {
          "output_type": "display_data",
          "data": {
            "text/plain": [
              "<Figure size 800x800 with 1 Axes>"
            ],
            "image/png": "[encoded data removed]"
          },
          "metadata": {}
        },
        {
          "output_type": "display_data",
          "data": {
            "text/plain": [
              "<Figure size 800x800 with 1 Axes>"
            ],
            "image/png": "[encoded data removed]"
          },
          "metadata": {}
        }
      ],
      "source": [
        "group_by = df.groupby('isBarbie')\n",
        "for movie_id, group_data in group_by:\n",
        "    plt.figure(figsize=(8, 8))\n",
        "    plt.hist(group_data['score'], edgecolor='black')\n",
        "    plt.title(f'Score Distribution for isBarbie: {movie_id}')\n",
        "    plt.xlabel('Score')\n",
        "    plt.ylabel('Frequency')\n",
        "    plt.show()"
      ],
      "metadata": {
        "ExecuteTime": {
          "end_time": "2023-09-14T02:48:31.744421501Z",
          "start_time": "2023-09-14T02:48:31.425767676Z"
        },
        "colab": {
          "base_uri": "https://localhost:8080/",
          "height": 1000
        },
        "id": "7f01682bc2bdec23",
        "outputId": "a3858692-5c08-4cf9-e4e1-3892fe01480b"
      },
      "id": "7f01682bc2bdec23"
    },
    {
      "cell_type": "markdown",
      "source": [
        "## Modeling"
      ],
      "metadata": {
        "collapsed": false,
        "id": "536b69b4563677f8"
      },
      "id": "536b69b4563677f8"
    },
    {
      "cell_type": "code",
      "execution_count": 11,
      "outputs": [],
      "source": [
        "def get_bert_data(dff):\n",
        "    return dff[['review', 'isBarbie']].copy()\n",
        "\n",
        "\n",
        "def get_BoW_data(dff):\n",
        "    from sklearn.feature_extraction.text import CountVectorizer\n",
        "    BoW_text_data = dff[['review', 'isBarbie']].copy()\n",
        "\n",
        "    reviews = BoW_text_data['review']\n",
        "    vectorizer = CountVectorizer()\n",
        "\n",
        "    X = vectorizer.fit_transform(reviews)\n",
        "    BoW_df = pd.DataFrame(X.toarray(), columns=vectorizer.get_feature_names_out())\n",
        "    return pd.concat([dff['isBarbie'], BoW_df], axis=1)\n",
        "\n",
        "\n",
        "def get_ANN_data(dff):\n",
        "    opp_inst = []\n",
        "    from collections import Counter\n",
        "    for i in range(len(df['review'])):\n",
        "        count = Counter(df['review'][i].split())\n",
        "        amount = count['Oppenheimer'] + count['oppenheimer']\n",
        "        opp_inst.append(amount)\n",
        "\n",
        "    # Calculates the number of instances the word \"Barbie\" was used\n",
        "    barbie_inst = []\n",
        "\n",
        "    for i in range(len(df['review'])):\n",
        "        count = Counter(df['review'][i].split())\n",
        "        amount = count['Barbie'] + count['barbie']\n",
        "        barbie_inst.append(amount)\n",
        "\n",
        "    # Calculates the number of instances the word \"movie\" was used\n",
        "    movie_inst = []\n",
        "\n",
        "    for i in range(len(df['review'])):\n",
        "        count = Counter(df['review'][i].split())\n",
        "        amount = count['Movie'] + count['movie']\n",
        "        movie_inst.append(amount)\n",
        "\n",
        "    # Calculates the number of instances the word \"war\" was used\n",
        "    war_inst = []\n",
        "    from collections import Counter\n",
        "    for i in range(len(df['review'])):\n",
        "        count = Counter(df['review'][i].split())\n",
        "        amount = count['War'] + count['war']\n",
        "        war_inst.append(amount)\n",
        "\n",
        "    # Calculates the number of instances the word \"woman\" was used\n",
        "    woman_inst = []\n",
        "    from collections import Counter\n",
        "    for i in range(len(df['review'])):\n",
        "        count = Counter(df['review'][i].split())\n",
        "        amount = count['Woman'] + count['woman'] + count['Women'] + count['women']\n",
        "        woman_inst.append(amount)\n",
        "\n",
        "    # Calculates the number of instances the actress Margot Robbie from Barbie was mentioned\n",
        "    margot_inst = []\n",
        "    from collections import Counter\n",
        "    for i in range(len(df['review'])):\n",
        "        count = Counter(df['review'][i].split())\n",
        "        amount = count['Margot'] + count['margot'] + count['Robbie'] + count['robbie']\n",
        "        margot_inst.append(amount)\n",
        "\n",
        "    # Calculates the number of instances the actor Ryan Gosling or Ken from Barbie was mentioned\n",
        "    ken_inst = []\n",
        "    from collections import Counter\n",
        "    for i in range(len(df['review'])):\n",
        "        count = Counter(df['review'][i].split())\n",
        "        amount = count['Ryan'] + count['ryan'] + count['Gosling'] + count['gosling'] + count['Ken'] + count['ken']\n",
        "        ken_inst.append(amount)\n",
        "\n",
        "    # Calculates the number of instances the actress Emily Blunt or Kitty from Oppenheimer was mentioned\n",
        "    kitty_inst = []\n",
        "    from collections import Counter\n",
        "    for i in range(len(df['review'])):\n",
        "        count = Counter(df['review'][i].split())\n",
        "        amount = count['Emily'] + count['emily'] + count['Blunt'] + count['blunt'] + count['Kitty'] + count['kitty']\n",
        "        kitty_inst.append(amount)\n",
        "\n",
        "    # Calculates the number of instances the actor Cillian Murphy from Oppenheimer was mentioned\n",
        "    cillian_inst = []\n",
        "    from collections import Counter\n",
        "    for i in range(len(df['review'])):\n",
        "        count = Counter(df['review'][i].split())\n",
        "        amount = count['Cillian'] + count['cillian'] + count['Murphy'] + count['murphy']\n",
        "        cillian_inst.append(amount)\n",
        "\n",
        "    # Calculates the number of instances an exclamation mark was used\n",
        "    excl_inst = []\n",
        "    from collections import Counter\n",
        "    for i in range(len(df['review'])):\n",
        "        count = Counter(df['review'][i])\n",
        "        amount = count['!']\n",
        "        excl_inst.append(amount)\n",
        "\n",
        "    new_df = pd.DataFrame()\n",
        "    new_df['opp_inst'] = opp_inst\n",
        "    new_df['barbie_inst'] = barbie_inst\n",
        "    new_df['movie_inst'] = movie_inst\n",
        "    new_df['war_inst'] = war_inst\n",
        "    new_df['woman_inst'] = woman_inst\n",
        "    new_df['margot_inst'] = margot_inst\n",
        "    new_df['ken_inst'] = ken_inst\n",
        "    new_df['cillian_inst'] = cillian_inst\n",
        "    new_df['kitty_inst'] = kitty_inst\n",
        "    new_df['excl_inst'] = excl_inst\n",
        "    new_df['score'] = numeric_df['score']\n",
        "    new_df['date_from_release'] = numeric_df['date_from_release']\n",
        "    new_df['isBarbie'] = numeric_df['isBarbie']\n",
        "    return new_df.sample(frac=1)"
      ],
      "metadata": {
        "ExecuteTime": {
          "end_time": "2023-09-14T02:48:31.801186561Z",
          "start_time": "2023-09-14T02:48:31.755193017Z"
        },
        "id": "a38bf5bbe0770713"
      },
      "id": "a38bf5bbe0770713"
    },
    {
      "cell_type": "code",
      "execution_count": 12,
      "outputs": [],
      "source": [
        "from sklearn.model_selection import train_test_split\n",
        "from sklearn.preprocessing import MinMaxScaler\n",
        "\n",
        "df = df.sample(frac=1, random_state=42)\n",
        "\n",
        "train, test = train_test_split(df, test_size=0.2, shuffle=False)\n",
        "\n",
        "Bert_train = get_bert_data(train)\n",
        "Bert_X_train = Bert_train.drop(columns='isBarbie')\n",
        "Bert_y_train = Bert_train['isBarbie']\n",
        "Bert_test = get_bert_data(test)\n",
        "Bert_X_test = Bert_test.drop(columns='isBarbie')\n",
        "Bert_y_test = Bert_test['isBarbie']\n",
        "\n",
        "BoW_df = get_BoW_data(df)\n",
        "\n",
        "BoW_train, BoW_test = train_test_split(BoW_df, test_size=0.2, shuffle=False)\n",
        "# Index order is kept but index is discarded in extraction\n",
        "BoW_X_train = BoW_train.drop(columns='isBarbie')\n",
        "BoW_y_train = BoW_train['isBarbie']\n",
        "BoW_X_test = BoW_test.drop(columns='isBarbie')\n",
        "BoW_y_test = BoW_test['isBarbie']\n",
        "\n",
        "ANN_df = get_ANN_data(df)\n",
        "\n",
        "ANN_train, ANN_test = train_test_split(ANN_df, test_size=0.2, shuffle=False)\n",
        "ANN_X_train = ANN_train.drop(columns='isBarbie')\n",
        "ANN_y_train = ANN_train['isBarbie']\n",
        "ANN_X_test = ANN_test.drop(columns='isBarbie')\n",
        "ANN_y_test = ANN_test['isBarbie']\n",
        "\n",
        "normalize = MinMaxScaler()\n",
        "ANN_X_train = normalize.fit_transform(ANN_X_train)\n",
        "ANN_X_test = normalize.transform(ANN_X_test)\n"
      ],
      "metadata": {
        "ExecuteTime": {
          "end_time": "2023-09-14T02:48:32.990860255Z",
          "start_time": "2023-09-14T02:48:31.801002940Z"
        },
        "id": "d41c917b38e7f6f9"
      },
      "id": "d41c917b38e7f6f9"
    },
    {
      "cell_type": "markdown",
      "source": [
        "### BERT"
      ],
      "metadata": {
        "collapsed": false,
        "id": "52c740647234eb1"
      },
      "id": "52c740647234eb1"
    },
    {
      "cell_type": "code",
      "execution_count": 13,
      "outputs": [],
      "source": [
        "# def get_bert_data():\n",
        "#     return df[['review', 'title', 'isBarbie']].copy()\n",
        "#\n",
        "# bert_text_data = get_bert_data()"
      ],
      "metadata": {
        "ExecuteTime": {
          "end_time": "2023-09-14T02:48:32.996667244Z",
          "start_time": "2023-09-14T02:48:32.993197313Z"
        },
        "id": "491c87cdb327705c"
      },
      "id": "491c87cdb327705c"
    },
    {
      "cell_type": "code",
      "execution_count": 14,
      "outputs": [],
      "source": [
        "from sklearn.model_selection import train_test_split\n",
        "\n",
        "# Bert_X_train, Bert_X_test, Bert_y_train, Bert_y_test = train_test_split(bert_text_data.drop(columns = ['isBarbie', 'title']), bert_text_data['isBarbie'], stratify=bert_text_data['isBarbie'], test_size = 0.2, random_state = 42)\n",
        "# Bert_X_train, Bert_X_test, Bert_y_train, Bert_y_test = train_test_split(bert_text_data.drop(columns = ['isBarbie', 'title']), bert_text_data['isBarbie'], test_size = 0.2, random_state = 42)\n"
      ],
      "metadata": {
        "ExecuteTime": {
          "end_time": "2023-09-14T02:48:33.036524758Z",
          "start_time": "2023-09-14T02:48:32.997466122Z"
        },
        "id": "a69c1a3fca333ed"
      },
      "id": "a69c1a3fca333ed"
    },
    {
      "cell_type": "code",
      "execution_count": 19,
      "outputs": [],
      "source": [
        "import tensorflow as tf\n",
        "import tensorflow_hub as hub\n",
        "import tensorflow_text as text\n",
        "\n",
        "bert_encoder = hub.KerasLayer(\"https://tfhub.dev/tensorflow/bert_en_uncased_L-12_H-768_A-12/4\")\n",
        "bert_preprocess = hub.KerasLayer(\"https://tfhub.dev/tensorflow/bert_en_uncased_preprocess/3\")"
      ],
      "metadata": {
        "ExecuteTime": {
          "end_time": "2023-09-14T02:48:40.325047011Z",
          "start_time": "2023-09-14T02:48:33.009210638Z"
        },
        "id": "3976e25ebb297b0c"
      },
      "id": "3976e25ebb297b0c"
    },
    {
      "cell_type": "code",
      "execution_count": 20,
      "outputs": [],
      "source": [
        "from keras.layers import Dense, Input\n",
        "from keras.optimizers import Adam\n",
        "\n",
        "# BERT layers\n",
        "text_input = Input(shape=(), dtype=tf.string)\n",
        "preprocessed_text = bert_preprocess(text_input)\n",
        "outputs = bert_encoder(preprocessed_text)\n",
        "\n",
        "# Neural network layers\n",
        "l = tf.keras.layers.Dropout(0.1, name=\"dropout\")(outputs['pooled_output'])\n",
        "l = Dense(1, activation='sigmoid')(l)\n",
        "\n",
        "# Use inputs and outputs to construct a final model\n",
        "bert_model = tf.keras.Model(inputs=[text_input], outputs = [l])\n",
        "\n",
        "bert_model.compile(optimizer = Adam(learning_rate = 0.2), loss = 'binary_crossentropy', metrics = ['accuracy'])"
      ],
      "metadata": {
        "ExecuteTime": {
          "end_time": "2023-09-14T02:48:40.735687929Z",
          "start_time": "2023-09-14T02:48:40.334052931Z"
        },
        "id": "2d9d2c274ee78790"
      },
      "id": "2d9d2c274ee78790"
    },
    {
      "cell_type": "code",
      "execution_count": 21,
      "outputs": [],
      "source": [
        "# bert_history = bert_model.fit(Bert_X_train, Bert_y_train, batch_size = 512, epochs = 1)"
      ],
      "metadata": {
        "ExecuteTime": {
          "end_time": "2023-09-14T02:48:40.741053080Z",
          "start_time": "2023-09-14T02:48:40.738618032Z"
        },
        "id": "a3c8ee5fe16afab4"
      },
      "id": "a3c8ee5fe16afab4"
    },
    {
      "cell_type": "code",
      "source": [
        "\n",
        "\n",
        "from kerastuner.tuners import RandomSearch\n",
        "from kerastuner.engine.hyperparameters import HyperParameters\n",
        "from keras.layers import Dropout\n",
        "\n",
        "\n",
        "bert_encoder = hub.KerasLayer(\"https://tfhub.dev/tensorflow/bert_en_uncased_L-12_H-768_A-12/4\")\n",
        "bert_preprocess = hub.KerasLayer(\"https://tfhub.dev/tensorflow/bert_en_uncased_preprocess/3\")"
      ],
      "metadata": {
        "colab": {
          "base_uri": "https://localhost:8080/"
        },
        "id": "UeosyEeI2J-F",
        "outputId": "df750d62-bd6d-46ce-9107-3b7938037b4a"
      },
      "id": "UeosyEeI2J-F",
      "execution_count": 22,
      "outputs": [
        {
          "output_type": "stream",
          "name": "stderr",
          "text": [
            "<ipython-input-22-0881c39cb17c>:1: DeprecationWarning: `import kerastuner` is deprecated, please use `import keras_tuner`.\n",
            "  from kerastuner.tuners import RandomSearch\n"
          ]
        }
      ]
    },
    {
      "cell_type": "code",
      "source": [
        "# !pip install keras-tuner\n"
      ],
      "metadata": {
        "id": "aPMnKWJi2CI3"
      },
      "id": "aPMnKWJi2CI3",
      "execution_count": 23,
      "outputs": []
    },
    {
      "cell_type": "code",
      "source": [
        "# pip install tensorflow_text\n"
      ],
      "metadata": {
        "id": "yE2nuD2R3qRl"
      },
      "id": "yE2nuD2R3qRl",
      "execution_count": 24,
      "outputs": []
    },
    {
      "cell_type": "code",
      "source": [
        "\n",
        "\n",
        "text_input = Input(shape=(), dtype=tf.string)\n",
        "preprocessed_text = bert_preprocess(text_input)\n",
        "outputs = bert_encoder(preprocessed_text)\n",
        "\n",
        "l = tf.keras.layers.Dropout(0.1, name=\"dropout\")(outputs['pooled_output'])\n",
        "l = Dense(1, activation='sigmoid')(l)\n",
        "\n",
        "bert_model = tf.keras.Model(inputs=[text_input], outputs = [l])\n",
        "\n",
        "bert_model.compile(optimizer = Adam(learning_rate = 0.2), loss = 'binary_crossentropy', metrics = ['accuracy'])"
      ],
      "metadata": {
        "id": "X2wW2Dv_2MSx"
      },
      "id": "X2wW2Dv_2MSx",
      "execution_count": 25,
      "outputs": []
    },
    {
      "cell_type": "code",
      "source": [
        "\n",
        "def build_bert_model(hp):\n",
        "    text_input = Input(shape=(), dtype=tf.string)\n",
        "    preprocessed_text = bert_preprocess(text_input)\n",
        "    outputs = bert_encoder(preprocessed_text)\n",
        "\n",
        "    l = Dropout(hp.Float('dropout_rate', min_value=0.1, max_value=0.5, step=0.1), name=\"dropout\")(outputs['pooled_output'])\n",
        "    l = Dense(hp.Int('dense_units', min_value=16, max_value=128, step=16), activation='relu')(l)\n",
        "    l = Dense(1, activation='sigmoid')(l)\n",
        "\n",
        "    model = tf.keras.Model(inputs=[text_input], outputs=[l])\n",
        "\n",
        "    model.compile(\n",
        "        optimizer=Adam(learning_rate=hp.Choice('learning_rate', values=[0.1, 0.01, 0.001, 0.0001])),\n",
        "        loss='binary_crossentropy',\n",
        "        metrics=['accuracy']\n",
        "    )\n",
        "\n",
        "    return model\n",
        "\n",
        "tuner = RandomSearch(\n",
        "    build_bert_model,\n",
        "    objective='val_accuracy',\n",
        "    max_trials=2,\n",
        "    directory='my_dir',\n",
        "    project_name='my_project'\n",
        ")\n",
        "\n",
        "tuner.search(Bert_X_train, Bert_y_train, epochs=3, validation_data=(Bert_X_test, Bert_y_test))\n",
        "\n",
        "best_hps = tuner.get_best_hyperparameters(num_trials=1)[0]\n",
        "\n",
        "print(\"Best Hyperparameters:\")\n",
        "print(\"Learning Rate:\", best_hps.get('learning_rate'))\n",
        "print(\"Dropout Rate:\", best_hps.get('dropout_rate'))\n",
        "print(\"Dense Units:\", best_hps.get('dense_units'))\n",
        "\n",
        "best_bert_model = build_bert_model(best_hps)\n",
        "\n",
        "best_bert_model.fit(Bert_X_train, Bert_y_train, batch_size=32, epochs=500)\n",
        "\n",
        "test_accuracy = best_bert_model.evaluate(Bert_X_test, Bert_y_test, verbose=0)[1]\n",
        "print(\"Test Accuracy:\", test_accuracy)\n"
      ],
      "metadata": {
        "colab": {
          "base_uri": "https://localhost:8080/"
        },
        "id": "wt38q4Vg2N4J",
        "outputId": "98d42745-f7dc-4052-f749-c402e66c91be"
      },
      "id": "wt38q4Vg2N4J",
      "execution_count": null,
      "outputs": [
        {
          "output_type": "stream",
          "name": "stdout",
          "text": [
            "\n",
            "Search: Running Trial #1\n",
            "\n",
            "Value             |Best Value So Far |Hyperparameter\n",
            "0.5               |0.5               |dropout_rate\n",
            "16                |16                |dense_units\n",
            "0.01              |0.01              |learning_rate\n",
            "\n",
            "Epoch 1/3\n",
            " 5/70 [=>............................] - ETA: 18:27 - loss: 0.9906 - accuracy: 0.5312"
          ]
        }
      ]
    },
    {
      "cell_type": "markdown",
      "source": [
        "### Bag of Words"
      ],
      "metadata": {
        "collapsed": false,
        "id": "ceefb135de2b78a7"
      },
      "id": "ceefb135de2b78a7"
    },
    {
      "cell_type": "code",
      "execution_count": null,
      "outputs": [],
      "source": [
        "# from sklearn.feature_extraction.text import CountVectorizer\n",
        "#\n",
        "# def get_BoW_data():\n",
        "#     BoW_text_data = df[['review', 'isBarbie']].copy()\n",
        "#\n",
        "#     reviews = BoW_text_data['review']\n",
        "#     vectorizer = CountVectorizer()\n",
        "#\n",
        "#     X = vectorizer.fit_transform(reviews)\n",
        "#     BoW_df = pd.DataFrame(X.toarray(), columns=vectorizer.get_feature_names_out())\n",
        "#     return pd.concat([BoW_df, BoW_text_data['isBarbie']], axis=1)"
      ],
      "metadata": {
        "ExecuteTime": {
          "end_time": "2023-09-14T02:48:40.783868062Z",
          "start_time": "2023-09-14T02:48:40.742546Z"
        },
        "id": "d1e3f038ee52a9f6"
      },
      "id": "d1e3f038ee52a9f6"
    },
    {
      "cell_type": "code",
      "execution_count": null,
      "outputs": [],
      "source": [
        "from sklearn.tree import DecisionTreeClassifier\n",
        "\n",
        "# BoW_df = get_BoW_data()\n",
        "#\n",
        "# BoW_X_train, BoW_X_test, BoW_y_train, BoW_y_test = train_test_split(BoW_df.drop(columns='isBarbie'), BoW_df['isBarbie'], test_size=0.2, random_state=42)\n",
        "\n",
        "BoW_decision_tree = DecisionTreeClassifier(max_depth=5, random_state=42)"
      ],
      "metadata": {
        "ExecuteTime": {
          "end_time": "2023-09-14T03:22:34.624898264Z",
          "start_time": "2023-09-14T03:22:34.567863235Z"
        },
        "id": "4d817c340a349d3e"
      },
      "id": "4d817c340a349d3e"
    },
    {
      "cell_type": "code",
      "execution_count": null,
      "outputs": [],
      "source": [
        "# BoW_decision_tree.fit(BoW_X_train, BoW_y_train)"
      ],
      "metadata": {
        "ExecuteTime": {
          "end_time": "2023-09-14T02:48:40.813954008Z",
          "start_time": "2023-09-14T02:48:40.788107953Z"
        },
        "id": "766b95d573f8ff1b"
      },
      "id": "766b95d573f8ff1b"
    },
    {
      "cell_type": "markdown",
      "source": [
        "### ANN"
      ],
      "metadata": {
        "collapsed": false,
        "id": "d6f39ca0e1bb1340"
      },
      "id": "d6f39ca0e1bb1340"
    },
    {
      "cell_type": "code",
      "execution_count": null,
      "outputs": [],
      "source": [
        "# def get_ANN_data():\n",
        "#     from collections import Counter\n",
        "#     opp_inst = []\n",
        "#     for i in range(len(df['review'])):\n",
        "#         count = Counter(df['review'][i].split())\n",
        "#         amount = count['Oppenheimer'] + count['oppenheimer']\n",
        "#         opp_inst.append(amount)\n",
        "#\n",
        "#     barbie_inst = []\n",
        "#     for i in range(len(df['review'])):\n",
        "#         count = Counter(df['review'][i].split())\n",
        "#         amount = count['Barbie'] + count['barbie']\n",
        "#         barbie_inst.append(amount)\n",
        "#\n",
        "#     movie_inst = []\n",
        "#     for i in range(len(df['review'])):\n",
        "#         count = Counter(df['review'][i].split())\n",
        "#         amount = count['Movie'] + count['movie']\n",
        "#         movie_inst.append(amount)\n",
        "#\n",
        "#     excl_inst = []\n",
        "#     from collections import Counter\n",
        "#     for i in range(len(df['review'])):\n",
        "#         count = Counter(df['review'][i])\n",
        "#         amount = count['!']\n",
        "#         excl_inst.append(amount)\n",
        "#\n",
        "#     new_df = pd.DataFrame()\n",
        "#     new_df['opp_inst'] = opp_inst\n",
        "#     new_df['barbie_inst'] = barbie_inst\n",
        "#     new_df['movie_inst'] = movie_inst\n",
        "#     new_df['excl_inst'] = excl_inst\n",
        "#     new_df['score'] = numeric_df['score']\n",
        "#     new_df['date_from_release'] = numeric_df['date_from_release']\n",
        "#     new_df['isBarbie'] = numeric_df['isBarbie']\n",
        "#     return new_df.sample(frac=1)"
      ],
      "metadata": {
        "ExecuteTime": {
          "end_time": "2023-09-14T02:48:40.901994782Z",
          "start_time": "2023-09-14T02:48:40.832905043Z"
        },
        "id": "ca438ba166036b78"
      },
      "id": "ca438ba166036b78"
    },
    {
      "cell_type": "code",
      "execution_count": null,
      "outputs": [],
      "source": [
        "# ANN_Data = get_ANN_data()\n",
        "# ANN_X_train, ANN_X_test, ANN_y_train, ANN_y_test = train_test_split(ANN_Data.drop(columns='isBarbie'),ANN_Data['isBarbie'], test_size=0.2, random_state=42)"
      ],
      "metadata": {
        "ExecuteTime": {
          "end_time": "2023-09-14T02:48:40.902199495Z",
          "start_time": "2023-09-14T02:48:40.833147751Z"
        },
        "id": "1633a7301ced8c39"
      },
      "id": "1633a7301ced8c39"
    },
    {
      "cell_type": "code",
      "execution_count": null,
      "outputs": [],
      "source": [
        "from keras.models import Sequential\n",
        "from keras.layers import Dense\n",
        "from keras.optimizers import Adam\n",
        "\n",
        "ANN = Sequential()\n",
        "\n",
        "ANN.add(Dense(units=16, activation='sigmoid', input_shape=(ANN_X_train.shape[1],)))\n",
        "ANN.add(Dense(units=8, activation='sigmoid'))\n",
        "ANN.add(Dense(units=4, activation='sigmoid'))\n",
        "ANN.add(Dense(units=1, activation='sigmoid'))\n",
        "\n",
        "opt = Adam(learning_rate=1e-03)\n",
        "\n",
        "ANN.compile(optimizer='adam', loss='binary_crossentropy', metrics=['accuracy'])"
      ],
      "metadata": {
        "ExecuteTime": {
          "end_time": "2023-09-14T02:48:40.958137851Z",
          "start_time": "2023-09-14T02:48:40.833324457Z"
        },
        "id": "9c882a84629805f7"
      },
      "id": "9c882a84629805f7"
    },
    {
      "cell_type": "code",
      "execution_count": null,
      "outputs": [],
      "source": [
        "# ANN_history = ANN.fit(ANN_X_train, ANN_y_train, epochs=100, batch_size=16)"
      ],
      "metadata": {
        "ExecuteTime": {
          "end_time": "2023-09-14T02:48:40.958302474Z",
          "start_time": "2023-09-14T02:48:40.876929306Z"
        },
        "id": "aee1f03fb66e1f34"
      },
      "id": "aee1f03fb66e1f34"
    },
    {
      "cell_type": "markdown",
      "source": [
        "## Training"
      ],
      "metadata": {
        "collapsed": false,
        "id": "ad1786b0b5e606ff"
      },
      "id": "ad1786b0b5e606ff"
    },
    {
      "cell_type": "code",
      "execution_count": null,
      "outputs": [],
      "source": [
        "Bert_X_train.shape\n",
        "# Bert_y_train.shape"
      ],
      "metadata": {
        "ExecuteTime": {
          "end_time": "2023-09-14T02:48:40.958482742Z",
          "start_time": "2023-09-14T02:48:40.877154135Z"
        },
        "id": "8cc3d868b3cd4a0d"
      },
      "id": "8cc3d868b3cd4a0d"
    },
    {
      "cell_type": "code",
      "execution_count": null,
      "outputs": [],
      "source": [
        "bert_history = bert_model.fit(Bert_X_train, Bert_y_train, batch_size = 512, epochs = 1)"
      ],
      "metadata": {
        "ExecuteTime": {
          "end_time": "2023-09-14T02:52:11.109391918Z",
          "start_time": "2023-09-14T02:48:40.877332447Z"
        },
        "id": "377fbb36050b49fb"
      },
      "id": "377fbb36050b49fb"
    },
    {
      "cell_type": "code",
      "execution_count": null,
      "outputs": [],
      "source": [
        "BoW_decision_tree.fit(BoW_X_train, BoW_y_train)"
      ],
      "metadata": {
        "ExecuteTime": {
          "end_time": "2023-09-14T03:22:40.751940490Z",
          "start_time": "2023-09-14T03:22:39.356411427Z"
        },
        "id": "f497a02b8b29775b"
      },
      "id": "f497a02b8b29775b"
    },
    {
      "cell_type": "code",
      "execution_count": null,
      "outputs": [],
      "source": [
        "ANN_history = ANN.fit(ANN_X_train, ANN_y_train, epochs=60, batch_size=32, validation_data=(ANN_X_test, ANN_y_test))"
      ],
      "metadata": {
        "ExecuteTime": {
          "end_time": "2023-09-14T02:52:22.064040668Z",
          "start_time": "2023-09-14T02:52:14.807134694Z"
        },
        "id": "edd47aa8a0aeb7e5"
      },
      "id": "edd47aa8a0aeb7e5"
    },
    {
      "cell_type": "code",
      "execution_count": null,
      "outputs": [],
      "source": [
        "import matplotlib.pyplot as plt\n",
        "\n",
        "plt.plot(ANN_history.history['loss'], label = \"Training Loss\")\n",
        "plt.plot(ANN_history.history['val_loss'], label = \"Validation Loss\")\n",
        "plt.legend()"
      ],
      "metadata": {
        "ExecuteTime": {
          "end_time": "2023-09-14T02:52:22.305891428Z",
          "start_time": "2023-09-14T02:52:22.034963068Z"
        },
        "id": "26ba918de742ccf0"
      },
      "id": "26ba918de742ccf0"
    },
    {
      "cell_type": "markdown",
      "source": [
        "### Customized Ensemble"
      ],
      "metadata": {
        "collapsed": false,
        "id": "3a9540fed8444557"
      },
      "id": "3a9540fed8444557"
    },
    {
      "cell_type": "code",
      "execution_count": null,
      "outputs": [],
      "source": [
        "# print(Bert_y_test.head())\n",
        "# print(BoW_y_test.head())\n",
        "# print(ANN_y_test.head())"
      ],
      "metadata": {
        "ExecuteTime": {
          "end_time": "2023-09-14T02:52:22.306042290Z",
          "start_time": "2023-09-14T02:52:22.248953391Z"
        },
        "id": "52742c449249ea15"
      },
      "id": "52742c449249ea15"
    },
    {
      "cell_type": "code",
      "execution_count": null,
      "outputs": [],
      "source": [
        "bert_train_yhat = bert_model.predict(Bert_X_train)\n",
        "BoW_train_yhat = BoW_decision_tree.predict(BoW_X_train).reshape(BoW_X_train.shape[0], 1)\n",
        "ANN_train_yhat = ANN.predict(ANN_X_train)"
      ],
      "metadata": {
        "ExecuteTime": {
          "end_time": "2023-09-14T03:22:52.845501315Z",
          "start_time": "2023-09-14T03:22:52.675024299Z"
        },
        "id": "13275966c21b0b9b"
      },
      "id": "13275966c21b0b9b"
    },
    {
      "cell_type": "code",
      "execution_count": null,
      "outputs": [],
      "source": [
        "from sklearn.metrics import classification_report\n",
        "\n",
        "bert_train_yhat = [1 if yhat > 0.5 else 0 for yhat in bert_train_yhat]\n",
        "BoW_train_yhat = [1 if yhat > 0.5 else 0 for yhat in BoW_train_yhat]\n",
        "ANN_train_yhat = [1 if yhat > 0.5 else 0 for yhat in ANN_train_yhat]\n",
        "\n",
        "print('BERT Train')\n",
        "print(classification_report(bert_train_yhat, Bert_y_train))\n",
        "print('========================================')\n",
        "print('BoW Train')\n",
        "print(classification_report(BoW_train_yhat, BoW_y_train))\n",
        "print('========================================')\n",
        "print('ANN Train')\n",
        "print(classification_report(ANN_train_yhat, ANN_y_train))"
      ],
      "metadata": {
        "ExecuteTime": {
          "end_time": "2023-09-14T03:22:57.905766776Z",
          "start_time": "2023-09-14T03:22:57.844728187Z"
        },
        "id": "95e2cd16aea1b8cb"
      },
      "id": "95e2cd16aea1b8cb"
    },
    {
      "cell_type": "code",
      "execution_count": null,
      "outputs": [],
      "source": [
        "bert_test_yhat = bert_model.predict(Bert_X_test)\n",
        "BoW_test_yhat = BoW_decision_tree.predict(BoW_X_test)\n",
        "ANN_test_yhat = ANN.predict(ANN_X_test)"
      ],
      "metadata": {
        "ExecuteTime": {
          "end_time": "2023-09-14T03:23:15.999123101Z",
          "start_time": "2023-09-14T03:23:15.826948315Z"
        },
        "id": "c8ca7384fc0aec9e"
      },
      "id": "c8ca7384fc0aec9e"
    },
    {
      "cell_type": "code",
      "execution_count": null,
      "outputs": [],
      "source": [
        "bert_test_yhat = [1 if yhat > 0.5 else 0 for yhat in bert_test_yhat]\n",
        "BoW_test_yhat = [1 if yhat > 0.5 else 0 for yhat in BoW_test_yhat]\n",
        "ANN_test_yhat = [1 if yhat > 0.5 else 0 for yhat in ANN_test_yhat]\n",
        "\n",
        "print('BERT Test')\n",
        "print(classification_report(bert_test_yhat, Bert_y_test))\n",
        "print('========================================')\n",
        "print('BoW Test')\n",
        "print(classification_report(BoW_test_yhat, BoW_y_test))\n",
        "print('========================================')\n",
        "print('ANN Test')\n",
        "print(classification_report(ANN_test_yhat, ANN_y_test))"
      ],
      "metadata": {
        "ExecuteTime": {
          "end_time": "2023-09-14T03:23:19.847391087Z",
          "start_time": "2023-09-14T03:23:19.783030782Z"
        },
        "id": "b6fedf94778146b8"
      },
      "id": "b6fedf94778146b8"
    },
    {
      "cell_type": "code",
      "execution_count": null,
      "outputs": [],
      "source": [
        "ensemble_X_train = pd.concat([pd.DataFrame(bert_train_yhat), pd.DataFrame(BoW_train_yhat), pd.DataFrame(ANN_train_yhat)], axis=1)\n",
        "# ensemble_X_train = pd.concat([pd.DataFrame(BoW_train_yhat), pd.DataFrame(ANN_train_yhat)], axis=1)\n",
        "ensemble_y_train = train['isBarbie']\n",
        "\n",
        "ensemble_X_test = pd.concat([pd.DataFrame(bert_test_yhat), pd.DataFrame(BoW_test_yhat), pd.DataFrame(ANN_test_yhat)], axis=1)\n",
        "\n",
        "# ensemble_X_test = pd.concat([pd.DataFrame(bert_model.predict(Bert_X_test)), pd.DataFrame(BoW_decision_tree.predict(BoW_X_test).reshape(BoW_X_test.shape[0], 1)), pd.DataFrame(ANN.predict(ANN_X_test))], axis=1)\n",
        "ensemble_y_test = test['isBarbie']"
      ],
      "metadata": {
        "ExecuteTime": {
          "end_time": "2023-09-14T03:23:37.593045505Z",
          "start_time": "2023-09-14T03:23:37.550402179Z"
        },
        "id": "f8beeb8f0ca5f5c7"
      },
      "id": "f8beeb8f0ca5f5c7"
    },
    {
      "cell_type": "code",
      "execution_count": null,
      "outputs": [],
      "source": [
        "ensemble_model = Sequential()\n",
        "\n",
        "ensemble_model.add(Dense(units=3, activation='sigmoid', input_shape=(ensemble_X_train.shape[1],)))\n",
        "ensemble_model.add(Dense(units=1, activation='sigmoid'))\n",
        "\n",
        "opt = Adam(learning_rate=1e-04)\n",
        "\n",
        "ensemble_model.compile(optimizer=opt, loss='binary_crossentropy', metrics=['accuracy'])"
      ],
      "metadata": {
        "ExecuteTime": {
          "end_time": "2023-09-14T03:23:39.768820483Z",
          "start_time": "2023-09-14T03:23:39.736851011Z"
        },
        "id": "7804db85be16d880"
      },
      "id": "7804db85be16d880"
    },
    {
      "cell_type": "code",
      "execution_count": null,
      "outputs": [],
      "source": [
        "ensemble_history = ensemble_model.fit(ensemble_X_train, ensemble_y_train, epochs=50, batch_size=8, validation_data=(ensemble_X_test, ensemble_y_test))"
      ],
      "metadata": {
        "ExecuteTime": {
          "end_time": "2023-09-14T03:24:01.354741906Z",
          "start_time": "2023-09-14T03:23:42.392161954Z"
        },
        "id": "63b1e5d8fb8dd312"
      },
      "id": "63b1e5d8fb8dd312"
    },
    {
      "cell_type": "code",
      "execution_count": null,
      "outputs": [],
      "source": [
        "import matplotlib.pyplot as plt\n",
        "\n",
        "plt.plot(ensemble_history.history['loss'], label = \"Training Loss\")\n",
        "plt.plot(ensemble_history.history['val_loss'], label = \"Validation Loss\")\n",
        "plt.legend()"
      ],
      "metadata": {
        "ExecuteTime": {
          "end_time": "2023-09-14T03:24:01.493301664Z",
          "start_time": "2023-09-14T03:24:01.304932459Z"
        },
        "id": "7d716deed4af581a"
      },
      "id": "7d716deed4af581a"
    },
    {
      "cell_type": "code",
      "execution_count": null,
      "outputs": [],
      "source": [
        "ensemble_yhat = ensemble_model.predict(ensemble_X_test)\n",
        "\n",
        "ensemble_yhat = [1 if yhat > 0.5 else 0 for yhat in ensemble_yhat]"
      ],
      "metadata": {
        "ExecuteTime": {
          "end_time": "2023-09-14T03:24:01.547908145Z",
          "start_time": "2023-09-14T03:24:01.484839143Z"
        },
        "id": "92af63c12b25dff1"
      },
      "id": "92af63c12b25dff1"
    },
    {
      "cell_type": "code",
      "execution_count": null,
      "outputs": [],
      "source": [
        "from sklearn.metrics import classification_report\n",
        "\n",
        "print(classification_report(ensemble_yhat, ensemble_y_test))"
      ],
      "metadata": {
        "ExecuteTime": {
          "end_time": "2023-09-14T03:24:01.564071581Z",
          "start_time": "2023-09-14T03:24:01.519723697Z"
        },
        "id": "7b9d13d4ba4cb945"
      },
      "id": "7b9d13d4ba4cb945"
    },
    {
      "cell_type": "code",
      "execution_count": null,
      "outputs": [],
      "source": [
        "# Simple vote\n",
        "ensemble_X_test = pd.concat([pd.DataFrame(BoW_test_yhat), pd.DataFrame(ANN_test_yhat)], axis=1)\n",
        "ensemble_yhat = ensemble_X_test.sum(axis=1)\n",
        "ensemble_yhat = [1 if yhat > 1 else 0 for yhat in ensemble_yhat]\n",
        "\n",
        "print(classification_report(ensemble_yhat, ensemble_y_test))"
      ],
      "metadata": {
        "ExecuteTime": {
          "end_time": "2023-09-14T03:24:01.564274536Z",
          "start_time": "2023-09-14T03:24:01.560854887Z"
        },
        "id": "79828d1a9c642c68"
      },
      "id": "79828d1a9c642c68"
    }
  ],
  "metadata": {
    "kernelspec": {
      "display_name": "Python 3",
      "language": "python",
      "name": "python3"
    },
    "language_info": {
      "codemirror_mode": {
        "name": "ipython",
        "version": 2
      },
      "file_extension": ".py",
      "mimetype": "text/x-python",
      "name": "python",
      "nbconvert_exporter": "python",
      "pygments_lexer": "ipython2",
      "version": "2.7.6"
    },
    "colab": {
      "provenance": []
    }
  },
  "nbformat": 4,
  "nbformat_minor": 5
}
