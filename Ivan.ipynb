{
 "nbformat": 4,
 "nbformat_minor": 0,
 "metadata": {
  "colab": {
   "provenance": []
  },
  "kernelspec": {
   "name": "python3",
   "language": "python",
   "display_name": "Python 3 (ipykernel)"
  },
  "language_info": {
   "name": "python"
  }
 },
 "cells": [
  {
   "cell_type": "code",
   "source": [
    "# from google.colab import drive\n",
    "# drive.mount('/content/drive')"
   ],
   "metadata": {
    "id": "0G3TRhOEM5-J",
    "colab": {
     "base_uri": "https://localhost:8080/"
    },
    "outputId": "7f5d180b-b9f4-4524-867e-89b93a4a6738",
    "ExecuteTime": {
     "end_time": "2023-09-12T04:36:26.093467446Z",
     "start_time": "2023-09-12T04:36:25.949996934Z"
    }
   },
   "execution_count": 45,
   "outputs": []
  },
  {
   "cell_type": "code",
   "execution_count": 46,
   "metadata": {
    "id": "YsmlH0sWehrb",
    "ExecuteTime": {
     "end_time": "2023-09-12T04:36:26.558626309Z",
     "start_time": "2023-09-12T04:36:25.950286774Z"
    }
   },
   "outputs": [],
   "source": [
    "import pandas as pd\n",
    "\n",
    "df_bb = pd.read_csv('./data/imdb_barbie_Uncleaned.csv', header=None)\n",
    "df_op = pd.read_csv('./data/imdb_oppenhimmer_Uncleaned.csv', header=None)\n",
    "df_bb.drop_duplicates(inplace=True)\n",
    "df_op.drop_duplicates(inplace=True)\n"
   ]
  },
  {
   "cell_type": "code",
   "source": [
    "import re\n",
    "\n",
    "score_Reg = '(\\d{1,2})\\/\\d{1,2}\\s.*\\s'\n",
    "title_Reg = '\\d{1,2}\\/\\d{1,2}\\s(.*)'\n",
    "people_found_helpful_Reg = '([\\d,]*) out of ([\\d,]*) found this helpful'\n",
    "username_Reg = '\\d{1,2}\\/\\d{1,2}\\s.*\\s([A-Za-z0-9_-]+)\\d{2}\\s(?:January|February|March|April|June|July|August|September|October|November|December)'\n",
    "date_Reg = '(\\d{1,2}\\s(?:January|February|March|April|June|July|August|September|October|November|December)\\s\\d{4})'\n",
    "review_Reg = '\\d{1,2}\\s\\w+\\s\\d{4}\\s([\\s\\S]*)\\s[\\d,]* out of [\\d,]* found this helpful'"
   ],
   "metadata": {
    "id": "orzhV8cUG16Q",
    "ExecuteTime": {
     "end_time": "2023-09-12T04:36:26.602145781Z",
     "start_time": "2023-09-12T04:36:26.559931424Z"
    }
   },
   "execution_count": 47,
   "outputs": []
  },
  {
   "cell_type": "code",
   "source": [
    "# Regular Expression test code\n",
    "\n",
    "test_text = df_bb.iloc[0][0]\n",
    "\n",
    "# print(test_text)\n",
    "\n",
    "res = re.findall(score_Reg, test_text)\n",
    "print(res)\n",
    "\n",
    "res = re.findall(title_Reg, test_text)\n",
    "print(res)\n",
    "\n",
    "res = re.findall(username_Reg, test_text)\n",
    "print(res)\n",
    "\n",
    "res = re.findall(date_Reg, test_text)\n",
    "print(res)\n",
    "\n",
    "res = re.findall(people_found_helpful_Reg, test_text)\n",
    "print(res)\n",
    "print(int(res[0][0].replace(',', '')))\n",
    "print(int(res[0][1].replace(',', '')))\n",
    "\n",
    "res = re.findall(review_Reg, test_text)\n",
    "print(res)"
   ],
   "metadata": {
    "colab": {
     "base_uri": "https://localhost:8080/"
    },
    "id": "5lo-hbsEG5bt",
    "outputId": "75c620ac-b855-4734-d178-e98122183e34",
    "ExecuteTime": {
     "end_time": "2023-09-12T04:36:26.605217798Z",
     "start_time": "2023-09-12T04:36:26.602346713Z"
    }
   },
   "execution_count": 48,
   "outputs": [
    {
     "name": "stdout",
     "output_type": "stream",
     "text": [
      "['6']\n",
      "['Creative but preachy and confusing']\n",
      "['Imshortok06']\n",
      "['23 July 2023']\n",
      "[('1,007', '1,363')]\n",
      "1007\n",
      "1363\n",
      "['I\\'m just going to get straight to the point: I liked some aspects of this movie and disliked other parts. Cinematography: awesome. Choreographed musical numbers: hilarious. Comedy: good. Margot Robbie: great. Ryan Gosling: awesome, and arguably the best part of the movie. The scenery and props really did help create the world. The storyline started off very intriguing. However, when the movie got to the meat of the plot and the central conflict, its message became confusing. It\\'s like they wanted to make Ken the bad guy yet also sympathetic, which is not impossible or unheard of, but the way the writers did this was ineffective. Also, the resolution didn\\'t make sense based on the message and events that led up to it. Lastly, I really hate it when movies try to empower women by dumbing down the men. I get that in a Barbie world, Ken is an afterthought, but in the real world all men were also dumb. They also treated masculine qualities as \"evil.\" I hate stereotyping people, men included, and it\\'s like all men ride horses and have fragile egos and drink \"brewskies.\" And for goodness sake, if I had a dollar for every time the movie said \"patriarchy\", I\\'d be rich. So, overall, I give this movie a 6/10.']\n"
     ]
    }
   ]
  },
  {
   "cell_type": "code",
   "source": [
    "# Clean every row in data set\n",
    "\n",
    "def get_cleaned_df(dirty_df):\n",
    "\t# cleaned_df = pd.DataFrame(columns=['score', 'title', 'username', 'date', 'people_found_helpful', 'review'])\n",
    "\tcleaned_df = pd.DataFrame(columns=['score', 'title', 'username', 'date', 'people_found_helpful', 'total_people_viewed', 'review'])\n",
    "\n",
    "\tfor index in range(len(dirty_df)):\n",
    "\t\trow = dirty_df.iloc[index][0]\n",
    "\n",
    "\t\tscore = re.findall(score_Reg, row)\n",
    "\t\ttitle = re.findall(title_Reg, row)\n",
    "\t\tusername = re.findall(username_Reg, row)\n",
    "\t\tdate = re.findall(date_Reg, row)\n",
    "\t\tpeople_found_helpful = re.findall(people_found_helpful_Reg, row)\n",
    "\t\treview = re.findall(review_Reg, row)\n",
    "\n",
    "\t\tif not score:\n",
    "\t\t\tscore = 'NULL'\n",
    "\t\t\tcontinue\n",
    "\t\telse:\n",
    "\t\t\tscore = int(score[0])\n",
    "\t\tif not title:\n",
    "\t\t\ttitle = ['NULL']\n",
    "\t\tif not username:\n",
    "\t\t\tusername = ['NULL']\n",
    "\t\tif not date:\n",
    "\t\t\tdate = ['NULL']\n",
    "\t\tif not people_found_helpful:\n",
    "\t\t\tpeople_found_helpful = 'NULL'\n",
    "\t\t\ttotal_people_viewed = 'NULL'\n",
    "\t\telse:\n",
    "\t\t\ttotal_people_viewed = int(people_found_helpful[0][1].replace(',', ''))\n",
    "\t\t\tpeople_found_helpful = int(people_found_helpful[0][0].replace(',', ''))\n",
    "\t\tif not review:\n",
    "\t\t\treview = ['NULL']\n",
    "\n",
    "\t\tcleaned_df.loc[index] = [score, title[0], username[0], date[0], people_found_helpful, total_people_viewed, review[0]]\n",
    "\treturn cleaned_df"
   ],
   "metadata": {
    "id": "is8XvAx2HE5_",
    "ExecuteTime": {
     "end_time": "2023-09-12T04:36:26.605995336Z",
     "start_time": "2023-09-12T04:36:26.602960055Z"
    }
   },
   "execution_count": 49,
   "outputs": []
  },
  {
   "cell_type": "code",
   "source": [
    "cleand_df_bb = get_cleaned_df(df_bb)\n",
    "cleand_df_bb.drop_duplicates(subset=['username'], inplace=True)"
   ],
   "metadata": {
    "id": "rEup6TxZHRM-",
    "ExecuteTime": {
     "end_time": "2023-09-12T04:36:27.283696204Z",
     "start_time": "2023-09-12T04:36:26.603633600Z"
    }
   },
   "execution_count": 50,
   "outputs": []
  },
  {
   "cell_type": "code",
   "source": [
    "cleand_df_op = get_cleaned_df(df_op)\n",
    "cleand_df_op.drop_duplicates(subset=['username'], inplace=True)"
   ],
   "metadata": {
    "id": "SkO9m6jcHZfH",
    "ExecuteTime": {
     "end_time": "2023-09-12T04:36:29.117462301Z",
     "start_time": "2023-09-12T04:36:28.381097544Z"
    }
   },
   "execution_count": 51,
   "outputs": []
  },
  {
   "cell_type": "code",
   "source": [
    "cleand_df_op"
   ],
   "metadata": {
    "colab": {
     "base_uri": "https://localhost:8080/",
     "height": 424
    },
    "id": "1XGLW1i7Hea-",
    "outputId": "70dae0c6-d496-4c9d-bb8e-b1c6ec56043c",
    "ExecuteTime": {
     "end_time": "2023-09-12T04:36:29.141768642Z",
     "start_time": "2023-09-12T04:36:29.123198884Z"
    }
   },
   "execution_count": 52,
   "outputs": [
    {
     "data": {
      "text/plain": "      score                                              title  \\\n0         9                              Murphy is exceptional   \n1         8  A challenging watch to be sure, but a worthwhi...   \n2        10  A brilliantly layered examination of a man thr...   \n3        10  Nolan delivers a powerfull biopic that shows t...   \n4        10                                      A Masterpiece   \n...     ...                                                ...   \n2031      7         Huge story, but production fails sometimes   \n2032      6                                            Tweaked   \n2033      6                  Just a 6 for a near perfect film.   \n2034      6                              No need to be 3 hours   \n2035      6                                      Disappointing   \n\n                  username          date  people_found_helpful  \\\n0          Orlando_Gardner  19 July 2023                  1413   \n1          Jeremy_Urquhart  20 July 2023                   685   \n2                 MrDHWong  20 July 2023                   556   \n3            and_mikkelsen  20 July 2023                   358   \n4      mohameddawoud-26019  19 July 2023                   670   \n...                    ...           ...                   ...   \n2031        andreverschoor  27 July 2023                     1   \n2032                 fmacr  25 July 2023                     1   \n2033  m-nicolaou-86-661254  24 July 2023                     0   \n2034          scottahaynie  24 July 2023                     0   \n2035             krisdevos  22 July 2023                     0   \n\n      total_people_viewed                                             review  \n0                    1597  You'll have to have your wits about you and yo...  \n1                     819  One of the most anticipated films of the year ...  \n2                     691  \"Oppenheimer\" is a biographical thriller film ...  \n3                     457  This movie is just... wow! I don't think I hav...  \n4                     833  I may consider myself lucky to be alive to wat...  \n...                   ...                                                ...  \n2031                    3  Loved the movie, loved the actors efforts. Aft...  \n2032                    7  I suppose these reviews are tweaked, otherwise...  \n2033                    1  Ok let me start by the obvious ratings which w...  \n2034                    0  Acting was tremendous and the true story behin...  \n2035                    0  Totally underwhelmed with Oppenheimer.\\n\\nEnri...  \n\n[2013 rows x 7 columns]",
      "text/html": "<div>\n<style scoped>\n    .dataframe tbody tr th:only-of-type {\n        vertical-align: middle;\n    }\n\n    .dataframe tbody tr th {\n        vertical-align: top;\n    }\n\n    .dataframe thead th {\n        text-align: right;\n    }\n</style>\n<table border=\"1\" class=\"dataframe\">\n  <thead>\n    <tr style=\"text-align: right;\">\n      <th></th>\n      <th>score</th>\n      <th>title</th>\n      <th>username</th>\n      <th>date</th>\n      <th>people_found_helpful</th>\n      <th>total_people_viewed</th>\n      <th>review</th>\n    </tr>\n  </thead>\n  <tbody>\n    <tr>\n      <th>0</th>\n      <td>9</td>\n      <td>Murphy is exceptional</td>\n      <td>Orlando_Gardner</td>\n      <td>19 July 2023</td>\n      <td>1413</td>\n      <td>1597</td>\n      <td>You'll have to have your wits about you and yo...</td>\n    </tr>\n    <tr>\n      <th>1</th>\n      <td>8</td>\n      <td>A challenging watch to be sure, but a worthwhi...</td>\n      <td>Jeremy_Urquhart</td>\n      <td>20 July 2023</td>\n      <td>685</td>\n      <td>819</td>\n      <td>One of the most anticipated films of the year ...</td>\n    </tr>\n    <tr>\n      <th>2</th>\n      <td>10</td>\n      <td>A brilliantly layered examination of a man thr...</td>\n      <td>MrDHWong</td>\n      <td>20 July 2023</td>\n      <td>556</td>\n      <td>691</td>\n      <td>\"Oppenheimer\" is a biographical thriller film ...</td>\n    </tr>\n    <tr>\n      <th>3</th>\n      <td>10</td>\n      <td>Nolan delivers a powerfull biopic that shows t...</td>\n      <td>and_mikkelsen</td>\n      <td>20 July 2023</td>\n      <td>358</td>\n      <td>457</td>\n      <td>This movie is just... wow! I don't think I hav...</td>\n    </tr>\n    <tr>\n      <th>4</th>\n      <td>10</td>\n      <td>A Masterpiece</td>\n      <td>mohameddawoud-26019</td>\n      <td>19 July 2023</td>\n      <td>670</td>\n      <td>833</td>\n      <td>I may consider myself lucky to be alive to wat...</td>\n    </tr>\n    <tr>\n      <th>...</th>\n      <td>...</td>\n      <td>...</td>\n      <td>...</td>\n      <td>...</td>\n      <td>...</td>\n      <td>...</td>\n      <td>...</td>\n    </tr>\n    <tr>\n      <th>2031</th>\n      <td>7</td>\n      <td>Huge story, but production fails sometimes</td>\n      <td>andreverschoor</td>\n      <td>27 July 2023</td>\n      <td>1</td>\n      <td>3</td>\n      <td>Loved the movie, loved the actors efforts. Aft...</td>\n    </tr>\n    <tr>\n      <th>2032</th>\n      <td>6</td>\n      <td>Tweaked</td>\n      <td>fmacr</td>\n      <td>25 July 2023</td>\n      <td>1</td>\n      <td>7</td>\n      <td>I suppose these reviews are tweaked, otherwise...</td>\n    </tr>\n    <tr>\n      <th>2033</th>\n      <td>6</td>\n      <td>Just a 6 for a near perfect film.</td>\n      <td>m-nicolaou-86-661254</td>\n      <td>24 July 2023</td>\n      <td>0</td>\n      <td>1</td>\n      <td>Ok let me start by the obvious ratings which w...</td>\n    </tr>\n    <tr>\n      <th>2034</th>\n      <td>6</td>\n      <td>No need to be 3 hours</td>\n      <td>scottahaynie</td>\n      <td>24 July 2023</td>\n      <td>0</td>\n      <td>0</td>\n      <td>Acting was tremendous and the true story behin...</td>\n    </tr>\n    <tr>\n      <th>2035</th>\n      <td>6</td>\n      <td>Disappointing</td>\n      <td>krisdevos</td>\n      <td>22 July 2023</td>\n      <td>0</td>\n      <td>0</td>\n      <td>Totally underwhelmed with Oppenheimer.\\n\\nEnri...</td>\n    </tr>\n  </tbody>\n</table>\n<p>2013 rows × 7 columns</p>\n</div>"
     },
     "execution_count": 52,
     "metadata": {},
     "output_type": "execute_result"
    }
   ]
  },
  {
   "cell_type": "code",
   "source": [
    "import nltk"
   ],
   "metadata": {
    "id": "d5sKlNlpJz7P",
    "ExecuteTime": {
     "end_time": "2023-09-12T04:36:29.142033827Z",
     "start_time": "2023-09-12T04:36:29.129582891Z"
    }
   },
   "execution_count": 53,
   "outputs": []
  },
  {
   "cell_type": "code",
   "source": [
    "# combine the two data sets\n",
    "\n",
    "cleand_df_bb['isBarbie'] = 1\n",
    "cleand_df_op['isBarbie'] = 0\n",
    "\n",
    "df = pd.concat([cleand_df_bb, cleand_df_op], ignore_index=True)"
   ],
   "metadata": {
    "id": "0tCFZmYvNcuZ",
    "ExecuteTime": {
     "end_time": "2023-09-12T04:36:29.174449103Z",
     "start_time": "2023-09-12T04:36:29.138775824Z"
    }
   },
   "execution_count": 54,
   "outputs": []
  },
  {
   "cell_type": "code",
   "execution_count": 55,
   "outputs": [],
   "source": [
    "# Creating graphable data\n",
    "\n",
    "# numeric_df = pd.DataFrame(columns=['isBarbie', 'score', 'people_found_helpful', 'total_people_viewed', 'helpful_ratio', 'date', 'date_from_release','length_of_title', 'length_of_username', 'length_of_review'])\n",
    "numeric_df = pd.DataFrame(columns=['isBarbie', 'score', 'date', 'people_found_helpful', 'total_people_viewed','length_of_title', 'length_of_username', 'length_of_review'])\n",
    "\n",
    "\n",
    "numeric_df['isBarbie'] = df['isBarbie']\n",
    "numeric_df['score'] = df['score']\n",
    "numeric_df['date'] = df['date']\n",
    "numeric_df['total_people_viewed'] = df['total_people_viewed']\n",
    "numeric_df['people_found_helpful'] = df['people_found_helpful']\n",
    "#numeric_df['helpful_ratio'] = df['people_found_helpful'] / df['total_people_viewed']\n",
    "numeric_df['length_of_title'] = df['title'].apply(lambda x: len(x))\n",
    "numeric_df['length_of_username'] = df['username'].apply(lambda x: len(x))\n",
    "numeric_df['length_of_review'] = df['review'].apply(lambda x: len(x))\n",
    "\n",
    "numeric_df = numeric_df[~numeric_df['date'].str.contains('IMAX')]\n",
    "numeric_df['date'] = pd.to_datetime(df['date'], format='%d %B %Y')\n",
    "numeric_df['date_from_release'] = (numeric_df['date'] - pd.to_datetime('2023-07-23', format='%Y-%m-%d')).dt.days\n",
    "\n"
   ],
   "metadata": {
    "collapsed": false,
    "ExecuteTime": {
     "end_time": "2023-09-12T04:36:29.264721815Z",
     "start_time": "2023-09-12T04:36:29.151037772Z"
    }
   }
  },
  {
   "cell_type": "code",
   "execution_count": 56,
   "outputs": [
    {
     "data": {
      "text/plain": "      isBarbie  score       date  people_found_helpful  total_people_viewed  \\\n0            1      6 2023-07-23                  1007                 1363   \n1            1      6 2023-07-21                  1190                 1646   \n2            1      6 2023-07-21                   804                 1173   \n3            1      8 2023-07-24                   152                  242   \n4            1      9 2023-07-24                    20                   26   \n...        ...    ...        ...                   ...                  ...   \n2792         0      7 2023-07-27                     1                    3   \n2793         0      6 2023-07-25                     1                    7   \n2794         0      6 2023-07-24                     0                    1   \n2795         0      6 2023-07-24                     0                    0   \n2796         0      6 2023-07-22                     0                    0   \n\n      length_of_title  length_of_username  length_of_review  date_from_release  \n0                  34                  11              1216                  0  \n1                  30                  12               786                 -2  \n2                  69                   8               601                 -2  \n3                  17                   9                17                  1  \n4                  19                  14              1239                  1  \n...               ...                 ...               ...                ...  \n2792               42                  14               624                  4  \n2793                7                   5              1152                  2  \n2794               33                  20              1369                  1  \n2795               21                  12               609                  1  \n2796               13                   9              1070                 -1  \n\n[2797 rows x 9 columns]",
      "text/html": "<div>\n<style scoped>\n    .dataframe tbody tr th:only-of-type {\n        vertical-align: middle;\n    }\n\n    .dataframe tbody tr th {\n        vertical-align: top;\n    }\n\n    .dataframe thead th {\n        text-align: right;\n    }\n</style>\n<table border=\"1\" class=\"dataframe\">\n  <thead>\n    <tr style=\"text-align: right;\">\n      <th></th>\n      <th>isBarbie</th>\n      <th>score</th>\n      <th>date</th>\n      <th>people_found_helpful</th>\n      <th>total_people_viewed</th>\n      <th>length_of_title</th>\n      <th>length_of_username</th>\n      <th>length_of_review</th>\n      <th>date_from_release</th>\n    </tr>\n  </thead>\n  <tbody>\n    <tr>\n      <th>0</th>\n      <td>1</td>\n      <td>6</td>\n      <td>2023-07-23</td>\n      <td>1007</td>\n      <td>1363</td>\n      <td>34</td>\n      <td>11</td>\n      <td>1216</td>\n      <td>0</td>\n    </tr>\n    <tr>\n      <th>1</th>\n      <td>1</td>\n      <td>6</td>\n      <td>2023-07-21</td>\n      <td>1190</td>\n      <td>1646</td>\n      <td>30</td>\n      <td>12</td>\n      <td>786</td>\n      <td>-2</td>\n    </tr>\n    <tr>\n      <th>2</th>\n      <td>1</td>\n      <td>6</td>\n      <td>2023-07-21</td>\n      <td>804</td>\n      <td>1173</td>\n      <td>69</td>\n      <td>8</td>\n      <td>601</td>\n      <td>-2</td>\n    </tr>\n    <tr>\n      <th>3</th>\n      <td>1</td>\n      <td>8</td>\n      <td>2023-07-24</td>\n      <td>152</td>\n      <td>242</td>\n      <td>17</td>\n      <td>9</td>\n      <td>17</td>\n      <td>1</td>\n    </tr>\n    <tr>\n      <th>4</th>\n      <td>1</td>\n      <td>9</td>\n      <td>2023-07-24</td>\n      <td>20</td>\n      <td>26</td>\n      <td>19</td>\n      <td>14</td>\n      <td>1239</td>\n      <td>1</td>\n    </tr>\n    <tr>\n      <th>...</th>\n      <td>...</td>\n      <td>...</td>\n      <td>...</td>\n      <td>...</td>\n      <td>...</td>\n      <td>...</td>\n      <td>...</td>\n      <td>...</td>\n      <td>...</td>\n    </tr>\n    <tr>\n      <th>2792</th>\n      <td>0</td>\n      <td>7</td>\n      <td>2023-07-27</td>\n      <td>1</td>\n      <td>3</td>\n      <td>42</td>\n      <td>14</td>\n      <td>624</td>\n      <td>4</td>\n    </tr>\n    <tr>\n      <th>2793</th>\n      <td>0</td>\n      <td>6</td>\n      <td>2023-07-25</td>\n      <td>1</td>\n      <td>7</td>\n      <td>7</td>\n      <td>5</td>\n      <td>1152</td>\n      <td>2</td>\n    </tr>\n    <tr>\n      <th>2794</th>\n      <td>0</td>\n      <td>6</td>\n      <td>2023-07-24</td>\n      <td>0</td>\n      <td>1</td>\n      <td>33</td>\n      <td>20</td>\n      <td>1369</td>\n      <td>1</td>\n    </tr>\n    <tr>\n      <th>2795</th>\n      <td>0</td>\n      <td>6</td>\n      <td>2023-07-24</td>\n      <td>0</td>\n      <td>0</td>\n      <td>21</td>\n      <td>12</td>\n      <td>609</td>\n      <td>1</td>\n    </tr>\n    <tr>\n      <th>2796</th>\n      <td>0</td>\n      <td>6</td>\n      <td>2023-07-22</td>\n      <td>0</td>\n      <td>0</td>\n      <td>13</td>\n      <td>9</td>\n      <td>1070</td>\n      <td>-1</td>\n    </tr>\n  </tbody>\n</table>\n<p>2797 rows × 9 columns</p>\n</div>"
     },
     "execution_count": 56,
     "metadata": {},
     "output_type": "execute_result"
    }
   ],
   "source": [
    "numeric_df"
   ],
   "metadata": {
    "collapsed": false,
    "ExecuteTime": {
     "end_time": "2023-09-12T04:36:29.265513600Z",
     "start_time": "2023-09-12T04:36:29.193958429Z"
    }
   }
  },
  {
   "cell_type": "code",
   "execution_count": 57,
   "outputs": [],
   "source": [
    "from sklearn.neural_network import MLPClassifier"
   ],
   "metadata": {
    "collapsed": false,
    "ExecuteTime": {
     "end_time": "2023-09-12T04:36:29.265774944Z",
     "start_time": "2023-09-12T04:36:29.194242541Z"
    }
   }
  },
  {
   "cell_type": "code",
   "execution_count": 58,
   "outputs": [],
   "source": [
    "from keras.models import Sequential\n",
    "from keras.layers import Dense"
   ],
   "metadata": {
    "collapsed": false,
    "ExecuteTime": {
     "end_time": "2023-09-12T04:36:29.278369683Z",
     "start_time": "2023-09-12T04:36:29.194554590Z"
    }
   }
  },
  {
   "cell_type": "code",
   "execution_count": 59,
   "outputs": [
    {
     "data": {
      "text/plain": "      people_found_helpful  total_people_viewed  length_of_title  \\\n0                     1007                 1363               34   \n1                     1190                 1646               30   \n2                      804                 1173               69   \n3                      152                  242               17   \n4                       20                   26               19   \n...                    ...                  ...              ...   \n2792                     1                    3               42   \n2793                     1                    7                7   \n2794                     0                    1               33   \n2795                     0                    0               21   \n2796                     0                    0               13   \n\n      length_of_username  length_of_review  score  \n0                     11              1216      6  \n1                     12               786      6  \n2                      8               601      6  \n3                      9                17      8  \n4                     14              1239      9  \n...                  ...               ...    ...  \n2792                  14               624      7  \n2793                   5              1152      6  \n2794                  20              1369      6  \n2795                  12               609      6  \n2796                   9              1070      6  \n\n[2797 rows x 6 columns]",
      "text/html": "<div>\n<style scoped>\n    .dataframe tbody tr th:only-of-type {\n        vertical-align: middle;\n    }\n\n    .dataframe tbody tr th {\n        vertical-align: top;\n    }\n\n    .dataframe thead th {\n        text-align: right;\n    }\n</style>\n<table border=\"1\" class=\"dataframe\">\n  <thead>\n    <tr style=\"text-align: right;\">\n      <th></th>\n      <th>people_found_helpful</th>\n      <th>total_people_viewed</th>\n      <th>length_of_title</th>\n      <th>length_of_username</th>\n      <th>length_of_review</th>\n      <th>score</th>\n    </tr>\n  </thead>\n  <tbody>\n    <tr>\n      <th>0</th>\n      <td>1007</td>\n      <td>1363</td>\n      <td>34</td>\n      <td>11</td>\n      <td>1216</td>\n      <td>6</td>\n    </tr>\n    <tr>\n      <th>1</th>\n      <td>1190</td>\n      <td>1646</td>\n      <td>30</td>\n      <td>12</td>\n      <td>786</td>\n      <td>6</td>\n    </tr>\n    <tr>\n      <th>2</th>\n      <td>804</td>\n      <td>1173</td>\n      <td>69</td>\n      <td>8</td>\n      <td>601</td>\n      <td>6</td>\n    </tr>\n    <tr>\n      <th>3</th>\n      <td>152</td>\n      <td>242</td>\n      <td>17</td>\n      <td>9</td>\n      <td>17</td>\n      <td>8</td>\n    </tr>\n    <tr>\n      <th>4</th>\n      <td>20</td>\n      <td>26</td>\n      <td>19</td>\n      <td>14</td>\n      <td>1239</td>\n      <td>9</td>\n    </tr>\n    <tr>\n      <th>...</th>\n      <td>...</td>\n      <td>...</td>\n      <td>...</td>\n      <td>...</td>\n      <td>...</td>\n      <td>...</td>\n    </tr>\n    <tr>\n      <th>2792</th>\n      <td>1</td>\n      <td>3</td>\n      <td>42</td>\n      <td>14</td>\n      <td>624</td>\n      <td>7</td>\n    </tr>\n    <tr>\n      <th>2793</th>\n      <td>1</td>\n      <td>7</td>\n      <td>7</td>\n      <td>5</td>\n      <td>1152</td>\n      <td>6</td>\n    </tr>\n    <tr>\n      <th>2794</th>\n      <td>0</td>\n      <td>1</td>\n      <td>33</td>\n      <td>20</td>\n      <td>1369</td>\n      <td>6</td>\n    </tr>\n    <tr>\n      <th>2795</th>\n      <td>0</td>\n      <td>0</td>\n      <td>21</td>\n      <td>12</td>\n      <td>609</td>\n      <td>6</td>\n    </tr>\n    <tr>\n      <th>2796</th>\n      <td>0</td>\n      <td>0</td>\n      <td>13</td>\n      <td>9</td>\n      <td>1070</td>\n      <td>6</td>\n    </tr>\n  </tbody>\n</table>\n<p>2797 rows × 6 columns</p>\n</div>"
     },
     "execution_count": 59,
     "metadata": {},
     "output_type": "execute_result"
    }
   ],
   "source": [
    "x_data = numeric_df.iloc[:,3:8]\n",
    "x_data['score'] = numeric_df['score']\n",
    "x_data"
   ],
   "metadata": {
    "collapsed": false,
    "ExecuteTime": {
     "end_time": "2023-09-12T04:36:29.279126967Z",
     "start_time": "2023-09-12T04:36:29.238000938Z"
    }
   }
  },
  {
   "cell_type": "code",
   "execution_count": 60,
   "outputs": [
    {
     "data": {
      "text/plain": "0       1\n1       1\n2       1\n3       1\n4       1\n       ..\n2792    0\n2793    0\n2794    0\n2795    0\n2796    0\nName: isBarbie, Length: 2797, dtype: int64"
     },
     "execution_count": 60,
     "metadata": {},
     "output_type": "execute_result"
    }
   ],
   "source": [
    "y_data = numeric_df['isBarbie']\n",
    "y_data"
   ],
   "metadata": {
    "collapsed": false,
    "ExecuteTime": {
     "end_time": "2023-09-12T04:36:29.279548805Z",
     "start_time": "2023-09-12T04:36:29.238258581Z"
    }
   }
  },
  {
   "cell_type": "code",
   "execution_count": 61,
   "outputs": [],
   "source": [
    "# Builds all the layers of the neural network\n",
    "classifier = Sequential() # Initialising the ANN\n",
    "\n",
    "classifier.add(Dense(units = 16, activation = 'sigmoid', input_dim = 6))\n",
    "classifier.add(Dense(units = 8, activation = 'sigmoid'))\n",
    "classifier.add(Dense(units = 4, activation = 'sigmoid'))\n",
    "classifier.add(Dense(units = 1, activation = 'sigmoid'))"
   ],
   "metadata": {
    "collapsed": false,
    "ExecuteTime": {
     "end_time": "2023-09-12T04:36:29.387927183Z",
     "start_time": "2023-09-12T04:36:29.238464542Z"
    }
   }
  },
  {
   "cell_type": "code",
   "execution_count": 62,
   "outputs": [],
   "source": [
    "# Uses stochastic gradient descent as optimizer\n",
    "classifier.compile(optimizer = 'sgd', loss = 'mse')"
   ],
   "metadata": {
    "collapsed": false,
    "ExecuteTime": {
     "end_time": "2023-09-12T04:36:29.459314318Z",
     "start_time": "2023-09-12T04:36:29.299240485Z"
    }
   }
  },
  {
   "cell_type": "code",
   "execution_count": 63,
   "outputs": [],
   "source": [
    "from sklearn.model_selection import train_test_split"
   ],
   "metadata": {
    "collapsed": false,
    "ExecuteTime": {
     "end_time": "2023-09-12T04:36:29.459575872Z",
     "start_time": "2023-09-12T04:36:29.342070559Z"
    }
   }
  },
  {
   "cell_type": "code",
   "execution_count": 64,
   "outputs": [],
   "source": [
    "# Splits dataset into training and testing\n",
    "x_train, x_test = train_test_split(x_data, test_size=0.1, random_state=30)\n",
    "y_train, y_test = train_test_split(y_data, test_size=0.1, random_state=36)"
   ],
   "metadata": {
    "collapsed": false,
    "ExecuteTime": {
     "end_time": "2023-09-12T04:36:29.459702214Z",
     "start_time": "2023-09-12T04:36:29.342460410Z"
    }
   }
  },
  {
   "cell_type": "code",
   "execution_count": 65,
   "outputs": [
    {
     "name": "stdout",
     "output_type": "stream",
     "text": [
      "Epoch 1/30\n",
      "84/84 [==============================] - 0s 1ms/step - loss: 0.2127\n",
      "Epoch 2/30\n",
      "84/84 [==============================] - 0s 1ms/step - loss: 0.2094\n",
      "Epoch 3/30\n",
      "84/84 [==============================] - 0s 1ms/step - loss: 0.2071\n",
      "Epoch 4/30\n",
      "84/84 [==============================] - 0s 1ms/step - loss: 0.2054\n",
      "Epoch 5/30\n",
      "84/84 [==============================] - 0s 941us/step - loss: 0.2043\n",
      "Epoch 6/30\n",
      "84/84 [==============================] - 0s 981us/step - loss: 0.2034\n",
      "Epoch 7/30\n",
      "84/84 [==============================] - 0s 1ms/step - loss: 0.2028\n",
      "Epoch 8/30\n",
      "84/84 [==============================] - 0s 1ms/step - loss: 0.2023\n",
      "Epoch 9/30\n",
      "84/84 [==============================] - 0s 2ms/step - loss: 0.2019\n",
      "Epoch 10/30\n",
      "84/84 [==============================] - 0s 1ms/step - loss: 0.2017\n",
      "Epoch 11/30\n",
      "84/84 [==============================] - 0s 1ms/step - loss: 0.2015\n",
      "Epoch 12/30\n",
      "84/84 [==============================] - 0s 1ms/step - loss: 0.2014\n",
      "Epoch 13/30\n",
      "84/84 [==============================] - 0s 1ms/step - loss: 0.2012\n",
      "Epoch 14/30\n",
      "84/84 [==============================] - 0s 1ms/step - loss: 0.2012\n",
      "Epoch 15/30\n",
      "84/84 [==============================] - 0s 1ms/step - loss: 0.2011\n",
      "Epoch 16/30\n",
      "84/84 [==============================] - 0s 1ms/step - loss: 0.2011\n",
      "Epoch 17/30\n",
      "84/84 [==============================] - 0s 1ms/step - loss: 0.2010\n",
      "Epoch 18/30\n",
      "84/84 [==============================] - 0s 1ms/step - loss: 0.2010\n",
      "Epoch 19/30\n",
      "84/84 [==============================] - 0s 1ms/step - loss: 0.2010\n",
      "Epoch 20/30\n",
      "84/84 [==============================] - 0s 1ms/step - loss: 0.2010\n",
      "Epoch 21/30\n",
      "84/84 [==============================] - 0s 1ms/step - loss: 0.2009\n",
      "Epoch 22/30\n",
      "84/84 [==============================] - 0s 1ms/step - loss: 0.2009\n",
      "Epoch 23/30\n",
      "84/84 [==============================] - 0s 952us/step - loss: 0.2009\n",
      "Epoch 24/30\n",
      "84/84 [==============================] - 0s 1ms/step - loss: 0.2009\n",
      "Epoch 25/30\n",
      "84/84 [==============================] - 0s 975us/step - loss: 0.2009\n",
      "Epoch 26/30\n",
      "84/84 [==============================] - 0s 985us/step - loss: 0.2009\n",
      "Epoch 27/30\n",
      "84/84 [==============================] - 0s 1ms/step - loss: 0.2009\n",
      "Epoch 28/30\n",
      "84/84 [==============================] - 0s 978us/step - loss: 0.2009\n",
      "Epoch 29/30\n",
      "84/84 [==============================] - 0s 923us/step - loss: 0.2009\n",
      "Epoch 30/30\n",
      "84/84 [==============================] - 0s 975us/step - loss: 0.2009\n"
     ]
    }
   ],
   "source": [
    "# Runs the training\n",
    "history = classifier.fit(x_train, y_train, batch_size = 30, epochs = 30)"
   ],
   "metadata": {
    "collapsed": false,
    "ExecuteTime": {
     "end_time": "2023-09-12T04:36:32.449438559Z",
     "start_time": "2023-09-12T04:36:29.342716586Z"
    }
   }
  },
  {
   "cell_type": "code",
   "execution_count": 66,
   "outputs": [
    {
     "name": "stdout",
     "output_type": "stream",
     "text": [
      "9/9 [==============================] - 0s 1ms/step\n"
     ]
    },
    {
     "data": {
      "text/plain": "array([[0.27965346],\n       [0.28443   ],\n       [0.2796522 ],\n       [0.2797804 ],\n       [0.27974382],\n       [0.2796553 ],\n       [0.28468645],\n       [0.2796679 ],\n       [0.27978668],\n       [0.28024653],\n       [0.27965245],\n       [0.2796522 ],\n       [0.2796522 ],\n       [0.2787127 ],\n       [0.27965334],\n       [0.2796741 ],\n       [0.2796522 ],\n       [0.27965358],\n       [0.2796603 ],\n       [0.2796533 ],\n       [0.27729276],\n       [0.2786986 ],\n       [0.28468645],\n       [0.27650043],\n       [0.28388172],\n       [0.27905434],\n       [0.27965716],\n       [0.2790579 ],\n       [0.28252038],\n       [0.27157202],\n       [0.28432032],\n       [0.2796522 ],\n       [0.28468645],\n       [0.27965224],\n       [0.2796522 ],\n       [0.27965233],\n       [0.27965465],\n       [0.28468645],\n       [0.27965277],\n       [0.2796522 ],\n       [0.27965316],\n       [0.2787061 ],\n       [0.27965283],\n       [0.2796522 ],\n       [0.2796522 ],\n       [0.27965233],\n       [0.2796522 ],\n       [0.27965492],\n       [0.28468645],\n       [0.2797427 ],\n       [0.2796522 ],\n       [0.27965444],\n       [0.28349105],\n       [0.27965236],\n       [0.27975893],\n       [0.27965754],\n       [0.28149408],\n       [0.27965918],\n       [0.2796522 ],\n       [0.27911067],\n       [0.2796523 ],\n       [0.27965263],\n       [0.27654752],\n       [0.2796522 ],\n       [0.2796522 ],\n       [0.279653  ],\n       [0.2798048 ],\n       [0.28298926],\n       [0.28003725],\n       [0.2796522 ],\n       [0.27965268],\n       [0.2796522 ],\n       [0.27965793],\n       [0.2796522 ],\n       [0.27932265],\n       [0.27967566],\n       [0.2774124 ],\n       [0.27965325],\n       [0.2796522 ],\n       [0.2796561 ],\n       [0.2796624 ],\n       [0.27965772],\n       [0.2796522 ],\n       [0.27966484],\n       [0.27972937],\n       [0.2796522 ],\n       [0.2796522 ],\n       [0.2796621 ],\n       [0.2796522 ],\n       [0.2803588 ],\n       [0.28212616],\n       [0.27890602],\n       [0.27965233],\n       [0.28468645],\n       [0.2797384 ],\n       [0.2796522 ],\n       [0.27969748],\n       [0.27977905],\n       [0.2796522 ],\n       [0.276776  ],\n       [0.27965227],\n       [0.27985105],\n       [0.2771301 ],\n       [0.2846864 ],\n       [0.2796522 ],\n       [0.2796522 ],\n       [0.2796522 ],\n       [0.2796523 ],\n       [0.2796522 ],\n       [0.28468645],\n       [0.2796527 ],\n       [0.28468645],\n       [0.2796522 ],\n       [0.28467125],\n       [0.27753282],\n       [0.2796522 ],\n       [0.2796524 ],\n       [0.2796522 ],\n       [0.28400195],\n       [0.28193048],\n       [0.28468633],\n       [0.2838318 ],\n       [0.2846837 ],\n       [0.28431812],\n       [0.28202042],\n       [0.28468406],\n       [0.27965456],\n       [0.27965283],\n       [0.28057563],\n       [0.27968448],\n       [0.2846864 ],\n       [0.27965525],\n       [0.28006858],\n       [0.2796522 ],\n       [0.2837781 ],\n       [0.2796522 ],\n       [0.27965233],\n       [0.2796522 ],\n       [0.2796522 ],\n       [0.2796562 ],\n       [0.28067166],\n       [0.2796522 ],\n       [0.28468645],\n       [0.28468645],\n       [0.27916765],\n       [0.2821765 ],\n       [0.2796522 ],\n       [0.2796532 ],\n       [0.28468645],\n       [0.27965432],\n       [0.27364945],\n       [0.2796522 ],\n       [0.28466028],\n       [0.28018612],\n       [0.28468645],\n       [0.276253  ],\n       [0.2796522 ],\n       [0.27627873],\n       [0.27965233],\n       [0.27980015],\n       [0.2796522 ],\n       [0.27972773],\n       [0.2796522 ],\n       [0.2836046 ],\n       [0.27185953],\n       [0.2796539 ],\n       [0.2796522 ],\n       [0.2796522 ],\n       [0.27966917],\n       [0.2796729 ],\n       [0.2843471 ],\n       [0.2796522 ],\n       [0.28066236],\n       [0.27971864],\n       [0.27965492],\n       [0.27183706],\n       [0.27967513],\n       [0.2796533 ],\n       [0.2796522 ],\n       [0.2796522 ],\n       [0.2796522 ],\n       [0.27965355],\n       [0.27965233],\n       [0.27965346],\n       [0.28456557],\n       [0.2818963 ],\n       [0.2796538 ],\n       [0.28440425],\n       [0.27570668],\n       [0.27578986],\n       [0.27765357],\n       [0.28468427],\n       [0.27965733],\n       [0.27505526],\n       [0.27828243],\n       [0.27971587],\n       [0.2802486 ],\n       [0.27899483],\n       [0.2796522 ],\n       [0.2796522 ],\n       [0.2807962 ],\n       [0.2796552 ],\n       [0.27965283],\n       [0.2796523 ],\n       [0.28468454],\n       [0.27864003],\n       [0.28353596],\n       [0.27965233],\n       [0.27965254],\n       [0.27965674],\n       [0.27965227],\n       [0.27754265],\n       [0.28101513],\n       [0.2796522 ],\n       [0.2796522 ],\n       [0.27567947],\n       [0.28333446],\n       [0.2796522 ],\n       [0.27364945],\n       [0.28468645],\n       [0.2796522 ],\n       [0.27965313],\n       [0.2796522 ],\n       [0.2796522 ],\n       [0.27965233],\n       [0.2796522 ],\n       [0.27965227],\n       [0.2832923 ],\n       [0.2796524 ],\n       [0.2796522 ],\n       [0.27760172],\n       [0.28468645],\n       [0.2796522 ],\n       [0.2796522 ],\n       [0.27965254],\n       [0.27976847],\n       [0.27965263],\n       [0.2796546 ],\n       [0.2796522 ],\n       [0.2796522 ],\n       [0.27965245],\n       [0.2796522 ],\n       [0.2802213 ],\n       [0.27965352],\n       [0.27965406],\n       [0.27797455],\n       [0.28468472],\n       [0.28468645],\n       [0.27964598],\n       [0.27966818],\n       [0.28468645],\n       [0.2796741 ],\n       [0.27966067],\n       [0.2796522 ],\n       [0.2796522 ],\n       [0.2796523 ],\n       [0.2846298 ],\n       [0.27941403],\n       [0.2796522 ],\n       [0.27965653],\n       [0.28468645],\n       [0.2796533 ],\n       [0.2799551 ],\n       [0.28468645],\n       [0.2796522 ],\n       [0.28042346],\n       [0.27965325],\n       [0.27965415],\n       [0.28001505],\n       [0.27412066],\n       [0.27965993],\n       [0.28468645],\n       [0.2796562 ],\n       [0.2796522 ],\n       [0.2796522 ],\n       [0.2796522 ],\n       [0.28105396],\n       [0.27866483],\n       [0.28236276],\n       [0.27807936]], dtype=float32)"
     },
     "execution_count": 66,
     "metadata": {},
     "output_type": "execute_result"
    }
   ],
   "source": [
    "# Predicts what type of bean based on the x values\n",
    "yhat_test = classifier.predict(x_test)\n",
    "yhat_test"
   ],
   "metadata": {
    "collapsed": false,
    "ExecuteTime": {
     "end_time": "2023-09-12T04:36:32.602781206Z",
     "start_time": "2023-09-12T04:36:32.450613281Z"
    }
   }
  },
  {
   "cell_type": "code",
   "execution_count": 66,
   "outputs": [],
   "source": [],
   "metadata": {
    "collapsed": false,
    "ExecuteTime": {
     "end_time": "2023-09-12T04:36:32.615933763Z",
     "start_time": "2023-09-12T04:36:32.585983379Z"
    }
   }
  }
 ]
}
